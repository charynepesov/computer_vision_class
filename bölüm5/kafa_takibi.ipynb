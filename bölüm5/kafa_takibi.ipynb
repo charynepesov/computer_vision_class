{
 "cells": [
  {
   "cell_type": "code",
   "execution_count": 1,
   "id": "8ecfbc93-ede1-4b14-86b2-15de661e1cd0",
   "metadata": {},
   "outputs": [],
   "source": [
    "import cv2"
   ]
  },
  {
   "cell_type": "code",
   "execution_count": 2,
   "id": "0205f877-fd13-4570-8d09-9feef47ce72a",
   "metadata": {},
   "outputs": [
    {
     "ename": "error",
     "evalue": "OpenCV(4.6.0) /io/opencv/modules/imgproc/src/color.cpp:182: error: (-215:Assertion failed) !_src.empty() in function 'cvtColor'\n",
     "output_type": "error",
     "traceback": [
      "\u001b[0;31m---------------------------------------------------------------------------\u001b[0m",
      "\u001b[0;31merror\u001b[0m                                     Traceback (most recent call last)",
      "Cell \u001b[0;32mIn[2], line 20\u001b[0m\n\u001b[1;32m     18\u001b[0m \u001b[38;5;28;01mwhile\u001b[39;00m \u001b[38;5;28;01mTrue\u001b[39;00m:\n\u001b[1;32m     19\u001b[0m     ret, nextFrame \u001b[38;5;241m=\u001b[39m video\u001b[38;5;241m.\u001b[39mread()\n\u001b[0;32m---> 20\u001b[0m     hsv_NextFrame \u001b[38;5;241m=\u001b[39m \u001b[43mcv2\u001b[49m\u001b[38;5;241;43m.\u001b[39;49m\u001b[43mcvtColor\u001b[49m\u001b[43m(\u001b[49m\u001b[43mnextFrame\u001b[49m\u001b[43m,\u001b[49m\u001b[43m \u001b[49m\u001b[43mcv2\u001b[49m\u001b[38;5;241;43m.\u001b[39;49m\u001b[43mCOLOR_BGR2HSV\u001b[49m\u001b[43m)\u001b[49m\n\u001b[1;32m     22\u001b[0m     target \u001b[38;5;241m=\u001b[39m cv2\u001b[38;5;241m.\u001b[39mcalcBackProject([hsv_NextFrame], [\u001b[38;5;241m0\u001b[39m], hist_roi, [\u001b[38;5;241m0\u001b[39m, \u001b[38;5;241m180\u001b[39m], \u001b[38;5;241m1\u001b[39m)\n\u001b[1;32m     23\u001b[0m     ret, faceTracking \u001b[38;5;241m=\u001b[39m cv2\u001b[38;5;241m.\u001b[39mmeanShift(target, faceTracking, paramaters)\n",
      "\u001b[0;31merror\u001b[0m: OpenCV(4.6.0) /io/opencv/modules/imgproc/src/color.cpp:182: error: (-215:Assertion failed) !_src.empty() in function 'cvtColor'\n"
     ]
    }
   ],
   "source": [
    "video = cv2.VideoCapture('../videoplayback_5.mp4')\n",
    "ret, prevFrame = video.read()\n",
    "\n",
    "faceDetection = cv2.CascadeClassifier('../DATA/haarcascades/haarcascade_frontalface_default.xml')\n",
    "faceLocation = faceDetection.detectMultiScale(prevFrame)\n",
    "\n",
    "(faceX, faceY, w, h) = tuple(faceLocation[0])\n",
    "faceTracking = (faceX, faceY, w, h)\n",
    "\n",
    "roi = prevFrame[faceY:faceY + h, faceX:faceX + w]\n",
    "hsv_roi = cv2.cvtColor(roi, cv2.COLOR_BGR2HSV)\n",
    "\n",
    "hist_roi = cv2.calcHist([hsv_roi], [0], None, [180], [0, 180])\n",
    "cv2.normalize(hist_roi, hist_roi, 0, 255, cv2.NORM_MINMAX)\n",
    "\n",
    "paramaters = (cv2.TERM_CRITERIA_EPS | cv2.TERM_CRITERIA_COUNT, 10, 1)\n",
    "\n",
    "while True:\n",
    "    ret, nextFrame = video.read()\n",
    "    hsv_NextFrame = cv2.cvtColor(nextFrame, cv2.COLOR_BGR2HSV)\n",
    "\n",
    "    target = cv2.calcBackProject([hsv_NextFrame], [0], hist_roi, [0, 180], 1)\n",
    "    ret, faceTracking = cv2.meanShift(target, faceTracking, paramaters)\n",
    "\n",
    "    faceX, faceY, w, h = faceTracking\n",
    "\n",
    "    mark = cv2.rectangle(nextFrame, (faceX, faceY), (faceX + w, faceY + h), (0, 255, 255), 5)\n",
    "    cv2.imshow('Takip', mark)\n",
    "\n",
    "    k = cv2.waitKey(10) & 0xFF\n",
    "\n",
    "    if k == ord('q'):\n",
    "        break\n",
    "\n",
    "video.release()\n",
    "cv2.destroyAllWindows()"
   ]
  }
 ],
 "metadata": {
  "kernelspec": {
   "display_name": "Python 3 (ipykernel)",
   "language": "python",
   "name": "python3"
  },
  "language_info": {
   "codemirror_mode": {
    "name": "ipython",
    "version": 3
   },
   "file_extension": ".py",
   "mimetype": "text/x-python",
   "name": "python",
   "nbconvert_exporter": "python",
   "pygments_lexer": "ipython3",
   "version": "3.10.6"
  }
 },
 "nbformat": 4,
 "nbformat_minor": 5
}
