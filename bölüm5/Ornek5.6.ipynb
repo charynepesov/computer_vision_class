{
 "cells": [
  {
   "cell_type": "code",
   "execution_count": 3,
   "id": "1e0c9298-0e95-45a9-bed3-2787a51a2c2d",
   "metadata": {},
   "outputs": [],
   "source": [
    "import cv2\n",
    "import numpy as np\n",
    "import matplotlib.pyplot as plt\n",
    "%matplotlib inline"
   ]
  },
  {
   "cell_type": "code",
   "execution_count": 4,
   "id": "f4448f6a-6f73-4342-ba11-e18535dcbc2e",
   "metadata": {},
   "outputs": [
    {
     "name": "stderr",
     "output_type": "stream",
     "text": [
      "[ WARN:0@71.605] global /opt/conda/conda-bld/opencv-suite_1664548337286/work/modules/videoio/src/cap_gstreamer.cpp (862) isPipelinePlaying OpenCV | GStreamer warning: GStreamer: pipeline have not been created\n"
     ]
    },
    {
     "ename": "IndexError",
     "evalue": "tuple index out of range",
     "output_type": "error",
     "traceback": [
      "\u001b[0;31m---------------------------------------------------------------------------\u001b[0m",
      "\u001b[0;31mIndexError\u001b[0m                                Traceback (most recent call last)",
      "Cell \u001b[0;32mIn [4], line 9\u001b[0m\n\u001b[1;32m      6\u001b[0m faceDetection \u001b[38;5;241m=\u001b[39m cv2\u001b[38;5;241m.\u001b[39mCascadeClassifier(\u001b[38;5;124m'\u001b[39m\u001b[38;5;124m../DATA/haarcascades/haarcascade_frontalface_default.xml\u001b[39m\u001b[38;5;124m'\u001b[39m)\n\u001b[1;32m      7\u001b[0m faceLocation \u001b[38;5;241m=\u001b[39m faceDetection\u001b[38;5;241m.\u001b[39mdetectMultiScale(prevFrame)\n\u001b[0;32m----> 9\u001b[0m (faceX, faceY, w, h) \u001b[38;5;241m=\u001b[39m \u001b[38;5;28mtuple\u001b[39m(\u001b[43mfaceLocation\u001b[49m\u001b[43m[\u001b[49m\u001b[38;5;241;43m0\u001b[39;49m\u001b[43m]\u001b[49m)\n\u001b[1;32m     10\u001b[0m faceTracking \u001b[38;5;241m=\u001b[39m (faceX, faceY, w, h)\n\u001b[1;32m     12\u001b[0m roi \u001b[38;5;241m=\u001b[39m prevFrame[faceY:faceY \u001b[38;5;241m+\u001b[39m h, faceX:faceX \u001b[38;5;241m+\u001b[39m w]\n",
      "\u001b[0;31mIndexError\u001b[0m: tuple index out of range"
     ]
    }
   ],
   "source": [
    "# Örnek 5.6: camShift Algoritması\n",
    "\n",
    "video = cv2.VideoCapture(0)\n",
    "ret, prevFrame = video.read()\n",
    "\n",
    "faceDetection = cv2.CascadeClassifier('../DATA/haarcascades/haarcascade_frontalface_default.xml')\n",
    "faceLocation = faceDetection.detectMultiScale(prevFrame)\n",
    "\n",
    "(faceX, faceY, w, h) = tuple(faceLocation[0])\n",
    "faceTracking = (faceX, faceY, w, h)\n",
    "\n",
    "roi = prevFrame[faceY:faceY + h, faceX:faceX + w]\n",
    "hsv_roi = cv2.cvtColor(roi, cv2.COLOR_BGR2HSV)\n",
    "\n",
    "hist_roi = cv2.calcHist([hsv_roi], [0], None, [180], [0, 180])\n",
    "cv2.normalize(hist_roi, hist_roi, 0, 255, cv2.NORM_MINMAX)\n",
    "\n",
    "paramaters = (cv2.TERM_CRITERIA_EPS | cv2.TERM_CRITERIA_COUNT, 10, 1)\n",
    "\n",
    "while True:\n",
    "    ret, nextFrame = video.read()\n",
    "    hsv_NextFrame = cv2.cvtColor(nextFrame, cv2.COLOR_BGR2HSV)\n",
    "\n",
    "    target = cv2.calcBackProject([hsv_NextFrame], [0], hist_roi, [0, 180], 1)\n",
    "\n",
    "    ret, faceTracking = cv2.CamShift(target, faceTracking, paramaters)\n",
    "    \n",
    "    points = cv2.boxPoints(ret)\n",
    "    points = np.int0(points)\n",
    "\n",
    "    mark = cv2.polylines(nextFrame, [points], True, (0, 255, 255), 5)\n",
    "\n",
    "    cv2.imshow('Takip', mark)\n",
    "\n",
    "    k = cv2.waitKey(10) & 0xFF\n",
    "\n",
    "    if k == ord('q'):\n",
    "        break\n",
    "\n",
    "video.release()\n",
    "cv2.destroyAllWindows()"
   ]
  }
 ],
 "metadata": {
  "kernelspec": {
   "display_name": "Python 3 (ipykernel)",
   "language": "python",
   "name": "python3"
  },
  "language_info": {
   "codemirror_mode": {
    "name": "ipython",
    "version": 3
   },
   "file_extension": ".py",
   "mimetype": "text/x-python",
   "name": "python",
   "nbconvert_exporter": "python",
   "pygments_lexer": "ipython3",
   "version": "3.10.8"
  }
 },
 "nbformat": 4,
 "nbformat_minor": 5
}
