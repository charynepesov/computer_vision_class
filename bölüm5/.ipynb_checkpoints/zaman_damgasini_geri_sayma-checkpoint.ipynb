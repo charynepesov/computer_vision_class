{
 "cells": [
  {
   "cell_type": "code",
   "execution_count": 1,
   "id": "44157f66-66b5-4297-b4fb-7737141d2541",
   "metadata": {},
   "outputs": [],
   "source": [
    "#videodaki zamani geriye dogru saydirma\n",
    "import cv2\n",
    "import time\n",
    "import numpy as np"
   ]
  },
  {
   "cell_type": "code",
   "execution_count": 5,
   "id": "0802adf6-2aad-4e42-840a-553478765664",
   "metadata": {},
   "outputs": [
    {
     "ename": "NameError",
     "evalue": "name 'Nonetype' is not defined",
     "output_type": "error",
     "traceback": [
      "\u001b[0;31m---------------------------------------------------------------------------\u001b[0m",
      "\u001b[0;31mNameError\u001b[0m                                 Traceback (most recent call last)",
      "Cell \u001b[0;32mIn [5], line 25\u001b[0m\n\u001b[1;32m     23\u001b[0m \u001b[38;5;28;01mfor\u001b[39;00m frame1 \u001b[38;5;129;01min\u001b[39;00m frame1ler[::\u001b[38;5;241m-\u001b[39m\u001b[38;5;241m1\u001b[39m]:\n\u001b[1;32m     24\u001b[0m     ret, frame2 \u001b[38;5;241m=\u001b[39m video2\u001b[38;5;241m.\u001b[39mread()\n\u001b[0;32m---> 25\u001b[0m     \u001b[38;5;28;01mif\u001b[39;00m(\u001b[38;5;28mtype\u001b[39m(frame2) \u001b[38;5;241m!=\u001b[39m \u001b[43mNonetype\u001b[49m):\n\u001b[1;32m     26\u001b[0m         frame2[:\u001b[38;5;241m50\u001b[39m,:\u001b[38;5;241m400\u001b[39m] \u001b[38;5;241m=\u001b[39m frame1[:\u001b[38;5;241m50\u001b[39m,:\u001b[38;5;241m400\u001b[39m]\n\u001b[1;32m     27\u001b[0m         \u001b[38;5;66;03m#cv2.imshow('Video Dosya Okuma', frame2)\u001b[39;00m\n",
      "\u001b[0;31mNameError\u001b[0m: name 'Nonetype' is not defined"
     ]
    }
   ],
   "source": [
    "zamanV = cv2.VideoCapture(\"ornek-1.mp4\")\n",
    "video2 = cv2.VideoCapture(\"ornek-2.mp4\")\n",
    "\n",
    "width = int(zamanV.get(cv2.CAP_PROP_FRAME_WIDTH))\n",
    "height = int(zamanV.get(cv2.CAP_PROP_FRAME_HEIGHT))\n",
    "fps = zamanV.get(cv2.CAP_PROP_FPS)\n",
    "\n",
    "if zamanV.isOpened() == False:\n",
    "    print(\"Doğru gitmeyen bir şeyler var.\")    \n",
    "vw = cv2.VideoWriter('video_gerisayma.mp4', cv2.VideoWriter_fourcc(*'mp4v'), fps, (width, height), isColor=True)\n",
    "\n",
    "frames= []"
   ]
  },
  {
   "cell_type": "code",
   "execution_count": null,
   "id": "49ab69d4-1bd9-4f28-8ffd-f5706057f041",
   "metadata": {},
   "outputs": [],
   "source": [
    "while zamanV.isOpened:\n",
    "    ret, frameZ = zamanV.read()\n",
    "    if ret == True: #resmi basarili bir sekilde aldiysak\n",
    "        frames.append(frameZ)     \n",
    "    else:\n",
    "        break           \n",
    "zamanV.release()"
   ]
  },
  {
   "cell_type": "code",
   "execution_count": null,
   "id": "b012ff9c-afd1-4f04-8b0a-b627b6f5bb68",
   "metadata": {},
   "outputs": [],
   "source": [
    "while video2.isOpened:\n",
    "    for frameZ in frames[::-1]:\n",
    "        ret, frame2 = video2.read()\n",
    "        if(type(frame2) != Nonetype):\n",
    "            frame2[:50,:400] = frame1[:50,:400]\n",
    "            #cv2.imshow('Video Dosya Okuma', frame2)\n",
    "            vw.write(frame2)\n",
    "vw.release()\n",
    "video2.release()\n",
    "cv2.destroyAllWindows()"
   ]
  }
 ],
 "metadata": {
  "kernelspec": {
   "display_name": "Python 3 (ipykernel)",
   "language": "python",
   "name": "python3"
  },
  "language_info": {
   "codemirror_mode": {
    "name": "ipython",
    "version": 3
   },
   "file_extension": ".py",
   "mimetype": "text/x-python",
   "name": "python",
   "nbconvert_exporter": "python",
   "pygments_lexer": "ipython3",
   "version": "3.10.8"
  }
 },
 "nbformat": 4,
 "nbformat_minor": 5
}
