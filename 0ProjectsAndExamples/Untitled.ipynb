{
 "cells": [
  {
   "cell_type": "code",
   "execution_count": 1,
   "id": "85821f9f-60d3-487d-bd9d-7652fbc8ae02",
   "metadata": {},
   "outputs": [],
   "source": [
    "a, b, c = 5, 10, 2"
   ]
  },
  {
   "cell_type": "code",
   "execution_count": null,
   "id": "2b07c3f5-fcdb-4be1-b54f-f7254a40951a",
   "metadata": {},
   "outputs": [],
   "source": []
  }
 ],
 "metadata": {
  "kernelspec": {
   "display_name": "Python 3",
   "language": "python",
   "name": "python3"
  },
  "language_info": {
   "codemirror_mode": {
    "name": "ipython",
    "version": 3
   },
   "file_extension": ".py",
   "mimetype": "text/x-python",
   "name": "python",
   "nbconvert_exporter": "python",
   "pygments_lexer": "ipython3",
   "version": "3.6.13"
  }
 },
 "nbformat": 4,
 "nbformat_minor": 5
}
