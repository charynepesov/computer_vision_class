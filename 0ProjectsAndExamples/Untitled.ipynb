{
 "cells": [
  {
   "cell_type": "code",
   "execution_count": 1,
   "id": "28f211f0-7a07-4f0b-bdec-be39c4427bd7",
   "metadata": {},
   "outputs": [],
   "source": [
    "import numpy as np\n",
    "import cv2\n",
    "import matplotlib.pyplot as plt"
   ]
  },
  {
   "cell_type": "code",
   "execution_count": 2,
   "id": "1f798cbb-46f2-4f39-a23b-5f2fbf3d6b1b",
   "metadata": {},
   "outputs": [],
   "source": [
    "resim = cv2.imread('../DATA/18_jungleOtel.jpg')\n",
    "resimGray = cv2.cvtColor(resim, cv2.COLOR_BGR2GRAY)"
   ]
  },
  {
   "cell_type": "code",
   "execution_count": 3,
   "id": "41b61b84-67f5-4587-8115-81c2bb704cc6",
   "metadata": {},
   "outputs": [],
   "source": [
    "resimGray_hist = cv2.calcHist([resimGray], [0], None, [256], [0,256])\n",
    "Eq = cv2.equalizeHist(resimGray)\n",
    "Eq_hist = cv2.calcHist()"
   ]
  }
 ],
 "metadata": {
  "kernelspec": {
   "display_name": "Python 3 (ipykernel)",
   "language": "python",
   "name": "python3"
  },
  "language_info": {
   "codemirror_mode": {
    "name": "ipython",
    "version": 3
   },
   "file_extension": ".py",
   "mimetype": "text/x-python",
   "name": "python",
   "nbconvert_exporter": "python",
   "pygments_lexer": "ipython3",
   "version": "3.10.4"
  }
 },
 "nbformat": 4,
 "nbformat_minor": 5
}
