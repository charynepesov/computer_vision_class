{
 "cells": [
  {
   "cell_type": "code",
   "execution_count": 1,
   "id": "5fad39a1-9ef9-48e2-b80e-4d1bde200dfb",
   "metadata": {},
   "outputs": [],
   "source": [
    "import cv2\n",
    "import matplotlib.pyplot as plt"
   ]
  },
  {
   "cell_type": "code",
   "execution_count": 2,
   "id": "41af7666-2f97-4763-a6d3-76cf3341b387",
   "metadata": {},
   "outputs": [],
   "source": [
    "# Remove highlighter from text function\n",
    "def removeHighlighter(imgName):\n",
    "    img = cv2.imread(imgName)\n",
    "    img_gray = cv2.cvtColor(img, cv2.COLOR_BGR2GRAY)\n",
    "    gaus = cv2.adaptiveThreshold(img_gray, 255, cv2.ADAPTIVE_THRESH_GAUSSIAN_C, cv2.THRESH_BINARY, 31, 20)\n",
    "    cv2.imwrite(imgName + \"_RemHigh.png\", gaus)"
   ]
  },
  {
   "cell_type": "code",
   "execution_count": 3,
   "id": "304179f2-5aca-4902-a962-acf087c3cb93",
   "metadata": {},
   "outputs": [],
   "source": [
    "# Removing highlighter from text on images\n",
    "for i in range(1,8):\n",
    "    removeHighlighter(\"Hazırlık-Maksud Çalışma Sualleri-\" + str(i) + \".jpg\")"
   ]
  },
  {
   "cell_type": "code",
   "execution_count": null,
   "id": "54e83f52-3179-43e0-ac4c-eac6a1d6eba0",
   "metadata": {},
   "outputs": [],
   "source": [
    "# Denemeler\n",
    "img = plt.imread(\"Hazırlık-Bina Çalışma Sualleri_pages-to-jpg-0002.jpg\")\n",
    "plt.imshow(img)"
   ]
  },
  {
   "cell_type": "code",
   "execution_count": null,
   "id": "422ff2be-1189-485b-9a25-2b3257cbf258",
   "metadata": {},
   "outputs": [],
   "source": [
    "plt.imshow(img[390:395,250:255,:])"
   ]
  },
  {
   "cell_type": "code",
   "execution_count": null,
   "id": "d4b1399a-974b-4597-a88f-5d63d4887027",
   "metadata": {},
   "outputs": [],
   "source": [
    "img[390:395,250:255,:]"
   ]
  },
  {
   "cell_type": "code",
   "execution_count": null,
   "id": "1c5ed913-b094-46e6-8bed-2d6a8faf6e65",
   "metadata": {},
   "outputs": [],
   "source": [
    "img_gray = cv2.cvtColor(img, cv2.COLOR_RGB2GRAY)\n",
    "gaus = cv2.adaptiveThreshold(img_gray, 255, cv2.ADAPTIVE_THRESH_GAUSSIAN_C, cv2.THRESH_BINARY, 31, 20)\n",
    "plt.imshow(gaus, cmap='gray')"
   ]
  },
  {
   "cell_type": "code",
   "execution_count": null,
   "id": "1a631f68-d472-4e13-8fce-b522c6fe3be8",
   "metadata": {},
   "outputs": [],
   "source": [
    "cv2.imwrite('output.png', gaus)"
   ]
  }
 ],
 "metadata": {
  "kernelspec": {
   "display_name": "Python 3 (ipykernel)",
   "language": "python",
   "name": "python3"
  },
  "language_info": {
   "codemirror_mode": {
    "name": "ipython",
    "version": 3
   },
   "file_extension": ".py",
   "mimetype": "text/x-python",
   "name": "python",
   "nbconvert_exporter": "python",
   "pygments_lexer": "ipython3",
   "version": "3.10.8"
  }
 },
 "nbformat": 4,
 "nbformat_minor": 5
}
