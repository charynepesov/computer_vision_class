{
 "cells": [
  {
   "cell_type": "code",
   "execution_count": 2,
   "id": "f79c42ba-7330-441c-9f1b-31bbd8547cc8",
   "metadata": {},
   "outputs": [],
   "source": [
    "import cv2 as cv\n",
    "import numpy as np"
   ]
  },
  {
   "cell_type": "code",
   "execution_count": 3,
   "id": "838b61ed-da36-41b1-9733-e2e47b434487",
   "metadata": {},
   "outputs": [],
   "source": [
    "W = 400\n",
    "def my_ellipse(img, angle):\n",
    "    thickness = 2\n",
    "    line_type = 8\n",
    "    # ellipse(img, center, axes, angle, startAngle, endAngle, color\n",
    "    # [, thickness[, lineType[, shift]]])\n",
    "    cv.ellipse(img,\n",
    "               (W // 2, W // 2),\n",
    "               (W // 4, W // 16),\n",
    "               angle,\n",
    "               0,\n",
    "               360,\n",
    "               (255, 0, 0),\n",
    "               thickness,\n",
    "               line_type\n",
    "              )\n"
   ]
  }
 ],
 "metadata": {
  "kernelspec": {
   "display_name": "Python 3 (ipykernel)",
   "language": "python",
   "name": "python3"
  },
  "language_info": {
   "codemirror_mode": {
    "name": "ipython",
    "version": 3
   },
   "file_extension": ".py",
   "mimetype": "text/x-python",
   "name": "python",
   "nbconvert_exporter": "python",
   "pygments_lexer": "ipython3",
   "version": "3.10.4"
  }
 },
 "nbformat": 4,
 "nbformat_minor": 5
}
