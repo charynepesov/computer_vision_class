{
 "cells": [
  {
   "cell_type": "code",
   "execution_count": 1,
   "id": "be016a96-3046-4485-8a2a-08c18db698c1",
   "metadata": {},
   "outputs": [],
   "source": [
    "import cv2\n",
    "import matplotlib.pyplot as plt\n",
    "import numpy as np"
   ]
  },
  {
   "cell_type": "code",
   "execution_count": null,
   "id": "d0b1e684-276e-4147-8bb1-970766a570f0",
   "metadata": {},
   "outputs": [],
   "source": [
    "def olay_gerceklesti(event, x, y, flags, param):\n",
    "    if event = cv2.EVENT_LBUTTONDOWN:\n",
    "        cv2.circle(bos_resim, (x, y), 50, (255, 0, 0), -1)\n",
    "    elif event = cv2.EVENT_RBUTTONDOWN:\n",
    "        cv2.circle(bos_resim, (x, y), 50, (0, 255, 0), -1)\n",
    "        \n",
    "        \n",
    "cv2.namedWindow('ResimPenceresi')\n",
    "cv2.setMouseCallback('ResimPenceresi')"
   ]
  }
 ],
 "metadata": {
  "kernelspec": {
   "display_name": "Python 3",
   "language": "python",
   "name": "python3"
  },
  "language_info": {
   "codemirror_mode": {
    "name": "ipython",
    "version": 3
   },
   "file_extension": ".py",
   "mimetype": "text/x-python",
   "name": "python",
   "nbconvert_exporter": "python",
   "pygments_lexer": "ipython3",
   "version": "3.6.13"
  }
 },
 "nbformat": 4,
 "nbformat_minor": 5
}
