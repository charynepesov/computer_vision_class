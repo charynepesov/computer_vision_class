{
 "cells": [
  {
   "cell_type": "code",
   "execution_count": 2,
   "id": "8329b348-3544-42d5-9255-5da57bfe795d",
   "metadata": {},
   "outputs": [],
   "source": [
    "import cv2\n",
    "import time\n",
    "# videonun 1dk*24=1444 frame sini alip vakit kismini biraz geriden alinacak ve yapistirilacak\n",
    "# 2 video ile yapilabilir"
   ]
  },
  {
   "cell_type": "code",
   "execution_count": null,
   "id": "d66335db-6443-4bfe-921f-256069e53655",
   "metadata": {},
   "outputs": [],
   "source": [
    "video1 = cv2.VideoCapture(\"./DATA/\")\n",
    "video2 = cv2.VideoCapture(\"../DATA/videoplayback.mp4\")\n",
    "\n",
    "width = int(video.get(cv2.CAP_PROP_FRAME_WIDTH))\n",
    "height = int(video.get(cv2.CAP_PROP_FRAME_HEIGHT))\n",
    "fps = video.get(cv2.CAP_PROP_FPS)\n",
    "\n",
    "if video.isOpened() == False:\n",
    "    print(\"Doğru gitmeyen bir şeyler var.\")\n",
    "    \n",
    "vw = cv2.VideoWriter('video_sahte.mp4', cv2.VideoWriter_fourcc(*'H264'), fps, (width, height))\n",
    "\n",
    "while video.isOpened:\n",
    "    ret, frame = video.read() #ilk resmi aldik\n",
    "\n",
    "    if ret == True: #resmi basarili bir sekilde aldiysak\n",
    "        time.sleep(1 / fps) #video nun gercek fps si ile oynat\n",
    "        #frame = cv2.circle(frame,(55,55),45,color=(255,0,0),thickness=-1)\n",
    "        frame[:100,:100] = cv2.blur(frame[:100,:100], (50,50))\n",
    "        frame_gray = cv2.cvtColor(frame[:100,:100], cv2.COLOR_BGR2GRAY)\n",
    "\n",
    "        cv2.imshow('Video Dosya Okuma', frame)\n",
    "        vw.write(frame_gray)\n",
    "\n",
    "        if cv2.waitKey(10) & 0xFF == ord('q'):\n",
    "            break\n",
    "\n",
    "    else:\n",
    "        break\n",
    "\n",
    "vw.release()\n",
    "video.release()\n",
    "cv2.destroyAllWindows()"
   ]
  }
 ],
 "metadata": {
  "kernelspec": {
   "display_name": "Python 3 (ipykernel)",
   "language": "python",
   "name": "python3"
  },
  "language_info": {
   "codemirror_mode": {
    "name": "ipython",
    "version": 3
   },
   "file_extension": ".py",
   "mimetype": "text/x-python",
   "name": "python",
   "nbconvert_exporter": "python",
   "pygments_lexer": "ipython3",
   "version": "3.10.8"
  }
 },
 "nbformat": 4,
 "nbformat_minor": 5
}
