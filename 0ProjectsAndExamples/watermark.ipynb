{
 "cells": [
  {
   "cell_type": "code",
   "execution_count": 3,
   "id": "59c89ca0-220b-4da1-a7e3-482c80a93eb9",
   "metadata": {},
   "outputs": [],
   "source": [
    "import cv2\n",
    "import numpy as np\n",
    "import matplotlib.pyplot as plt"
   ]
  },
  {
   "cell_type": "code",
   "execution_count": 5,
   "id": "12832255-ebe3-47a5-ad27-eb3015958f2a",
   "metadata": {},
   "outputs": [],
   "source": [
    "kucukResim = cv2.imread('DATA/11_opencv-logo-2.png')\n",
    "buyukResim = cv2.imread(\"DATA/1_ayasofya.jpg\")\n",
    "\n",
    "kYukseklik,kGenislik,kKanal = kucukResim.shape\n",
    "bYukseklik,bGenislik,bKanal = buyukResim.shape\n",
    "\n",
    "buyukYYarisi = bYukseklik//2\n",
    "buyukGYarisi = bGenislik//2\n",
    "kucukYYarisi = kYukseklik//2\n",
    "kucukGyarisi = kGenislik//2\n",
    "\n",
    "kucukResim = cv2.cvtColor(kucukResim,cv2.COLOR_BGR2RGB)\n",
    "buyukResim = cv2.cvtColor(buyukResim,cv2.COLOR_BGR2RGB)       \n"
   ]
  },
  {
   "cell_type": "code",
   "execution_count": null,
   "id": "fc256925-4d7f-473e-843a-7559cccf6359",
   "metadata": {},
   "outputs": [],
   "source": [
    "kucukResimGray = cv2.cvtColor(kucukResim,cv2.COLOR_RGB2GRAY)\n",
    "ret, maske = cv2.threshold(kucukResimGray, 10, 255, cv2.THRESH_BINARY)\n",
    "maske_tersi = cv2.bitwise_not(maske)\n",
    "\n",
    "roi_alan = buyukResim[buyukYYarisi-kucukYYarisi:].copy()       \n",
    "roi_alan_bg = cv2.bitwise_and(roi_alan, roi_alan, mask = maske_tersi)\n",
    "roi_alan_fg = cv2.bitwise_and(kucukResim, kucukResim, mask = maske)\n",
    "birlesmisParca = cv2.add(roi_alan_bg, roi_alan_fg)\n",
    "buyukResim[yukBas:yukBit, genBas:genBit] = birlesmisParca"
   ]
  }
 ],
 "metadata": {
  "kernelspec": {
   "display_name": "Python 3 (ipykernel)",
   "language": "python",
   "name": "python3"
  },
  "language_info": {
   "codemirror_mode": {
    "name": "ipython",
    "version": 3
   },
   "file_extension": ".py",
   "mimetype": "text/x-python",
   "name": "python",
   "nbconvert_exporter": "python",
   "pygments_lexer": "ipython3",
   "version": "3.10.8"
  }
 },
 "nbformat": 4,
 "nbformat_minor": 5
}
