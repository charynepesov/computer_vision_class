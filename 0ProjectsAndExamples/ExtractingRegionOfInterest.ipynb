{
 "cells": [
  {
   "cell_type": "code",
   "execution_count": 2,
   "id": "2cba0468-0abc-41d8-b93b-1ae14f79d881",
   "metadata": {},
   "outputs": [],
   "source": [
    "# Importing the OpenCV library\n",
    "import cv2\n",
    "# Reading the image using imread() function\n",
    "image = cv2.imread('1_ayasofya.jpg')\n",
    "\n",
    "# We will calculate the region of interest\n",
    "# by slicing the pixels of the image\n",
    "roi = image[100 : 500, 200 : 700]\n"
   ]
  },
  {
   "cell_type": "code",
   "execution_count": null,
   "id": "0ecb809b-9e88-490e-8628-b0c4e899d5ad",
   "metadata": {},
   "outputs": [],
   "source": []
  }
 ],
 "metadata": {
  "kernelspec": {
   "display_name": "Python 3",
   "language": "python",
   "name": "python3"
  },
  "language_info": {
   "codemirror_mode": {
    "name": "ipython",
    "version": 3
   },
   "file_extension": ".py",
   "mimetype": "text/x-python",
   "name": "python",
   "nbconvert_exporter": "python",
   "pygments_lexer": "ipython3",
   "version": "3.6.13"
  }
 },
 "nbformat": 4,
 "nbformat_minor": 5
}
