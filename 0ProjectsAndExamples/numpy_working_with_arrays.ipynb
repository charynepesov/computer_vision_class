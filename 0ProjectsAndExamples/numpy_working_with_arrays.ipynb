{
 "cells": [
  {
   "cell_type": "code",
   "execution_count": 1,
   "id": "e7e12309-658b-4633-b527-ebeaf2b8d60c",
   "metadata": {},
   "outputs": [],
   "source": [
    "import numpy as np\n",
    "import matplotlib.pyplot as plt"
   ]
  },
  {
   "cell_type": "code",
   "execution_count": 5,
   "id": "68aa13d6-71d1-48aa-a44c-6a0ab9a03ecb",
   "metadata": {},
   "outputs": [],
   "source": [
    "np1_array = np.array((1, 2, 3))"
   ]
  },
  {
   "cell_type": "code",
   "execution_count": 6,
   "id": "f8253f37-df01-4efa-a56a-fea89dbc7442",
   "metadata": {},
   "outputs": [
    {
     "data": {
      "text/plain": [
       "array([1, 2, 3])"
      ]
     },
     "execution_count": 6,
     "metadata": {},
     "output_type": "execute_result"
    }
   ],
   "source": [
    "np1_array"
   ]
  },
  {
   "cell_type": "code",
   "execution_count": 12,
   "id": "2a2ea819-d105-4598-b559-42938585cb76",
   "metadata": {},
   "outputs": [
    {
     "name": "stdout",
     "output_type": "stream",
     "text": [
      "1\n",
      "2\n",
      "3\n"
     ]
    }
   ],
   "source": [
    "for col in np1_array:\n",
    "    print(col)"
   ]
  },
  {
   "cell_type": "code",
   "execution_count": 7,
   "id": "9b056303-7ebd-4b23-b490-65e33fae21d8",
   "metadata": {},
   "outputs": [],
   "source": [
    "np2_array = np.array([(1, 2, 3), (4, 5, 6)])"
   ]
  },
  {
   "cell_type": "code",
   "execution_count": 8,
   "id": "d410a492-972b-4b27-b2b5-b068425b7b37",
   "metadata": {},
   "outputs": [
    {
     "data": {
      "text/plain": [
       "array([[1, 2, 3],\n",
       "       [4, 5, 6]])"
      ]
     },
     "execution_count": 8,
     "metadata": {},
     "output_type": "execute_result"
    }
   ],
   "source": [
    "np2_array"
   ]
  },
  {
   "cell_type": "code",
   "execution_count": 16,
   "id": "6d3d2f2c-7c75-4190-b86c-4d6d64dfa9b9",
   "metadata": {},
   "outputs": [
    {
     "name": "stdout",
     "output_type": "stream",
     "text": [
      "[1 2 3]\n",
      "0\n",
      "[4 5 6]\n",
      "0\n",
      "0\n",
      "0\n"
     ]
    }
   ],
   "source": [
    "for row in np2_array:\n",
    "    print(row)\n",
    "    for col in row:\n",
    "        if(col > 2):\n",
    "            col = 0\n",
    "            print(col)\n",
    "        "
   ]
  },
  {
   "cell_type": "code",
   "execution_count": 21,
   "id": "027a3020-fdba-4fd4-8512-a0f952c763df",
   "metadata": {},
   "outputs": [
    {
     "name": "stdout",
     "output_type": "stream",
     "text": [
      "[1 2 3]\n",
      "0\n",
      "1\n",
      "1\n",
      "[4 5 6]\n",
      "2\n",
      "3\n",
      "3\n"
     ]
    }
   ],
   "source": [
    "for row in np2_array:\n",
    "    print(row)\n",
    "    for col in row:\n",
    "        col = int(col * 0.6)\n",
    "        print(col)"
   ]
  },
  {
   "cell_type": "code",
   "execution_count": 10,
   "id": "ac130276-619d-4b4b-8dad-5bc0833ea89b",
   "metadata": {},
   "outputs": [],
   "source": [
    "np3_array = np.array([[(1, 2, 3), (4, 5, 6)], [(7, 8, 9), (10, 11, 12)]])"
   ]
  },
  {
   "cell_type": "code",
   "execution_count": 11,
   "id": "0104c514-d3c2-489e-b247-6c6c298f04c0",
   "metadata": {},
   "outputs": [
    {
     "data": {
      "text/plain": [
       "array([[[ 1,  2,  3],\n",
       "        [ 4,  5,  6]],\n",
       "\n",
       "       [[ 7,  8,  9],\n",
       "        [10, 11, 12]]])"
      ]
     },
     "execution_count": 11,
     "metadata": {},
     "output_type": "execute_result"
    }
   ],
   "source": [
    "np3_array"
   ]
  },
  {
   "cell_type": "code",
   "execution_count": 17,
   "id": "73042baa-e6f1-4303-a75c-7f24d3d2e03f",
   "metadata": {},
   "outputs": [
    {
     "name": "stdout",
     "output_type": "stream",
     "text": [
      "[[1 2 3]\n",
      " [4 5 6]]\n",
      "[[ 7  8  9]\n",
      " [10 11 12]]\n"
     ]
    }
   ],
   "source": [
    "for dim in np3_array:\n",
    "    print(dim)"
   ]
  },
  {
   "cell_type": "code",
   "execution_count": 18,
   "id": "27273982-51d8-4358-b166-006c1c59c08f",
   "metadata": {},
   "outputs": [
    {
     "name": "stdout",
     "output_type": "stream",
     "text": [
      "[1 2 3]\n",
      "[4 5 6]\n",
      "[7 8 9]\n",
      "[10 11 12]\n"
     ]
    }
   ],
   "source": [
    "for dim in np3_array:\n",
    "    for row in dim:\n",
    "        print(row)"
   ]
  },
  {
   "cell_type": "code",
   "execution_count": 19,
   "id": "b7d1aadb-d157-4955-8564-503baa8317f2",
   "metadata": {},
   "outputs": [
    {
     "name": "stdout",
     "output_type": "stream",
     "text": [
      "1\n",
      "2\n",
      "3\n",
      "4\n",
      "5\n",
      "6\n",
      "7\n",
      "8\n",
      "9\n",
      "10\n",
      "11\n",
      "12\n"
     ]
    }
   ],
   "source": [
    "for dim in np3_array:\n",
    "    for row in dim:\n",
    "        for col in row:\n",
    "            print(col)"
   ]
  },
  {
   "cell_type": "code",
   "execution_count": 20,
   "id": "ae3e6f0a-b3cb-47c6-8fb1-79dbbc33cd12",
   "metadata": {},
   "outputs": [
    {
     "name": "stdout",
     "output_type": "stream",
     "text": [
      "0\n",
      "0\n",
      "0\n",
      "0\n",
      "0\n",
      "6\n",
      "7\n",
      "8\n",
      "9\n",
      "10\n",
      "11\n",
      "12\n"
     ]
    }
   ],
   "source": [
    "for dim in np3_array:\n",
    "    for row in dim:\n",
    "        for col in row:\n",
    "            if(col <= 5):\n",
    "                col = 0\n",
    "            print(col)"
   ]
  }
 ],
 "metadata": {
  "kernelspec": {
   "display_name": "Python 3 (ipykernel)",
   "language": "python",
   "name": "python3"
  },
  "language_info": {
   "codemirror_mode": {
    "name": "ipython",
    "version": 3
   },
   "file_extension": ".py",
   "mimetype": "text/x-python",
   "name": "python",
   "nbconvert_exporter": "python",
   "pygments_lexer": "ipython3",
   "version": "3.10.6"
  }
 },
 "nbformat": 4,
 "nbformat_minor": 5
}
