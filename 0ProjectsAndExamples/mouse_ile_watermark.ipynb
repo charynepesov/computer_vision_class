{
 "cells": [
  {
   "cell_type": "code",
   "execution_count": 3,
   "id": "088f5839-7f77-4606-9467-733f1c98d91f",
   "metadata": {},
   "outputs": [],
   "source": [
    "import numpy as np\n",
    "import cv2\n",
    "\n",
    "import matplotlib.pyplot as plt\n",
    "%matplotlib inline\n"
   ]
  },
  {
   "cell_type": "code",
   "execution_count": 14,
   "id": "a645da09-8467-4c19-8970-bd740952dca7",
   "metadata": {},
   "outputs": [
    {
     "ename": "NameError",
     "evalue": "name 'Y' is not defined",
     "output_type": "error",
     "traceback": [
      "\u001b[0;31m---------------------------------------------------------------------------\u001b[0m",
      "\u001b[0;31mNameError\u001b[0m                                 Traceback (most recent call last)",
      "Cell \u001b[0;32mIn [14], line 15\u001b[0m, in \u001b[0;36molay_gerceklesti\u001b[0;34m(event, x, y, flags, param)\u001b[0m\n\u001b[1;32m     13\u001b[0m \u001b[38;5;28;01mdef\u001b[39;00m \u001b[38;5;21molay_gerceklesti\u001b[39m(event, x, y, flags, param):\n\u001b[1;32m     14\u001b[0m     eskiX \u001b[38;5;241m=\u001b[39m x\n\u001b[0;32m---> 15\u001b[0m     eskiY \u001b[38;5;241m=\u001b[39m \u001b[43mY\u001b[49m\n\u001b[1;32m     17\u001b[0m     yukBas \u001b[38;5;241m=\u001b[39m y\n\u001b[1;32m     18\u001b[0m     genBas \u001b[38;5;241m=\u001b[39m x\n",
      "\u001b[0;31mNameError\u001b[0m: name 'Y' is not defined"
     ]
    },
    {
     "ename": "NameError",
     "evalue": "name 'Y' is not defined",
     "output_type": "error",
     "traceback": [
      "\u001b[0;31m---------------------------------------------------------------------------\u001b[0m",
      "\u001b[0;31mNameError\u001b[0m                                 Traceback (most recent call last)",
      "Cell \u001b[0;32mIn [14], line 15\u001b[0m, in \u001b[0;36molay_gerceklesti\u001b[0;34m(event, x, y, flags, param)\u001b[0m\n\u001b[1;32m     13\u001b[0m \u001b[38;5;28;01mdef\u001b[39;00m \u001b[38;5;21molay_gerceklesti\u001b[39m(event, x, y, flags, param):\n\u001b[1;32m     14\u001b[0m     eskiX \u001b[38;5;241m=\u001b[39m x\n\u001b[0;32m---> 15\u001b[0m     eskiY \u001b[38;5;241m=\u001b[39m \u001b[43mY\u001b[49m\n\u001b[1;32m     17\u001b[0m     yukBas \u001b[38;5;241m=\u001b[39m y\n\u001b[1;32m     18\u001b[0m     genBas \u001b[38;5;241m=\u001b[39m x\n",
      "\u001b[0;31mNameError\u001b[0m: name 'Y' is not defined"
     ]
    },
    {
     "ename": "NameError",
     "evalue": "name 'Y' is not defined",
     "output_type": "error",
     "traceback": [
      "\u001b[0;31m---------------------------------------------------------------------------\u001b[0m",
      "\u001b[0;31mNameError\u001b[0m                                 Traceback (most recent call last)",
      "Cell \u001b[0;32mIn [14], line 15\u001b[0m, in \u001b[0;36molay_gerceklesti\u001b[0;34m(event, x, y, flags, param)\u001b[0m\n\u001b[1;32m     13\u001b[0m \u001b[38;5;28;01mdef\u001b[39;00m \u001b[38;5;21molay_gerceklesti\u001b[39m(event, x, y, flags, param):\n\u001b[1;32m     14\u001b[0m     eskiX \u001b[38;5;241m=\u001b[39m x\n\u001b[0;32m---> 15\u001b[0m     eskiY \u001b[38;5;241m=\u001b[39m \u001b[43mY\u001b[49m\n\u001b[1;32m     17\u001b[0m     yukBas \u001b[38;5;241m=\u001b[39m y\n\u001b[1;32m     18\u001b[0m     genBas \u001b[38;5;241m=\u001b[39m x\n",
      "\u001b[0;31mNameError\u001b[0m: name 'Y' is not defined"
     ]
    },
    {
     "ename": "NameError",
     "evalue": "name 'Y' is not defined",
     "output_type": "error",
     "traceback": [
      "\u001b[0;31m---------------------------------------------------------------------------\u001b[0m",
      "\u001b[0;31mNameError\u001b[0m                                 Traceback (most recent call last)",
      "Cell \u001b[0;32mIn [14], line 15\u001b[0m, in \u001b[0;36molay_gerceklesti\u001b[0;34m(event, x, y, flags, param)\u001b[0m\n\u001b[1;32m     13\u001b[0m \u001b[38;5;28;01mdef\u001b[39;00m \u001b[38;5;21molay_gerceklesti\u001b[39m(event, x, y, flags, param):\n\u001b[1;32m     14\u001b[0m     eskiX \u001b[38;5;241m=\u001b[39m x\n\u001b[0;32m---> 15\u001b[0m     eskiY \u001b[38;5;241m=\u001b[39m \u001b[43mY\u001b[49m\n\u001b[1;32m     17\u001b[0m     yukBas \u001b[38;5;241m=\u001b[39m y\n\u001b[1;32m     18\u001b[0m     genBas \u001b[38;5;241m=\u001b[39m x\n",
      "\u001b[0;31mNameError\u001b[0m: name 'Y' is not defined"
     ]
    },
    {
     "ename": "NameError",
     "evalue": "name 'Y' is not defined",
     "output_type": "error",
     "traceback": [
      "\u001b[0;31m---------------------------------------------------------------------------\u001b[0m",
      "\u001b[0;31mNameError\u001b[0m                                 Traceback (most recent call last)",
      "Cell \u001b[0;32mIn [14], line 15\u001b[0m, in \u001b[0;36molay_gerceklesti\u001b[0;34m(event, x, y, flags, param)\u001b[0m\n\u001b[1;32m     13\u001b[0m \u001b[38;5;28;01mdef\u001b[39;00m \u001b[38;5;21molay_gerceklesti\u001b[39m(event, x, y, flags, param):\n\u001b[1;32m     14\u001b[0m     eskiX \u001b[38;5;241m=\u001b[39m x\n\u001b[0;32m---> 15\u001b[0m     eskiY \u001b[38;5;241m=\u001b[39m \u001b[43mY\u001b[49m\n\u001b[1;32m     17\u001b[0m     yukBas \u001b[38;5;241m=\u001b[39m y\n\u001b[1;32m     18\u001b[0m     genBas \u001b[38;5;241m=\u001b[39m x\n",
      "\u001b[0;31mNameError\u001b[0m: name 'Y' is not defined"
     ]
    },
    {
     "ename": "NameError",
     "evalue": "name 'Y' is not defined",
     "output_type": "error",
     "traceback": [
      "\u001b[0;31m---------------------------------------------------------------------------\u001b[0m",
      "\u001b[0;31mNameError\u001b[0m                                 Traceback (most recent call last)",
      "Cell \u001b[0;32mIn [14], line 15\u001b[0m, in \u001b[0;36molay_gerceklesti\u001b[0;34m(event, x, y, flags, param)\u001b[0m\n\u001b[1;32m     13\u001b[0m \u001b[38;5;28;01mdef\u001b[39;00m \u001b[38;5;21molay_gerceklesti\u001b[39m(event, x, y, flags, param):\n\u001b[1;32m     14\u001b[0m     eskiX \u001b[38;5;241m=\u001b[39m x\n\u001b[0;32m---> 15\u001b[0m     eskiY \u001b[38;5;241m=\u001b[39m \u001b[43mY\u001b[49m\n\u001b[1;32m     17\u001b[0m     yukBas \u001b[38;5;241m=\u001b[39m y\n\u001b[1;32m     18\u001b[0m     genBas \u001b[38;5;241m=\u001b[39m x\n",
      "\u001b[0;31mNameError\u001b[0m: name 'Y' is not defined"
     ]
    },
    {
     "ename": "NameError",
     "evalue": "name 'Y' is not defined",
     "output_type": "error",
     "traceback": [
      "\u001b[0;31m---------------------------------------------------------------------------\u001b[0m",
      "\u001b[0;31mNameError\u001b[0m                                 Traceback (most recent call last)",
      "Cell \u001b[0;32mIn [14], line 15\u001b[0m, in \u001b[0;36molay_gerceklesti\u001b[0;34m(event, x, y, flags, param)\u001b[0m\n\u001b[1;32m     13\u001b[0m \u001b[38;5;28;01mdef\u001b[39;00m \u001b[38;5;21molay_gerceklesti\u001b[39m(event, x, y, flags, param):\n\u001b[1;32m     14\u001b[0m     eskiX \u001b[38;5;241m=\u001b[39m x\n\u001b[0;32m---> 15\u001b[0m     eskiY \u001b[38;5;241m=\u001b[39m \u001b[43mY\u001b[49m\n\u001b[1;32m     17\u001b[0m     yukBas \u001b[38;5;241m=\u001b[39m y\n\u001b[1;32m     18\u001b[0m     genBas \u001b[38;5;241m=\u001b[39m x\n",
      "\u001b[0;31mNameError\u001b[0m: name 'Y' is not defined"
     ]
    },
    {
     "ename": "NameError",
     "evalue": "name 'Y' is not defined",
     "output_type": "error",
     "traceback": [
      "\u001b[0;31m---------------------------------------------------------------------------\u001b[0m",
      "\u001b[0;31mNameError\u001b[0m                                 Traceback (most recent call last)",
      "Cell \u001b[0;32mIn [14], line 15\u001b[0m, in \u001b[0;36molay_gerceklesti\u001b[0;34m(event, x, y, flags, param)\u001b[0m\n\u001b[1;32m     13\u001b[0m \u001b[38;5;28;01mdef\u001b[39;00m \u001b[38;5;21molay_gerceklesti\u001b[39m(event, x, y, flags, param):\n\u001b[1;32m     14\u001b[0m     eskiX \u001b[38;5;241m=\u001b[39m x\n\u001b[0;32m---> 15\u001b[0m     eskiY \u001b[38;5;241m=\u001b[39m \u001b[43mY\u001b[49m\n\u001b[1;32m     17\u001b[0m     yukBas \u001b[38;5;241m=\u001b[39m y\n\u001b[1;32m     18\u001b[0m     genBas \u001b[38;5;241m=\u001b[39m x\n",
      "\u001b[0;31mNameError\u001b[0m: name 'Y' is not defined"
     ]
    },
    {
     "ename": "NameError",
     "evalue": "name 'Y' is not defined",
     "output_type": "error",
     "traceback": [
      "\u001b[0;31m---------------------------------------------------------------------------\u001b[0m",
      "\u001b[0;31mNameError\u001b[0m                                 Traceback (most recent call last)",
      "Cell \u001b[0;32mIn [14], line 15\u001b[0m, in \u001b[0;36molay_gerceklesti\u001b[0;34m(event, x, y, flags, param)\u001b[0m\n\u001b[1;32m     13\u001b[0m \u001b[38;5;28;01mdef\u001b[39;00m \u001b[38;5;21molay_gerceklesti\u001b[39m(event, x, y, flags, param):\n\u001b[1;32m     14\u001b[0m     eskiX \u001b[38;5;241m=\u001b[39m x\n\u001b[0;32m---> 15\u001b[0m     eskiY \u001b[38;5;241m=\u001b[39m \u001b[43mY\u001b[49m\n\u001b[1;32m     17\u001b[0m     yukBas \u001b[38;5;241m=\u001b[39m y\n\u001b[1;32m     18\u001b[0m     genBas \u001b[38;5;241m=\u001b[39m x\n",
      "\u001b[0;31mNameError\u001b[0m: name 'Y' is not defined"
     ]
    },
    {
     "ename": "NameError",
     "evalue": "name 'Y' is not defined",
     "output_type": "error",
     "traceback": [
      "\u001b[0;31m---------------------------------------------------------------------------\u001b[0m",
      "\u001b[0;31mNameError\u001b[0m                                 Traceback (most recent call last)",
      "Cell \u001b[0;32mIn [14], line 15\u001b[0m, in \u001b[0;36molay_gerceklesti\u001b[0;34m(event, x, y, flags, param)\u001b[0m\n\u001b[1;32m     13\u001b[0m \u001b[38;5;28;01mdef\u001b[39;00m \u001b[38;5;21molay_gerceklesti\u001b[39m(event, x, y, flags, param):\n\u001b[1;32m     14\u001b[0m     eskiX \u001b[38;5;241m=\u001b[39m x\n\u001b[0;32m---> 15\u001b[0m     eskiY \u001b[38;5;241m=\u001b[39m \u001b[43mY\u001b[49m\n\u001b[1;32m     17\u001b[0m     yukBas \u001b[38;5;241m=\u001b[39m y\n\u001b[1;32m     18\u001b[0m     genBas \u001b[38;5;241m=\u001b[39m x\n",
      "\u001b[0;31mNameError\u001b[0m: name 'Y' is not defined"
     ]
    },
    {
     "ename": "NameError",
     "evalue": "name 'Y' is not defined",
     "output_type": "error",
     "traceback": [
      "\u001b[0;31m---------------------------------------------------------------------------\u001b[0m",
      "\u001b[0;31mNameError\u001b[0m                                 Traceback (most recent call last)",
      "Cell \u001b[0;32mIn [14], line 15\u001b[0m, in \u001b[0;36molay_gerceklesti\u001b[0;34m(event, x, y, flags, param)\u001b[0m\n\u001b[1;32m     13\u001b[0m \u001b[38;5;28;01mdef\u001b[39;00m \u001b[38;5;21molay_gerceklesti\u001b[39m(event, x, y, flags, param):\n\u001b[1;32m     14\u001b[0m     eskiX \u001b[38;5;241m=\u001b[39m x\n\u001b[0;32m---> 15\u001b[0m     eskiY \u001b[38;5;241m=\u001b[39m \u001b[43mY\u001b[49m\n\u001b[1;32m     17\u001b[0m     yukBas \u001b[38;5;241m=\u001b[39m y\n\u001b[1;32m     18\u001b[0m     genBas \u001b[38;5;241m=\u001b[39m x\n",
      "\u001b[0;31mNameError\u001b[0m: name 'Y' is not defined"
     ]
    },
    {
     "ename": "NameError",
     "evalue": "name 'Y' is not defined",
     "output_type": "error",
     "traceback": [
      "\u001b[0;31m---------------------------------------------------------------------------\u001b[0m",
      "\u001b[0;31mNameError\u001b[0m                                 Traceback (most recent call last)",
      "Cell \u001b[0;32mIn [14], line 15\u001b[0m, in \u001b[0;36molay_gerceklesti\u001b[0;34m(event, x, y, flags, param)\u001b[0m\n\u001b[1;32m     13\u001b[0m \u001b[38;5;28;01mdef\u001b[39;00m \u001b[38;5;21molay_gerceklesti\u001b[39m(event, x, y, flags, param):\n\u001b[1;32m     14\u001b[0m     eskiX \u001b[38;5;241m=\u001b[39m x\n\u001b[0;32m---> 15\u001b[0m     eskiY \u001b[38;5;241m=\u001b[39m \u001b[43mY\u001b[49m\n\u001b[1;32m     17\u001b[0m     yukBas \u001b[38;5;241m=\u001b[39m y\n\u001b[1;32m     18\u001b[0m     genBas \u001b[38;5;241m=\u001b[39m x\n",
      "\u001b[0;31mNameError\u001b[0m: name 'Y' is not defined"
     ]
    },
    {
     "ename": "NameError",
     "evalue": "name 'Y' is not defined",
     "output_type": "error",
     "traceback": [
      "\u001b[0;31m---------------------------------------------------------------------------\u001b[0m",
      "\u001b[0;31mNameError\u001b[0m                                 Traceback (most recent call last)",
      "Cell \u001b[0;32mIn [14], line 15\u001b[0m, in \u001b[0;36molay_gerceklesti\u001b[0;34m(event, x, y, flags, param)\u001b[0m\n\u001b[1;32m     13\u001b[0m \u001b[38;5;28;01mdef\u001b[39;00m \u001b[38;5;21molay_gerceklesti\u001b[39m(event, x, y, flags, param):\n\u001b[1;32m     14\u001b[0m     eskiX \u001b[38;5;241m=\u001b[39m x\n\u001b[0;32m---> 15\u001b[0m     eskiY \u001b[38;5;241m=\u001b[39m \u001b[43mY\u001b[49m\n\u001b[1;32m     17\u001b[0m     yukBas \u001b[38;5;241m=\u001b[39m y\n\u001b[1;32m     18\u001b[0m     genBas \u001b[38;5;241m=\u001b[39m x\n",
      "\u001b[0;31mNameError\u001b[0m: name 'Y' is not defined"
     ]
    },
    {
     "ename": "NameError",
     "evalue": "name 'Y' is not defined",
     "output_type": "error",
     "traceback": [
      "\u001b[0;31m---------------------------------------------------------------------------\u001b[0m",
      "\u001b[0;31mNameError\u001b[0m                                 Traceback (most recent call last)",
      "Cell \u001b[0;32mIn [14], line 15\u001b[0m, in \u001b[0;36molay_gerceklesti\u001b[0;34m(event, x, y, flags, param)\u001b[0m\n\u001b[1;32m     13\u001b[0m \u001b[38;5;28;01mdef\u001b[39;00m \u001b[38;5;21molay_gerceklesti\u001b[39m(event, x, y, flags, param):\n\u001b[1;32m     14\u001b[0m     eskiX \u001b[38;5;241m=\u001b[39m x\n\u001b[0;32m---> 15\u001b[0m     eskiY \u001b[38;5;241m=\u001b[39m \u001b[43mY\u001b[49m\n\u001b[1;32m     17\u001b[0m     yukBas \u001b[38;5;241m=\u001b[39m y\n\u001b[1;32m     18\u001b[0m     genBas \u001b[38;5;241m=\u001b[39m x\n",
      "\u001b[0;31mNameError\u001b[0m: name 'Y' is not defined"
     ]
    },
    {
     "ename": "NameError",
     "evalue": "name 'Y' is not defined",
     "output_type": "error",
     "traceback": [
      "\u001b[0;31m---------------------------------------------------------------------------\u001b[0m",
      "\u001b[0;31mNameError\u001b[0m                                 Traceback (most recent call last)",
      "Cell \u001b[0;32mIn [14], line 15\u001b[0m, in \u001b[0;36molay_gerceklesti\u001b[0;34m(event, x, y, flags, param)\u001b[0m\n\u001b[1;32m     13\u001b[0m \u001b[38;5;28;01mdef\u001b[39;00m \u001b[38;5;21molay_gerceklesti\u001b[39m(event, x, y, flags, param):\n\u001b[1;32m     14\u001b[0m     eskiX \u001b[38;5;241m=\u001b[39m x\n\u001b[0;32m---> 15\u001b[0m     eskiY \u001b[38;5;241m=\u001b[39m \u001b[43mY\u001b[49m\n\u001b[1;32m     17\u001b[0m     yukBas \u001b[38;5;241m=\u001b[39m y\n\u001b[1;32m     18\u001b[0m     genBas \u001b[38;5;241m=\u001b[39m x\n",
      "\u001b[0;31mNameError\u001b[0m: name 'Y' is not defined"
     ]
    },
    {
     "ename": "NameError",
     "evalue": "name 'Y' is not defined",
     "output_type": "error",
     "traceback": [
      "\u001b[0;31m---------------------------------------------------------------------------\u001b[0m",
      "\u001b[0;31mNameError\u001b[0m                                 Traceback (most recent call last)",
      "Cell \u001b[0;32mIn [14], line 15\u001b[0m, in \u001b[0;36molay_gerceklesti\u001b[0;34m(event, x, y, flags, param)\u001b[0m\n\u001b[1;32m     13\u001b[0m \u001b[38;5;28;01mdef\u001b[39;00m \u001b[38;5;21molay_gerceklesti\u001b[39m(event, x, y, flags, param):\n\u001b[1;32m     14\u001b[0m     eskiX \u001b[38;5;241m=\u001b[39m x\n\u001b[0;32m---> 15\u001b[0m     eskiY \u001b[38;5;241m=\u001b[39m \u001b[43mY\u001b[49m\n\u001b[1;32m     17\u001b[0m     yukBas \u001b[38;5;241m=\u001b[39m y\n\u001b[1;32m     18\u001b[0m     genBas \u001b[38;5;241m=\u001b[39m x\n",
      "\u001b[0;31mNameError\u001b[0m: name 'Y' is not defined"
     ]
    },
    {
     "ename": "NameError",
     "evalue": "name 'Y' is not defined",
     "output_type": "error",
     "traceback": [
      "\u001b[0;31m---------------------------------------------------------------------------\u001b[0m",
      "\u001b[0;31mNameError\u001b[0m                                 Traceback (most recent call last)",
      "Cell \u001b[0;32mIn [14], line 15\u001b[0m, in \u001b[0;36molay_gerceklesti\u001b[0;34m(event, x, y, flags, param)\u001b[0m\n\u001b[1;32m     13\u001b[0m \u001b[38;5;28;01mdef\u001b[39;00m \u001b[38;5;21molay_gerceklesti\u001b[39m(event, x, y, flags, param):\n\u001b[1;32m     14\u001b[0m     eskiX \u001b[38;5;241m=\u001b[39m x\n\u001b[0;32m---> 15\u001b[0m     eskiY \u001b[38;5;241m=\u001b[39m \u001b[43mY\u001b[49m\n\u001b[1;32m     17\u001b[0m     yukBas \u001b[38;5;241m=\u001b[39m y\n\u001b[1;32m     18\u001b[0m     genBas \u001b[38;5;241m=\u001b[39m x\n",
      "\u001b[0;31mNameError\u001b[0m: name 'Y' is not defined"
     ]
    },
    {
     "ename": "NameError",
     "evalue": "name 'Y' is not defined",
     "output_type": "error",
     "traceback": [
      "\u001b[0;31m---------------------------------------------------------------------------\u001b[0m",
      "\u001b[0;31mNameError\u001b[0m                                 Traceback (most recent call last)",
      "Cell \u001b[0;32mIn [14], line 15\u001b[0m, in \u001b[0;36molay_gerceklesti\u001b[0;34m(event, x, y, flags, param)\u001b[0m\n\u001b[1;32m     13\u001b[0m \u001b[38;5;28;01mdef\u001b[39;00m \u001b[38;5;21molay_gerceklesti\u001b[39m(event, x, y, flags, param):\n\u001b[1;32m     14\u001b[0m     eskiX \u001b[38;5;241m=\u001b[39m x\n\u001b[0;32m---> 15\u001b[0m     eskiY \u001b[38;5;241m=\u001b[39m \u001b[43mY\u001b[49m\n\u001b[1;32m     17\u001b[0m     yukBas \u001b[38;5;241m=\u001b[39m y\n\u001b[1;32m     18\u001b[0m     genBas \u001b[38;5;241m=\u001b[39m x\n",
      "\u001b[0;31mNameError\u001b[0m: name 'Y' is not defined"
     ]
    },
    {
     "ename": "NameError",
     "evalue": "name 'Y' is not defined",
     "output_type": "error",
     "traceback": [
      "\u001b[0;31m---------------------------------------------------------------------------\u001b[0m",
      "\u001b[0;31mNameError\u001b[0m                                 Traceback (most recent call last)",
      "Cell \u001b[0;32mIn [14], line 15\u001b[0m, in \u001b[0;36molay_gerceklesti\u001b[0;34m(event, x, y, flags, param)\u001b[0m\n\u001b[1;32m     13\u001b[0m \u001b[38;5;28;01mdef\u001b[39;00m \u001b[38;5;21molay_gerceklesti\u001b[39m(event, x, y, flags, param):\n\u001b[1;32m     14\u001b[0m     eskiX \u001b[38;5;241m=\u001b[39m x\n\u001b[0;32m---> 15\u001b[0m     eskiY \u001b[38;5;241m=\u001b[39m \u001b[43mY\u001b[49m\n\u001b[1;32m     17\u001b[0m     yukBas \u001b[38;5;241m=\u001b[39m y\n\u001b[1;32m     18\u001b[0m     genBas \u001b[38;5;241m=\u001b[39m x\n",
      "\u001b[0;31mNameError\u001b[0m: name 'Y' is not defined"
     ]
    },
    {
     "ename": "NameError",
     "evalue": "name 'Y' is not defined",
     "output_type": "error",
     "traceback": [
      "\u001b[0;31m---------------------------------------------------------------------------\u001b[0m",
      "\u001b[0;31mNameError\u001b[0m                                 Traceback (most recent call last)",
      "Cell \u001b[0;32mIn [14], line 15\u001b[0m, in \u001b[0;36molay_gerceklesti\u001b[0;34m(event, x, y, flags, param)\u001b[0m\n\u001b[1;32m     13\u001b[0m \u001b[38;5;28;01mdef\u001b[39;00m \u001b[38;5;21molay_gerceklesti\u001b[39m(event, x, y, flags, param):\n\u001b[1;32m     14\u001b[0m     eskiX \u001b[38;5;241m=\u001b[39m x\n\u001b[0;32m---> 15\u001b[0m     eskiY \u001b[38;5;241m=\u001b[39m \u001b[43mY\u001b[49m\n\u001b[1;32m     17\u001b[0m     yukBas \u001b[38;5;241m=\u001b[39m y\n\u001b[1;32m     18\u001b[0m     genBas \u001b[38;5;241m=\u001b[39m x\n",
      "\u001b[0;31mNameError\u001b[0m: name 'Y' is not defined"
     ]
    },
    {
     "ename": "NameError",
     "evalue": "name 'Y' is not defined",
     "output_type": "error",
     "traceback": [
      "\u001b[0;31m---------------------------------------------------------------------------\u001b[0m",
      "\u001b[0;31mNameError\u001b[0m                                 Traceback (most recent call last)",
      "Cell \u001b[0;32mIn [14], line 15\u001b[0m, in \u001b[0;36molay_gerceklesti\u001b[0;34m(event, x, y, flags, param)\u001b[0m\n\u001b[1;32m     13\u001b[0m \u001b[38;5;28;01mdef\u001b[39;00m \u001b[38;5;21molay_gerceklesti\u001b[39m(event, x, y, flags, param):\n\u001b[1;32m     14\u001b[0m     eskiX \u001b[38;5;241m=\u001b[39m x\n\u001b[0;32m---> 15\u001b[0m     eskiY \u001b[38;5;241m=\u001b[39m \u001b[43mY\u001b[49m\n\u001b[1;32m     17\u001b[0m     yukBas \u001b[38;5;241m=\u001b[39m y\n\u001b[1;32m     18\u001b[0m     genBas \u001b[38;5;241m=\u001b[39m x\n",
      "\u001b[0;31mNameError\u001b[0m: name 'Y' is not defined"
     ]
    },
    {
     "ename": "NameError",
     "evalue": "name 'Y' is not defined",
     "output_type": "error",
     "traceback": [
      "\u001b[0;31m---------------------------------------------------------------------------\u001b[0m",
      "\u001b[0;31mNameError\u001b[0m                                 Traceback (most recent call last)",
      "Cell \u001b[0;32mIn [14], line 15\u001b[0m, in \u001b[0;36molay_gerceklesti\u001b[0;34m(event, x, y, flags, param)\u001b[0m\n\u001b[1;32m     13\u001b[0m \u001b[38;5;28;01mdef\u001b[39;00m \u001b[38;5;21molay_gerceklesti\u001b[39m(event, x, y, flags, param):\n\u001b[1;32m     14\u001b[0m     eskiX \u001b[38;5;241m=\u001b[39m x\n\u001b[0;32m---> 15\u001b[0m     eskiY \u001b[38;5;241m=\u001b[39m \u001b[43mY\u001b[49m\n\u001b[1;32m     17\u001b[0m     yukBas \u001b[38;5;241m=\u001b[39m y\n\u001b[1;32m     18\u001b[0m     genBas \u001b[38;5;241m=\u001b[39m x\n",
      "\u001b[0;31mNameError\u001b[0m: name 'Y' is not defined"
     ]
    },
    {
     "ename": "NameError",
     "evalue": "name 'Y' is not defined",
     "output_type": "error",
     "traceback": [
      "\u001b[0;31m---------------------------------------------------------------------------\u001b[0m",
      "\u001b[0;31mNameError\u001b[0m                                 Traceback (most recent call last)",
      "Cell \u001b[0;32mIn [14], line 15\u001b[0m, in \u001b[0;36molay_gerceklesti\u001b[0;34m(event, x, y, flags, param)\u001b[0m\n\u001b[1;32m     13\u001b[0m \u001b[38;5;28;01mdef\u001b[39;00m \u001b[38;5;21molay_gerceklesti\u001b[39m(event, x, y, flags, param):\n\u001b[1;32m     14\u001b[0m     eskiX \u001b[38;5;241m=\u001b[39m x\n\u001b[0;32m---> 15\u001b[0m     eskiY \u001b[38;5;241m=\u001b[39m \u001b[43mY\u001b[49m\n\u001b[1;32m     17\u001b[0m     yukBas \u001b[38;5;241m=\u001b[39m y\n\u001b[1;32m     18\u001b[0m     genBas \u001b[38;5;241m=\u001b[39m x\n",
      "\u001b[0;31mNameError\u001b[0m: name 'Y' is not defined"
     ]
    },
    {
     "ename": "NameError",
     "evalue": "name 'Y' is not defined",
     "output_type": "error",
     "traceback": [
      "\u001b[0;31m---------------------------------------------------------------------------\u001b[0m",
      "\u001b[0;31mNameError\u001b[0m                                 Traceback (most recent call last)",
      "Cell \u001b[0;32mIn [14], line 15\u001b[0m, in \u001b[0;36molay_gerceklesti\u001b[0;34m(event, x, y, flags, param)\u001b[0m\n\u001b[1;32m     13\u001b[0m \u001b[38;5;28;01mdef\u001b[39;00m \u001b[38;5;21molay_gerceklesti\u001b[39m(event, x, y, flags, param):\n\u001b[1;32m     14\u001b[0m     eskiX \u001b[38;5;241m=\u001b[39m x\n\u001b[0;32m---> 15\u001b[0m     eskiY \u001b[38;5;241m=\u001b[39m \u001b[43mY\u001b[49m\n\u001b[1;32m     17\u001b[0m     yukBas \u001b[38;5;241m=\u001b[39m y\n\u001b[1;32m     18\u001b[0m     genBas \u001b[38;5;241m=\u001b[39m x\n",
      "\u001b[0;31mNameError\u001b[0m: name 'Y' is not defined"
     ]
    },
    {
     "ename": "NameError",
     "evalue": "name 'Y' is not defined",
     "output_type": "error",
     "traceback": [
      "\u001b[0;31m---------------------------------------------------------------------------\u001b[0m",
      "\u001b[0;31mNameError\u001b[0m                                 Traceback (most recent call last)",
      "Cell \u001b[0;32mIn [14], line 15\u001b[0m, in \u001b[0;36molay_gerceklesti\u001b[0;34m(event, x, y, flags, param)\u001b[0m\n\u001b[1;32m     13\u001b[0m \u001b[38;5;28;01mdef\u001b[39;00m \u001b[38;5;21molay_gerceklesti\u001b[39m(event, x, y, flags, param):\n\u001b[1;32m     14\u001b[0m     eskiX \u001b[38;5;241m=\u001b[39m x\n\u001b[0;32m---> 15\u001b[0m     eskiY \u001b[38;5;241m=\u001b[39m \u001b[43mY\u001b[49m\n\u001b[1;32m     17\u001b[0m     yukBas \u001b[38;5;241m=\u001b[39m y\n\u001b[1;32m     18\u001b[0m     genBas \u001b[38;5;241m=\u001b[39m x\n",
      "\u001b[0;31mNameError\u001b[0m: name 'Y' is not defined"
     ]
    },
    {
     "ename": "NameError",
     "evalue": "name 'Y' is not defined",
     "output_type": "error",
     "traceback": [
      "\u001b[0;31m---------------------------------------------------------------------------\u001b[0m",
      "\u001b[0;31mNameError\u001b[0m                                 Traceback (most recent call last)",
      "Cell \u001b[0;32mIn [14], line 15\u001b[0m, in \u001b[0;36molay_gerceklesti\u001b[0;34m(event, x, y, flags, param)\u001b[0m\n\u001b[1;32m     13\u001b[0m \u001b[38;5;28;01mdef\u001b[39;00m \u001b[38;5;21molay_gerceklesti\u001b[39m(event, x, y, flags, param):\n\u001b[1;32m     14\u001b[0m     eskiX \u001b[38;5;241m=\u001b[39m x\n\u001b[0;32m---> 15\u001b[0m     eskiY \u001b[38;5;241m=\u001b[39m \u001b[43mY\u001b[49m\n\u001b[1;32m     17\u001b[0m     yukBas \u001b[38;5;241m=\u001b[39m y\n\u001b[1;32m     18\u001b[0m     genBas \u001b[38;5;241m=\u001b[39m x\n",
      "\u001b[0;31mNameError\u001b[0m: name 'Y' is not defined"
     ]
    },
    {
     "ename": "NameError",
     "evalue": "name 'Y' is not defined",
     "output_type": "error",
     "traceback": [
      "\u001b[0;31m---------------------------------------------------------------------------\u001b[0m",
      "\u001b[0;31mNameError\u001b[0m                                 Traceback (most recent call last)",
      "Cell \u001b[0;32mIn [14], line 15\u001b[0m, in \u001b[0;36molay_gerceklesti\u001b[0;34m(event, x, y, flags, param)\u001b[0m\n\u001b[1;32m     13\u001b[0m \u001b[38;5;28;01mdef\u001b[39;00m \u001b[38;5;21molay_gerceklesti\u001b[39m(event, x, y, flags, param):\n\u001b[1;32m     14\u001b[0m     eskiX \u001b[38;5;241m=\u001b[39m x\n\u001b[0;32m---> 15\u001b[0m     eskiY \u001b[38;5;241m=\u001b[39m \u001b[43mY\u001b[49m\n\u001b[1;32m     17\u001b[0m     yukBas \u001b[38;5;241m=\u001b[39m y\n\u001b[1;32m     18\u001b[0m     genBas \u001b[38;5;241m=\u001b[39m x\n",
      "\u001b[0;31mNameError\u001b[0m: name 'Y' is not defined"
     ]
    },
    {
     "ename": "NameError",
     "evalue": "name 'Y' is not defined",
     "output_type": "error",
     "traceback": [
      "\u001b[0;31m---------------------------------------------------------------------------\u001b[0m",
      "\u001b[0;31mNameError\u001b[0m                                 Traceback (most recent call last)",
      "Cell \u001b[0;32mIn [14], line 15\u001b[0m, in \u001b[0;36molay_gerceklesti\u001b[0;34m(event, x, y, flags, param)\u001b[0m\n\u001b[1;32m     13\u001b[0m \u001b[38;5;28;01mdef\u001b[39;00m \u001b[38;5;21molay_gerceklesti\u001b[39m(event, x, y, flags, param):\n\u001b[1;32m     14\u001b[0m     eskiX \u001b[38;5;241m=\u001b[39m x\n\u001b[0;32m---> 15\u001b[0m     eskiY \u001b[38;5;241m=\u001b[39m \u001b[43mY\u001b[49m\n\u001b[1;32m     17\u001b[0m     yukBas \u001b[38;5;241m=\u001b[39m y\n\u001b[1;32m     18\u001b[0m     genBas \u001b[38;5;241m=\u001b[39m x\n",
      "\u001b[0;31mNameError\u001b[0m: name 'Y' is not defined"
     ]
    },
    {
     "ename": "NameError",
     "evalue": "name 'Y' is not defined",
     "output_type": "error",
     "traceback": [
      "\u001b[0;31m---------------------------------------------------------------------------\u001b[0m",
      "\u001b[0;31mNameError\u001b[0m                                 Traceback (most recent call last)",
      "Cell \u001b[0;32mIn [14], line 15\u001b[0m, in \u001b[0;36molay_gerceklesti\u001b[0;34m(event, x, y, flags, param)\u001b[0m\n\u001b[1;32m     13\u001b[0m \u001b[38;5;28;01mdef\u001b[39;00m \u001b[38;5;21molay_gerceklesti\u001b[39m(event, x, y, flags, param):\n\u001b[1;32m     14\u001b[0m     eskiX \u001b[38;5;241m=\u001b[39m x\n\u001b[0;32m---> 15\u001b[0m     eskiY \u001b[38;5;241m=\u001b[39m \u001b[43mY\u001b[49m\n\u001b[1;32m     17\u001b[0m     yukBas \u001b[38;5;241m=\u001b[39m y\n\u001b[1;32m     18\u001b[0m     genBas \u001b[38;5;241m=\u001b[39m x\n",
      "\u001b[0;31mNameError\u001b[0m: name 'Y' is not defined"
     ]
    },
    {
     "ename": "NameError",
     "evalue": "name 'Y' is not defined",
     "output_type": "error",
     "traceback": [
      "\u001b[0;31m---------------------------------------------------------------------------\u001b[0m",
      "\u001b[0;31mNameError\u001b[0m                                 Traceback (most recent call last)",
      "Cell \u001b[0;32mIn [14], line 15\u001b[0m, in \u001b[0;36molay_gerceklesti\u001b[0;34m(event, x, y, flags, param)\u001b[0m\n\u001b[1;32m     13\u001b[0m \u001b[38;5;28;01mdef\u001b[39;00m \u001b[38;5;21molay_gerceklesti\u001b[39m(event, x, y, flags, param):\n\u001b[1;32m     14\u001b[0m     eskiX \u001b[38;5;241m=\u001b[39m x\n\u001b[0;32m---> 15\u001b[0m     eskiY \u001b[38;5;241m=\u001b[39m \u001b[43mY\u001b[49m\n\u001b[1;32m     17\u001b[0m     yukBas \u001b[38;5;241m=\u001b[39m y\n\u001b[1;32m     18\u001b[0m     genBas \u001b[38;5;241m=\u001b[39m x\n",
      "\u001b[0;31mNameError\u001b[0m: name 'Y' is not defined"
     ]
    },
    {
     "ename": "NameError",
     "evalue": "name 'Y' is not defined",
     "output_type": "error",
     "traceback": [
      "\u001b[0;31m---------------------------------------------------------------------------\u001b[0m",
      "\u001b[0;31mNameError\u001b[0m                                 Traceback (most recent call last)",
      "Cell \u001b[0;32mIn [14], line 15\u001b[0m, in \u001b[0;36molay_gerceklesti\u001b[0;34m(event, x, y, flags, param)\u001b[0m\n\u001b[1;32m     13\u001b[0m \u001b[38;5;28;01mdef\u001b[39;00m \u001b[38;5;21molay_gerceklesti\u001b[39m(event, x, y, flags, param):\n\u001b[1;32m     14\u001b[0m     eskiX \u001b[38;5;241m=\u001b[39m x\n\u001b[0;32m---> 15\u001b[0m     eskiY \u001b[38;5;241m=\u001b[39m \u001b[43mY\u001b[49m\n\u001b[1;32m     17\u001b[0m     yukBas \u001b[38;5;241m=\u001b[39m y\n\u001b[1;32m     18\u001b[0m     genBas \u001b[38;5;241m=\u001b[39m x\n",
      "\u001b[0;31mNameError\u001b[0m: name 'Y' is not defined"
     ]
    },
    {
     "ename": "NameError",
     "evalue": "name 'Y' is not defined",
     "output_type": "error",
     "traceback": [
      "\u001b[0;31m---------------------------------------------------------------------------\u001b[0m",
      "\u001b[0;31mNameError\u001b[0m                                 Traceback (most recent call last)",
      "Cell \u001b[0;32mIn [14], line 15\u001b[0m, in \u001b[0;36molay_gerceklesti\u001b[0;34m(event, x, y, flags, param)\u001b[0m\n\u001b[1;32m     13\u001b[0m \u001b[38;5;28;01mdef\u001b[39;00m \u001b[38;5;21molay_gerceklesti\u001b[39m(event, x, y, flags, param):\n\u001b[1;32m     14\u001b[0m     eskiX \u001b[38;5;241m=\u001b[39m x\n\u001b[0;32m---> 15\u001b[0m     eskiY \u001b[38;5;241m=\u001b[39m \u001b[43mY\u001b[49m\n\u001b[1;32m     17\u001b[0m     yukBas \u001b[38;5;241m=\u001b[39m y\n\u001b[1;32m     18\u001b[0m     genBas \u001b[38;5;241m=\u001b[39m x\n",
      "\u001b[0;31mNameError\u001b[0m: name 'Y' is not defined"
     ]
    },
    {
     "ename": "NameError",
     "evalue": "name 'Y' is not defined",
     "output_type": "error",
     "traceback": [
      "\u001b[0;31m---------------------------------------------------------------------------\u001b[0m",
      "\u001b[0;31mNameError\u001b[0m                                 Traceback (most recent call last)",
      "Cell \u001b[0;32mIn [14], line 15\u001b[0m, in \u001b[0;36molay_gerceklesti\u001b[0;34m(event, x, y, flags, param)\u001b[0m\n\u001b[1;32m     13\u001b[0m \u001b[38;5;28;01mdef\u001b[39;00m \u001b[38;5;21molay_gerceklesti\u001b[39m(event, x, y, flags, param):\n\u001b[1;32m     14\u001b[0m     eskiX \u001b[38;5;241m=\u001b[39m x\n\u001b[0;32m---> 15\u001b[0m     eskiY \u001b[38;5;241m=\u001b[39m \u001b[43mY\u001b[49m\n\u001b[1;32m     17\u001b[0m     yukBas \u001b[38;5;241m=\u001b[39m y\n\u001b[1;32m     18\u001b[0m     genBas \u001b[38;5;241m=\u001b[39m x\n",
      "\u001b[0;31mNameError\u001b[0m: name 'Y' is not defined"
     ]
    },
    {
     "ename": "NameError",
     "evalue": "name 'Y' is not defined",
     "output_type": "error",
     "traceback": [
      "\u001b[0;31m---------------------------------------------------------------------------\u001b[0m",
      "\u001b[0;31mNameError\u001b[0m                                 Traceback (most recent call last)",
      "Cell \u001b[0;32mIn [14], line 15\u001b[0m, in \u001b[0;36molay_gerceklesti\u001b[0;34m(event, x, y, flags, param)\u001b[0m\n\u001b[1;32m     13\u001b[0m \u001b[38;5;28;01mdef\u001b[39;00m \u001b[38;5;21molay_gerceklesti\u001b[39m(event, x, y, flags, param):\n\u001b[1;32m     14\u001b[0m     eskiX \u001b[38;5;241m=\u001b[39m x\n\u001b[0;32m---> 15\u001b[0m     eskiY \u001b[38;5;241m=\u001b[39m \u001b[43mY\u001b[49m\n\u001b[1;32m     17\u001b[0m     yukBas \u001b[38;5;241m=\u001b[39m y\n\u001b[1;32m     18\u001b[0m     genBas \u001b[38;5;241m=\u001b[39m x\n",
      "\u001b[0;31mNameError\u001b[0m: name 'Y' is not defined"
     ]
    },
    {
     "ename": "NameError",
     "evalue": "name 'Y' is not defined",
     "output_type": "error",
     "traceback": [
      "\u001b[0;31m---------------------------------------------------------------------------\u001b[0m",
      "\u001b[0;31mNameError\u001b[0m                                 Traceback (most recent call last)",
      "Cell \u001b[0;32mIn [14], line 15\u001b[0m, in \u001b[0;36molay_gerceklesti\u001b[0;34m(event, x, y, flags, param)\u001b[0m\n\u001b[1;32m     13\u001b[0m \u001b[38;5;28;01mdef\u001b[39;00m \u001b[38;5;21molay_gerceklesti\u001b[39m(event, x, y, flags, param):\n\u001b[1;32m     14\u001b[0m     eskiX \u001b[38;5;241m=\u001b[39m x\n\u001b[0;32m---> 15\u001b[0m     eskiY \u001b[38;5;241m=\u001b[39m \u001b[43mY\u001b[49m\n\u001b[1;32m     17\u001b[0m     yukBas \u001b[38;5;241m=\u001b[39m y\n\u001b[1;32m     18\u001b[0m     genBas \u001b[38;5;241m=\u001b[39m x\n",
      "\u001b[0;31mNameError\u001b[0m: name 'Y' is not defined"
     ]
    },
    {
     "ename": "NameError",
     "evalue": "name 'Y' is not defined",
     "output_type": "error",
     "traceback": [
      "\u001b[0;31m---------------------------------------------------------------------------\u001b[0m",
      "\u001b[0;31mNameError\u001b[0m                                 Traceback (most recent call last)",
      "Cell \u001b[0;32mIn [14], line 15\u001b[0m, in \u001b[0;36molay_gerceklesti\u001b[0;34m(event, x, y, flags, param)\u001b[0m\n\u001b[1;32m     13\u001b[0m \u001b[38;5;28;01mdef\u001b[39;00m \u001b[38;5;21molay_gerceklesti\u001b[39m(event, x, y, flags, param):\n\u001b[1;32m     14\u001b[0m     eskiX \u001b[38;5;241m=\u001b[39m x\n\u001b[0;32m---> 15\u001b[0m     eskiY \u001b[38;5;241m=\u001b[39m \u001b[43mY\u001b[49m\n\u001b[1;32m     17\u001b[0m     yukBas \u001b[38;5;241m=\u001b[39m y\n\u001b[1;32m     18\u001b[0m     genBas \u001b[38;5;241m=\u001b[39m x\n",
      "\u001b[0;31mNameError\u001b[0m: name 'Y' is not defined"
     ]
    },
    {
     "ename": "NameError",
     "evalue": "name 'Y' is not defined",
     "output_type": "error",
     "traceback": [
      "\u001b[0;31m---------------------------------------------------------------------------\u001b[0m",
      "\u001b[0;31mNameError\u001b[0m                                 Traceback (most recent call last)",
      "Cell \u001b[0;32mIn [14], line 15\u001b[0m, in \u001b[0;36molay_gerceklesti\u001b[0;34m(event, x, y, flags, param)\u001b[0m\n\u001b[1;32m     13\u001b[0m \u001b[38;5;28;01mdef\u001b[39;00m \u001b[38;5;21molay_gerceklesti\u001b[39m(event, x, y, flags, param):\n\u001b[1;32m     14\u001b[0m     eskiX \u001b[38;5;241m=\u001b[39m x\n\u001b[0;32m---> 15\u001b[0m     eskiY \u001b[38;5;241m=\u001b[39m \u001b[43mY\u001b[49m\n\u001b[1;32m     17\u001b[0m     yukBas \u001b[38;5;241m=\u001b[39m y\n\u001b[1;32m     18\u001b[0m     genBas \u001b[38;5;241m=\u001b[39m x\n",
      "\u001b[0;31mNameError\u001b[0m: name 'Y' is not defined"
     ]
    },
    {
     "ename": "NameError",
     "evalue": "name 'Y' is not defined",
     "output_type": "error",
     "traceback": [
      "\u001b[0;31m---------------------------------------------------------------------------\u001b[0m",
      "\u001b[0;31mNameError\u001b[0m                                 Traceback (most recent call last)",
      "Cell \u001b[0;32mIn [14], line 15\u001b[0m, in \u001b[0;36molay_gerceklesti\u001b[0;34m(event, x, y, flags, param)\u001b[0m\n\u001b[1;32m     13\u001b[0m \u001b[38;5;28;01mdef\u001b[39;00m \u001b[38;5;21molay_gerceklesti\u001b[39m(event, x, y, flags, param):\n\u001b[1;32m     14\u001b[0m     eskiX \u001b[38;5;241m=\u001b[39m x\n\u001b[0;32m---> 15\u001b[0m     eskiY \u001b[38;5;241m=\u001b[39m \u001b[43mY\u001b[49m\n\u001b[1;32m     17\u001b[0m     yukBas \u001b[38;5;241m=\u001b[39m y\n\u001b[1;32m     18\u001b[0m     genBas \u001b[38;5;241m=\u001b[39m x\n",
      "\u001b[0;31mNameError\u001b[0m: name 'Y' is not defined"
     ]
    },
    {
     "ename": "NameError",
     "evalue": "name 'Y' is not defined",
     "output_type": "error",
     "traceback": [
      "\u001b[0;31m---------------------------------------------------------------------------\u001b[0m",
      "\u001b[0;31mNameError\u001b[0m                                 Traceback (most recent call last)",
      "Cell \u001b[0;32mIn [14], line 15\u001b[0m, in \u001b[0;36molay_gerceklesti\u001b[0;34m(event, x, y, flags, param)\u001b[0m\n\u001b[1;32m     13\u001b[0m \u001b[38;5;28;01mdef\u001b[39;00m \u001b[38;5;21molay_gerceklesti\u001b[39m(event, x, y, flags, param):\n\u001b[1;32m     14\u001b[0m     eskiX \u001b[38;5;241m=\u001b[39m x\n\u001b[0;32m---> 15\u001b[0m     eskiY \u001b[38;5;241m=\u001b[39m \u001b[43mY\u001b[49m\n\u001b[1;32m     17\u001b[0m     yukBas \u001b[38;5;241m=\u001b[39m y\n\u001b[1;32m     18\u001b[0m     genBas \u001b[38;5;241m=\u001b[39m x\n",
      "\u001b[0;31mNameError\u001b[0m: name 'Y' is not defined"
     ]
    },
    {
     "ename": "NameError",
     "evalue": "name 'Y' is not defined",
     "output_type": "error",
     "traceback": [
      "\u001b[0;31m---------------------------------------------------------------------------\u001b[0m",
      "\u001b[0;31mNameError\u001b[0m                                 Traceback (most recent call last)",
      "Cell \u001b[0;32mIn [14], line 15\u001b[0m, in \u001b[0;36molay_gerceklesti\u001b[0;34m(event, x, y, flags, param)\u001b[0m\n\u001b[1;32m     13\u001b[0m \u001b[38;5;28;01mdef\u001b[39;00m \u001b[38;5;21molay_gerceklesti\u001b[39m(event, x, y, flags, param):\n\u001b[1;32m     14\u001b[0m     eskiX \u001b[38;5;241m=\u001b[39m x\n\u001b[0;32m---> 15\u001b[0m     eskiY \u001b[38;5;241m=\u001b[39m \u001b[43mY\u001b[49m\n\u001b[1;32m     17\u001b[0m     yukBas \u001b[38;5;241m=\u001b[39m y\n\u001b[1;32m     18\u001b[0m     genBas \u001b[38;5;241m=\u001b[39m x\n",
      "\u001b[0;31mNameError\u001b[0m: name 'Y' is not defined"
     ]
    },
    {
     "ename": "NameError",
     "evalue": "name 'Y' is not defined",
     "output_type": "error",
     "traceback": [
      "\u001b[0;31m---------------------------------------------------------------------------\u001b[0m",
      "\u001b[0;31mNameError\u001b[0m                                 Traceback (most recent call last)",
      "Cell \u001b[0;32mIn [14], line 15\u001b[0m, in \u001b[0;36molay_gerceklesti\u001b[0;34m(event, x, y, flags, param)\u001b[0m\n\u001b[1;32m     13\u001b[0m \u001b[38;5;28;01mdef\u001b[39;00m \u001b[38;5;21molay_gerceklesti\u001b[39m(event, x, y, flags, param):\n\u001b[1;32m     14\u001b[0m     eskiX \u001b[38;5;241m=\u001b[39m x\n\u001b[0;32m---> 15\u001b[0m     eskiY \u001b[38;5;241m=\u001b[39m \u001b[43mY\u001b[49m\n\u001b[1;32m     17\u001b[0m     yukBas \u001b[38;5;241m=\u001b[39m y\n\u001b[1;32m     18\u001b[0m     genBas \u001b[38;5;241m=\u001b[39m x\n",
      "\u001b[0;31mNameError\u001b[0m: name 'Y' is not defined"
     ]
    },
    {
     "ename": "NameError",
     "evalue": "name 'Y' is not defined",
     "output_type": "error",
     "traceback": [
      "\u001b[0;31m---------------------------------------------------------------------------\u001b[0m",
      "\u001b[0;31mNameError\u001b[0m                                 Traceback (most recent call last)",
      "Cell \u001b[0;32mIn [14], line 15\u001b[0m, in \u001b[0;36molay_gerceklesti\u001b[0;34m(event, x, y, flags, param)\u001b[0m\n\u001b[1;32m     13\u001b[0m \u001b[38;5;28;01mdef\u001b[39;00m \u001b[38;5;21molay_gerceklesti\u001b[39m(event, x, y, flags, param):\n\u001b[1;32m     14\u001b[0m     eskiX \u001b[38;5;241m=\u001b[39m x\n\u001b[0;32m---> 15\u001b[0m     eskiY \u001b[38;5;241m=\u001b[39m \u001b[43mY\u001b[49m\n\u001b[1;32m     17\u001b[0m     yukBas \u001b[38;5;241m=\u001b[39m y\n\u001b[1;32m     18\u001b[0m     genBas \u001b[38;5;241m=\u001b[39m x\n",
      "\u001b[0;31mNameError\u001b[0m: name 'Y' is not defined"
     ]
    },
    {
     "ename": "NameError",
     "evalue": "name 'Y' is not defined",
     "output_type": "error",
     "traceback": [
      "\u001b[0;31m---------------------------------------------------------------------------\u001b[0m",
      "\u001b[0;31mNameError\u001b[0m                                 Traceback (most recent call last)",
      "Cell \u001b[0;32mIn [14], line 15\u001b[0m, in \u001b[0;36molay_gerceklesti\u001b[0;34m(event, x, y, flags, param)\u001b[0m\n\u001b[1;32m     13\u001b[0m \u001b[38;5;28;01mdef\u001b[39;00m \u001b[38;5;21molay_gerceklesti\u001b[39m(event, x, y, flags, param):\n\u001b[1;32m     14\u001b[0m     eskiX \u001b[38;5;241m=\u001b[39m x\n\u001b[0;32m---> 15\u001b[0m     eskiY \u001b[38;5;241m=\u001b[39m \u001b[43mY\u001b[49m\n\u001b[1;32m     17\u001b[0m     yukBas \u001b[38;5;241m=\u001b[39m y\n\u001b[1;32m     18\u001b[0m     genBas \u001b[38;5;241m=\u001b[39m x\n",
      "\u001b[0;31mNameError\u001b[0m: name 'Y' is not defined"
     ]
    },
    {
     "ename": "NameError",
     "evalue": "name 'Y' is not defined",
     "output_type": "error",
     "traceback": [
      "\u001b[0;31m---------------------------------------------------------------------------\u001b[0m",
      "\u001b[0;31mNameError\u001b[0m                                 Traceback (most recent call last)",
      "Cell \u001b[0;32mIn [14], line 15\u001b[0m, in \u001b[0;36molay_gerceklesti\u001b[0;34m(event, x, y, flags, param)\u001b[0m\n\u001b[1;32m     13\u001b[0m \u001b[38;5;28;01mdef\u001b[39;00m \u001b[38;5;21molay_gerceklesti\u001b[39m(event, x, y, flags, param):\n\u001b[1;32m     14\u001b[0m     eskiX \u001b[38;5;241m=\u001b[39m x\n\u001b[0;32m---> 15\u001b[0m     eskiY \u001b[38;5;241m=\u001b[39m \u001b[43mY\u001b[49m\n\u001b[1;32m     17\u001b[0m     yukBas \u001b[38;5;241m=\u001b[39m y\n\u001b[1;32m     18\u001b[0m     genBas \u001b[38;5;241m=\u001b[39m x\n",
      "\u001b[0;31mNameError\u001b[0m: name 'Y' is not defined"
     ]
    },
    {
     "ename": "NameError",
     "evalue": "name 'Y' is not defined",
     "output_type": "error",
     "traceback": [
      "\u001b[0;31m---------------------------------------------------------------------------\u001b[0m",
      "\u001b[0;31mNameError\u001b[0m                                 Traceback (most recent call last)",
      "Cell \u001b[0;32mIn [14], line 15\u001b[0m, in \u001b[0;36molay_gerceklesti\u001b[0;34m(event, x, y, flags, param)\u001b[0m\n\u001b[1;32m     13\u001b[0m \u001b[38;5;28;01mdef\u001b[39;00m \u001b[38;5;21molay_gerceklesti\u001b[39m(event, x, y, flags, param):\n\u001b[1;32m     14\u001b[0m     eskiX \u001b[38;5;241m=\u001b[39m x\n\u001b[0;32m---> 15\u001b[0m     eskiY \u001b[38;5;241m=\u001b[39m \u001b[43mY\u001b[49m\n\u001b[1;32m     17\u001b[0m     yukBas \u001b[38;5;241m=\u001b[39m y\n\u001b[1;32m     18\u001b[0m     genBas \u001b[38;5;241m=\u001b[39m x\n",
      "\u001b[0;31mNameError\u001b[0m: name 'Y' is not defined"
     ]
    },
    {
     "ename": "NameError",
     "evalue": "name 'Y' is not defined",
     "output_type": "error",
     "traceback": [
      "\u001b[0;31m---------------------------------------------------------------------------\u001b[0m",
      "\u001b[0;31mNameError\u001b[0m                                 Traceback (most recent call last)",
      "Cell \u001b[0;32mIn [14], line 15\u001b[0m, in \u001b[0;36molay_gerceklesti\u001b[0;34m(event, x, y, flags, param)\u001b[0m\n\u001b[1;32m     13\u001b[0m \u001b[38;5;28;01mdef\u001b[39;00m \u001b[38;5;21molay_gerceklesti\u001b[39m(event, x, y, flags, param):\n\u001b[1;32m     14\u001b[0m     eskiX \u001b[38;5;241m=\u001b[39m x\n\u001b[0;32m---> 15\u001b[0m     eskiY \u001b[38;5;241m=\u001b[39m \u001b[43mY\u001b[49m\n\u001b[1;32m     17\u001b[0m     yukBas \u001b[38;5;241m=\u001b[39m y\n\u001b[1;32m     18\u001b[0m     genBas \u001b[38;5;241m=\u001b[39m x\n",
      "\u001b[0;31mNameError\u001b[0m: name 'Y' is not defined"
     ]
    },
    {
     "ename": "NameError",
     "evalue": "name 'Y' is not defined",
     "output_type": "error",
     "traceback": [
      "\u001b[0;31m---------------------------------------------------------------------------\u001b[0m",
      "\u001b[0;31mNameError\u001b[0m                                 Traceback (most recent call last)",
      "Cell \u001b[0;32mIn [14], line 15\u001b[0m, in \u001b[0;36molay_gerceklesti\u001b[0;34m(event, x, y, flags, param)\u001b[0m\n\u001b[1;32m     13\u001b[0m \u001b[38;5;28;01mdef\u001b[39;00m \u001b[38;5;21molay_gerceklesti\u001b[39m(event, x, y, flags, param):\n\u001b[1;32m     14\u001b[0m     eskiX \u001b[38;5;241m=\u001b[39m x\n\u001b[0;32m---> 15\u001b[0m     eskiY \u001b[38;5;241m=\u001b[39m \u001b[43mY\u001b[49m\n\u001b[1;32m     17\u001b[0m     yukBas \u001b[38;5;241m=\u001b[39m y\n\u001b[1;32m     18\u001b[0m     genBas \u001b[38;5;241m=\u001b[39m x\n",
      "\u001b[0;31mNameError\u001b[0m: name 'Y' is not defined"
     ]
    },
    {
     "ename": "NameError",
     "evalue": "name 'Y' is not defined",
     "output_type": "error",
     "traceback": [
      "\u001b[0;31m---------------------------------------------------------------------------\u001b[0m",
      "\u001b[0;31mNameError\u001b[0m                                 Traceback (most recent call last)",
      "Cell \u001b[0;32mIn [14], line 15\u001b[0m, in \u001b[0;36molay_gerceklesti\u001b[0;34m(event, x, y, flags, param)\u001b[0m\n\u001b[1;32m     13\u001b[0m \u001b[38;5;28;01mdef\u001b[39;00m \u001b[38;5;21molay_gerceklesti\u001b[39m(event, x, y, flags, param):\n\u001b[1;32m     14\u001b[0m     eskiX \u001b[38;5;241m=\u001b[39m x\n\u001b[0;32m---> 15\u001b[0m     eskiY \u001b[38;5;241m=\u001b[39m \u001b[43mY\u001b[49m\n\u001b[1;32m     17\u001b[0m     yukBas \u001b[38;5;241m=\u001b[39m y\n\u001b[1;32m     18\u001b[0m     genBas \u001b[38;5;241m=\u001b[39m x\n",
      "\u001b[0;31mNameError\u001b[0m: name 'Y' is not defined"
     ]
    },
    {
     "ename": "NameError",
     "evalue": "name 'Y' is not defined",
     "output_type": "error",
     "traceback": [
      "\u001b[0;31m---------------------------------------------------------------------------\u001b[0m",
      "\u001b[0;31mNameError\u001b[0m                                 Traceback (most recent call last)",
      "Cell \u001b[0;32mIn [14], line 15\u001b[0m, in \u001b[0;36molay_gerceklesti\u001b[0;34m(event, x, y, flags, param)\u001b[0m\n\u001b[1;32m     13\u001b[0m \u001b[38;5;28;01mdef\u001b[39;00m \u001b[38;5;21molay_gerceklesti\u001b[39m(event, x, y, flags, param):\n\u001b[1;32m     14\u001b[0m     eskiX \u001b[38;5;241m=\u001b[39m x\n\u001b[0;32m---> 15\u001b[0m     eskiY \u001b[38;5;241m=\u001b[39m \u001b[43mY\u001b[49m\n\u001b[1;32m     17\u001b[0m     yukBas \u001b[38;5;241m=\u001b[39m y\n\u001b[1;32m     18\u001b[0m     genBas \u001b[38;5;241m=\u001b[39m x\n",
      "\u001b[0;31mNameError\u001b[0m: name 'Y' is not defined"
     ]
    },
    {
     "ename": "NameError",
     "evalue": "name 'Y' is not defined",
     "output_type": "error",
     "traceback": [
      "\u001b[0;31m---------------------------------------------------------------------------\u001b[0m",
      "\u001b[0;31mNameError\u001b[0m                                 Traceback (most recent call last)",
      "Cell \u001b[0;32mIn [14], line 15\u001b[0m, in \u001b[0;36molay_gerceklesti\u001b[0;34m(event, x, y, flags, param)\u001b[0m\n\u001b[1;32m     13\u001b[0m \u001b[38;5;28;01mdef\u001b[39;00m \u001b[38;5;21molay_gerceklesti\u001b[39m(event, x, y, flags, param):\n\u001b[1;32m     14\u001b[0m     eskiX \u001b[38;5;241m=\u001b[39m x\n\u001b[0;32m---> 15\u001b[0m     eskiY \u001b[38;5;241m=\u001b[39m \u001b[43mY\u001b[49m\n\u001b[1;32m     17\u001b[0m     yukBas \u001b[38;5;241m=\u001b[39m y\n\u001b[1;32m     18\u001b[0m     genBas \u001b[38;5;241m=\u001b[39m x\n",
      "\u001b[0;31mNameError\u001b[0m: name 'Y' is not defined"
     ]
    },
    {
     "ename": "NameError",
     "evalue": "name 'Y' is not defined",
     "output_type": "error",
     "traceback": [
      "\u001b[0;31m---------------------------------------------------------------------------\u001b[0m",
      "\u001b[0;31mNameError\u001b[0m                                 Traceback (most recent call last)",
      "Cell \u001b[0;32mIn [14], line 15\u001b[0m, in \u001b[0;36molay_gerceklesti\u001b[0;34m(event, x, y, flags, param)\u001b[0m\n\u001b[1;32m     13\u001b[0m \u001b[38;5;28;01mdef\u001b[39;00m \u001b[38;5;21molay_gerceklesti\u001b[39m(event, x, y, flags, param):\n\u001b[1;32m     14\u001b[0m     eskiX \u001b[38;5;241m=\u001b[39m x\n\u001b[0;32m---> 15\u001b[0m     eskiY \u001b[38;5;241m=\u001b[39m \u001b[43mY\u001b[49m\n\u001b[1;32m     17\u001b[0m     yukBas \u001b[38;5;241m=\u001b[39m y\n\u001b[1;32m     18\u001b[0m     genBas \u001b[38;5;241m=\u001b[39m x\n",
      "\u001b[0;31mNameError\u001b[0m: name 'Y' is not defined"
     ]
    },
    {
     "ename": "NameError",
     "evalue": "name 'Y' is not defined",
     "output_type": "error",
     "traceback": [
      "\u001b[0;31m---------------------------------------------------------------------------\u001b[0m",
      "\u001b[0;31mNameError\u001b[0m                                 Traceback (most recent call last)",
      "Cell \u001b[0;32mIn [14], line 15\u001b[0m, in \u001b[0;36molay_gerceklesti\u001b[0;34m(event, x, y, flags, param)\u001b[0m\n\u001b[1;32m     13\u001b[0m \u001b[38;5;28;01mdef\u001b[39;00m \u001b[38;5;21molay_gerceklesti\u001b[39m(event, x, y, flags, param):\n\u001b[1;32m     14\u001b[0m     eskiX \u001b[38;5;241m=\u001b[39m x\n\u001b[0;32m---> 15\u001b[0m     eskiY \u001b[38;5;241m=\u001b[39m \u001b[43mY\u001b[49m\n\u001b[1;32m     17\u001b[0m     yukBas \u001b[38;5;241m=\u001b[39m y\n\u001b[1;32m     18\u001b[0m     genBas \u001b[38;5;241m=\u001b[39m x\n",
      "\u001b[0;31mNameError\u001b[0m: name 'Y' is not defined"
     ]
    },
    {
     "ename": "NameError",
     "evalue": "name 'Y' is not defined",
     "output_type": "error",
     "traceback": [
      "\u001b[0;31m---------------------------------------------------------------------------\u001b[0m",
      "\u001b[0;31mNameError\u001b[0m                                 Traceback (most recent call last)",
      "Cell \u001b[0;32mIn [14], line 15\u001b[0m, in \u001b[0;36molay_gerceklesti\u001b[0;34m(event, x, y, flags, param)\u001b[0m\n\u001b[1;32m     13\u001b[0m \u001b[38;5;28;01mdef\u001b[39;00m \u001b[38;5;21molay_gerceklesti\u001b[39m(event, x, y, flags, param):\n\u001b[1;32m     14\u001b[0m     eskiX \u001b[38;5;241m=\u001b[39m x\n\u001b[0;32m---> 15\u001b[0m     eskiY \u001b[38;5;241m=\u001b[39m \u001b[43mY\u001b[49m\n\u001b[1;32m     17\u001b[0m     yukBas \u001b[38;5;241m=\u001b[39m y\n\u001b[1;32m     18\u001b[0m     genBas \u001b[38;5;241m=\u001b[39m x\n",
      "\u001b[0;31mNameError\u001b[0m: name 'Y' is not defined"
     ]
    },
    {
     "ename": "NameError",
     "evalue": "name 'Y' is not defined",
     "output_type": "error",
     "traceback": [
      "\u001b[0;31m---------------------------------------------------------------------------\u001b[0m",
      "\u001b[0;31mNameError\u001b[0m                                 Traceback (most recent call last)",
      "Cell \u001b[0;32mIn [14], line 15\u001b[0m, in \u001b[0;36molay_gerceklesti\u001b[0;34m(event, x, y, flags, param)\u001b[0m\n\u001b[1;32m     13\u001b[0m \u001b[38;5;28;01mdef\u001b[39;00m \u001b[38;5;21molay_gerceklesti\u001b[39m(event, x, y, flags, param):\n\u001b[1;32m     14\u001b[0m     eskiX \u001b[38;5;241m=\u001b[39m x\n\u001b[0;32m---> 15\u001b[0m     eskiY \u001b[38;5;241m=\u001b[39m \u001b[43mY\u001b[49m\n\u001b[1;32m     17\u001b[0m     yukBas \u001b[38;5;241m=\u001b[39m y\n\u001b[1;32m     18\u001b[0m     genBas \u001b[38;5;241m=\u001b[39m x\n",
      "\u001b[0;31mNameError\u001b[0m: name 'Y' is not defined"
     ]
    },
    {
     "ename": "NameError",
     "evalue": "name 'Y' is not defined",
     "output_type": "error",
     "traceback": [
      "\u001b[0;31m---------------------------------------------------------------------------\u001b[0m",
      "\u001b[0;31mNameError\u001b[0m                                 Traceback (most recent call last)",
      "Cell \u001b[0;32mIn [14], line 15\u001b[0m, in \u001b[0;36molay_gerceklesti\u001b[0;34m(event, x, y, flags, param)\u001b[0m\n\u001b[1;32m     13\u001b[0m \u001b[38;5;28;01mdef\u001b[39;00m \u001b[38;5;21molay_gerceklesti\u001b[39m(event, x, y, flags, param):\n\u001b[1;32m     14\u001b[0m     eskiX \u001b[38;5;241m=\u001b[39m x\n\u001b[0;32m---> 15\u001b[0m     eskiY \u001b[38;5;241m=\u001b[39m \u001b[43mY\u001b[49m\n\u001b[1;32m     17\u001b[0m     yukBas \u001b[38;5;241m=\u001b[39m y\n\u001b[1;32m     18\u001b[0m     genBas \u001b[38;5;241m=\u001b[39m x\n",
      "\u001b[0;31mNameError\u001b[0m: name 'Y' is not defined"
     ]
    },
    {
     "ename": "NameError",
     "evalue": "name 'Y' is not defined",
     "output_type": "error",
     "traceback": [
      "\u001b[0;31m---------------------------------------------------------------------------\u001b[0m",
      "\u001b[0;31mNameError\u001b[0m                                 Traceback (most recent call last)",
      "Cell \u001b[0;32mIn [14], line 15\u001b[0m, in \u001b[0;36molay_gerceklesti\u001b[0;34m(event, x, y, flags, param)\u001b[0m\n\u001b[1;32m     13\u001b[0m \u001b[38;5;28;01mdef\u001b[39;00m \u001b[38;5;21molay_gerceklesti\u001b[39m(event, x, y, flags, param):\n\u001b[1;32m     14\u001b[0m     eskiX \u001b[38;5;241m=\u001b[39m x\n\u001b[0;32m---> 15\u001b[0m     eskiY \u001b[38;5;241m=\u001b[39m \u001b[43mY\u001b[49m\n\u001b[1;32m     17\u001b[0m     yukBas \u001b[38;5;241m=\u001b[39m y\n\u001b[1;32m     18\u001b[0m     genBas \u001b[38;5;241m=\u001b[39m x\n",
      "\u001b[0;31mNameError\u001b[0m: name 'Y' is not defined"
     ]
    },
    {
     "ename": "NameError",
     "evalue": "name 'Y' is not defined",
     "output_type": "error",
     "traceback": [
      "\u001b[0;31m---------------------------------------------------------------------------\u001b[0m",
      "\u001b[0;31mNameError\u001b[0m                                 Traceback (most recent call last)",
      "Cell \u001b[0;32mIn [14], line 15\u001b[0m, in \u001b[0;36molay_gerceklesti\u001b[0;34m(event, x, y, flags, param)\u001b[0m\n\u001b[1;32m     13\u001b[0m \u001b[38;5;28;01mdef\u001b[39;00m \u001b[38;5;21molay_gerceklesti\u001b[39m(event, x, y, flags, param):\n\u001b[1;32m     14\u001b[0m     eskiX \u001b[38;5;241m=\u001b[39m x\n\u001b[0;32m---> 15\u001b[0m     eskiY \u001b[38;5;241m=\u001b[39m \u001b[43mY\u001b[49m\n\u001b[1;32m     17\u001b[0m     yukBas \u001b[38;5;241m=\u001b[39m y\n\u001b[1;32m     18\u001b[0m     genBas \u001b[38;5;241m=\u001b[39m x\n",
      "\u001b[0;31mNameError\u001b[0m: name 'Y' is not defined"
     ]
    },
    {
     "ename": "NameError",
     "evalue": "name 'Y' is not defined",
     "output_type": "error",
     "traceback": [
      "\u001b[0;31m---------------------------------------------------------------------------\u001b[0m",
      "\u001b[0;31mNameError\u001b[0m                                 Traceback (most recent call last)",
      "Cell \u001b[0;32mIn [14], line 15\u001b[0m, in \u001b[0;36molay_gerceklesti\u001b[0;34m(event, x, y, flags, param)\u001b[0m\n\u001b[1;32m     13\u001b[0m \u001b[38;5;28;01mdef\u001b[39;00m \u001b[38;5;21molay_gerceklesti\u001b[39m(event, x, y, flags, param):\n\u001b[1;32m     14\u001b[0m     eskiX \u001b[38;5;241m=\u001b[39m x\n\u001b[0;32m---> 15\u001b[0m     eskiY \u001b[38;5;241m=\u001b[39m \u001b[43mY\u001b[49m\n\u001b[1;32m     17\u001b[0m     yukBas \u001b[38;5;241m=\u001b[39m y\n\u001b[1;32m     18\u001b[0m     genBas \u001b[38;5;241m=\u001b[39m x\n",
      "\u001b[0;31mNameError\u001b[0m: name 'Y' is not defined"
     ]
    },
    {
     "ename": "NameError",
     "evalue": "name 'Y' is not defined",
     "output_type": "error",
     "traceback": [
      "\u001b[0;31m---------------------------------------------------------------------------\u001b[0m",
      "\u001b[0;31mNameError\u001b[0m                                 Traceback (most recent call last)",
      "Cell \u001b[0;32mIn [14], line 15\u001b[0m, in \u001b[0;36molay_gerceklesti\u001b[0;34m(event, x, y, flags, param)\u001b[0m\n\u001b[1;32m     13\u001b[0m \u001b[38;5;28;01mdef\u001b[39;00m \u001b[38;5;21molay_gerceklesti\u001b[39m(event, x, y, flags, param):\n\u001b[1;32m     14\u001b[0m     eskiX \u001b[38;5;241m=\u001b[39m x\n\u001b[0;32m---> 15\u001b[0m     eskiY \u001b[38;5;241m=\u001b[39m \u001b[43mY\u001b[49m\n\u001b[1;32m     17\u001b[0m     yukBas \u001b[38;5;241m=\u001b[39m y\n\u001b[1;32m     18\u001b[0m     genBas \u001b[38;5;241m=\u001b[39m x\n",
      "\u001b[0;31mNameError\u001b[0m: name 'Y' is not defined"
     ]
    },
    {
     "ename": "NameError",
     "evalue": "name 'Y' is not defined",
     "output_type": "error",
     "traceback": [
      "\u001b[0;31m---------------------------------------------------------------------------\u001b[0m",
      "\u001b[0;31mNameError\u001b[0m                                 Traceback (most recent call last)",
      "Cell \u001b[0;32mIn [14], line 15\u001b[0m, in \u001b[0;36molay_gerceklesti\u001b[0;34m(event, x, y, flags, param)\u001b[0m\n\u001b[1;32m     13\u001b[0m \u001b[38;5;28;01mdef\u001b[39;00m \u001b[38;5;21molay_gerceklesti\u001b[39m(event, x, y, flags, param):\n\u001b[1;32m     14\u001b[0m     eskiX \u001b[38;5;241m=\u001b[39m x\n\u001b[0;32m---> 15\u001b[0m     eskiY \u001b[38;5;241m=\u001b[39m \u001b[43mY\u001b[49m\n\u001b[1;32m     17\u001b[0m     yukBas \u001b[38;5;241m=\u001b[39m y\n\u001b[1;32m     18\u001b[0m     genBas \u001b[38;5;241m=\u001b[39m x\n",
      "\u001b[0;31mNameError\u001b[0m: name 'Y' is not defined"
     ]
    },
    {
     "ename": "NameError",
     "evalue": "name 'Y' is not defined",
     "output_type": "error",
     "traceback": [
      "\u001b[0;31m---------------------------------------------------------------------------\u001b[0m",
      "\u001b[0;31mNameError\u001b[0m                                 Traceback (most recent call last)",
      "Cell \u001b[0;32mIn [14], line 15\u001b[0m, in \u001b[0;36molay_gerceklesti\u001b[0;34m(event, x, y, flags, param)\u001b[0m\n\u001b[1;32m     13\u001b[0m \u001b[38;5;28;01mdef\u001b[39;00m \u001b[38;5;21molay_gerceklesti\u001b[39m(event, x, y, flags, param):\n\u001b[1;32m     14\u001b[0m     eskiX \u001b[38;5;241m=\u001b[39m x\n\u001b[0;32m---> 15\u001b[0m     eskiY \u001b[38;5;241m=\u001b[39m \u001b[43mY\u001b[49m\n\u001b[1;32m     17\u001b[0m     yukBas \u001b[38;5;241m=\u001b[39m y\n\u001b[1;32m     18\u001b[0m     genBas \u001b[38;5;241m=\u001b[39m x\n",
      "\u001b[0;31mNameError\u001b[0m: name 'Y' is not defined"
     ]
    },
    {
     "ename": "NameError",
     "evalue": "name 'Y' is not defined",
     "output_type": "error",
     "traceback": [
      "\u001b[0;31m---------------------------------------------------------------------------\u001b[0m",
      "\u001b[0;31mNameError\u001b[0m                                 Traceback (most recent call last)",
      "Cell \u001b[0;32mIn [14], line 15\u001b[0m, in \u001b[0;36molay_gerceklesti\u001b[0;34m(event, x, y, flags, param)\u001b[0m\n\u001b[1;32m     13\u001b[0m \u001b[38;5;28;01mdef\u001b[39;00m \u001b[38;5;21molay_gerceklesti\u001b[39m(event, x, y, flags, param):\n\u001b[1;32m     14\u001b[0m     eskiX \u001b[38;5;241m=\u001b[39m x\n\u001b[0;32m---> 15\u001b[0m     eskiY \u001b[38;5;241m=\u001b[39m \u001b[43mY\u001b[49m\n\u001b[1;32m     17\u001b[0m     yukBas \u001b[38;5;241m=\u001b[39m y\n\u001b[1;32m     18\u001b[0m     genBas \u001b[38;5;241m=\u001b[39m x\n",
      "\u001b[0;31mNameError\u001b[0m: name 'Y' is not defined"
     ]
    },
    {
     "ename": "NameError",
     "evalue": "name 'Y' is not defined",
     "output_type": "error",
     "traceback": [
      "\u001b[0;31m---------------------------------------------------------------------------\u001b[0m",
      "\u001b[0;31mNameError\u001b[0m                                 Traceback (most recent call last)",
      "Cell \u001b[0;32mIn [14], line 15\u001b[0m, in \u001b[0;36molay_gerceklesti\u001b[0;34m(event, x, y, flags, param)\u001b[0m\n\u001b[1;32m     13\u001b[0m \u001b[38;5;28;01mdef\u001b[39;00m \u001b[38;5;21molay_gerceklesti\u001b[39m(event, x, y, flags, param):\n\u001b[1;32m     14\u001b[0m     eskiX \u001b[38;5;241m=\u001b[39m x\n\u001b[0;32m---> 15\u001b[0m     eskiY \u001b[38;5;241m=\u001b[39m \u001b[43mY\u001b[49m\n\u001b[1;32m     17\u001b[0m     yukBas \u001b[38;5;241m=\u001b[39m y\n\u001b[1;32m     18\u001b[0m     genBas \u001b[38;5;241m=\u001b[39m x\n",
      "\u001b[0;31mNameError\u001b[0m: name 'Y' is not defined"
     ]
    },
    {
     "ename": "NameError",
     "evalue": "name 'Y' is not defined",
     "output_type": "error",
     "traceback": [
      "\u001b[0;31m---------------------------------------------------------------------------\u001b[0m",
      "\u001b[0;31mNameError\u001b[0m                                 Traceback (most recent call last)",
      "Cell \u001b[0;32mIn [14], line 15\u001b[0m, in \u001b[0;36molay_gerceklesti\u001b[0;34m(event, x, y, flags, param)\u001b[0m\n\u001b[1;32m     13\u001b[0m \u001b[38;5;28;01mdef\u001b[39;00m \u001b[38;5;21molay_gerceklesti\u001b[39m(event, x, y, flags, param):\n\u001b[1;32m     14\u001b[0m     eskiX \u001b[38;5;241m=\u001b[39m x\n\u001b[0;32m---> 15\u001b[0m     eskiY \u001b[38;5;241m=\u001b[39m \u001b[43mY\u001b[49m\n\u001b[1;32m     17\u001b[0m     yukBas \u001b[38;5;241m=\u001b[39m y\n\u001b[1;32m     18\u001b[0m     genBas \u001b[38;5;241m=\u001b[39m x\n",
      "\u001b[0;31mNameError\u001b[0m: name 'Y' is not defined"
     ]
    },
    {
     "ename": "NameError",
     "evalue": "name 'Y' is not defined",
     "output_type": "error",
     "traceback": [
      "\u001b[0;31m---------------------------------------------------------------------------\u001b[0m",
      "\u001b[0;31mNameError\u001b[0m                                 Traceback (most recent call last)",
      "Cell \u001b[0;32mIn [14], line 15\u001b[0m, in \u001b[0;36molay_gerceklesti\u001b[0;34m(event, x, y, flags, param)\u001b[0m\n\u001b[1;32m     13\u001b[0m \u001b[38;5;28;01mdef\u001b[39;00m \u001b[38;5;21molay_gerceklesti\u001b[39m(event, x, y, flags, param):\n\u001b[1;32m     14\u001b[0m     eskiX \u001b[38;5;241m=\u001b[39m x\n\u001b[0;32m---> 15\u001b[0m     eskiY \u001b[38;5;241m=\u001b[39m \u001b[43mY\u001b[49m\n\u001b[1;32m     17\u001b[0m     yukBas \u001b[38;5;241m=\u001b[39m y\n\u001b[1;32m     18\u001b[0m     genBas \u001b[38;5;241m=\u001b[39m x\n",
      "\u001b[0;31mNameError\u001b[0m: name 'Y' is not defined"
     ]
    },
    {
     "ename": "NameError",
     "evalue": "name 'Y' is not defined",
     "output_type": "error",
     "traceback": [
      "\u001b[0;31m---------------------------------------------------------------------------\u001b[0m",
      "\u001b[0;31mNameError\u001b[0m                                 Traceback (most recent call last)",
      "Cell \u001b[0;32mIn [14], line 15\u001b[0m, in \u001b[0;36molay_gerceklesti\u001b[0;34m(event, x, y, flags, param)\u001b[0m\n\u001b[1;32m     13\u001b[0m \u001b[38;5;28;01mdef\u001b[39;00m \u001b[38;5;21molay_gerceklesti\u001b[39m(event, x, y, flags, param):\n\u001b[1;32m     14\u001b[0m     eskiX \u001b[38;5;241m=\u001b[39m x\n\u001b[0;32m---> 15\u001b[0m     eskiY \u001b[38;5;241m=\u001b[39m \u001b[43mY\u001b[49m\n\u001b[1;32m     17\u001b[0m     yukBas \u001b[38;5;241m=\u001b[39m y\n\u001b[1;32m     18\u001b[0m     genBas \u001b[38;5;241m=\u001b[39m x\n",
      "\u001b[0;31mNameError\u001b[0m: name 'Y' is not defined"
     ]
    },
    {
     "ename": "NameError",
     "evalue": "name 'Y' is not defined",
     "output_type": "error",
     "traceback": [
      "\u001b[0;31m---------------------------------------------------------------------------\u001b[0m",
      "\u001b[0;31mNameError\u001b[0m                                 Traceback (most recent call last)",
      "Cell \u001b[0;32mIn [14], line 15\u001b[0m, in \u001b[0;36molay_gerceklesti\u001b[0;34m(event, x, y, flags, param)\u001b[0m\n\u001b[1;32m     13\u001b[0m \u001b[38;5;28;01mdef\u001b[39;00m \u001b[38;5;21molay_gerceklesti\u001b[39m(event, x, y, flags, param):\n\u001b[1;32m     14\u001b[0m     eskiX \u001b[38;5;241m=\u001b[39m x\n\u001b[0;32m---> 15\u001b[0m     eskiY \u001b[38;5;241m=\u001b[39m \u001b[43mY\u001b[49m\n\u001b[1;32m     17\u001b[0m     yukBas \u001b[38;5;241m=\u001b[39m y\n\u001b[1;32m     18\u001b[0m     genBas \u001b[38;5;241m=\u001b[39m x\n",
      "\u001b[0;31mNameError\u001b[0m: name 'Y' is not defined"
     ]
    },
    {
     "ename": "NameError",
     "evalue": "name 'Y' is not defined",
     "output_type": "error",
     "traceback": [
      "\u001b[0;31m---------------------------------------------------------------------------\u001b[0m",
      "\u001b[0;31mNameError\u001b[0m                                 Traceback (most recent call last)",
      "Cell \u001b[0;32mIn [14], line 15\u001b[0m, in \u001b[0;36molay_gerceklesti\u001b[0;34m(event, x, y, flags, param)\u001b[0m\n\u001b[1;32m     13\u001b[0m \u001b[38;5;28;01mdef\u001b[39;00m \u001b[38;5;21molay_gerceklesti\u001b[39m(event, x, y, flags, param):\n\u001b[1;32m     14\u001b[0m     eskiX \u001b[38;5;241m=\u001b[39m x\n\u001b[0;32m---> 15\u001b[0m     eskiY \u001b[38;5;241m=\u001b[39m \u001b[43mY\u001b[49m\n\u001b[1;32m     17\u001b[0m     yukBas \u001b[38;5;241m=\u001b[39m y\n\u001b[1;32m     18\u001b[0m     genBas \u001b[38;5;241m=\u001b[39m x\n",
      "\u001b[0;31mNameError\u001b[0m: name 'Y' is not defined"
     ]
    },
    {
     "ename": "NameError",
     "evalue": "name 'Y' is not defined",
     "output_type": "error",
     "traceback": [
      "\u001b[0;31m---------------------------------------------------------------------------\u001b[0m",
      "\u001b[0;31mNameError\u001b[0m                                 Traceback (most recent call last)",
      "Cell \u001b[0;32mIn [14], line 15\u001b[0m, in \u001b[0;36molay_gerceklesti\u001b[0;34m(event, x, y, flags, param)\u001b[0m\n\u001b[1;32m     13\u001b[0m \u001b[38;5;28;01mdef\u001b[39;00m \u001b[38;5;21molay_gerceklesti\u001b[39m(event, x, y, flags, param):\n\u001b[1;32m     14\u001b[0m     eskiX \u001b[38;5;241m=\u001b[39m x\n\u001b[0;32m---> 15\u001b[0m     eskiY \u001b[38;5;241m=\u001b[39m \u001b[43mY\u001b[49m\n\u001b[1;32m     17\u001b[0m     yukBas \u001b[38;5;241m=\u001b[39m y\n\u001b[1;32m     18\u001b[0m     genBas \u001b[38;5;241m=\u001b[39m x\n",
      "\u001b[0;31mNameError\u001b[0m: name 'Y' is not defined"
     ]
    },
    {
     "ename": "NameError",
     "evalue": "name 'Y' is not defined",
     "output_type": "error",
     "traceback": [
      "\u001b[0;31m---------------------------------------------------------------------------\u001b[0m",
      "\u001b[0;31mNameError\u001b[0m                                 Traceback (most recent call last)",
      "Cell \u001b[0;32mIn [14], line 15\u001b[0m, in \u001b[0;36molay_gerceklesti\u001b[0;34m(event, x, y, flags, param)\u001b[0m\n\u001b[1;32m     13\u001b[0m \u001b[38;5;28;01mdef\u001b[39;00m \u001b[38;5;21molay_gerceklesti\u001b[39m(event, x, y, flags, param):\n\u001b[1;32m     14\u001b[0m     eskiX \u001b[38;5;241m=\u001b[39m x\n\u001b[0;32m---> 15\u001b[0m     eskiY \u001b[38;5;241m=\u001b[39m \u001b[43mY\u001b[49m\n\u001b[1;32m     17\u001b[0m     yukBas \u001b[38;5;241m=\u001b[39m y\n\u001b[1;32m     18\u001b[0m     genBas \u001b[38;5;241m=\u001b[39m x\n",
      "\u001b[0;31mNameError\u001b[0m: name 'Y' is not defined"
     ]
    },
    {
     "ename": "NameError",
     "evalue": "name 'Y' is not defined",
     "output_type": "error",
     "traceback": [
      "\u001b[0;31m---------------------------------------------------------------------------\u001b[0m",
      "\u001b[0;31mNameError\u001b[0m                                 Traceback (most recent call last)",
      "Cell \u001b[0;32mIn [14], line 15\u001b[0m, in \u001b[0;36molay_gerceklesti\u001b[0;34m(event, x, y, flags, param)\u001b[0m\n\u001b[1;32m     13\u001b[0m \u001b[38;5;28;01mdef\u001b[39;00m \u001b[38;5;21molay_gerceklesti\u001b[39m(event, x, y, flags, param):\n\u001b[1;32m     14\u001b[0m     eskiX \u001b[38;5;241m=\u001b[39m x\n\u001b[0;32m---> 15\u001b[0m     eskiY \u001b[38;5;241m=\u001b[39m \u001b[43mY\u001b[49m\n\u001b[1;32m     17\u001b[0m     yukBas \u001b[38;5;241m=\u001b[39m y\n\u001b[1;32m     18\u001b[0m     genBas \u001b[38;5;241m=\u001b[39m x\n",
      "\u001b[0;31mNameError\u001b[0m: name 'Y' is not defined"
     ]
    },
    {
     "ename": "NameError",
     "evalue": "name 'Y' is not defined",
     "output_type": "error",
     "traceback": [
      "\u001b[0;31m---------------------------------------------------------------------------\u001b[0m",
      "\u001b[0;31mNameError\u001b[0m                                 Traceback (most recent call last)",
      "Cell \u001b[0;32mIn [14], line 15\u001b[0m, in \u001b[0;36molay_gerceklesti\u001b[0;34m(event, x, y, flags, param)\u001b[0m\n\u001b[1;32m     13\u001b[0m \u001b[38;5;28;01mdef\u001b[39;00m \u001b[38;5;21molay_gerceklesti\u001b[39m(event, x, y, flags, param):\n\u001b[1;32m     14\u001b[0m     eskiX \u001b[38;5;241m=\u001b[39m x\n\u001b[0;32m---> 15\u001b[0m     eskiY \u001b[38;5;241m=\u001b[39m \u001b[43mY\u001b[49m\n\u001b[1;32m     17\u001b[0m     yukBas \u001b[38;5;241m=\u001b[39m y\n\u001b[1;32m     18\u001b[0m     genBas \u001b[38;5;241m=\u001b[39m x\n",
      "\u001b[0;31mNameError\u001b[0m: name 'Y' is not defined"
     ]
    },
    {
     "ename": "NameError",
     "evalue": "name 'Y' is not defined",
     "output_type": "error",
     "traceback": [
      "\u001b[0;31m---------------------------------------------------------------------------\u001b[0m",
      "\u001b[0;31mNameError\u001b[0m                                 Traceback (most recent call last)",
      "Cell \u001b[0;32mIn [14], line 15\u001b[0m, in \u001b[0;36molay_gerceklesti\u001b[0;34m(event, x, y, flags, param)\u001b[0m\n\u001b[1;32m     13\u001b[0m \u001b[38;5;28;01mdef\u001b[39;00m \u001b[38;5;21molay_gerceklesti\u001b[39m(event, x, y, flags, param):\n\u001b[1;32m     14\u001b[0m     eskiX \u001b[38;5;241m=\u001b[39m x\n\u001b[0;32m---> 15\u001b[0m     eskiY \u001b[38;5;241m=\u001b[39m \u001b[43mY\u001b[49m\n\u001b[1;32m     17\u001b[0m     yukBas \u001b[38;5;241m=\u001b[39m y\n\u001b[1;32m     18\u001b[0m     genBas \u001b[38;5;241m=\u001b[39m x\n",
      "\u001b[0;31mNameError\u001b[0m: name 'Y' is not defined"
     ]
    },
    {
     "ename": "NameError",
     "evalue": "name 'Y' is not defined",
     "output_type": "error",
     "traceback": [
      "\u001b[0;31m---------------------------------------------------------------------------\u001b[0m",
      "\u001b[0;31mNameError\u001b[0m                                 Traceback (most recent call last)",
      "Cell \u001b[0;32mIn [14], line 15\u001b[0m, in \u001b[0;36molay_gerceklesti\u001b[0;34m(event, x, y, flags, param)\u001b[0m\n\u001b[1;32m     13\u001b[0m \u001b[38;5;28;01mdef\u001b[39;00m \u001b[38;5;21molay_gerceklesti\u001b[39m(event, x, y, flags, param):\n\u001b[1;32m     14\u001b[0m     eskiX \u001b[38;5;241m=\u001b[39m x\n\u001b[0;32m---> 15\u001b[0m     eskiY \u001b[38;5;241m=\u001b[39m \u001b[43mY\u001b[49m\n\u001b[1;32m     17\u001b[0m     yukBas \u001b[38;5;241m=\u001b[39m y\n\u001b[1;32m     18\u001b[0m     genBas \u001b[38;5;241m=\u001b[39m x\n",
      "\u001b[0;31mNameError\u001b[0m: name 'Y' is not defined"
     ]
    },
    {
     "ename": "NameError",
     "evalue": "name 'Y' is not defined",
     "output_type": "error",
     "traceback": [
      "\u001b[0;31m---------------------------------------------------------------------------\u001b[0m",
      "\u001b[0;31mNameError\u001b[0m                                 Traceback (most recent call last)",
      "Cell \u001b[0;32mIn [14], line 15\u001b[0m, in \u001b[0;36molay_gerceklesti\u001b[0;34m(event, x, y, flags, param)\u001b[0m\n\u001b[1;32m     13\u001b[0m \u001b[38;5;28;01mdef\u001b[39;00m \u001b[38;5;21molay_gerceklesti\u001b[39m(event, x, y, flags, param):\n\u001b[1;32m     14\u001b[0m     eskiX \u001b[38;5;241m=\u001b[39m x\n\u001b[0;32m---> 15\u001b[0m     eskiY \u001b[38;5;241m=\u001b[39m \u001b[43mY\u001b[49m\n\u001b[1;32m     17\u001b[0m     yukBas \u001b[38;5;241m=\u001b[39m y\n\u001b[1;32m     18\u001b[0m     genBas \u001b[38;5;241m=\u001b[39m x\n",
      "\u001b[0;31mNameError\u001b[0m: name 'Y' is not defined"
     ]
    },
    {
     "ename": "NameError",
     "evalue": "name 'Y' is not defined",
     "output_type": "error",
     "traceback": [
      "\u001b[0;31m---------------------------------------------------------------------------\u001b[0m",
      "\u001b[0;31mNameError\u001b[0m                                 Traceback (most recent call last)",
      "Cell \u001b[0;32mIn [14], line 15\u001b[0m, in \u001b[0;36molay_gerceklesti\u001b[0;34m(event, x, y, flags, param)\u001b[0m\n\u001b[1;32m     13\u001b[0m \u001b[38;5;28;01mdef\u001b[39;00m \u001b[38;5;21molay_gerceklesti\u001b[39m(event, x, y, flags, param):\n\u001b[1;32m     14\u001b[0m     eskiX \u001b[38;5;241m=\u001b[39m x\n\u001b[0;32m---> 15\u001b[0m     eskiY \u001b[38;5;241m=\u001b[39m \u001b[43mY\u001b[49m\n\u001b[1;32m     17\u001b[0m     yukBas \u001b[38;5;241m=\u001b[39m y\n\u001b[1;32m     18\u001b[0m     genBas \u001b[38;5;241m=\u001b[39m x\n",
      "\u001b[0;31mNameError\u001b[0m: name 'Y' is not defined"
     ]
    },
    {
     "ename": "NameError",
     "evalue": "name 'Y' is not defined",
     "output_type": "error",
     "traceback": [
      "\u001b[0;31m---------------------------------------------------------------------------\u001b[0m",
      "\u001b[0;31mNameError\u001b[0m                                 Traceback (most recent call last)",
      "Cell \u001b[0;32mIn [14], line 15\u001b[0m, in \u001b[0;36molay_gerceklesti\u001b[0;34m(event, x, y, flags, param)\u001b[0m\n\u001b[1;32m     13\u001b[0m \u001b[38;5;28;01mdef\u001b[39;00m \u001b[38;5;21molay_gerceklesti\u001b[39m(event, x, y, flags, param):\n\u001b[1;32m     14\u001b[0m     eskiX \u001b[38;5;241m=\u001b[39m x\n\u001b[0;32m---> 15\u001b[0m     eskiY \u001b[38;5;241m=\u001b[39m \u001b[43mY\u001b[49m\n\u001b[1;32m     17\u001b[0m     yukBas \u001b[38;5;241m=\u001b[39m y\n\u001b[1;32m     18\u001b[0m     genBas \u001b[38;5;241m=\u001b[39m x\n",
      "\u001b[0;31mNameError\u001b[0m: name 'Y' is not defined"
     ]
    },
    {
     "ename": "NameError",
     "evalue": "name 'Y' is not defined",
     "output_type": "error",
     "traceback": [
      "\u001b[0;31m---------------------------------------------------------------------------\u001b[0m",
      "\u001b[0;31mNameError\u001b[0m                                 Traceback (most recent call last)",
      "Cell \u001b[0;32mIn [14], line 15\u001b[0m, in \u001b[0;36molay_gerceklesti\u001b[0;34m(event, x, y, flags, param)\u001b[0m\n\u001b[1;32m     13\u001b[0m \u001b[38;5;28;01mdef\u001b[39;00m \u001b[38;5;21molay_gerceklesti\u001b[39m(event, x, y, flags, param):\n\u001b[1;32m     14\u001b[0m     eskiX \u001b[38;5;241m=\u001b[39m x\n\u001b[0;32m---> 15\u001b[0m     eskiY \u001b[38;5;241m=\u001b[39m \u001b[43mY\u001b[49m\n\u001b[1;32m     17\u001b[0m     yukBas \u001b[38;5;241m=\u001b[39m y\n\u001b[1;32m     18\u001b[0m     genBas \u001b[38;5;241m=\u001b[39m x\n",
      "\u001b[0;31mNameError\u001b[0m: name 'Y' is not defined"
     ]
    },
    {
     "ename": "NameError",
     "evalue": "name 'Y' is not defined",
     "output_type": "error",
     "traceback": [
      "\u001b[0;31m---------------------------------------------------------------------------\u001b[0m",
      "\u001b[0;31mNameError\u001b[0m                                 Traceback (most recent call last)",
      "Cell \u001b[0;32mIn [14], line 15\u001b[0m, in \u001b[0;36molay_gerceklesti\u001b[0;34m(event, x, y, flags, param)\u001b[0m\n\u001b[1;32m     13\u001b[0m \u001b[38;5;28;01mdef\u001b[39;00m \u001b[38;5;21molay_gerceklesti\u001b[39m(event, x, y, flags, param):\n\u001b[1;32m     14\u001b[0m     eskiX \u001b[38;5;241m=\u001b[39m x\n\u001b[0;32m---> 15\u001b[0m     eskiY \u001b[38;5;241m=\u001b[39m \u001b[43mY\u001b[49m\n\u001b[1;32m     17\u001b[0m     yukBas \u001b[38;5;241m=\u001b[39m y\n\u001b[1;32m     18\u001b[0m     genBas \u001b[38;5;241m=\u001b[39m x\n",
      "\u001b[0;31mNameError\u001b[0m: name 'Y' is not defined"
     ]
    },
    {
     "ename": "NameError",
     "evalue": "name 'Y' is not defined",
     "output_type": "error",
     "traceback": [
      "\u001b[0;31m---------------------------------------------------------------------------\u001b[0m",
      "\u001b[0;31mNameError\u001b[0m                                 Traceback (most recent call last)",
      "Cell \u001b[0;32mIn [14], line 15\u001b[0m, in \u001b[0;36molay_gerceklesti\u001b[0;34m(event, x, y, flags, param)\u001b[0m\n\u001b[1;32m     13\u001b[0m \u001b[38;5;28;01mdef\u001b[39;00m \u001b[38;5;21molay_gerceklesti\u001b[39m(event, x, y, flags, param):\n\u001b[1;32m     14\u001b[0m     eskiX \u001b[38;5;241m=\u001b[39m x\n\u001b[0;32m---> 15\u001b[0m     eskiY \u001b[38;5;241m=\u001b[39m \u001b[43mY\u001b[49m\n\u001b[1;32m     17\u001b[0m     yukBas \u001b[38;5;241m=\u001b[39m y\n\u001b[1;32m     18\u001b[0m     genBas \u001b[38;5;241m=\u001b[39m x\n",
      "\u001b[0;31mNameError\u001b[0m: name 'Y' is not defined"
     ]
    },
    {
     "ename": "NameError",
     "evalue": "name 'Y' is not defined",
     "output_type": "error",
     "traceback": [
      "\u001b[0;31m---------------------------------------------------------------------------\u001b[0m",
      "\u001b[0;31mNameError\u001b[0m                                 Traceback (most recent call last)",
      "Cell \u001b[0;32mIn [14], line 15\u001b[0m, in \u001b[0;36molay_gerceklesti\u001b[0;34m(event, x, y, flags, param)\u001b[0m\n\u001b[1;32m     13\u001b[0m \u001b[38;5;28;01mdef\u001b[39;00m \u001b[38;5;21molay_gerceklesti\u001b[39m(event, x, y, flags, param):\n\u001b[1;32m     14\u001b[0m     eskiX \u001b[38;5;241m=\u001b[39m x\n\u001b[0;32m---> 15\u001b[0m     eskiY \u001b[38;5;241m=\u001b[39m \u001b[43mY\u001b[49m\n\u001b[1;32m     17\u001b[0m     yukBas \u001b[38;5;241m=\u001b[39m y\n\u001b[1;32m     18\u001b[0m     genBas \u001b[38;5;241m=\u001b[39m x\n",
      "\u001b[0;31mNameError\u001b[0m: name 'Y' is not defined"
     ]
    },
    {
     "ename": "NameError",
     "evalue": "name 'Y' is not defined",
     "output_type": "error",
     "traceback": [
      "\u001b[0;31m---------------------------------------------------------------------------\u001b[0m",
      "\u001b[0;31mNameError\u001b[0m                                 Traceback (most recent call last)",
      "Cell \u001b[0;32mIn [14], line 15\u001b[0m, in \u001b[0;36molay_gerceklesti\u001b[0;34m(event, x, y, flags, param)\u001b[0m\n\u001b[1;32m     13\u001b[0m \u001b[38;5;28;01mdef\u001b[39;00m \u001b[38;5;21molay_gerceklesti\u001b[39m(event, x, y, flags, param):\n\u001b[1;32m     14\u001b[0m     eskiX \u001b[38;5;241m=\u001b[39m x\n\u001b[0;32m---> 15\u001b[0m     eskiY \u001b[38;5;241m=\u001b[39m \u001b[43mY\u001b[49m\n\u001b[1;32m     17\u001b[0m     yukBas \u001b[38;5;241m=\u001b[39m y\n\u001b[1;32m     18\u001b[0m     genBas \u001b[38;5;241m=\u001b[39m x\n",
      "\u001b[0;31mNameError\u001b[0m: name 'Y' is not defined"
     ]
    },
    {
     "ename": "NameError",
     "evalue": "name 'Y' is not defined",
     "output_type": "error",
     "traceback": [
      "\u001b[0;31m---------------------------------------------------------------------------\u001b[0m",
      "\u001b[0;31mNameError\u001b[0m                                 Traceback (most recent call last)",
      "Cell \u001b[0;32mIn [14], line 15\u001b[0m, in \u001b[0;36molay_gerceklesti\u001b[0;34m(event, x, y, flags, param)\u001b[0m\n\u001b[1;32m     13\u001b[0m \u001b[38;5;28;01mdef\u001b[39;00m \u001b[38;5;21molay_gerceklesti\u001b[39m(event, x, y, flags, param):\n\u001b[1;32m     14\u001b[0m     eskiX \u001b[38;5;241m=\u001b[39m x\n\u001b[0;32m---> 15\u001b[0m     eskiY \u001b[38;5;241m=\u001b[39m \u001b[43mY\u001b[49m\n\u001b[1;32m     17\u001b[0m     yukBas \u001b[38;5;241m=\u001b[39m y\n\u001b[1;32m     18\u001b[0m     genBas \u001b[38;5;241m=\u001b[39m x\n",
      "\u001b[0;31mNameError\u001b[0m: name 'Y' is not defined"
     ]
    },
    {
     "ename": "NameError",
     "evalue": "name 'Y' is not defined",
     "output_type": "error",
     "traceback": [
      "\u001b[0;31m---------------------------------------------------------------------------\u001b[0m",
      "\u001b[0;31mNameError\u001b[0m                                 Traceback (most recent call last)",
      "Cell \u001b[0;32mIn [14], line 15\u001b[0m, in \u001b[0;36molay_gerceklesti\u001b[0;34m(event, x, y, flags, param)\u001b[0m\n\u001b[1;32m     13\u001b[0m \u001b[38;5;28;01mdef\u001b[39;00m \u001b[38;5;21molay_gerceklesti\u001b[39m(event, x, y, flags, param):\n\u001b[1;32m     14\u001b[0m     eskiX \u001b[38;5;241m=\u001b[39m x\n\u001b[0;32m---> 15\u001b[0m     eskiY \u001b[38;5;241m=\u001b[39m \u001b[43mY\u001b[49m\n\u001b[1;32m     17\u001b[0m     yukBas \u001b[38;5;241m=\u001b[39m y\n\u001b[1;32m     18\u001b[0m     genBas \u001b[38;5;241m=\u001b[39m x\n",
      "\u001b[0;31mNameError\u001b[0m: name 'Y' is not defined"
     ]
    },
    {
     "ename": "NameError",
     "evalue": "name 'Y' is not defined",
     "output_type": "error",
     "traceback": [
      "\u001b[0;31m---------------------------------------------------------------------------\u001b[0m",
      "\u001b[0;31mNameError\u001b[0m                                 Traceback (most recent call last)",
      "Cell \u001b[0;32mIn [14], line 15\u001b[0m, in \u001b[0;36molay_gerceklesti\u001b[0;34m(event, x, y, flags, param)\u001b[0m\n\u001b[1;32m     13\u001b[0m \u001b[38;5;28;01mdef\u001b[39;00m \u001b[38;5;21molay_gerceklesti\u001b[39m(event, x, y, flags, param):\n\u001b[1;32m     14\u001b[0m     eskiX \u001b[38;5;241m=\u001b[39m x\n\u001b[0;32m---> 15\u001b[0m     eskiY \u001b[38;5;241m=\u001b[39m \u001b[43mY\u001b[49m\n\u001b[1;32m     17\u001b[0m     yukBas \u001b[38;5;241m=\u001b[39m y\n\u001b[1;32m     18\u001b[0m     genBas \u001b[38;5;241m=\u001b[39m x\n",
      "\u001b[0;31mNameError\u001b[0m: name 'Y' is not defined"
     ]
    },
    {
     "ename": "NameError",
     "evalue": "name 'Y' is not defined",
     "output_type": "error",
     "traceback": [
      "\u001b[0;31m---------------------------------------------------------------------------\u001b[0m",
      "\u001b[0;31mNameError\u001b[0m                                 Traceback (most recent call last)",
      "Cell \u001b[0;32mIn [14], line 15\u001b[0m, in \u001b[0;36molay_gerceklesti\u001b[0;34m(event, x, y, flags, param)\u001b[0m\n\u001b[1;32m     13\u001b[0m \u001b[38;5;28;01mdef\u001b[39;00m \u001b[38;5;21molay_gerceklesti\u001b[39m(event, x, y, flags, param):\n\u001b[1;32m     14\u001b[0m     eskiX \u001b[38;5;241m=\u001b[39m x\n\u001b[0;32m---> 15\u001b[0m     eskiY \u001b[38;5;241m=\u001b[39m \u001b[43mY\u001b[49m\n\u001b[1;32m     17\u001b[0m     yukBas \u001b[38;5;241m=\u001b[39m y\n\u001b[1;32m     18\u001b[0m     genBas \u001b[38;5;241m=\u001b[39m x\n",
      "\u001b[0;31mNameError\u001b[0m: name 'Y' is not defined"
     ]
    },
    {
     "ename": "NameError",
     "evalue": "name 'Y' is not defined",
     "output_type": "error",
     "traceback": [
      "\u001b[0;31m---------------------------------------------------------------------------\u001b[0m",
      "\u001b[0;31mNameError\u001b[0m                                 Traceback (most recent call last)",
      "Cell \u001b[0;32mIn [14], line 15\u001b[0m, in \u001b[0;36molay_gerceklesti\u001b[0;34m(event, x, y, flags, param)\u001b[0m\n\u001b[1;32m     13\u001b[0m \u001b[38;5;28;01mdef\u001b[39;00m \u001b[38;5;21molay_gerceklesti\u001b[39m(event, x, y, flags, param):\n\u001b[1;32m     14\u001b[0m     eskiX \u001b[38;5;241m=\u001b[39m x\n\u001b[0;32m---> 15\u001b[0m     eskiY \u001b[38;5;241m=\u001b[39m \u001b[43mY\u001b[49m\n\u001b[1;32m     17\u001b[0m     yukBas \u001b[38;5;241m=\u001b[39m y\n\u001b[1;32m     18\u001b[0m     genBas \u001b[38;5;241m=\u001b[39m x\n",
      "\u001b[0;31mNameError\u001b[0m: name 'Y' is not defined"
     ]
    },
    {
     "ename": "NameError",
     "evalue": "name 'Y' is not defined",
     "output_type": "error",
     "traceback": [
      "\u001b[0;31m---------------------------------------------------------------------------\u001b[0m",
      "\u001b[0;31mNameError\u001b[0m                                 Traceback (most recent call last)",
      "Cell \u001b[0;32mIn [14], line 15\u001b[0m, in \u001b[0;36molay_gerceklesti\u001b[0;34m(event, x, y, flags, param)\u001b[0m\n\u001b[1;32m     13\u001b[0m \u001b[38;5;28;01mdef\u001b[39;00m \u001b[38;5;21molay_gerceklesti\u001b[39m(event, x, y, flags, param):\n\u001b[1;32m     14\u001b[0m     eskiX \u001b[38;5;241m=\u001b[39m x\n\u001b[0;32m---> 15\u001b[0m     eskiY \u001b[38;5;241m=\u001b[39m \u001b[43mY\u001b[49m\n\u001b[1;32m     17\u001b[0m     yukBas \u001b[38;5;241m=\u001b[39m y\n\u001b[1;32m     18\u001b[0m     genBas \u001b[38;5;241m=\u001b[39m x\n",
      "\u001b[0;31mNameError\u001b[0m: name 'Y' is not defined"
     ]
    },
    {
     "ename": "NameError",
     "evalue": "name 'Y' is not defined",
     "output_type": "error",
     "traceback": [
      "\u001b[0;31m---------------------------------------------------------------------------\u001b[0m",
      "\u001b[0;31mNameError\u001b[0m                                 Traceback (most recent call last)",
      "Cell \u001b[0;32mIn [14], line 15\u001b[0m, in \u001b[0;36molay_gerceklesti\u001b[0;34m(event, x, y, flags, param)\u001b[0m\n\u001b[1;32m     13\u001b[0m \u001b[38;5;28;01mdef\u001b[39;00m \u001b[38;5;21molay_gerceklesti\u001b[39m(event, x, y, flags, param):\n\u001b[1;32m     14\u001b[0m     eskiX \u001b[38;5;241m=\u001b[39m x\n\u001b[0;32m---> 15\u001b[0m     eskiY \u001b[38;5;241m=\u001b[39m \u001b[43mY\u001b[49m\n\u001b[1;32m     17\u001b[0m     yukBas \u001b[38;5;241m=\u001b[39m y\n\u001b[1;32m     18\u001b[0m     genBas \u001b[38;5;241m=\u001b[39m x\n",
      "\u001b[0;31mNameError\u001b[0m: name 'Y' is not defined"
     ]
    },
    {
     "ename": "NameError",
     "evalue": "name 'Y' is not defined",
     "output_type": "error",
     "traceback": [
      "\u001b[0;31m---------------------------------------------------------------------------\u001b[0m",
      "\u001b[0;31mNameError\u001b[0m                                 Traceback (most recent call last)",
      "Cell \u001b[0;32mIn [14], line 15\u001b[0m, in \u001b[0;36molay_gerceklesti\u001b[0;34m(event, x, y, flags, param)\u001b[0m\n\u001b[1;32m     13\u001b[0m \u001b[38;5;28;01mdef\u001b[39;00m \u001b[38;5;21molay_gerceklesti\u001b[39m(event, x, y, flags, param):\n\u001b[1;32m     14\u001b[0m     eskiX \u001b[38;5;241m=\u001b[39m x\n\u001b[0;32m---> 15\u001b[0m     eskiY \u001b[38;5;241m=\u001b[39m \u001b[43mY\u001b[49m\n\u001b[1;32m     17\u001b[0m     yukBas \u001b[38;5;241m=\u001b[39m y\n\u001b[1;32m     18\u001b[0m     genBas \u001b[38;5;241m=\u001b[39m x\n",
      "\u001b[0;31mNameError\u001b[0m: name 'Y' is not defined"
     ]
    },
    {
     "ename": "NameError",
     "evalue": "name 'Y' is not defined",
     "output_type": "error",
     "traceback": [
      "\u001b[0;31m---------------------------------------------------------------------------\u001b[0m",
      "\u001b[0;31mNameError\u001b[0m                                 Traceback (most recent call last)",
      "Cell \u001b[0;32mIn [14], line 15\u001b[0m, in \u001b[0;36molay_gerceklesti\u001b[0;34m(event, x, y, flags, param)\u001b[0m\n\u001b[1;32m     13\u001b[0m \u001b[38;5;28;01mdef\u001b[39;00m \u001b[38;5;21molay_gerceklesti\u001b[39m(event, x, y, flags, param):\n\u001b[1;32m     14\u001b[0m     eskiX \u001b[38;5;241m=\u001b[39m x\n\u001b[0;32m---> 15\u001b[0m     eskiY \u001b[38;5;241m=\u001b[39m \u001b[43mY\u001b[49m\n\u001b[1;32m     17\u001b[0m     yukBas \u001b[38;5;241m=\u001b[39m y\n\u001b[1;32m     18\u001b[0m     genBas \u001b[38;5;241m=\u001b[39m x\n",
      "\u001b[0;31mNameError\u001b[0m: name 'Y' is not defined"
     ]
    },
    {
     "ename": "NameError",
     "evalue": "name 'Y' is not defined",
     "output_type": "error",
     "traceback": [
      "\u001b[0;31m---------------------------------------------------------------------------\u001b[0m",
      "\u001b[0;31mNameError\u001b[0m                                 Traceback (most recent call last)",
      "Cell \u001b[0;32mIn [14], line 15\u001b[0m, in \u001b[0;36molay_gerceklesti\u001b[0;34m(event, x, y, flags, param)\u001b[0m\n\u001b[1;32m     13\u001b[0m \u001b[38;5;28;01mdef\u001b[39;00m \u001b[38;5;21molay_gerceklesti\u001b[39m(event, x, y, flags, param):\n\u001b[1;32m     14\u001b[0m     eskiX \u001b[38;5;241m=\u001b[39m x\n\u001b[0;32m---> 15\u001b[0m     eskiY \u001b[38;5;241m=\u001b[39m \u001b[43mY\u001b[49m\n\u001b[1;32m     17\u001b[0m     yukBas \u001b[38;5;241m=\u001b[39m y\n\u001b[1;32m     18\u001b[0m     genBas \u001b[38;5;241m=\u001b[39m x\n",
      "\u001b[0;31mNameError\u001b[0m: name 'Y' is not defined"
     ]
    },
    {
     "ename": "NameError",
     "evalue": "name 'Y' is not defined",
     "output_type": "error",
     "traceback": [
      "\u001b[0;31m---------------------------------------------------------------------------\u001b[0m",
      "\u001b[0;31mNameError\u001b[0m                                 Traceback (most recent call last)",
      "Cell \u001b[0;32mIn [14], line 15\u001b[0m, in \u001b[0;36molay_gerceklesti\u001b[0;34m(event, x, y, flags, param)\u001b[0m\n\u001b[1;32m     13\u001b[0m \u001b[38;5;28;01mdef\u001b[39;00m \u001b[38;5;21molay_gerceklesti\u001b[39m(event, x, y, flags, param):\n\u001b[1;32m     14\u001b[0m     eskiX \u001b[38;5;241m=\u001b[39m x\n\u001b[0;32m---> 15\u001b[0m     eskiY \u001b[38;5;241m=\u001b[39m \u001b[43mY\u001b[49m\n\u001b[1;32m     17\u001b[0m     yukBas \u001b[38;5;241m=\u001b[39m y\n\u001b[1;32m     18\u001b[0m     genBas \u001b[38;5;241m=\u001b[39m x\n",
      "\u001b[0;31mNameError\u001b[0m: name 'Y' is not defined"
     ]
    },
    {
     "ename": "NameError",
     "evalue": "name 'Y' is not defined",
     "output_type": "error",
     "traceback": [
      "\u001b[0;31m---------------------------------------------------------------------------\u001b[0m",
      "\u001b[0;31mNameError\u001b[0m                                 Traceback (most recent call last)",
      "Cell \u001b[0;32mIn [14], line 15\u001b[0m, in \u001b[0;36molay_gerceklesti\u001b[0;34m(event, x, y, flags, param)\u001b[0m\n\u001b[1;32m     13\u001b[0m \u001b[38;5;28;01mdef\u001b[39;00m \u001b[38;5;21molay_gerceklesti\u001b[39m(event, x, y, flags, param):\n\u001b[1;32m     14\u001b[0m     eskiX \u001b[38;5;241m=\u001b[39m x\n\u001b[0;32m---> 15\u001b[0m     eskiY \u001b[38;5;241m=\u001b[39m \u001b[43mY\u001b[49m\n\u001b[1;32m     17\u001b[0m     yukBas \u001b[38;5;241m=\u001b[39m y\n\u001b[1;32m     18\u001b[0m     genBas \u001b[38;5;241m=\u001b[39m x\n",
      "\u001b[0;31mNameError\u001b[0m: name 'Y' is not defined"
     ]
    },
    {
     "ename": "NameError",
     "evalue": "name 'Y' is not defined",
     "output_type": "error",
     "traceback": [
      "\u001b[0;31m---------------------------------------------------------------------------\u001b[0m",
      "\u001b[0;31mNameError\u001b[0m                                 Traceback (most recent call last)",
      "Cell \u001b[0;32mIn [14], line 15\u001b[0m, in \u001b[0;36molay_gerceklesti\u001b[0;34m(event, x, y, flags, param)\u001b[0m\n\u001b[1;32m     13\u001b[0m \u001b[38;5;28;01mdef\u001b[39;00m \u001b[38;5;21molay_gerceklesti\u001b[39m(event, x, y, flags, param):\n\u001b[1;32m     14\u001b[0m     eskiX \u001b[38;5;241m=\u001b[39m x\n\u001b[0;32m---> 15\u001b[0m     eskiY \u001b[38;5;241m=\u001b[39m \u001b[43mY\u001b[49m\n\u001b[1;32m     17\u001b[0m     yukBas \u001b[38;5;241m=\u001b[39m y\n\u001b[1;32m     18\u001b[0m     genBas \u001b[38;5;241m=\u001b[39m x\n",
      "\u001b[0;31mNameError\u001b[0m: name 'Y' is not defined"
     ]
    },
    {
     "ename": "NameError",
     "evalue": "name 'Y' is not defined",
     "output_type": "error",
     "traceback": [
      "\u001b[0;31m---------------------------------------------------------------------------\u001b[0m",
      "\u001b[0;31mNameError\u001b[0m                                 Traceback (most recent call last)",
      "Cell \u001b[0;32mIn [14], line 15\u001b[0m, in \u001b[0;36molay_gerceklesti\u001b[0;34m(event, x, y, flags, param)\u001b[0m\n\u001b[1;32m     13\u001b[0m \u001b[38;5;28;01mdef\u001b[39;00m \u001b[38;5;21molay_gerceklesti\u001b[39m(event, x, y, flags, param):\n\u001b[1;32m     14\u001b[0m     eskiX \u001b[38;5;241m=\u001b[39m x\n\u001b[0;32m---> 15\u001b[0m     eskiY \u001b[38;5;241m=\u001b[39m \u001b[43mY\u001b[49m\n\u001b[1;32m     17\u001b[0m     yukBas \u001b[38;5;241m=\u001b[39m y\n\u001b[1;32m     18\u001b[0m     genBas \u001b[38;5;241m=\u001b[39m x\n",
      "\u001b[0;31mNameError\u001b[0m: name 'Y' is not defined"
     ]
    },
    {
     "ename": "NameError",
     "evalue": "name 'Y' is not defined",
     "output_type": "error",
     "traceback": [
      "\u001b[0;31m---------------------------------------------------------------------------\u001b[0m",
      "\u001b[0;31mNameError\u001b[0m                                 Traceback (most recent call last)",
      "Cell \u001b[0;32mIn [14], line 15\u001b[0m, in \u001b[0;36molay_gerceklesti\u001b[0;34m(event, x, y, flags, param)\u001b[0m\n\u001b[1;32m     13\u001b[0m \u001b[38;5;28;01mdef\u001b[39;00m \u001b[38;5;21molay_gerceklesti\u001b[39m(event, x, y, flags, param):\n\u001b[1;32m     14\u001b[0m     eskiX \u001b[38;5;241m=\u001b[39m x\n\u001b[0;32m---> 15\u001b[0m     eskiY \u001b[38;5;241m=\u001b[39m \u001b[43mY\u001b[49m\n\u001b[1;32m     17\u001b[0m     yukBas \u001b[38;5;241m=\u001b[39m y\n\u001b[1;32m     18\u001b[0m     genBas \u001b[38;5;241m=\u001b[39m x\n",
      "\u001b[0;31mNameError\u001b[0m: name 'Y' is not defined"
     ]
    },
    {
     "ename": "NameError",
     "evalue": "name 'Y' is not defined",
     "output_type": "error",
     "traceback": [
      "\u001b[0;31m---------------------------------------------------------------------------\u001b[0m",
      "\u001b[0;31mNameError\u001b[0m                                 Traceback (most recent call last)",
      "Cell \u001b[0;32mIn [14], line 15\u001b[0m, in \u001b[0;36molay_gerceklesti\u001b[0;34m(event, x, y, flags, param)\u001b[0m\n\u001b[1;32m     13\u001b[0m \u001b[38;5;28;01mdef\u001b[39;00m \u001b[38;5;21molay_gerceklesti\u001b[39m(event, x, y, flags, param):\n\u001b[1;32m     14\u001b[0m     eskiX \u001b[38;5;241m=\u001b[39m x\n\u001b[0;32m---> 15\u001b[0m     eskiY \u001b[38;5;241m=\u001b[39m \u001b[43mY\u001b[49m\n\u001b[1;32m     17\u001b[0m     yukBas \u001b[38;5;241m=\u001b[39m y\n\u001b[1;32m     18\u001b[0m     genBas \u001b[38;5;241m=\u001b[39m x\n",
      "\u001b[0;31mNameError\u001b[0m: name 'Y' is not defined"
     ]
    },
    {
     "ename": "NameError",
     "evalue": "name 'Y' is not defined",
     "output_type": "error",
     "traceback": [
      "\u001b[0;31m---------------------------------------------------------------------------\u001b[0m",
      "\u001b[0;31mNameError\u001b[0m                                 Traceback (most recent call last)",
      "Cell \u001b[0;32mIn [14], line 15\u001b[0m, in \u001b[0;36molay_gerceklesti\u001b[0;34m(event, x, y, flags, param)\u001b[0m\n\u001b[1;32m     13\u001b[0m \u001b[38;5;28;01mdef\u001b[39;00m \u001b[38;5;21molay_gerceklesti\u001b[39m(event, x, y, flags, param):\n\u001b[1;32m     14\u001b[0m     eskiX \u001b[38;5;241m=\u001b[39m x\n\u001b[0;32m---> 15\u001b[0m     eskiY \u001b[38;5;241m=\u001b[39m \u001b[43mY\u001b[49m\n\u001b[1;32m     17\u001b[0m     yukBas \u001b[38;5;241m=\u001b[39m y\n\u001b[1;32m     18\u001b[0m     genBas \u001b[38;5;241m=\u001b[39m x\n",
      "\u001b[0;31mNameError\u001b[0m: name 'Y' is not defined"
     ]
    },
    {
     "ename": "NameError",
     "evalue": "name 'Y' is not defined",
     "output_type": "error",
     "traceback": [
      "\u001b[0;31m---------------------------------------------------------------------------\u001b[0m",
      "\u001b[0;31mNameError\u001b[0m                                 Traceback (most recent call last)",
      "Cell \u001b[0;32mIn [14], line 15\u001b[0m, in \u001b[0;36molay_gerceklesti\u001b[0;34m(event, x, y, flags, param)\u001b[0m\n\u001b[1;32m     13\u001b[0m \u001b[38;5;28;01mdef\u001b[39;00m \u001b[38;5;21molay_gerceklesti\u001b[39m(event, x, y, flags, param):\n\u001b[1;32m     14\u001b[0m     eskiX \u001b[38;5;241m=\u001b[39m x\n\u001b[0;32m---> 15\u001b[0m     eskiY \u001b[38;5;241m=\u001b[39m \u001b[43mY\u001b[49m\n\u001b[1;32m     17\u001b[0m     yukBas \u001b[38;5;241m=\u001b[39m y\n\u001b[1;32m     18\u001b[0m     genBas \u001b[38;5;241m=\u001b[39m x\n",
      "\u001b[0;31mNameError\u001b[0m: name 'Y' is not defined"
     ]
    },
    {
     "ename": "NameError",
     "evalue": "name 'Y' is not defined",
     "output_type": "error",
     "traceback": [
      "\u001b[0;31m---------------------------------------------------------------------------\u001b[0m",
      "\u001b[0;31mNameError\u001b[0m                                 Traceback (most recent call last)",
      "Cell \u001b[0;32mIn [14], line 15\u001b[0m, in \u001b[0;36molay_gerceklesti\u001b[0;34m(event, x, y, flags, param)\u001b[0m\n\u001b[1;32m     13\u001b[0m \u001b[38;5;28;01mdef\u001b[39;00m \u001b[38;5;21molay_gerceklesti\u001b[39m(event, x, y, flags, param):\n\u001b[1;32m     14\u001b[0m     eskiX \u001b[38;5;241m=\u001b[39m x\n\u001b[0;32m---> 15\u001b[0m     eskiY \u001b[38;5;241m=\u001b[39m \u001b[43mY\u001b[49m\n\u001b[1;32m     17\u001b[0m     yukBas \u001b[38;5;241m=\u001b[39m y\n\u001b[1;32m     18\u001b[0m     genBas \u001b[38;5;241m=\u001b[39m x\n",
      "\u001b[0;31mNameError\u001b[0m: name 'Y' is not defined"
     ]
    },
    {
     "ename": "NameError",
     "evalue": "name 'Y' is not defined",
     "output_type": "error",
     "traceback": [
      "\u001b[0;31m---------------------------------------------------------------------------\u001b[0m",
      "\u001b[0;31mNameError\u001b[0m                                 Traceback (most recent call last)",
      "Cell \u001b[0;32mIn [14], line 15\u001b[0m, in \u001b[0;36molay_gerceklesti\u001b[0;34m(event, x, y, flags, param)\u001b[0m\n\u001b[1;32m     13\u001b[0m \u001b[38;5;28;01mdef\u001b[39;00m \u001b[38;5;21molay_gerceklesti\u001b[39m(event, x, y, flags, param):\n\u001b[1;32m     14\u001b[0m     eskiX \u001b[38;5;241m=\u001b[39m x\n\u001b[0;32m---> 15\u001b[0m     eskiY \u001b[38;5;241m=\u001b[39m \u001b[43mY\u001b[49m\n\u001b[1;32m     17\u001b[0m     yukBas \u001b[38;5;241m=\u001b[39m y\n\u001b[1;32m     18\u001b[0m     genBas \u001b[38;5;241m=\u001b[39m x\n",
      "\u001b[0;31mNameError\u001b[0m: name 'Y' is not defined"
     ]
    },
    {
     "ename": "NameError",
     "evalue": "name 'Y' is not defined",
     "output_type": "error",
     "traceback": [
      "\u001b[0;31m---------------------------------------------------------------------------\u001b[0m",
      "\u001b[0;31mNameError\u001b[0m                                 Traceback (most recent call last)",
      "Cell \u001b[0;32mIn [14], line 15\u001b[0m, in \u001b[0;36molay_gerceklesti\u001b[0;34m(event, x, y, flags, param)\u001b[0m\n\u001b[1;32m     13\u001b[0m \u001b[38;5;28;01mdef\u001b[39;00m \u001b[38;5;21molay_gerceklesti\u001b[39m(event, x, y, flags, param):\n\u001b[1;32m     14\u001b[0m     eskiX \u001b[38;5;241m=\u001b[39m x\n\u001b[0;32m---> 15\u001b[0m     eskiY \u001b[38;5;241m=\u001b[39m \u001b[43mY\u001b[49m\n\u001b[1;32m     17\u001b[0m     yukBas \u001b[38;5;241m=\u001b[39m y\n\u001b[1;32m     18\u001b[0m     genBas \u001b[38;5;241m=\u001b[39m x\n",
      "\u001b[0;31mNameError\u001b[0m: name 'Y' is not defined"
     ]
    },
    {
     "ename": "NameError",
     "evalue": "name 'Y' is not defined",
     "output_type": "error",
     "traceback": [
      "\u001b[0;31m---------------------------------------------------------------------------\u001b[0m",
      "\u001b[0;31mNameError\u001b[0m                                 Traceback (most recent call last)",
      "Cell \u001b[0;32mIn [14], line 15\u001b[0m, in \u001b[0;36molay_gerceklesti\u001b[0;34m(event, x, y, flags, param)\u001b[0m\n\u001b[1;32m     13\u001b[0m \u001b[38;5;28;01mdef\u001b[39;00m \u001b[38;5;21molay_gerceklesti\u001b[39m(event, x, y, flags, param):\n\u001b[1;32m     14\u001b[0m     eskiX \u001b[38;5;241m=\u001b[39m x\n\u001b[0;32m---> 15\u001b[0m     eskiY \u001b[38;5;241m=\u001b[39m \u001b[43mY\u001b[49m\n\u001b[1;32m     17\u001b[0m     yukBas \u001b[38;5;241m=\u001b[39m y\n\u001b[1;32m     18\u001b[0m     genBas \u001b[38;5;241m=\u001b[39m x\n",
      "\u001b[0;31mNameError\u001b[0m: name 'Y' is not defined"
     ]
    },
    {
     "ename": "NameError",
     "evalue": "name 'Y' is not defined",
     "output_type": "error",
     "traceback": [
      "\u001b[0;31m---------------------------------------------------------------------------\u001b[0m",
      "\u001b[0;31mNameError\u001b[0m                                 Traceback (most recent call last)",
      "Cell \u001b[0;32mIn [14], line 15\u001b[0m, in \u001b[0;36molay_gerceklesti\u001b[0;34m(event, x, y, flags, param)\u001b[0m\n\u001b[1;32m     13\u001b[0m \u001b[38;5;28;01mdef\u001b[39;00m \u001b[38;5;21molay_gerceklesti\u001b[39m(event, x, y, flags, param):\n\u001b[1;32m     14\u001b[0m     eskiX \u001b[38;5;241m=\u001b[39m x\n\u001b[0;32m---> 15\u001b[0m     eskiY \u001b[38;5;241m=\u001b[39m \u001b[43mY\u001b[49m\n\u001b[1;32m     17\u001b[0m     yukBas \u001b[38;5;241m=\u001b[39m y\n\u001b[1;32m     18\u001b[0m     genBas \u001b[38;5;241m=\u001b[39m x\n",
      "\u001b[0;31mNameError\u001b[0m: name 'Y' is not defined"
     ]
    },
    {
     "ename": "NameError",
     "evalue": "name 'Y' is not defined",
     "output_type": "error",
     "traceback": [
      "\u001b[0;31m---------------------------------------------------------------------------\u001b[0m",
      "\u001b[0;31mNameError\u001b[0m                                 Traceback (most recent call last)",
      "Cell \u001b[0;32mIn [14], line 15\u001b[0m, in \u001b[0;36molay_gerceklesti\u001b[0;34m(event, x, y, flags, param)\u001b[0m\n\u001b[1;32m     13\u001b[0m \u001b[38;5;28;01mdef\u001b[39;00m \u001b[38;5;21molay_gerceklesti\u001b[39m(event, x, y, flags, param):\n\u001b[1;32m     14\u001b[0m     eskiX \u001b[38;5;241m=\u001b[39m x\n\u001b[0;32m---> 15\u001b[0m     eskiY \u001b[38;5;241m=\u001b[39m \u001b[43mY\u001b[49m\n\u001b[1;32m     17\u001b[0m     yukBas \u001b[38;5;241m=\u001b[39m y\n\u001b[1;32m     18\u001b[0m     genBas \u001b[38;5;241m=\u001b[39m x\n",
      "\u001b[0;31mNameError\u001b[0m: name 'Y' is not defined"
     ]
    },
    {
     "ename": "NameError",
     "evalue": "name 'Y' is not defined",
     "output_type": "error",
     "traceback": [
      "\u001b[0;31m---------------------------------------------------------------------------\u001b[0m",
      "\u001b[0;31mNameError\u001b[0m                                 Traceback (most recent call last)",
      "Cell \u001b[0;32mIn [14], line 15\u001b[0m, in \u001b[0;36molay_gerceklesti\u001b[0;34m(event, x, y, flags, param)\u001b[0m\n\u001b[1;32m     13\u001b[0m \u001b[38;5;28;01mdef\u001b[39;00m \u001b[38;5;21molay_gerceklesti\u001b[39m(event, x, y, flags, param):\n\u001b[1;32m     14\u001b[0m     eskiX \u001b[38;5;241m=\u001b[39m x\n\u001b[0;32m---> 15\u001b[0m     eskiY \u001b[38;5;241m=\u001b[39m \u001b[43mY\u001b[49m\n\u001b[1;32m     17\u001b[0m     yukBas \u001b[38;5;241m=\u001b[39m y\n\u001b[1;32m     18\u001b[0m     genBas \u001b[38;5;241m=\u001b[39m x\n",
      "\u001b[0;31mNameError\u001b[0m: name 'Y' is not defined"
     ]
    },
    {
     "ename": "NameError",
     "evalue": "name 'Y' is not defined",
     "output_type": "error",
     "traceback": [
      "\u001b[0;31m---------------------------------------------------------------------------\u001b[0m",
      "\u001b[0;31mNameError\u001b[0m                                 Traceback (most recent call last)",
      "Cell \u001b[0;32mIn [14], line 15\u001b[0m, in \u001b[0;36molay_gerceklesti\u001b[0;34m(event, x, y, flags, param)\u001b[0m\n\u001b[1;32m     13\u001b[0m \u001b[38;5;28;01mdef\u001b[39;00m \u001b[38;5;21molay_gerceklesti\u001b[39m(event, x, y, flags, param):\n\u001b[1;32m     14\u001b[0m     eskiX \u001b[38;5;241m=\u001b[39m x\n\u001b[0;32m---> 15\u001b[0m     eskiY \u001b[38;5;241m=\u001b[39m \u001b[43mY\u001b[49m\n\u001b[1;32m     17\u001b[0m     yukBas \u001b[38;5;241m=\u001b[39m y\n\u001b[1;32m     18\u001b[0m     genBas \u001b[38;5;241m=\u001b[39m x\n",
      "\u001b[0;31mNameError\u001b[0m: name 'Y' is not defined"
     ]
    },
    {
     "ename": "NameError",
     "evalue": "name 'Y' is not defined",
     "output_type": "error",
     "traceback": [
      "\u001b[0;31m---------------------------------------------------------------------------\u001b[0m",
      "\u001b[0;31mNameError\u001b[0m                                 Traceback (most recent call last)",
      "Cell \u001b[0;32mIn [14], line 15\u001b[0m, in \u001b[0;36molay_gerceklesti\u001b[0;34m(event, x, y, flags, param)\u001b[0m\n\u001b[1;32m     13\u001b[0m \u001b[38;5;28;01mdef\u001b[39;00m \u001b[38;5;21molay_gerceklesti\u001b[39m(event, x, y, flags, param):\n\u001b[1;32m     14\u001b[0m     eskiX \u001b[38;5;241m=\u001b[39m x\n\u001b[0;32m---> 15\u001b[0m     eskiY \u001b[38;5;241m=\u001b[39m \u001b[43mY\u001b[49m\n\u001b[1;32m     17\u001b[0m     yukBas \u001b[38;5;241m=\u001b[39m y\n\u001b[1;32m     18\u001b[0m     genBas \u001b[38;5;241m=\u001b[39m x\n",
      "\u001b[0;31mNameError\u001b[0m: name 'Y' is not defined"
     ]
    },
    {
     "ename": "NameError",
     "evalue": "name 'Y' is not defined",
     "output_type": "error",
     "traceback": [
      "\u001b[0;31m---------------------------------------------------------------------------\u001b[0m",
      "\u001b[0;31mNameError\u001b[0m                                 Traceback (most recent call last)",
      "Cell \u001b[0;32mIn [14], line 15\u001b[0m, in \u001b[0;36molay_gerceklesti\u001b[0;34m(event, x, y, flags, param)\u001b[0m\n\u001b[1;32m     13\u001b[0m \u001b[38;5;28;01mdef\u001b[39;00m \u001b[38;5;21molay_gerceklesti\u001b[39m(event, x, y, flags, param):\n\u001b[1;32m     14\u001b[0m     eskiX \u001b[38;5;241m=\u001b[39m x\n\u001b[0;32m---> 15\u001b[0m     eskiY \u001b[38;5;241m=\u001b[39m \u001b[43mY\u001b[49m\n\u001b[1;32m     17\u001b[0m     yukBas \u001b[38;5;241m=\u001b[39m y\n\u001b[1;32m     18\u001b[0m     genBas \u001b[38;5;241m=\u001b[39m x\n",
      "\u001b[0;31mNameError\u001b[0m: name 'Y' is not defined"
     ]
    },
    {
     "ename": "NameError",
     "evalue": "name 'Y' is not defined",
     "output_type": "error",
     "traceback": [
      "\u001b[0;31m---------------------------------------------------------------------------\u001b[0m",
      "\u001b[0;31mNameError\u001b[0m                                 Traceback (most recent call last)",
      "Cell \u001b[0;32mIn [14], line 15\u001b[0m, in \u001b[0;36molay_gerceklesti\u001b[0;34m(event, x, y, flags, param)\u001b[0m\n\u001b[1;32m     13\u001b[0m \u001b[38;5;28;01mdef\u001b[39;00m \u001b[38;5;21molay_gerceklesti\u001b[39m(event, x, y, flags, param):\n\u001b[1;32m     14\u001b[0m     eskiX \u001b[38;5;241m=\u001b[39m x\n\u001b[0;32m---> 15\u001b[0m     eskiY \u001b[38;5;241m=\u001b[39m \u001b[43mY\u001b[49m\n\u001b[1;32m     17\u001b[0m     yukBas \u001b[38;5;241m=\u001b[39m y\n\u001b[1;32m     18\u001b[0m     genBas \u001b[38;5;241m=\u001b[39m x\n",
      "\u001b[0;31mNameError\u001b[0m: name 'Y' is not defined"
     ]
    },
    {
     "ename": "NameError",
     "evalue": "name 'Y' is not defined",
     "output_type": "error",
     "traceback": [
      "\u001b[0;31m---------------------------------------------------------------------------\u001b[0m",
      "\u001b[0;31mNameError\u001b[0m                                 Traceback (most recent call last)",
      "Cell \u001b[0;32mIn [14], line 15\u001b[0m, in \u001b[0;36molay_gerceklesti\u001b[0;34m(event, x, y, flags, param)\u001b[0m\n\u001b[1;32m     13\u001b[0m \u001b[38;5;28;01mdef\u001b[39;00m \u001b[38;5;21molay_gerceklesti\u001b[39m(event, x, y, flags, param):\n\u001b[1;32m     14\u001b[0m     eskiX \u001b[38;5;241m=\u001b[39m x\n\u001b[0;32m---> 15\u001b[0m     eskiY \u001b[38;5;241m=\u001b[39m \u001b[43mY\u001b[49m\n\u001b[1;32m     17\u001b[0m     yukBas \u001b[38;5;241m=\u001b[39m y\n\u001b[1;32m     18\u001b[0m     genBas \u001b[38;5;241m=\u001b[39m x\n",
      "\u001b[0;31mNameError\u001b[0m: name 'Y' is not defined"
     ]
    },
    {
     "ename": "NameError",
     "evalue": "name 'Y' is not defined",
     "output_type": "error",
     "traceback": [
      "\u001b[0;31m---------------------------------------------------------------------------\u001b[0m",
      "\u001b[0;31mNameError\u001b[0m                                 Traceback (most recent call last)",
      "Cell \u001b[0;32mIn [14], line 15\u001b[0m, in \u001b[0;36molay_gerceklesti\u001b[0;34m(event, x, y, flags, param)\u001b[0m\n\u001b[1;32m     13\u001b[0m \u001b[38;5;28;01mdef\u001b[39;00m \u001b[38;5;21molay_gerceklesti\u001b[39m(event, x, y, flags, param):\n\u001b[1;32m     14\u001b[0m     eskiX \u001b[38;5;241m=\u001b[39m x\n\u001b[0;32m---> 15\u001b[0m     eskiY \u001b[38;5;241m=\u001b[39m \u001b[43mY\u001b[49m\n\u001b[1;32m     17\u001b[0m     yukBas \u001b[38;5;241m=\u001b[39m y\n\u001b[1;32m     18\u001b[0m     genBas \u001b[38;5;241m=\u001b[39m x\n",
      "\u001b[0;31mNameError\u001b[0m: name 'Y' is not defined"
     ]
    },
    {
     "ename": "NameError",
     "evalue": "name 'Y' is not defined",
     "output_type": "error",
     "traceback": [
      "\u001b[0;31m---------------------------------------------------------------------------\u001b[0m",
      "\u001b[0;31mNameError\u001b[0m                                 Traceback (most recent call last)",
      "Cell \u001b[0;32mIn [14], line 15\u001b[0m, in \u001b[0;36molay_gerceklesti\u001b[0;34m(event, x, y, flags, param)\u001b[0m\n\u001b[1;32m     13\u001b[0m \u001b[38;5;28;01mdef\u001b[39;00m \u001b[38;5;21molay_gerceklesti\u001b[39m(event, x, y, flags, param):\n\u001b[1;32m     14\u001b[0m     eskiX \u001b[38;5;241m=\u001b[39m x\n\u001b[0;32m---> 15\u001b[0m     eskiY \u001b[38;5;241m=\u001b[39m \u001b[43mY\u001b[49m\n\u001b[1;32m     17\u001b[0m     yukBas \u001b[38;5;241m=\u001b[39m y\n\u001b[1;32m     18\u001b[0m     genBas \u001b[38;5;241m=\u001b[39m x\n",
      "\u001b[0;31mNameError\u001b[0m: name 'Y' is not defined"
     ]
    },
    {
     "ename": "NameError",
     "evalue": "name 'Y' is not defined",
     "output_type": "error",
     "traceback": [
      "\u001b[0;31m---------------------------------------------------------------------------\u001b[0m",
      "\u001b[0;31mNameError\u001b[0m                                 Traceback (most recent call last)",
      "Cell \u001b[0;32mIn [14], line 15\u001b[0m, in \u001b[0;36molay_gerceklesti\u001b[0;34m(event, x, y, flags, param)\u001b[0m\n\u001b[1;32m     13\u001b[0m \u001b[38;5;28;01mdef\u001b[39;00m \u001b[38;5;21molay_gerceklesti\u001b[39m(event, x, y, flags, param):\n\u001b[1;32m     14\u001b[0m     eskiX \u001b[38;5;241m=\u001b[39m x\n\u001b[0;32m---> 15\u001b[0m     eskiY \u001b[38;5;241m=\u001b[39m \u001b[43mY\u001b[49m\n\u001b[1;32m     17\u001b[0m     yukBas \u001b[38;5;241m=\u001b[39m y\n\u001b[1;32m     18\u001b[0m     genBas \u001b[38;5;241m=\u001b[39m x\n",
      "\u001b[0;31mNameError\u001b[0m: name 'Y' is not defined"
     ]
    },
    {
     "ename": "NameError",
     "evalue": "name 'Y' is not defined",
     "output_type": "error",
     "traceback": [
      "\u001b[0;31m---------------------------------------------------------------------------\u001b[0m",
      "\u001b[0;31mNameError\u001b[0m                                 Traceback (most recent call last)",
      "Cell \u001b[0;32mIn [14], line 15\u001b[0m, in \u001b[0;36molay_gerceklesti\u001b[0;34m(event, x, y, flags, param)\u001b[0m\n\u001b[1;32m     13\u001b[0m \u001b[38;5;28;01mdef\u001b[39;00m \u001b[38;5;21molay_gerceklesti\u001b[39m(event, x, y, flags, param):\n\u001b[1;32m     14\u001b[0m     eskiX \u001b[38;5;241m=\u001b[39m x\n\u001b[0;32m---> 15\u001b[0m     eskiY \u001b[38;5;241m=\u001b[39m \u001b[43mY\u001b[49m\n\u001b[1;32m     17\u001b[0m     yukBas \u001b[38;5;241m=\u001b[39m y\n\u001b[1;32m     18\u001b[0m     genBas \u001b[38;5;241m=\u001b[39m x\n",
      "\u001b[0;31mNameError\u001b[0m: name 'Y' is not defined"
     ]
    },
    {
     "ename": "NameError",
     "evalue": "name 'Y' is not defined",
     "output_type": "error",
     "traceback": [
      "\u001b[0;31m---------------------------------------------------------------------------\u001b[0m",
      "\u001b[0;31mNameError\u001b[0m                                 Traceback (most recent call last)",
      "Cell \u001b[0;32mIn [14], line 15\u001b[0m, in \u001b[0;36molay_gerceklesti\u001b[0;34m(event, x, y, flags, param)\u001b[0m\n\u001b[1;32m     13\u001b[0m \u001b[38;5;28;01mdef\u001b[39;00m \u001b[38;5;21molay_gerceklesti\u001b[39m(event, x, y, flags, param):\n\u001b[1;32m     14\u001b[0m     eskiX \u001b[38;5;241m=\u001b[39m x\n\u001b[0;32m---> 15\u001b[0m     eskiY \u001b[38;5;241m=\u001b[39m \u001b[43mY\u001b[49m\n\u001b[1;32m     17\u001b[0m     yukBas \u001b[38;5;241m=\u001b[39m y\n\u001b[1;32m     18\u001b[0m     genBas \u001b[38;5;241m=\u001b[39m x\n",
      "\u001b[0;31mNameError\u001b[0m: name 'Y' is not defined"
     ]
    },
    {
     "ename": "NameError",
     "evalue": "name 'Y' is not defined",
     "output_type": "error",
     "traceback": [
      "\u001b[0;31m---------------------------------------------------------------------------\u001b[0m",
      "\u001b[0;31mNameError\u001b[0m                                 Traceback (most recent call last)",
      "Cell \u001b[0;32mIn [14], line 15\u001b[0m, in \u001b[0;36molay_gerceklesti\u001b[0;34m(event, x, y, flags, param)\u001b[0m\n\u001b[1;32m     13\u001b[0m \u001b[38;5;28;01mdef\u001b[39;00m \u001b[38;5;21molay_gerceklesti\u001b[39m(event, x, y, flags, param):\n\u001b[1;32m     14\u001b[0m     eskiX \u001b[38;5;241m=\u001b[39m x\n\u001b[0;32m---> 15\u001b[0m     eskiY \u001b[38;5;241m=\u001b[39m \u001b[43mY\u001b[49m\n\u001b[1;32m     17\u001b[0m     yukBas \u001b[38;5;241m=\u001b[39m y\n\u001b[1;32m     18\u001b[0m     genBas \u001b[38;5;241m=\u001b[39m x\n",
      "\u001b[0;31mNameError\u001b[0m: name 'Y' is not defined"
     ]
    },
    {
     "ename": "NameError",
     "evalue": "name 'Y' is not defined",
     "output_type": "error",
     "traceback": [
      "\u001b[0;31m---------------------------------------------------------------------------\u001b[0m",
      "\u001b[0;31mNameError\u001b[0m                                 Traceback (most recent call last)",
      "Cell \u001b[0;32mIn [14], line 15\u001b[0m, in \u001b[0;36molay_gerceklesti\u001b[0;34m(event, x, y, flags, param)\u001b[0m\n\u001b[1;32m     13\u001b[0m \u001b[38;5;28;01mdef\u001b[39;00m \u001b[38;5;21molay_gerceklesti\u001b[39m(event, x, y, flags, param):\n\u001b[1;32m     14\u001b[0m     eskiX \u001b[38;5;241m=\u001b[39m x\n\u001b[0;32m---> 15\u001b[0m     eskiY \u001b[38;5;241m=\u001b[39m \u001b[43mY\u001b[49m\n\u001b[1;32m     17\u001b[0m     yukBas \u001b[38;5;241m=\u001b[39m y\n\u001b[1;32m     18\u001b[0m     genBas \u001b[38;5;241m=\u001b[39m x\n",
      "\u001b[0;31mNameError\u001b[0m: name 'Y' is not defined"
     ]
    },
    {
     "ename": "NameError",
     "evalue": "name 'Y' is not defined",
     "output_type": "error",
     "traceback": [
      "\u001b[0;31m---------------------------------------------------------------------------\u001b[0m",
      "\u001b[0;31mNameError\u001b[0m                                 Traceback (most recent call last)",
      "Cell \u001b[0;32mIn [14], line 15\u001b[0m, in \u001b[0;36molay_gerceklesti\u001b[0;34m(event, x, y, flags, param)\u001b[0m\n\u001b[1;32m     13\u001b[0m \u001b[38;5;28;01mdef\u001b[39;00m \u001b[38;5;21molay_gerceklesti\u001b[39m(event, x, y, flags, param):\n\u001b[1;32m     14\u001b[0m     eskiX \u001b[38;5;241m=\u001b[39m x\n\u001b[0;32m---> 15\u001b[0m     eskiY \u001b[38;5;241m=\u001b[39m \u001b[43mY\u001b[49m\n\u001b[1;32m     17\u001b[0m     yukBas \u001b[38;5;241m=\u001b[39m y\n\u001b[1;32m     18\u001b[0m     genBas \u001b[38;5;241m=\u001b[39m x\n",
      "\u001b[0;31mNameError\u001b[0m: name 'Y' is not defined"
     ]
    },
    {
     "ename": "NameError",
     "evalue": "name 'Y' is not defined",
     "output_type": "error",
     "traceback": [
      "\u001b[0;31m---------------------------------------------------------------------------\u001b[0m",
      "\u001b[0;31mNameError\u001b[0m                                 Traceback (most recent call last)",
      "Cell \u001b[0;32mIn [14], line 15\u001b[0m, in \u001b[0;36molay_gerceklesti\u001b[0;34m(event, x, y, flags, param)\u001b[0m\n\u001b[1;32m     13\u001b[0m \u001b[38;5;28;01mdef\u001b[39;00m \u001b[38;5;21molay_gerceklesti\u001b[39m(event, x, y, flags, param):\n\u001b[1;32m     14\u001b[0m     eskiX \u001b[38;5;241m=\u001b[39m x\n\u001b[0;32m---> 15\u001b[0m     eskiY \u001b[38;5;241m=\u001b[39m \u001b[43mY\u001b[49m\n\u001b[1;32m     17\u001b[0m     yukBas \u001b[38;5;241m=\u001b[39m y\n\u001b[1;32m     18\u001b[0m     genBas \u001b[38;5;241m=\u001b[39m x\n",
      "\u001b[0;31mNameError\u001b[0m: name 'Y' is not defined"
     ]
    },
    {
     "ename": "NameError",
     "evalue": "name 'Y' is not defined",
     "output_type": "error",
     "traceback": [
      "\u001b[0;31m---------------------------------------------------------------------------\u001b[0m",
      "\u001b[0;31mNameError\u001b[0m                                 Traceback (most recent call last)",
      "Cell \u001b[0;32mIn [14], line 15\u001b[0m, in \u001b[0;36molay_gerceklesti\u001b[0;34m(event, x, y, flags, param)\u001b[0m\n\u001b[1;32m     13\u001b[0m \u001b[38;5;28;01mdef\u001b[39;00m \u001b[38;5;21molay_gerceklesti\u001b[39m(event, x, y, flags, param):\n\u001b[1;32m     14\u001b[0m     eskiX \u001b[38;5;241m=\u001b[39m x\n\u001b[0;32m---> 15\u001b[0m     eskiY \u001b[38;5;241m=\u001b[39m \u001b[43mY\u001b[49m\n\u001b[1;32m     17\u001b[0m     yukBas \u001b[38;5;241m=\u001b[39m y\n\u001b[1;32m     18\u001b[0m     genBas \u001b[38;5;241m=\u001b[39m x\n",
      "\u001b[0;31mNameError\u001b[0m: name 'Y' is not defined"
     ]
    },
    {
     "ename": "NameError",
     "evalue": "name 'Y' is not defined",
     "output_type": "error",
     "traceback": [
      "\u001b[0;31m---------------------------------------------------------------------------\u001b[0m",
      "\u001b[0;31mNameError\u001b[0m                                 Traceback (most recent call last)",
      "Cell \u001b[0;32mIn [14], line 15\u001b[0m, in \u001b[0;36molay_gerceklesti\u001b[0;34m(event, x, y, flags, param)\u001b[0m\n\u001b[1;32m     13\u001b[0m \u001b[38;5;28;01mdef\u001b[39;00m \u001b[38;5;21molay_gerceklesti\u001b[39m(event, x, y, flags, param):\n\u001b[1;32m     14\u001b[0m     eskiX \u001b[38;5;241m=\u001b[39m x\n\u001b[0;32m---> 15\u001b[0m     eskiY \u001b[38;5;241m=\u001b[39m \u001b[43mY\u001b[49m\n\u001b[1;32m     17\u001b[0m     yukBas \u001b[38;5;241m=\u001b[39m y\n\u001b[1;32m     18\u001b[0m     genBas \u001b[38;5;241m=\u001b[39m x\n",
      "\u001b[0;31mNameError\u001b[0m: name 'Y' is not defined"
     ]
    },
    {
     "ename": "NameError",
     "evalue": "name 'Y' is not defined",
     "output_type": "error",
     "traceback": [
      "\u001b[0;31m---------------------------------------------------------------------------\u001b[0m",
      "\u001b[0;31mNameError\u001b[0m                                 Traceback (most recent call last)",
      "Cell \u001b[0;32mIn [14], line 15\u001b[0m, in \u001b[0;36molay_gerceklesti\u001b[0;34m(event, x, y, flags, param)\u001b[0m\n\u001b[1;32m     13\u001b[0m \u001b[38;5;28;01mdef\u001b[39;00m \u001b[38;5;21molay_gerceklesti\u001b[39m(event, x, y, flags, param):\n\u001b[1;32m     14\u001b[0m     eskiX \u001b[38;5;241m=\u001b[39m x\n\u001b[0;32m---> 15\u001b[0m     eskiY \u001b[38;5;241m=\u001b[39m \u001b[43mY\u001b[49m\n\u001b[1;32m     17\u001b[0m     yukBas \u001b[38;5;241m=\u001b[39m y\n\u001b[1;32m     18\u001b[0m     genBas \u001b[38;5;241m=\u001b[39m x\n",
      "\u001b[0;31mNameError\u001b[0m: name 'Y' is not defined"
     ]
    },
    {
     "ename": "NameError",
     "evalue": "name 'Y' is not defined",
     "output_type": "error",
     "traceback": [
      "\u001b[0;31m---------------------------------------------------------------------------\u001b[0m",
      "\u001b[0;31mNameError\u001b[0m                                 Traceback (most recent call last)",
      "Cell \u001b[0;32mIn [14], line 15\u001b[0m, in \u001b[0;36molay_gerceklesti\u001b[0;34m(event, x, y, flags, param)\u001b[0m\n\u001b[1;32m     13\u001b[0m \u001b[38;5;28;01mdef\u001b[39;00m \u001b[38;5;21molay_gerceklesti\u001b[39m(event, x, y, flags, param):\n\u001b[1;32m     14\u001b[0m     eskiX \u001b[38;5;241m=\u001b[39m x\n\u001b[0;32m---> 15\u001b[0m     eskiY \u001b[38;5;241m=\u001b[39m \u001b[43mY\u001b[49m\n\u001b[1;32m     17\u001b[0m     yukBas \u001b[38;5;241m=\u001b[39m y\n\u001b[1;32m     18\u001b[0m     genBas \u001b[38;5;241m=\u001b[39m x\n",
      "\u001b[0;31mNameError\u001b[0m: name 'Y' is not defined"
     ]
    },
    {
     "ename": "NameError",
     "evalue": "name 'Y' is not defined",
     "output_type": "error",
     "traceback": [
      "\u001b[0;31m---------------------------------------------------------------------------\u001b[0m",
      "\u001b[0;31mNameError\u001b[0m                                 Traceback (most recent call last)",
      "Cell \u001b[0;32mIn [14], line 15\u001b[0m, in \u001b[0;36molay_gerceklesti\u001b[0;34m(event, x, y, flags, param)\u001b[0m\n\u001b[1;32m     13\u001b[0m \u001b[38;5;28;01mdef\u001b[39;00m \u001b[38;5;21molay_gerceklesti\u001b[39m(event, x, y, flags, param):\n\u001b[1;32m     14\u001b[0m     eskiX \u001b[38;5;241m=\u001b[39m x\n\u001b[0;32m---> 15\u001b[0m     eskiY \u001b[38;5;241m=\u001b[39m \u001b[43mY\u001b[49m\n\u001b[1;32m     17\u001b[0m     yukBas \u001b[38;5;241m=\u001b[39m y\n\u001b[1;32m     18\u001b[0m     genBas \u001b[38;5;241m=\u001b[39m x\n",
      "\u001b[0;31mNameError\u001b[0m: name 'Y' is not defined"
     ]
    },
    {
     "ename": "NameError",
     "evalue": "name 'Y' is not defined",
     "output_type": "error",
     "traceback": [
      "\u001b[0;31m---------------------------------------------------------------------------\u001b[0m",
      "\u001b[0;31mNameError\u001b[0m                                 Traceback (most recent call last)",
      "Cell \u001b[0;32mIn [14], line 15\u001b[0m, in \u001b[0;36molay_gerceklesti\u001b[0;34m(event, x, y, flags, param)\u001b[0m\n\u001b[1;32m     13\u001b[0m \u001b[38;5;28;01mdef\u001b[39;00m \u001b[38;5;21molay_gerceklesti\u001b[39m(event, x, y, flags, param):\n\u001b[1;32m     14\u001b[0m     eskiX \u001b[38;5;241m=\u001b[39m x\n\u001b[0;32m---> 15\u001b[0m     eskiY \u001b[38;5;241m=\u001b[39m \u001b[43mY\u001b[49m\n\u001b[1;32m     17\u001b[0m     yukBas \u001b[38;5;241m=\u001b[39m y\n\u001b[1;32m     18\u001b[0m     genBas \u001b[38;5;241m=\u001b[39m x\n",
      "\u001b[0;31mNameError\u001b[0m: name 'Y' is not defined"
     ]
    },
    {
     "ename": "NameError",
     "evalue": "name 'Y' is not defined",
     "output_type": "error",
     "traceback": [
      "\u001b[0;31m---------------------------------------------------------------------------\u001b[0m",
      "\u001b[0;31mNameError\u001b[0m                                 Traceback (most recent call last)",
      "Cell \u001b[0;32mIn [14], line 15\u001b[0m, in \u001b[0;36molay_gerceklesti\u001b[0;34m(event, x, y, flags, param)\u001b[0m\n\u001b[1;32m     13\u001b[0m \u001b[38;5;28;01mdef\u001b[39;00m \u001b[38;5;21molay_gerceklesti\u001b[39m(event, x, y, flags, param):\n\u001b[1;32m     14\u001b[0m     eskiX \u001b[38;5;241m=\u001b[39m x\n\u001b[0;32m---> 15\u001b[0m     eskiY \u001b[38;5;241m=\u001b[39m \u001b[43mY\u001b[49m\n\u001b[1;32m     17\u001b[0m     yukBas \u001b[38;5;241m=\u001b[39m y\n\u001b[1;32m     18\u001b[0m     genBas \u001b[38;5;241m=\u001b[39m x\n",
      "\u001b[0;31mNameError\u001b[0m: name 'Y' is not defined"
     ]
    },
    {
     "ename": "NameError",
     "evalue": "name 'Y' is not defined",
     "output_type": "error",
     "traceback": [
      "\u001b[0;31m---------------------------------------------------------------------------\u001b[0m",
      "\u001b[0;31mNameError\u001b[0m                                 Traceback (most recent call last)",
      "Cell \u001b[0;32mIn [14], line 15\u001b[0m, in \u001b[0;36molay_gerceklesti\u001b[0;34m(event, x, y, flags, param)\u001b[0m\n\u001b[1;32m     13\u001b[0m \u001b[38;5;28;01mdef\u001b[39;00m \u001b[38;5;21molay_gerceklesti\u001b[39m(event, x, y, flags, param):\n\u001b[1;32m     14\u001b[0m     eskiX \u001b[38;5;241m=\u001b[39m x\n\u001b[0;32m---> 15\u001b[0m     eskiY \u001b[38;5;241m=\u001b[39m \u001b[43mY\u001b[49m\n\u001b[1;32m     17\u001b[0m     yukBas \u001b[38;5;241m=\u001b[39m y\n\u001b[1;32m     18\u001b[0m     genBas \u001b[38;5;241m=\u001b[39m x\n",
      "\u001b[0;31mNameError\u001b[0m: name 'Y' is not defined"
     ]
    },
    {
     "ename": "NameError",
     "evalue": "name 'Y' is not defined",
     "output_type": "error",
     "traceback": [
      "\u001b[0;31m---------------------------------------------------------------------------\u001b[0m",
      "\u001b[0;31mNameError\u001b[0m                                 Traceback (most recent call last)",
      "Cell \u001b[0;32mIn [14], line 15\u001b[0m, in \u001b[0;36molay_gerceklesti\u001b[0;34m(event, x, y, flags, param)\u001b[0m\n\u001b[1;32m     13\u001b[0m \u001b[38;5;28;01mdef\u001b[39;00m \u001b[38;5;21molay_gerceklesti\u001b[39m(event, x, y, flags, param):\n\u001b[1;32m     14\u001b[0m     eskiX \u001b[38;5;241m=\u001b[39m x\n\u001b[0;32m---> 15\u001b[0m     eskiY \u001b[38;5;241m=\u001b[39m \u001b[43mY\u001b[49m\n\u001b[1;32m     17\u001b[0m     yukBas \u001b[38;5;241m=\u001b[39m y\n\u001b[1;32m     18\u001b[0m     genBas \u001b[38;5;241m=\u001b[39m x\n",
      "\u001b[0;31mNameError\u001b[0m: name 'Y' is not defined"
     ]
    },
    {
     "ename": "NameError",
     "evalue": "name 'Y' is not defined",
     "output_type": "error",
     "traceback": [
      "\u001b[0;31m---------------------------------------------------------------------------\u001b[0m",
      "\u001b[0;31mNameError\u001b[0m                                 Traceback (most recent call last)",
      "Cell \u001b[0;32mIn [14], line 15\u001b[0m, in \u001b[0;36molay_gerceklesti\u001b[0;34m(event, x, y, flags, param)\u001b[0m\n\u001b[1;32m     13\u001b[0m \u001b[38;5;28;01mdef\u001b[39;00m \u001b[38;5;21molay_gerceklesti\u001b[39m(event, x, y, flags, param):\n\u001b[1;32m     14\u001b[0m     eskiX \u001b[38;5;241m=\u001b[39m x\n\u001b[0;32m---> 15\u001b[0m     eskiY \u001b[38;5;241m=\u001b[39m \u001b[43mY\u001b[49m\n\u001b[1;32m     17\u001b[0m     yukBas \u001b[38;5;241m=\u001b[39m y\n\u001b[1;32m     18\u001b[0m     genBas \u001b[38;5;241m=\u001b[39m x\n",
      "\u001b[0;31mNameError\u001b[0m: name 'Y' is not defined"
     ]
    },
    {
     "ename": "NameError",
     "evalue": "name 'Y' is not defined",
     "output_type": "error",
     "traceback": [
      "\u001b[0;31m---------------------------------------------------------------------------\u001b[0m",
      "\u001b[0;31mNameError\u001b[0m                                 Traceback (most recent call last)",
      "Cell \u001b[0;32mIn [14], line 15\u001b[0m, in \u001b[0;36molay_gerceklesti\u001b[0;34m(event, x, y, flags, param)\u001b[0m\n\u001b[1;32m     13\u001b[0m \u001b[38;5;28;01mdef\u001b[39;00m \u001b[38;5;21molay_gerceklesti\u001b[39m(event, x, y, flags, param):\n\u001b[1;32m     14\u001b[0m     eskiX \u001b[38;5;241m=\u001b[39m x\n\u001b[0;32m---> 15\u001b[0m     eskiY \u001b[38;5;241m=\u001b[39m \u001b[43mY\u001b[49m\n\u001b[1;32m     17\u001b[0m     yukBas \u001b[38;5;241m=\u001b[39m y\n\u001b[1;32m     18\u001b[0m     genBas \u001b[38;5;241m=\u001b[39m x\n",
      "\u001b[0;31mNameError\u001b[0m: name 'Y' is not defined"
     ]
    },
    {
     "ename": "NameError",
     "evalue": "name 'Y' is not defined",
     "output_type": "error",
     "traceback": [
      "\u001b[0;31m---------------------------------------------------------------------------\u001b[0m",
      "\u001b[0;31mNameError\u001b[0m                                 Traceback (most recent call last)",
      "Cell \u001b[0;32mIn [14], line 15\u001b[0m, in \u001b[0;36molay_gerceklesti\u001b[0;34m(event, x, y, flags, param)\u001b[0m\n\u001b[1;32m     13\u001b[0m \u001b[38;5;28;01mdef\u001b[39;00m \u001b[38;5;21molay_gerceklesti\u001b[39m(event, x, y, flags, param):\n\u001b[1;32m     14\u001b[0m     eskiX \u001b[38;5;241m=\u001b[39m x\n\u001b[0;32m---> 15\u001b[0m     eskiY \u001b[38;5;241m=\u001b[39m \u001b[43mY\u001b[49m\n\u001b[1;32m     17\u001b[0m     yukBas \u001b[38;5;241m=\u001b[39m y\n\u001b[1;32m     18\u001b[0m     genBas \u001b[38;5;241m=\u001b[39m x\n",
      "\u001b[0;31mNameError\u001b[0m: name 'Y' is not defined"
     ]
    },
    {
     "ename": "NameError",
     "evalue": "name 'Y' is not defined",
     "output_type": "error",
     "traceback": [
      "\u001b[0;31m---------------------------------------------------------------------------\u001b[0m",
      "\u001b[0;31mNameError\u001b[0m                                 Traceback (most recent call last)",
      "Cell \u001b[0;32mIn [14], line 15\u001b[0m, in \u001b[0;36molay_gerceklesti\u001b[0;34m(event, x, y, flags, param)\u001b[0m\n\u001b[1;32m     13\u001b[0m \u001b[38;5;28;01mdef\u001b[39;00m \u001b[38;5;21molay_gerceklesti\u001b[39m(event, x, y, flags, param):\n\u001b[1;32m     14\u001b[0m     eskiX \u001b[38;5;241m=\u001b[39m x\n\u001b[0;32m---> 15\u001b[0m     eskiY \u001b[38;5;241m=\u001b[39m \u001b[43mY\u001b[49m\n\u001b[1;32m     17\u001b[0m     yukBas \u001b[38;5;241m=\u001b[39m y\n\u001b[1;32m     18\u001b[0m     genBas \u001b[38;5;241m=\u001b[39m x\n",
      "\u001b[0;31mNameError\u001b[0m: name 'Y' is not defined"
     ]
    },
    {
     "ename": "NameError",
     "evalue": "name 'Y' is not defined",
     "output_type": "error",
     "traceback": [
      "\u001b[0;31m---------------------------------------------------------------------------\u001b[0m",
      "\u001b[0;31mNameError\u001b[0m                                 Traceback (most recent call last)",
      "Cell \u001b[0;32mIn [14], line 15\u001b[0m, in \u001b[0;36molay_gerceklesti\u001b[0;34m(event, x, y, flags, param)\u001b[0m\n\u001b[1;32m     13\u001b[0m \u001b[38;5;28;01mdef\u001b[39;00m \u001b[38;5;21molay_gerceklesti\u001b[39m(event, x, y, flags, param):\n\u001b[1;32m     14\u001b[0m     eskiX \u001b[38;5;241m=\u001b[39m x\n\u001b[0;32m---> 15\u001b[0m     eskiY \u001b[38;5;241m=\u001b[39m \u001b[43mY\u001b[49m\n\u001b[1;32m     17\u001b[0m     yukBas \u001b[38;5;241m=\u001b[39m y\n\u001b[1;32m     18\u001b[0m     genBas \u001b[38;5;241m=\u001b[39m x\n",
      "\u001b[0;31mNameError\u001b[0m: name 'Y' is not defined"
     ]
    },
    {
     "ename": "NameError",
     "evalue": "name 'Y' is not defined",
     "output_type": "error",
     "traceback": [
      "\u001b[0;31m---------------------------------------------------------------------------\u001b[0m",
      "\u001b[0;31mNameError\u001b[0m                                 Traceback (most recent call last)",
      "Cell \u001b[0;32mIn [14], line 15\u001b[0m, in \u001b[0;36molay_gerceklesti\u001b[0;34m(event, x, y, flags, param)\u001b[0m\n\u001b[1;32m     13\u001b[0m \u001b[38;5;28;01mdef\u001b[39;00m \u001b[38;5;21molay_gerceklesti\u001b[39m(event, x, y, flags, param):\n\u001b[1;32m     14\u001b[0m     eskiX \u001b[38;5;241m=\u001b[39m x\n\u001b[0;32m---> 15\u001b[0m     eskiY \u001b[38;5;241m=\u001b[39m \u001b[43mY\u001b[49m\n\u001b[1;32m     17\u001b[0m     yukBas \u001b[38;5;241m=\u001b[39m y\n\u001b[1;32m     18\u001b[0m     genBas \u001b[38;5;241m=\u001b[39m x\n",
      "\u001b[0;31mNameError\u001b[0m: name 'Y' is not defined"
     ]
    },
    {
     "ename": "NameError",
     "evalue": "name 'Y' is not defined",
     "output_type": "error",
     "traceback": [
      "\u001b[0;31m---------------------------------------------------------------------------\u001b[0m",
      "\u001b[0;31mNameError\u001b[0m                                 Traceback (most recent call last)",
      "Cell \u001b[0;32mIn [14], line 15\u001b[0m, in \u001b[0;36molay_gerceklesti\u001b[0;34m(event, x, y, flags, param)\u001b[0m\n\u001b[1;32m     13\u001b[0m \u001b[38;5;28;01mdef\u001b[39;00m \u001b[38;5;21molay_gerceklesti\u001b[39m(event, x, y, flags, param):\n\u001b[1;32m     14\u001b[0m     eskiX \u001b[38;5;241m=\u001b[39m x\n\u001b[0;32m---> 15\u001b[0m     eskiY \u001b[38;5;241m=\u001b[39m \u001b[43mY\u001b[49m\n\u001b[1;32m     17\u001b[0m     yukBas \u001b[38;5;241m=\u001b[39m y\n\u001b[1;32m     18\u001b[0m     genBas \u001b[38;5;241m=\u001b[39m x\n",
      "\u001b[0;31mNameError\u001b[0m: name 'Y' is not defined"
     ]
    },
    {
     "ename": "NameError",
     "evalue": "name 'Y' is not defined",
     "output_type": "error",
     "traceback": [
      "\u001b[0;31m---------------------------------------------------------------------------\u001b[0m",
      "\u001b[0;31mNameError\u001b[0m                                 Traceback (most recent call last)",
      "Cell \u001b[0;32mIn [14], line 15\u001b[0m, in \u001b[0;36molay_gerceklesti\u001b[0;34m(event, x, y, flags, param)\u001b[0m\n\u001b[1;32m     13\u001b[0m \u001b[38;5;28;01mdef\u001b[39;00m \u001b[38;5;21molay_gerceklesti\u001b[39m(event, x, y, flags, param):\n\u001b[1;32m     14\u001b[0m     eskiX \u001b[38;5;241m=\u001b[39m x\n\u001b[0;32m---> 15\u001b[0m     eskiY \u001b[38;5;241m=\u001b[39m \u001b[43mY\u001b[49m\n\u001b[1;32m     17\u001b[0m     yukBas \u001b[38;5;241m=\u001b[39m y\n\u001b[1;32m     18\u001b[0m     genBas \u001b[38;5;241m=\u001b[39m x\n",
      "\u001b[0;31mNameError\u001b[0m: name 'Y' is not defined"
     ]
    },
    {
     "ename": "NameError",
     "evalue": "name 'Y' is not defined",
     "output_type": "error",
     "traceback": [
      "\u001b[0;31m---------------------------------------------------------------------------\u001b[0m",
      "\u001b[0;31mNameError\u001b[0m                                 Traceback (most recent call last)",
      "Cell \u001b[0;32mIn [14], line 15\u001b[0m, in \u001b[0;36molay_gerceklesti\u001b[0;34m(event, x, y, flags, param)\u001b[0m\n\u001b[1;32m     13\u001b[0m \u001b[38;5;28;01mdef\u001b[39;00m \u001b[38;5;21molay_gerceklesti\u001b[39m(event, x, y, flags, param):\n\u001b[1;32m     14\u001b[0m     eskiX \u001b[38;5;241m=\u001b[39m x\n\u001b[0;32m---> 15\u001b[0m     eskiY \u001b[38;5;241m=\u001b[39m \u001b[43mY\u001b[49m\n\u001b[1;32m     17\u001b[0m     yukBas \u001b[38;5;241m=\u001b[39m y\n\u001b[1;32m     18\u001b[0m     genBas \u001b[38;5;241m=\u001b[39m x\n",
      "\u001b[0;31mNameError\u001b[0m: name 'Y' is not defined"
     ]
    },
    {
     "ename": "NameError",
     "evalue": "name 'Y' is not defined",
     "output_type": "error",
     "traceback": [
      "\u001b[0;31m---------------------------------------------------------------------------\u001b[0m",
      "\u001b[0;31mNameError\u001b[0m                                 Traceback (most recent call last)",
      "Cell \u001b[0;32mIn [14], line 15\u001b[0m, in \u001b[0;36molay_gerceklesti\u001b[0;34m(event, x, y, flags, param)\u001b[0m\n\u001b[1;32m     13\u001b[0m \u001b[38;5;28;01mdef\u001b[39;00m \u001b[38;5;21molay_gerceklesti\u001b[39m(event, x, y, flags, param):\n\u001b[1;32m     14\u001b[0m     eskiX \u001b[38;5;241m=\u001b[39m x\n\u001b[0;32m---> 15\u001b[0m     eskiY \u001b[38;5;241m=\u001b[39m \u001b[43mY\u001b[49m\n\u001b[1;32m     17\u001b[0m     yukBas \u001b[38;5;241m=\u001b[39m y\n\u001b[1;32m     18\u001b[0m     genBas \u001b[38;5;241m=\u001b[39m x\n",
      "\u001b[0;31mNameError\u001b[0m: name 'Y' is not defined"
     ]
    },
    {
     "ename": "NameError",
     "evalue": "name 'Y' is not defined",
     "output_type": "error",
     "traceback": [
      "\u001b[0;31m---------------------------------------------------------------------------\u001b[0m",
      "\u001b[0;31mNameError\u001b[0m                                 Traceback (most recent call last)",
      "Cell \u001b[0;32mIn [14], line 15\u001b[0m, in \u001b[0;36molay_gerceklesti\u001b[0;34m(event, x, y, flags, param)\u001b[0m\n\u001b[1;32m     13\u001b[0m \u001b[38;5;28;01mdef\u001b[39;00m \u001b[38;5;21molay_gerceklesti\u001b[39m(event, x, y, flags, param):\n\u001b[1;32m     14\u001b[0m     eskiX \u001b[38;5;241m=\u001b[39m x\n\u001b[0;32m---> 15\u001b[0m     eskiY \u001b[38;5;241m=\u001b[39m \u001b[43mY\u001b[49m\n\u001b[1;32m     17\u001b[0m     yukBas \u001b[38;5;241m=\u001b[39m y\n\u001b[1;32m     18\u001b[0m     genBas \u001b[38;5;241m=\u001b[39m x\n",
      "\u001b[0;31mNameError\u001b[0m: name 'Y' is not defined"
     ]
    },
    {
     "ename": "NameError",
     "evalue": "name 'Y' is not defined",
     "output_type": "error",
     "traceback": [
      "\u001b[0;31m---------------------------------------------------------------------------\u001b[0m",
      "\u001b[0;31mNameError\u001b[0m                                 Traceback (most recent call last)",
      "Cell \u001b[0;32mIn [14], line 15\u001b[0m, in \u001b[0;36molay_gerceklesti\u001b[0;34m(event, x, y, flags, param)\u001b[0m\n\u001b[1;32m     13\u001b[0m \u001b[38;5;28;01mdef\u001b[39;00m \u001b[38;5;21molay_gerceklesti\u001b[39m(event, x, y, flags, param):\n\u001b[1;32m     14\u001b[0m     eskiX \u001b[38;5;241m=\u001b[39m x\n\u001b[0;32m---> 15\u001b[0m     eskiY \u001b[38;5;241m=\u001b[39m \u001b[43mY\u001b[49m\n\u001b[1;32m     17\u001b[0m     yukBas \u001b[38;5;241m=\u001b[39m y\n\u001b[1;32m     18\u001b[0m     genBas \u001b[38;5;241m=\u001b[39m x\n",
      "\u001b[0;31mNameError\u001b[0m: name 'Y' is not defined"
     ]
    },
    {
     "ename": "NameError",
     "evalue": "name 'Y' is not defined",
     "output_type": "error",
     "traceback": [
      "\u001b[0;31m---------------------------------------------------------------------------\u001b[0m",
      "\u001b[0;31mNameError\u001b[0m                                 Traceback (most recent call last)",
      "Cell \u001b[0;32mIn [14], line 15\u001b[0m, in \u001b[0;36molay_gerceklesti\u001b[0;34m(event, x, y, flags, param)\u001b[0m\n\u001b[1;32m     13\u001b[0m \u001b[38;5;28;01mdef\u001b[39;00m \u001b[38;5;21molay_gerceklesti\u001b[39m(event, x, y, flags, param):\n\u001b[1;32m     14\u001b[0m     eskiX \u001b[38;5;241m=\u001b[39m x\n\u001b[0;32m---> 15\u001b[0m     eskiY \u001b[38;5;241m=\u001b[39m \u001b[43mY\u001b[49m\n\u001b[1;32m     17\u001b[0m     yukBas \u001b[38;5;241m=\u001b[39m y\n\u001b[1;32m     18\u001b[0m     genBas \u001b[38;5;241m=\u001b[39m x\n",
      "\u001b[0;31mNameError\u001b[0m: name 'Y' is not defined"
     ]
    },
    {
     "ename": "NameError",
     "evalue": "name 'Y' is not defined",
     "output_type": "error",
     "traceback": [
      "\u001b[0;31m---------------------------------------------------------------------------\u001b[0m",
      "\u001b[0;31mNameError\u001b[0m                                 Traceback (most recent call last)",
      "Cell \u001b[0;32mIn [14], line 15\u001b[0m, in \u001b[0;36molay_gerceklesti\u001b[0;34m(event, x, y, flags, param)\u001b[0m\n\u001b[1;32m     13\u001b[0m \u001b[38;5;28;01mdef\u001b[39;00m \u001b[38;5;21molay_gerceklesti\u001b[39m(event, x, y, flags, param):\n\u001b[1;32m     14\u001b[0m     eskiX \u001b[38;5;241m=\u001b[39m x\n\u001b[0;32m---> 15\u001b[0m     eskiY \u001b[38;5;241m=\u001b[39m \u001b[43mY\u001b[49m\n\u001b[1;32m     17\u001b[0m     yukBas \u001b[38;5;241m=\u001b[39m y\n\u001b[1;32m     18\u001b[0m     genBas \u001b[38;5;241m=\u001b[39m x\n",
      "\u001b[0;31mNameError\u001b[0m: name 'Y' is not defined"
     ]
    },
    {
     "ename": "NameError",
     "evalue": "name 'Y' is not defined",
     "output_type": "error",
     "traceback": [
      "\u001b[0;31m---------------------------------------------------------------------------\u001b[0m",
      "\u001b[0;31mNameError\u001b[0m                                 Traceback (most recent call last)",
      "Cell \u001b[0;32mIn [14], line 15\u001b[0m, in \u001b[0;36molay_gerceklesti\u001b[0;34m(event, x, y, flags, param)\u001b[0m\n\u001b[1;32m     13\u001b[0m \u001b[38;5;28;01mdef\u001b[39;00m \u001b[38;5;21molay_gerceklesti\u001b[39m(event, x, y, flags, param):\n\u001b[1;32m     14\u001b[0m     eskiX \u001b[38;5;241m=\u001b[39m x\n\u001b[0;32m---> 15\u001b[0m     eskiY \u001b[38;5;241m=\u001b[39m \u001b[43mY\u001b[49m\n\u001b[1;32m     17\u001b[0m     yukBas \u001b[38;5;241m=\u001b[39m y\n\u001b[1;32m     18\u001b[0m     genBas \u001b[38;5;241m=\u001b[39m x\n",
      "\u001b[0;31mNameError\u001b[0m: name 'Y' is not defined"
     ]
    },
    {
     "ename": "NameError",
     "evalue": "name 'Y' is not defined",
     "output_type": "error",
     "traceback": [
      "\u001b[0;31m---------------------------------------------------------------------------\u001b[0m",
      "\u001b[0;31mNameError\u001b[0m                                 Traceback (most recent call last)",
      "Cell \u001b[0;32mIn [14], line 15\u001b[0m, in \u001b[0;36molay_gerceklesti\u001b[0;34m(event, x, y, flags, param)\u001b[0m\n\u001b[1;32m     13\u001b[0m \u001b[38;5;28;01mdef\u001b[39;00m \u001b[38;5;21molay_gerceklesti\u001b[39m(event, x, y, flags, param):\n\u001b[1;32m     14\u001b[0m     eskiX \u001b[38;5;241m=\u001b[39m x\n\u001b[0;32m---> 15\u001b[0m     eskiY \u001b[38;5;241m=\u001b[39m \u001b[43mY\u001b[49m\n\u001b[1;32m     17\u001b[0m     yukBas \u001b[38;5;241m=\u001b[39m y\n\u001b[1;32m     18\u001b[0m     genBas \u001b[38;5;241m=\u001b[39m x\n",
      "\u001b[0;31mNameError\u001b[0m: name 'Y' is not defined"
     ]
    },
    {
     "ename": "NameError",
     "evalue": "name 'Y' is not defined",
     "output_type": "error",
     "traceback": [
      "\u001b[0;31m---------------------------------------------------------------------------\u001b[0m",
      "\u001b[0;31mNameError\u001b[0m                                 Traceback (most recent call last)",
      "Cell \u001b[0;32mIn [14], line 15\u001b[0m, in \u001b[0;36molay_gerceklesti\u001b[0;34m(event, x, y, flags, param)\u001b[0m\n\u001b[1;32m     13\u001b[0m \u001b[38;5;28;01mdef\u001b[39;00m \u001b[38;5;21molay_gerceklesti\u001b[39m(event, x, y, flags, param):\n\u001b[1;32m     14\u001b[0m     eskiX \u001b[38;5;241m=\u001b[39m x\n\u001b[0;32m---> 15\u001b[0m     eskiY \u001b[38;5;241m=\u001b[39m \u001b[43mY\u001b[49m\n\u001b[1;32m     17\u001b[0m     yukBas \u001b[38;5;241m=\u001b[39m y\n\u001b[1;32m     18\u001b[0m     genBas \u001b[38;5;241m=\u001b[39m x\n",
      "\u001b[0;31mNameError\u001b[0m: name 'Y' is not defined"
     ]
    },
    {
     "ename": "NameError",
     "evalue": "name 'Y' is not defined",
     "output_type": "error",
     "traceback": [
      "\u001b[0;31m---------------------------------------------------------------------------\u001b[0m",
      "\u001b[0;31mNameError\u001b[0m                                 Traceback (most recent call last)",
      "Cell \u001b[0;32mIn [14], line 15\u001b[0m, in \u001b[0;36molay_gerceklesti\u001b[0;34m(event, x, y, flags, param)\u001b[0m\n\u001b[1;32m     13\u001b[0m \u001b[38;5;28;01mdef\u001b[39;00m \u001b[38;5;21molay_gerceklesti\u001b[39m(event, x, y, flags, param):\n\u001b[1;32m     14\u001b[0m     eskiX \u001b[38;5;241m=\u001b[39m x\n\u001b[0;32m---> 15\u001b[0m     eskiY \u001b[38;5;241m=\u001b[39m \u001b[43mY\u001b[49m\n\u001b[1;32m     17\u001b[0m     yukBas \u001b[38;5;241m=\u001b[39m y\n\u001b[1;32m     18\u001b[0m     genBas \u001b[38;5;241m=\u001b[39m x\n",
      "\u001b[0;31mNameError\u001b[0m: name 'Y' is not defined"
     ]
    },
    {
     "ename": "NameError",
     "evalue": "name 'Y' is not defined",
     "output_type": "error",
     "traceback": [
      "\u001b[0;31m---------------------------------------------------------------------------\u001b[0m",
      "\u001b[0;31mNameError\u001b[0m                                 Traceback (most recent call last)",
      "Cell \u001b[0;32mIn [14], line 15\u001b[0m, in \u001b[0;36molay_gerceklesti\u001b[0;34m(event, x, y, flags, param)\u001b[0m\n\u001b[1;32m     13\u001b[0m \u001b[38;5;28;01mdef\u001b[39;00m \u001b[38;5;21molay_gerceklesti\u001b[39m(event, x, y, flags, param):\n\u001b[1;32m     14\u001b[0m     eskiX \u001b[38;5;241m=\u001b[39m x\n\u001b[0;32m---> 15\u001b[0m     eskiY \u001b[38;5;241m=\u001b[39m \u001b[43mY\u001b[49m\n\u001b[1;32m     17\u001b[0m     yukBas \u001b[38;5;241m=\u001b[39m y\n\u001b[1;32m     18\u001b[0m     genBas \u001b[38;5;241m=\u001b[39m x\n",
      "\u001b[0;31mNameError\u001b[0m: name 'Y' is not defined"
     ]
    },
    {
     "ename": "NameError",
     "evalue": "name 'Y' is not defined",
     "output_type": "error",
     "traceback": [
      "\u001b[0;31m---------------------------------------------------------------------------\u001b[0m",
      "\u001b[0;31mNameError\u001b[0m                                 Traceback (most recent call last)",
      "Cell \u001b[0;32mIn [14], line 15\u001b[0m, in \u001b[0;36molay_gerceklesti\u001b[0;34m(event, x, y, flags, param)\u001b[0m\n\u001b[1;32m     13\u001b[0m \u001b[38;5;28;01mdef\u001b[39;00m \u001b[38;5;21molay_gerceklesti\u001b[39m(event, x, y, flags, param):\n\u001b[1;32m     14\u001b[0m     eskiX \u001b[38;5;241m=\u001b[39m x\n\u001b[0;32m---> 15\u001b[0m     eskiY \u001b[38;5;241m=\u001b[39m \u001b[43mY\u001b[49m\n\u001b[1;32m     17\u001b[0m     yukBas \u001b[38;5;241m=\u001b[39m y\n\u001b[1;32m     18\u001b[0m     genBas \u001b[38;5;241m=\u001b[39m x\n",
      "\u001b[0;31mNameError\u001b[0m: name 'Y' is not defined"
     ]
    },
    {
     "ename": "NameError",
     "evalue": "name 'Y' is not defined",
     "output_type": "error",
     "traceback": [
      "\u001b[0;31m---------------------------------------------------------------------------\u001b[0m",
      "\u001b[0;31mNameError\u001b[0m                                 Traceback (most recent call last)",
      "Cell \u001b[0;32mIn [14], line 15\u001b[0m, in \u001b[0;36molay_gerceklesti\u001b[0;34m(event, x, y, flags, param)\u001b[0m\n\u001b[1;32m     13\u001b[0m \u001b[38;5;28;01mdef\u001b[39;00m \u001b[38;5;21molay_gerceklesti\u001b[39m(event, x, y, flags, param):\n\u001b[1;32m     14\u001b[0m     eskiX \u001b[38;5;241m=\u001b[39m x\n\u001b[0;32m---> 15\u001b[0m     eskiY \u001b[38;5;241m=\u001b[39m \u001b[43mY\u001b[49m\n\u001b[1;32m     17\u001b[0m     yukBas \u001b[38;5;241m=\u001b[39m y\n\u001b[1;32m     18\u001b[0m     genBas \u001b[38;5;241m=\u001b[39m x\n",
      "\u001b[0;31mNameError\u001b[0m: name 'Y' is not defined"
     ]
    },
    {
     "ename": "NameError",
     "evalue": "name 'Y' is not defined",
     "output_type": "error",
     "traceback": [
      "\u001b[0;31m---------------------------------------------------------------------------\u001b[0m",
      "\u001b[0;31mNameError\u001b[0m                                 Traceback (most recent call last)",
      "Cell \u001b[0;32mIn [14], line 15\u001b[0m, in \u001b[0;36molay_gerceklesti\u001b[0;34m(event, x, y, flags, param)\u001b[0m\n\u001b[1;32m     13\u001b[0m \u001b[38;5;28;01mdef\u001b[39;00m \u001b[38;5;21molay_gerceklesti\u001b[39m(event, x, y, flags, param):\n\u001b[1;32m     14\u001b[0m     eskiX \u001b[38;5;241m=\u001b[39m x\n\u001b[0;32m---> 15\u001b[0m     eskiY \u001b[38;5;241m=\u001b[39m \u001b[43mY\u001b[49m\n\u001b[1;32m     17\u001b[0m     yukBas \u001b[38;5;241m=\u001b[39m y\n\u001b[1;32m     18\u001b[0m     genBas \u001b[38;5;241m=\u001b[39m x\n",
      "\u001b[0;31mNameError\u001b[0m: name 'Y' is not defined"
     ]
    },
    {
     "ename": "NameError",
     "evalue": "name 'Y' is not defined",
     "output_type": "error",
     "traceback": [
      "\u001b[0;31m---------------------------------------------------------------------------\u001b[0m",
      "\u001b[0;31mNameError\u001b[0m                                 Traceback (most recent call last)",
      "Cell \u001b[0;32mIn [14], line 15\u001b[0m, in \u001b[0;36molay_gerceklesti\u001b[0;34m(event, x, y, flags, param)\u001b[0m\n\u001b[1;32m     13\u001b[0m \u001b[38;5;28;01mdef\u001b[39;00m \u001b[38;5;21molay_gerceklesti\u001b[39m(event, x, y, flags, param):\n\u001b[1;32m     14\u001b[0m     eskiX \u001b[38;5;241m=\u001b[39m x\n\u001b[0;32m---> 15\u001b[0m     eskiY \u001b[38;5;241m=\u001b[39m \u001b[43mY\u001b[49m\n\u001b[1;32m     17\u001b[0m     yukBas \u001b[38;5;241m=\u001b[39m y\n\u001b[1;32m     18\u001b[0m     genBas \u001b[38;5;241m=\u001b[39m x\n",
      "\u001b[0;31mNameError\u001b[0m: name 'Y' is not defined"
     ]
    },
    {
     "ename": "NameError",
     "evalue": "name 'Y' is not defined",
     "output_type": "error",
     "traceback": [
      "\u001b[0;31m---------------------------------------------------------------------------\u001b[0m",
      "\u001b[0;31mNameError\u001b[0m                                 Traceback (most recent call last)",
      "Cell \u001b[0;32mIn [14], line 15\u001b[0m, in \u001b[0;36molay_gerceklesti\u001b[0;34m(event, x, y, flags, param)\u001b[0m\n\u001b[1;32m     13\u001b[0m \u001b[38;5;28;01mdef\u001b[39;00m \u001b[38;5;21molay_gerceklesti\u001b[39m(event, x, y, flags, param):\n\u001b[1;32m     14\u001b[0m     eskiX \u001b[38;5;241m=\u001b[39m x\n\u001b[0;32m---> 15\u001b[0m     eskiY \u001b[38;5;241m=\u001b[39m \u001b[43mY\u001b[49m\n\u001b[1;32m     17\u001b[0m     yukBas \u001b[38;5;241m=\u001b[39m y\n\u001b[1;32m     18\u001b[0m     genBas \u001b[38;5;241m=\u001b[39m x\n",
      "\u001b[0;31mNameError\u001b[0m: name 'Y' is not defined"
     ]
    },
    {
     "ename": "NameError",
     "evalue": "name 'Y' is not defined",
     "output_type": "error",
     "traceback": [
      "\u001b[0;31m---------------------------------------------------------------------------\u001b[0m",
      "\u001b[0;31mNameError\u001b[0m                                 Traceback (most recent call last)",
      "Cell \u001b[0;32mIn [14], line 15\u001b[0m, in \u001b[0;36molay_gerceklesti\u001b[0;34m(event, x, y, flags, param)\u001b[0m\n\u001b[1;32m     13\u001b[0m \u001b[38;5;28;01mdef\u001b[39;00m \u001b[38;5;21molay_gerceklesti\u001b[39m(event, x, y, flags, param):\n\u001b[1;32m     14\u001b[0m     eskiX \u001b[38;5;241m=\u001b[39m x\n\u001b[0;32m---> 15\u001b[0m     eskiY \u001b[38;5;241m=\u001b[39m \u001b[43mY\u001b[49m\n\u001b[1;32m     17\u001b[0m     yukBas \u001b[38;5;241m=\u001b[39m y\n\u001b[1;32m     18\u001b[0m     genBas \u001b[38;5;241m=\u001b[39m x\n",
      "\u001b[0;31mNameError\u001b[0m: name 'Y' is not defined"
     ]
    },
    {
     "ename": "NameError",
     "evalue": "name 'Y' is not defined",
     "output_type": "error",
     "traceback": [
      "\u001b[0;31m---------------------------------------------------------------------------\u001b[0m",
      "\u001b[0;31mNameError\u001b[0m                                 Traceback (most recent call last)",
      "Cell \u001b[0;32mIn [14], line 15\u001b[0m, in \u001b[0;36molay_gerceklesti\u001b[0;34m(event, x, y, flags, param)\u001b[0m\n\u001b[1;32m     13\u001b[0m \u001b[38;5;28;01mdef\u001b[39;00m \u001b[38;5;21molay_gerceklesti\u001b[39m(event, x, y, flags, param):\n\u001b[1;32m     14\u001b[0m     eskiX \u001b[38;5;241m=\u001b[39m x\n\u001b[0;32m---> 15\u001b[0m     eskiY \u001b[38;5;241m=\u001b[39m \u001b[43mY\u001b[49m\n\u001b[1;32m     17\u001b[0m     yukBas \u001b[38;5;241m=\u001b[39m y\n\u001b[1;32m     18\u001b[0m     genBas \u001b[38;5;241m=\u001b[39m x\n",
      "\u001b[0;31mNameError\u001b[0m: name 'Y' is not defined"
     ]
    },
    {
     "ename": "NameError",
     "evalue": "name 'Y' is not defined",
     "output_type": "error",
     "traceback": [
      "\u001b[0;31m---------------------------------------------------------------------------\u001b[0m",
      "\u001b[0;31mNameError\u001b[0m                                 Traceback (most recent call last)",
      "Cell \u001b[0;32mIn [14], line 15\u001b[0m, in \u001b[0;36molay_gerceklesti\u001b[0;34m(event, x, y, flags, param)\u001b[0m\n\u001b[1;32m     13\u001b[0m \u001b[38;5;28;01mdef\u001b[39;00m \u001b[38;5;21molay_gerceklesti\u001b[39m(event, x, y, flags, param):\n\u001b[1;32m     14\u001b[0m     eskiX \u001b[38;5;241m=\u001b[39m x\n\u001b[0;32m---> 15\u001b[0m     eskiY \u001b[38;5;241m=\u001b[39m \u001b[43mY\u001b[49m\n\u001b[1;32m     17\u001b[0m     yukBas \u001b[38;5;241m=\u001b[39m y\n\u001b[1;32m     18\u001b[0m     genBas \u001b[38;5;241m=\u001b[39m x\n",
      "\u001b[0;31mNameError\u001b[0m: name 'Y' is not defined"
     ]
    },
    {
     "ename": "NameError",
     "evalue": "name 'Y' is not defined",
     "output_type": "error",
     "traceback": [
      "\u001b[0;31m---------------------------------------------------------------------------\u001b[0m",
      "\u001b[0;31mNameError\u001b[0m                                 Traceback (most recent call last)",
      "Cell \u001b[0;32mIn [14], line 15\u001b[0m, in \u001b[0;36molay_gerceklesti\u001b[0;34m(event, x, y, flags, param)\u001b[0m\n\u001b[1;32m     13\u001b[0m \u001b[38;5;28;01mdef\u001b[39;00m \u001b[38;5;21molay_gerceklesti\u001b[39m(event, x, y, flags, param):\n\u001b[1;32m     14\u001b[0m     eskiX \u001b[38;5;241m=\u001b[39m x\n\u001b[0;32m---> 15\u001b[0m     eskiY \u001b[38;5;241m=\u001b[39m \u001b[43mY\u001b[49m\n\u001b[1;32m     17\u001b[0m     yukBas \u001b[38;5;241m=\u001b[39m y\n\u001b[1;32m     18\u001b[0m     genBas \u001b[38;5;241m=\u001b[39m x\n",
      "\u001b[0;31mNameError\u001b[0m: name 'Y' is not defined"
     ]
    },
    {
     "ename": "NameError",
     "evalue": "name 'Y' is not defined",
     "output_type": "error",
     "traceback": [
      "\u001b[0;31m---------------------------------------------------------------------------\u001b[0m",
      "\u001b[0;31mNameError\u001b[0m                                 Traceback (most recent call last)",
      "Cell \u001b[0;32mIn [14], line 15\u001b[0m, in \u001b[0;36molay_gerceklesti\u001b[0;34m(event, x, y, flags, param)\u001b[0m\n\u001b[1;32m     13\u001b[0m \u001b[38;5;28;01mdef\u001b[39;00m \u001b[38;5;21molay_gerceklesti\u001b[39m(event, x, y, flags, param):\n\u001b[1;32m     14\u001b[0m     eskiX \u001b[38;5;241m=\u001b[39m x\n\u001b[0;32m---> 15\u001b[0m     eskiY \u001b[38;5;241m=\u001b[39m \u001b[43mY\u001b[49m\n\u001b[1;32m     17\u001b[0m     yukBas \u001b[38;5;241m=\u001b[39m y\n\u001b[1;32m     18\u001b[0m     genBas \u001b[38;5;241m=\u001b[39m x\n",
      "\u001b[0;31mNameError\u001b[0m: name 'Y' is not defined"
     ]
    },
    {
     "ename": "NameError",
     "evalue": "name 'Y' is not defined",
     "output_type": "error",
     "traceback": [
      "\u001b[0;31m---------------------------------------------------------------------------\u001b[0m",
      "\u001b[0;31mNameError\u001b[0m                                 Traceback (most recent call last)",
      "Cell \u001b[0;32mIn [14], line 15\u001b[0m, in \u001b[0;36molay_gerceklesti\u001b[0;34m(event, x, y, flags, param)\u001b[0m\n\u001b[1;32m     13\u001b[0m \u001b[38;5;28;01mdef\u001b[39;00m \u001b[38;5;21molay_gerceklesti\u001b[39m(event, x, y, flags, param):\n\u001b[1;32m     14\u001b[0m     eskiX \u001b[38;5;241m=\u001b[39m x\n\u001b[0;32m---> 15\u001b[0m     eskiY \u001b[38;5;241m=\u001b[39m \u001b[43mY\u001b[49m\n\u001b[1;32m     17\u001b[0m     yukBas \u001b[38;5;241m=\u001b[39m y\n\u001b[1;32m     18\u001b[0m     genBas \u001b[38;5;241m=\u001b[39m x\n",
      "\u001b[0;31mNameError\u001b[0m: name 'Y' is not defined"
     ]
    },
    {
     "ename": "NameError",
     "evalue": "name 'Y' is not defined",
     "output_type": "error",
     "traceback": [
      "\u001b[0;31m---------------------------------------------------------------------------\u001b[0m",
      "\u001b[0;31mNameError\u001b[0m                                 Traceback (most recent call last)",
      "Cell \u001b[0;32mIn [14], line 15\u001b[0m, in \u001b[0;36molay_gerceklesti\u001b[0;34m(event, x, y, flags, param)\u001b[0m\n\u001b[1;32m     13\u001b[0m \u001b[38;5;28;01mdef\u001b[39;00m \u001b[38;5;21molay_gerceklesti\u001b[39m(event, x, y, flags, param):\n\u001b[1;32m     14\u001b[0m     eskiX \u001b[38;5;241m=\u001b[39m x\n\u001b[0;32m---> 15\u001b[0m     eskiY \u001b[38;5;241m=\u001b[39m \u001b[43mY\u001b[49m\n\u001b[1;32m     17\u001b[0m     yukBas \u001b[38;5;241m=\u001b[39m y\n\u001b[1;32m     18\u001b[0m     genBas \u001b[38;5;241m=\u001b[39m x\n",
      "\u001b[0;31mNameError\u001b[0m: name 'Y' is not defined"
     ]
    },
    {
     "ename": "NameError",
     "evalue": "name 'Y' is not defined",
     "output_type": "error",
     "traceback": [
      "\u001b[0;31m---------------------------------------------------------------------------\u001b[0m",
      "\u001b[0;31mNameError\u001b[0m                                 Traceback (most recent call last)",
      "Cell \u001b[0;32mIn [14], line 15\u001b[0m, in \u001b[0;36molay_gerceklesti\u001b[0;34m(event, x, y, flags, param)\u001b[0m\n\u001b[1;32m     13\u001b[0m \u001b[38;5;28;01mdef\u001b[39;00m \u001b[38;5;21molay_gerceklesti\u001b[39m(event, x, y, flags, param):\n\u001b[1;32m     14\u001b[0m     eskiX \u001b[38;5;241m=\u001b[39m x\n\u001b[0;32m---> 15\u001b[0m     eskiY \u001b[38;5;241m=\u001b[39m \u001b[43mY\u001b[49m\n\u001b[1;32m     17\u001b[0m     yukBas \u001b[38;5;241m=\u001b[39m y\n\u001b[1;32m     18\u001b[0m     genBas \u001b[38;5;241m=\u001b[39m x\n",
      "\u001b[0;31mNameError\u001b[0m: name 'Y' is not defined"
     ]
    },
    {
     "ename": "NameError",
     "evalue": "name 'Y' is not defined",
     "output_type": "error",
     "traceback": [
      "\u001b[0;31m---------------------------------------------------------------------------\u001b[0m",
      "\u001b[0;31mNameError\u001b[0m                                 Traceback (most recent call last)",
      "Cell \u001b[0;32mIn [14], line 15\u001b[0m, in \u001b[0;36molay_gerceklesti\u001b[0;34m(event, x, y, flags, param)\u001b[0m\n\u001b[1;32m     13\u001b[0m \u001b[38;5;28;01mdef\u001b[39;00m \u001b[38;5;21molay_gerceklesti\u001b[39m(event, x, y, flags, param):\n\u001b[1;32m     14\u001b[0m     eskiX \u001b[38;5;241m=\u001b[39m x\n\u001b[0;32m---> 15\u001b[0m     eskiY \u001b[38;5;241m=\u001b[39m \u001b[43mY\u001b[49m\n\u001b[1;32m     17\u001b[0m     yukBas \u001b[38;5;241m=\u001b[39m y\n\u001b[1;32m     18\u001b[0m     genBas \u001b[38;5;241m=\u001b[39m x\n",
      "\u001b[0;31mNameError\u001b[0m: name 'Y' is not defined"
     ]
    },
    {
     "ename": "NameError",
     "evalue": "name 'Y' is not defined",
     "output_type": "error",
     "traceback": [
      "\u001b[0;31m---------------------------------------------------------------------------\u001b[0m",
      "\u001b[0;31mNameError\u001b[0m                                 Traceback (most recent call last)",
      "Cell \u001b[0;32mIn [14], line 15\u001b[0m, in \u001b[0;36molay_gerceklesti\u001b[0;34m(event, x, y, flags, param)\u001b[0m\n\u001b[1;32m     13\u001b[0m \u001b[38;5;28;01mdef\u001b[39;00m \u001b[38;5;21molay_gerceklesti\u001b[39m(event, x, y, flags, param):\n\u001b[1;32m     14\u001b[0m     eskiX \u001b[38;5;241m=\u001b[39m x\n\u001b[0;32m---> 15\u001b[0m     eskiY \u001b[38;5;241m=\u001b[39m \u001b[43mY\u001b[49m\n\u001b[1;32m     17\u001b[0m     yukBas \u001b[38;5;241m=\u001b[39m y\n\u001b[1;32m     18\u001b[0m     genBas \u001b[38;5;241m=\u001b[39m x\n",
      "\u001b[0;31mNameError\u001b[0m: name 'Y' is not defined"
     ]
    },
    {
     "ename": "NameError",
     "evalue": "name 'Y' is not defined",
     "output_type": "error",
     "traceback": [
      "\u001b[0;31m---------------------------------------------------------------------------\u001b[0m",
      "\u001b[0;31mNameError\u001b[0m                                 Traceback (most recent call last)",
      "Cell \u001b[0;32mIn [14], line 15\u001b[0m, in \u001b[0;36molay_gerceklesti\u001b[0;34m(event, x, y, flags, param)\u001b[0m\n\u001b[1;32m     13\u001b[0m \u001b[38;5;28;01mdef\u001b[39;00m \u001b[38;5;21molay_gerceklesti\u001b[39m(event, x, y, flags, param):\n\u001b[1;32m     14\u001b[0m     eskiX \u001b[38;5;241m=\u001b[39m x\n\u001b[0;32m---> 15\u001b[0m     eskiY \u001b[38;5;241m=\u001b[39m \u001b[43mY\u001b[49m\n\u001b[1;32m     17\u001b[0m     yukBas \u001b[38;5;241m=\u001b[39m y\n\u001b[1;32m     18\u001b[0m     genBas \u001b[38;5;241m=\u001b[39m x\n",
      "\u001b[0;31mNameError\u001b[0m: name 'Y' is not defined"
     ]
    },
    {
     "ename": "NameError",
     "evalue": "name 'Y' is not defined",
     "output_type": "error",
     "traceback": [
      "\u001b[0;31m---------------------------------------------------------------------------\u001b[0m",
      "\u001b[0;31mNameError\u001b[0m                                 Traceback (most recent call last)",
      "Cell \u001b[0;32mIn [14], line 15\u001b[0m, in \u001b[0;36molay_gerceklesti\u001b[0;34m(event, x, y, flags, param)\u001b[0m\n\u001b[1;32m     13\u001b[0m \u001b[38;5;28;01mdef\u001b[39;00m \u001b[38;5;21molay_gerceklesti\u001b[39m(event, x, y, flags, param):\n\u001b[1;32m     14\u001b[0m     eskiX \u001b[38;5;241m=\u001b[39m x\n\u001b[0;32m---> 15\u001b[0m     eskiY \u001b[38;5;241m=\u001b[39m \u001b[43mY\u001b[49m\n\u001b[1;32m     17\u001b[0m     yukBas \u001b[38;5;241m=\u001b[39m y\n\u001b[1;32m     18\u001b[0m     genBas \u001b[38;5;241m=\u001b[39m x\n",
      "\u001b[0;31mNameError\u001b[0m: name 'Y' is not defined"
     ]
    },
    {
     "ename": "NameError",
     "evalue": "name 'Y' is not defined",
     "output_type": "error",
     "traceback": [
      "\u001b[0;31m---------------------------------------------------------------------------\u001b[0m",
      "\u001b[0;31mNameError\u001b[0m                                 Traceback (most recent call last)",
      "Cell \u001b[0;32mIn [14], line 15\u001b[0m, in \u001b[0;36molay_gerceklesti\u001b[0;34m(event, x, y, flags, param)\u001b[0m\n\u001b[1;32m     13\u001b[0m \u001b[38;5;28;01mdef\u001b[39;00m \u001b[38;5;21molay_gerceklesti\u001b[39m(event, x, y, flags, param):\n\u001b[1;32m     14\u001b[0m     eskiX \u001b[38;5;241m=\u001b[39m x\n\u001b[0;32m---> 15\u001b[0m     eskiY \u001b[38;5;241m=\u001b[39m \u001b[43mY\u001b[49m\n\u001b[1;32m     17\u001b[0m     yukBas \u001b[38;5;241m=\u001b[39m y\n\u001b[1;32m     18\u001b[0m     genBas \u001b[38;5;241m=\u001b[39m x\n",
      "\u001b[0;31mNameError\u001b[0m: name 'Y' is not defined"
     ]
    },
    {
     "ename": "NameError",
     "evalue": "name 'Y' is not defined",
     "output_type": "error",
     "traceback": [
      "\u001b[0;31m---------------------------------------------------------------------------\u001b[0m",
      "\u001b[0;31mNameError\u001b[0m                                 Traceback (most recent call last)",
      "Cell \u001b[0;32mIn [14], line 15\u001b[0m, in \u001b[0;36molay_gerceklesti\u001b[0;34m(event, x, y, flags, param)\u001b[0m\n\u001b[1;32m     13\u001b[0m \u001b[38;5;28;01mdef\u001b[39;00m \u001b[38;5;21molay_gerceklesti\u001b[39m(event, x, y, flags, param):\n\u001b[1;32m     14\u001b[0m     eskiX \u001b[38;5;241m=\u001b[39m x\n\u001b[0;32m---> 15\u001b[0m     eskiY \u001b[38;5;241m=\u001b[39m \u001b[43mY\u001b[49m\n\u001b[1;32m     17\u001b[0m     yukBas \u001b[38;5;241m=\u001b[39m y\n\u001b[1;32m     18\u001b[0m     genBas \u001b[38;5;241m=\u001b[39m x\n",
      "\u001b[0;31mNameError\u001b[0m: name 'Y' is not defined"
     ]
    },
    {
     "ename": "NameError",
     "evalue": "name 'Y' is not defined",
     "output_type": "error",
     "traceback": [
      "\u001b[0;31m---------------------------------------------------------------------------\u001b[0m",
      "\u001b[0;31mNameError\u001b[0m                                 Traceback (most recent call last)",
      "Cell \u001b[0;32mIn [14], line 15\u001b[0m, in \u001b[0;36molay_gerceklesti\u001b[0;34m(event, x, y, flags, param)\u001b[0m\n\u001b[1;32m     13\u001b[0m \u001b[38;5;28;01mdef\u001b[39;00m \u001b[38;5;21molay_gerceklesti\u001b[39m(event, x, y, flags, param):\n\u001b[1;32m     14\u001b[0m     eskiX \u001b[38;5;241m=\u001b[39m x\n\u001b[0;32m---> 15\u001b[0m     eskiY \u001b[38;5;241m=\u001b[39m \u001b[43mY\u001b[49m\n\u001b[1;32m     17\u001b[0m     yukBas \u001b[38;5;241m=\u001b[39m y\n\u001b[1;32m     18\u001b[0m     genBas \u001b[38;5;241m=\u001b[39m x\n",
      "\u001b[0;31mNameError\u001b[0m: name 'Y' is not defined"
     ]
    },
    {
     "ename": "NameError",
     "evalue": "name 'Y' is not defined",
     "output_type": "error",
     "traceback": [
      "\u001b[0;31m---------------------------------------------------------------------------\u001b[0m",
      "\u001b[0;31mNameError\u001b[0m                                 Traceback (most recent call last)",
      "Cell \u001b[0;32mIn [14], line 15\u001b[0m, in \u001b[0;36molay_gerceklesti\u001b[0;34m(event, x, y, flags, param)\u001b[0m\n\u001b[1;32m     13\u001b[0m \u001b[38;5;28;01mdef\u001b[39;00m \u001b[38;5;21molay_gerceklesti\u001b[39m(event, x, y, flags, param):\n\u001b[1;32m     14\u001b[0m     eskiX \u001b[38;5;241m=\u001b[39m x\n\u001b[0;32m---> 15\u001b[0m     eskiY \u001b[38;5;241m=\u001b[39m \u001b[43mY\u001b[49m\n\u001b[1;32m     17\u001b[0m     yukBas \u001b[38;5;241m=\u001b[39m y\n\u001b[1;32m     18\u001b[0m     genBas \u001b[38;5;241m=\u001b[39m x\n",
      "\u001b[0;31mNameError\u001b[0m: name 'Y' is not defined"
     ]
    },
    {
     "ename": "NameError",
     "evalue": "name 'Y' is not defined",
     "output_type": "error",
     "traceback": [
      "\u001b[0;31m---------------------------------------------------------------------------\u001b[0m",
      "\u001b[0;31mNameError\u001b[0m                                 Traceback (most recent call last)",
      "Cell \u001b[0;32mIn [14], line 15\u001b[0m, in \u001b[0;36molay_gerceklesti\u001b[0;34m(event, x, y, flags, param)\u001b[0m\n\u001b[1;32m     13\u001b[0m \u001b[38;5;28;01mdef\u001b[39;00m \u001b[38;5;21molay_gerceklesti\u001b[39m(event, x, y, flags, param):\n\u001b[1;32m     14\u001b[0m     eskiX \u001b[38;5;241m=\u001b[39m x\n\u001b[0;32m---> 15\u001b[0m     eskiY \u001b[38;5;241m=\u001b[39m \u001b[43mY\u001b[49m\n\u001b[1;32m     17\u001b[0m     yukBas \u001b[38;5;241m=\u001b[39m y\n\u001b[1;32m     18\u001b[0m     genBas \u001b[38;5;241m=\u001b[39m x\n",
      "\u001b[0;31mNameError\u001b[0m: name 'Y' is not defined"
     ]
    },
    {
     "ename": "NameError",
     "evalue": "name 'Y' is not defined",
     "output_type": "error",
     "traceback": [
      "\u001b[0;31m---------------------------------------------------------------------------\u001b[0m",
      "\u001b[0;31mNameError\u001b[0m                                 Traceback (most recent call last)",
      "Cell \u001b[0;32mIn [14], line 15\u001b[0m, in \u001b[0;36molay_gerceklesti\u001b[0;34m(event, x, y, flags, param)\u001b[0m\n\u001b[1;32m     13\u001b[0m \u001b[38;5;28;01mdef\u001b[39;00m \u001b[38;5;21molay_gerceklesti\u001b[39m(event, x, y, flags, param):\n\u001b[1;32m     14\u001b[0m     eskiX \u001b[38;5;241m=\u001b[39m x\n\u001b[0;32m---> 15\u001b[0m     eskiY \u001b[38;5;241m=\u001b[39m \u001b[43mY\u001b[49m\n\u001b[1;32m     17\u001b[0m     yukBas \u001b[38;5;241m=\u001b[39m y\n\u001b[1;32m     18\u001b[0m     genBas \u001b[38;5;241m=\u001b[39m x\n",
      "\u001b[0;31mNameError\u001b[0m: name 'Y' is not defined"
     ]
    },
    {
     "ename": "NameError",
     "evalue": "name 'Y' is not defined",
     "output_type": "error",
     "traceback": [
      "\u001b[0;31m---------------------------------------------------------------------------\u001b[0m",
      "\u001b[0;31mNameError\u001b[0m                                 Traceback (most recent call last)",
      "Cell \u001b[0;32mIn [14], line 15\u001b[0m, in \u001b[0;36molay_gerceklesti\u001b[0;34m(event, x, y, flags, param)\u001b[0m\n\u001b[1;32m     13\u001b[0m \u001b[38;5;28;01mdef\u001b[39;00m \u001b[38;5;21molay_gerceklesti\u001b[39m(event, x, y, flags, param):\n\u001b[1;32m     14\u001b[0m     eskiX \u001b[38;5;241m=\u001b[39m x\n\u001b[0;32m---> 15\u001b[0m     eskiY \u001b[38;5;241m=\u001b[39m \u001b[43mY\u001b[49m\n\u001b[1;32m     17\u001b[0m     yukBas \u001b[38;5;241m=\u001b[39m y\n\u001b[1;32m     18\u001b[0m     genBas \u001b[38;5;241m=\u001b[39m x\n",
      "\u001b[0;31mNameError\u001b[0m: name 'Y' is not defined"
     ]
    },
    {
     "ename": "NameError",
     "evalue": "name 'Y' is not defined",
     "output_type": "error",
     "traceback": [
      "\u001b[0;31m---------------------------------------------------------------------------\u001b[0m",
      "\u001b[0;31mNameError\u001b[0m                                 Traceback (most recent call last)",
      "Cell \u001b[0;32mIn [14], line 15\u001b[0m, in \u001b[0;36molay_gerceklesti\u001b[0;34m(event, x, y, flags, param)\u001b[0m\n\u001b[1;32m     13\u001b[0m \u001b[38;5;28;01mdef\u001b[39;00m \u001b[38;5;21molay_gerceklesti\u001b[39m(event, x, y, flags, param):\n\u001b[1;32m     14\u001b[0m     eskiX \u001b[38;5;241m=\u001b[39m x\n\u001b[0;32m---> 15\u001b[0m     eskiY \u001b[38;5;241m=\u001b[39m \u001b[43mY\u001b[49m\n\u001b[1;32m     17\u001b[0m     yukBas \u001b[38;5;241m=\u001b[39m y\n\u001b[1;32m     18\u001b[0m     genBas \u001b[38;5;241m=\u001b[39m x\n",
      "\u001b[0;31mNameError\u001b[0m: name 'Y' is not defined"
     ]
    },
    {
     "ename": "NameError",
     "evalue": "name 'Y' is not defined",
     "output_type": "error",
     "traceback": [
      "\u001b[0;31m---------------------------------------------------------------------------\u001b[0m",
      "\u001b[0;31mNameError\u001b[0m                                 Traceback (most recent call last)",
      "Cell \u001b[0;32mIn [14], line 15\u001b[0m, in \u001b[0;36molay_gerceklesti\u001b[0;34m(event, x, y, flags, param)\u001b[0m\n\u001b[1;32m     13\u001b[0m \u001b[38;5;28;01mdef\u001b[39;00m \u001b[38;5;21molay_gerceklesti\u001b[39m(event, x, y, flags, param):\n\u001b[1;32m     14\u001b[0m     eskiX \u001b[38;5;241m=\u001b[39m x\n\u001b[0;32m---> 15\u001b[0m     eskiY \u001b[38;5;241m=\u001b[39m \u001b[43mY\u001b[49m\n\u001b[1;32m     17\u001b[0m     yukBas \u001b[38;5;241m=\u001b[39m y\n\u001b[1;32m     18\u001b[0m     genBas \u001b[38;5;241m=\u001b[39m x\n",
      "\u001b[0;31mNameError\u001b[0m: name 'Y' is not defined"
     ]
    },
    {
     "ename": "NameError",
     "evalue": "name 'Y' is not defined",
     "output_type": "error",
     "traceback": [
      "\u001b[0;31m---------------------------------------------------------------------------\u001b[0m",
      "\u001b[0;31mNameError\u001b[0m                                 Traceback (most recent call last)",
      "Cell \u001b[0;32mIn [14], line 15\u001b[0m, in \u001b[0;36molay_gerceklesti\u001b[0;34m(event, x, y, flags, param)\u001b[0m\n\u001b[1;32m     13\u001b[0m \u001b[38;5;28;01mdef\u001b[39;00m \u001b[38;5;21molay_gerceklesti\u001b[39m(event, x, y, flags, param):\n\u001b[1;32m     14\u001b[0m     eskiX \u001b[38;5;241m=\u001b[39m x\n\u001b[0;32m---> 15\u001b[0m     eskiY \u001b[38;5;241m=\u001b[39m \u001b[43mY\u001b[49m\n\u001b[1;32m     17\u001b[0m     yukBas \u001b[38;5;241m=\u001b[39m y\n\u001b[1;32m     18\u001b[0m     genBas \u001b[38;5;241m=\u001b[39m x\n",
      "\u001b[0;31mNameError\u001b[0m: name 'Y' is not defined"
     ]
    },
    {
     "ename": "NameError",
     "evalue": "name 'Y' is not defined",
     "output_type": "error",
     "traceback": [
      "\u001b[0;31m---------------------------------------------------------------------------\u001b[0m",
      "\u001b[0;31mNameError\u001b[0m                                 Traceback (most recent call last)",
      "Cell \u001b[0;32mIn [14], line 15\u001b[0m, in \u001b[0;36molay_gerceklesti\u001b[0;34m(event, x, y, flags, param)\u001b[0m\n\u001b[1;32m     13\u001b[0m \u001b[38;5;28;01mdef\u001b[39;00m \u001b[38;5;21molay_gerceklesti\u001b[39m(event, x, y, flags, param):\n\u001b[1;32m     14\u001b[0m     eskiX \u001b[38;5;241m=\u001b[39m x\n\u001b[0;32m---> 15\u001b[0m     eskiY \u001b[38;5;241m=\u001b[39m \u001b[43mY\u001b[49m\n\u001b[1;32m     17\u001b[0m     yukBas \u001b[38;5;241m=\u001b[39m y\n\u001b[1;32m     18\u001b[0m     genBas \u001b[38;5;241m=\u001b[39m x\n",
      "\u001b[0;31mNameError\u001b[0m: name 'Y' is not defined"
     ]
    },
    {
     "ename": "NameError",
     "evalue": "name 'Y' is not defined",
     "output_type": "error",
     "traceback": [
      "\u001b[0;31m---------------------------------------------------------------------------\u001b[0m",
      "\u001b[0;31mNameError\u001b[0m                                 Traceback (most recent call last)",
      "Cell \u001b[0;32mIn [14], line 15\u001b[0m, in \u001b[0;36molay_gerceklesti\u001b[0;34m(event, x, y, flags, param)\u001b[0m\n\u001b[1;32m     13\u001b[0m \u001b[38;5;28;01mdef\u001b[39;00m \u001b[38;5;21molay_gerceklesti\u001b[39m(event, x, y, flags, param):\n\u001b[1;32m     14\u001b[0m     eskiX \u001b[38;5;241m=\u001b[39m x\n\u001b[0;32m---> 15\u001b[0m     eskiY \u001b[38;5;241m=\u001b[39m \u001b[43mY\u001b[49m\n\u001b[1;32m     17\u001b[0m     yukBas \u001b[38;5;241m=\u001b[39m y\n\u001b[1;32m     18\u001b[0m     genBas \u001b[38;5;241m=\u001b[39m x\n",
      "\u001b[0;31mNameError\u001b[0m: name 'Y' is not defined"
     ]
    },
    {
     "ename": "NameError",
     "evalue": "name 'Y' is not defined",
     "output_type": "error",
     "traceback": [
      "\u001b[0;31m---------------------------------------------------------------------------\u001b[0m",
      "\u001b[0;31mNameError\u001b[0m                                 Traceback (most recent call last)",
      "Cell \u001b[0;32mIn [14], line 15\u001b[0m, in \u001b[0;36molay_gerceklesti\u001b[0;34m(event, x, y, flags, param)\u001b[0m\n\u001b[1;32m     13\u001b[0m \u001b[38;5;28;01mdef\u001b[39;00m \u001b[38;5;21molay_gerceklesti\u001b[39m(event, x, y, flags, param):\n\u001b[1;32m     14\u001b[0m     eskiX \u001b[38;5;241m=\u001b[39m x\n\u001b[0;32m---> 15\u001b[0m     eskiY \u001b[38;5;241m=\u001b[39m \u001b[43mY\u001b[49m\n\u001b[1;32m     17\u001b[0m     yukBas \u001b[38;5;241m=\u001b[39m y\n\u001b[1;32m     18\u001b[0m     genBas \u001b[38;5;241m=\u001b[39m x\n",
      "\u001b[0;31mNameError\u001b[0m: name 'Y' is not defined"
     ]
    },
    {
     "ename": "NameError",
     "evalue": "name 'Y' is not defined",
     "output_type": "error",
     "traceback": [
      "\u001b[0;31m---------------------------------------------------------------------------\u001b[0m",
      "\u001b[0;31mNameError\u001b[0m                                 Traceback (most recent call last)",
      "Cell \u001b[0;32mIn [14], line 15\u001b[0m, in \u001b[0;36molay_gerceklesti\u001b[0;34m(event, x, y, flags, param)\u001b[0m\n\u001b[1;32m     13\u001b[0m \u001b[38;5;28;01mdef\u001b[39;00m \u001b[38;5;21molay_gerceklesti\u001b[39m(event, x, y, flags, param):\n\u001b[1;32m     14\u001b[0m     eskiX \u001b[38;5;241m=\u001b[39m x\n\u001b[0;32m---> 15\u001b[0m     eskiY \u001b[38;5;241m=\u001b[39m \u001b[43mY\u001b[49m\n\u001b[1;32m     17\u001b[0m     yukBas \u001b[38;5;241m=\u001b[39m y\n\u001b[1;32m     18\u001b[0m     genBas \u001b[38;5;241m=\u001b[39m x\n",
      "\u001b[0;31mNameError\u001b[0m: name 'Y' is not defined"
     ]
    },
    {
     "ename": "NameError",
     "evalue": "name 'Y' is not defined",
     "output_type": "error",
     "traceback": [
      "\u001b[0;31m---------------------------------------------------------------------------\u001b[0m",
      "\u001b[0;31mNameError\u001b[0m                                 Traceback (most recent call last)",
      "Cell \u001b[0;32mIn [14], line 15\u001b[0m, in \u001b[0;36molay_gerceklesti\u001b[0;34m(event, x, y, flags, param)\u001b[0m\n\u001b[1;32m     13\u001b[0m \u001b[38;5;28;01mdef\u001b[39;00m \u001b[38;5;21molay_gerceklesti\u001b[39m(event, x, y, flags, param):\n\u001b[1;32m     14\u001b[0m     eskiX \u001b[38;5;241m=\u001b[39m x\n\u001b[0;32m---> 15\u001b[0m     eskiY \u001b[38;5;241m=\u001b[39m \u001b[43mY\u001b[49m\n\u001b[1;32m     17\u001b[0m     yukBas \u001b[38;5;241m=\u001b[39m y\n\u001b[1;32m     18\u001b[0m     genBas \u001b[38;5;241m=\u001b[39m x\n",
      "\u001b[0;31mNameError\u001b[0m: name 'Y' is not defined"
     ]
    },
    {
     "ename": "NameError",
     "evalue": "name 'Y' is not defined",
     "output_type": "error",
     "traceback": [
      "\u001b[0;31m---------------------------------------------------------------------------\u001b[0m",
      "\u001b[0;31mNameError\u001b[0m                                 Traceback (most recent call last)",
      "Cell \u001b[0;32mIn [14], line 15\u001b[0m, in \u001b[0;36molay_gerceklesti\u001b[0;34m(event, x, y, flags, param)\u001b[0m\n\u001b[1;32m     13\u001b[0m \u001b[38;5;28;01mdef\u001b[39;00m \u001b[38;5;21molay_gerceklesti\u001b[39m(event, x, y, flags, param):\n\u001b[1;32m     14\u001b[0m     eskiX \u001b[38;5;241m=\u001b[39m x\n\u001b[0;32m---> 15\u001b[0m     eskiY \u001b[38;5;241m=\u001b[39m \u001b[43mY\u001b[49m\n\u001b[1;32m     17\u001b[0m     yukBas \u001b[38;5;241m=\u001b[39m y\n\u001b[1;32m     18\u001b[0m     genBas \u001b[38;5;241m=\u001b[39m x\n",
      "\u001b[0;31mNameError\u001b[0m: name 'Y' is not defined"
     ]
    },
    {
     "ename": "NameError",
     "evalue": "name 'Y' is not defined",
     "output_type": "error",
     "traceback": [
      "\u001b[0;31m---------------------------------------------------------------------------\u001b[0m",
      "\u001b[0;31mNameError\u001b[0m                                 Traceback (most recent call last)",
      "Cell \u001b[0;32mIn [14], line 15\u001b[0m, in \u001b[0;36molay_gerceklesti\u001b[0;34m(event, x, y, flags, param)\u001b[0m\n\u001b[1;32m     13\u001b[0m \u001b[38;5;28;01mdef\u001b[39;00m \u001b[38;5;21molay_gerceklesti\u001b[39m(event, x, y, flags, param):\n\u001b[1;32m     14\u001b[0m     eskiX \u001b[38;5;241m=\u001b[39m x\n\u001b[0;32m---> 15\u001b[0m     eskiY \u001b[38;5;241m=\u001b[39m \u001b[43mY\u001b[49m\n\u001b[1;32m     17\u001b[0m     yukBas \u001b[38;5;241m=\u001b[39m y\n\u001b[1;32m     18\u001b[0m     genBas \u001b[38;5;241m=\u001b[39m x\n",
      "\u001b[0;31mNameError\u001b[0m: name 'Y' is not defined"
     ]
    },
    {
     "ename": "NameError",
     "evalue": "name 'Y' is not defined",
     "output_type": "error",
     "traceback": [
      "\u001b[0;31m---------------------------------------------------------------------------\u001b[0m",
      "\u001b[0;31mNameError\u001b[0m                                 Traceback (most recent call last)",
      "Cell \u001b[0;32mIn [14], line 15\u001b[0m, in \u001b[0;36molay_gerceklesti\u001b[0;34m(event, x, y, flags, param)\u001b[0m\n\u001b[1;32m     13\u001b[0m \u001b[38;5;28;01mdef\u001b[39;00m \u001b[38;5;21molay_gerceklesti\u001b[39m(event, x, y, flags, param):\n\u001b[1;32m     14\u001b[0m     eskiX \u001b[38;5;241m=\u001b[39m x\n\u001b[0;32m---> 15\u001b[0m     eskiY \u001b[38;5;241m=\u001b[39m \u001b[43mY\u001b[49m\n\u001b[1;32m     17\u001b[0m     yukBas \u001b[38;5;241m=\u001b[39m y\n\u001b[1;32m     18\u001b[0m     genBas \u001b[38;5;241m=\u001b[39m x\n",
      "\u001b[0;31mNameError\u001b[0m: name 'Y' is not defined"
     ]
    },
    {
     "ename": "NameError",
     "evalue": "name 'Y' is not defined",
     "output_type": "error",
     "traceback": [
      "\u001b[0;31m---------------------------------------------------------------------------\u001b[0m",
      "\u001b[0;31mNameError\u001b[0m                                 Traceback (most recent call last)",
      "Cell \u001b[0;32mIn [14], line 15\u001b[0m, in \u001b[0;36molay_gerceklesti\u001b[0;34m(event, x, y, flags, param)\u001b[0m\n\u001b[1;32m     13\u001b[0m \u001b[38;5;28;01mdef\u001b[39;00m \u001b[38;5;21molay_gerceklesti\u001b[39m(event, x, y, flags, param):\n\u001b[1;32m     14\u001b[0m     eskiX \u001b[38;5;241m=\u001b[39m x\n\u001b[0;32m---> 15\u001b[0m     eskiY \u001b[38;5;241m=\u001b[39m \u001b[43mY\u001b[49m\n\u001b[1;32m     17\u001b[0m     yukBas \u001b[38;5;241m=\u001b[39m y\n\u001b[1;32m     18\u001b[0m     genBas \u001b[38;5;241m=\u001b[39m x\n",
      "\u001b[0;31mNameError\u001b[0m: name 'Y' is not defined"
     ]
    },
    {
     "ename": "NameError",
     "evalue": "name 'Y' is not defined",
     "output_type": "error",
     "traceback": [
      "\u001b[0;31m---------------------------------------------------------------------------\u001b[0m",
      "\u001b[0;31mNameError\u001b[0m                                 Traceback (most recent call last)",
      "Cell \u001b[0;32mIn [14], line 15\u001b[0m, in \u001b[0;36molay_gerceklesti\u001b[0;34m(event, x, y, flags, param)\u001b[0m\n\u001b[1;32m     13\u001b[0m \u001b[38;5;28;01mdef\u001b[39;00m \u001b[38;5;21molay_gerceklesti\u001b[39m(event, x, y, flags, param):\n\u001b[1;32m     14\u001b[0m     eskiX \u001b[38;5;241m=\u001b[39m x\n\u001b[0;32m---> 15\u001b[0m     eskiY \u001b[38;5;241m=\u001b[39m \u001b[43mY\u001b[49m\n\u001b[1;32m     17\u001b[0m     yukBas \u001b[38;5;241m=\u001b[39m y\n\u001b[1;32m     18\u001b[0m     genBas \u001b[38;5;241m=\u001b[39m x\n",
      "\u001b[0;31mNameError\u001b[0m: name 'Y' is not defined"
     ]
    },
    {
     "ename": "NameError",
     "evalue": "name 'Y' is not defined",
     "output_type": "error",
     "traceback": [
      "\u001b[0;31m---------------------------------------------------------------------------\u001b[0m",
      "\u001b[0;31mNameError\u001b[0m                                 Traceback (most recent call last)",
      "Cell \u001b[0;32mIn [14], line 15\u001b[0m, in \u001b[0;36molay_gerceklesti\u001b[0;34m(event, x, y, flags, param)\u001b[0m\n\u001b[1;32m     13\u001b[0m \u001b[38;5;28;01mdef\u001b[39;00m \u001b[38;5;21molay_gerceklesti\u001b[39m(event, x, y, flags, param):\n\u001b[1;32m     14\u001b[0m     eskiX \u001b[38;5;241m=\u001b[39m x\n\u001b[0;32m---> 15\u001b[0m     eskiY \u001b[38;5;241m=\u001b[39m \u001b[43mY\u001b[49m\n\u001b[1;32m     17\u001b[0m     yukBas \u001b[38;5;241m=\u001b[39m y\n\u001b[1;32m     18\u001b[0m     genBas \u001b[38;5;241m=\u001b[39m x\n",
      "\u001b[0;31mNameError\u001b[0m: name 'Y' is not defined"
     ]
    },
    {
     "ename": "NameError",
     "evalue": "name 'Y' is not defined",
     "output_type": "error",
     "traceback": [
      "\u001b[0;31m---------------------------------------------------------------------------\u001b[0m",
      "\u001b[0;31mNameError\u001b[0m                                 Traceback (most recent call last)",
      "Cell \u001b[0;32mIn [14], line 15\u001b[0m, in \u001b[0;36molay_gerceklesti\u001b[0;34m(event, x, y, flags, param)\u001b[0m\n\u001b[1;32m     13\u001b[0m \u001b[38;5;28;01mdef\u001b[39;00m \u001b[38;5;21molay_gerceklesti\u001b[39m(event, x, y, flags, param):\n\u001b[1;32m     14\u001b[0m     eskiX \u001b[38;5;241m=\u001b[39m x\n\u001b[0;32m---> 15\u001b[0m     eskiY \u001b[38;5;241m=\u001b[39m \u001b[43mY\u001b[49m\n\u001b[1;32m     17\u001b[0m     yukBas \u001b[38;5;241m=\u001b[39m y\n\u001b[1;32m     18\u001b[0m     genBas \u001b[38;5;241m=\u001b[39m x\n",
      "\u001b[0;31mNameError\u001b[0m: name 'Y' is not defined"
     ]
    },
    {
     "ename": "NameError",
     "evalue": "name 'Y' is not defined",
     "output_type": "error",
     "traceback": [
      "\u001b[0;31m---------------------------------------------------------------------------\u001b[0m",
      "\u001b[0;31mNameError\u001b[0m                                 Traceback (most recent call last)",
      "Cell \u001b[0;32mIn [14], line 15\u001b[0m, in \u001b[0;36molay_gerceklesti\u001b[0;34m(event, x, y, flags, param)\u001b[0m\n\u001b[1;32m     13\u001b[0m \u001b[38;5;28;01mdef\u001b[39;00m \u001b[38;5;21molay_gerceklesti\u001b[39m(event, x, y, flags, param):\n\u001b[1;32m     14\u001b[0m     eskiX \u001b[38;5;241m=\u001b[39m x\n\u001b[0;32m---> 15\u001b[0m     eskiY \u001b[38;5;241m=\u001b[39m \u001b[43mY\u001b[49m\n\u001b[1;32m     17\u001b[0m     yukBas \u001b[38;5;241m=\u001b[39m y\n\u001b[1;32m     18\u001b[0m     genBas \u001b[38;5;241m=\u001b[39m x\n",
      "\u001b[0;31mNameError\u001b[0m: name 'Y' is not defined"
     ]
    },
    {
     "ename": "NameError",
     "evalue": "name 'Y' is not defined",
     "output_type": "error",
     "traceback": [
      "\u001b[0;31m---------------------------------------------------------------------------\u001b[0m",
      "\u001b[0;31mNameError\u001b[0m                                 Traceback (most recent call last)",
      "Cell \u001b[0;32mIn [14], line 15\u001b[0m, in \u001b[0;36molay_gerceklesti\u001b[0;34m(event, x, y, flags, param)\u001b[0m\n\u001b[1;32m     13\u001b[0m \u001b[38;5;28;01mdef\u001b[39;00m \u001b[38;5;21molay_gerceklesti\u001b[39m(event, x, y, flags, param):\n\u001b[1;32m     14\u001b[0m     eskiX \u001b[38;5;241m=\u001b[39m x\n\u001b[0;32m---> 15\u001b[0m     eskiY \u001b[38;5;241m=\u001b[39m \u001b[43mY\u001b[49m\n\u001b[1;32m     17\u001b[0m     yukBas \u001b[38;5;241m=\u001b[39m y\n\u001b[1;32m     18\u001b[0m     genBas \u001b[38;5;241m=\u001b[39m x\n",
      "\u001b[0;31mNameError\u001b[0m: name 'Y' is not defined"
     ]
    },
    {
     "ename": "NameError",
     "evalue": "name 'Y' is not defined",
     "output_type": "error",
     "traceback": [
      "\u001b[0;31m---------------------------------------------------------------------------\u001b[0m",
      "\u001b[0;31mNameError\u001b[0m                                 Traceback (most recent call last)",
      "Cell \u001b[0;32mIn [14], line 15\u001b[0m, in \u001b[0;36molay_gerceklesti\u001b[0;34m(event, x, y, flags, param)\u001b[0m\n\u001b[1;32m     13\u001b[0m \u001b[38;5;28;01mdef\u001b[39;00m \u001b[38;5;21molay_gerceklesti\u001b[39m(event, x, y, flags, param):\n\u001b[1;32m     14\u001b[0m     eskiX \u001b[38;5;241m=\u001b[39m x\n\u001b[0;32m---> 15\u001b[0m     eskiY \u001b[38;5;241m=\u001b[39m \u001b[43mY\u001b[49m\n\u001b[1;32m     17\u001b[0m     yukBas \u001b[38;5;241m=\u001b[39m y\n\u001b[1;32m     18\u001b[0m     genBas \u001b[38;5;241m=\u001b[39m x\n",
      "\u001b[0;31mNameError\u001b[0m: name 'Y' is not defined"
     ]
    },
    {
     "ename": "NameError",
     "evalue": "name 'Y' is not defined",
     "output_type": "error",
     "traceback": [
      "\u001b[0;31m---------------------------------------------------------------------------\u001b[0m",
      "\u001b[0;31mNameError\u001b[0m                                 Traceback (most recent call last)",
      "Cell \u001b[0;32mIn [14], line 15\u001b[0m, in \u001b[0;36molay_gerceklesti\u001b[0;34m(event, x, y, flags, param)\u001b[0m\n\u001b[1;32m     13\u001b[0m \u001b[38;5;28;01mdef\u001b[39;00m \u001b[38;5;21molay_gerceklesti\u001b[39m(event, x, y, flags, param):\n\u001b[1;32m     14\u001b[0m     eskiX \u001b[38;5;241m=\u001b[39m x\n\u001b[0;32m---> 15\u001b[0m     eskiY \u001b[38;5;241m=\u001b[39m \u001b[43mY\u001b[49m\n\u001b[1;32m     17\u001b[0m     yukBas \u001b[38;5;241m=\u001b[39m y\n\u001b[1;32m     18\u001b[0m     genBas \u001b[38;5;241m=\u001b[39m x\n",
      "\u001b[0;31mNameError\u001b[0m: name 'Y' is not defined"
     ]
    },
    {
     "ename": "NameError",
     "evalue": "name 'Y' is not defined",
     "output_type": "error",
     "traceback": [
      "\u001b[0;31m---------------------------------------------------------------------------\u001b[0m",
      "\u001b[0;31mNameError\u001b[0m                                 Traceback (most recent call last)",
      "Cell \u001b[0;32mIn [14], line 15\u001b[0m, in \u001b[0;36molay_gerceklesti\u001b[0;34m(event, x, y, flags, param)\u001b[0m\n\u001b[1;32m     13\u001b[0m \u001b[38;5;28;01mdef\u001b[39;00m \u001b[38;5;21molay_gerceklesti\u001b[39m(event, x, y, flags, param):\n\u001b[1;32m     14\u001b[0m     eskiX \u001b[38;5;241m=\u001b[39m x\n\u001b[0;32m---> 15\u001b[0m     eskiY \u001b[38;5;241m=\u001b[39m \u001b[43mY\u001b[49m\n\u001b[1;32m     17\u001b[0m     yukBas \u001b[38;5;241m=\u001b[39m y\n\u001b[1;32m     18\u001b[0m     genBas \u001b[38;5;241m=\u001b[39m x\n",
      "\u001b[0;31mNameError\u001b[0m: name 'Y' is not defined"
     ]
    },
    {
     "ename": "NameError",
     "evalue": "name 'Y' is not defined",
     "output_type": "error",
     "traceback": [
      "\u001b[0;31m---------------------------------------------------------------------------\u001b[0m",
      "\u001b[0;31mNameError\u001b[0m                                 Traceback (most recent call last)",
      "Cell \u001b[0;32mIn [14], line 15\u001b[0m, in \u001b[0;36molay_gerceklesti\u001b[0;34m(event, x, y, flags, param)\u001b[0m\n\u001b[1;32m     13\u001b[0m \u001b[38;5;28;01mdef\u001b[39;00m \u001b[38;5;21molay_gerceklesti\u001b[39m(event, x, y, flags, param):\n\u001b[1;32m     14\u001b[0m     eskiX \u001b[38;5;241m=\u001b[39m x\n\u001b[0;32m---> 15\u001b[0m     eskiY \u001b[38;5;241m=\u001b[39m \u001b[43mY\u001b[49m\n\u001b[1;32m     17\u001b[0m     yukBas \u001b[38;5;241m=\u001b[39m y\n\u001b[1;32m     18\u001b[0m     genBas \u001b[38;5;241m=\u001b[39m x\n",
      "\u001b[0;31mNameError\u001b[0m: name 'Y' is not defined"
     ]
    },
    {
     "ename": "NameError",
     "evalue": "name 'Y' is not defined",
     "output_type": "error",
     "traceback": [
      "\u001b[0;31m---------------------------------------------------------------------------\u001b[0m",
      "\u001b[0;31mNameError\u001b[0m                                 Traceback (most recent call last)",
      "Cell \u001b[0;32mIn [14], line 15\u001b[0m, in \u001b[0;36molay_gerceklesti\u001b[0;34m(event, x, y, flags, param)\u001b[0m\n\u001b[1;32m     13\u001b[0m \u001b[38;5;28;01mdef\u001b[39;00m \u001b[38;5;21molay_gerceklesti\u001b[39m(event, x, y, flags, param):\n\u001b[1;32m     14\u001b[0m     eskiX \u001b[38;5;241m=\u001b[39m x\n\u001b[0;32m---> 15\u001b[0m     eskiY \u001b[38;5;241m=\u001b[39m \u001b[43mY\u001b[49m\n\u001b[1;32m     17\u001b[0m     yukBas \u001b[38;5;241m=\u001b[39m y\n\u001b[1;32m     18\u001b[0m     genBas \u001b[38;5;241m=\u001b[39m x\n",
      "\u001b[0;31mNameError\u001b[0m: name 'Y' is not defined"
     ]
    },
    {
     "ename": "NameError",
     "evalue": "name 'Y' is not defined",
     "output_type": "error",
     "traceback": [
      "\u001b[0;31m---------------------------------------------------------------------------\u001b[0m",
      "\u001b[0;31mNameError\u001b[0m                                 Traceback (most recent call last)",
      "Cell \u001b[0;32mIn [14], line 15\u001b[0m, in \u001b[0;36molay_gerceklesti\u001b[0;34m(event, x, y, flags, param)\u001b[0m\n\u001b[1;32m     13\u001b[0m \u001b[38;5;28;01mdef\u001b[39;00m \u001b[38;5;21molay_gerceklesti\u001b[39m(event, x, y, flags, param):\n\u001b[1;32m     14\u001b[0m     eskiX \u001b[38;5;241m=\u001b[39m x\n\u001b[0;32m---> 15\u001b[0m     eskiY \u001b[38;5;241m=\u001b[39m \u001b[43mY\u001b[49m\n\u001b[1;32m     17\u001b[0m     yukBas \u001b[38;5;241m=\u001b[39m y\n\u001b[1;32m     18\u001b[0m     genBas \u001b[38;5;241m=\u001b[39m x\n",
      "\u001b[0;31mNameError\u001b[0m: name 'Y' is not defined"
     ]
    },
    {
     "ename": "NameError",
     "evalue": "name 'Y' is not defined",
     "output_type": "error",
     "traceback": [
      "\u001b[0;31m---------------------------------------------------------------------------\u001b[0m",
      "\u001b[0;31mNameError\u001b[0m                                 Traceback (most recent call last)",
      "Cell \u001b[0;32mIn [14], line 15\u001b[0m, in \u001b[0;36molay_gerceklesti\u001b[0;34m(event, x, y, flags, param)\u001b[0m\n\u001b[1;32m     13\u001b[0m \u001b[38;5;28;01mdef\u001b[39;00m \u001b[38;5;21molay_gerceklesti\u001b[39m(event, x, y, flags, param):\n\u001b[1;32m     14\u001b[0m     eskiX \u001b[38;5;241m=\u001b[39m x\n\u001b[0;32m---> 15\u001b[0m     eskiY \u001b[38;5;241m=\u001b[39m \u001b[43mY\u001b[49m\n\u001b[1;32m     17\u001b[0m     yukBas \u001b[38;5;241m=\u001b[39m y\n\u001b[1;32m     18\u001b[0m     genBas \u001b[38;5;241m=\u001b[39m x\n",
      "\u001b[0;31mNameError\u001b[0m: name 'Y' is not defined"
     ]
    },
    {
     "ename": "NameError",
     "evalue": "name 'Y' is not defined",
     "output_type": "error",
     "traceback": [
      "\u001b[0;31m---------------------------------------------------------------------------\u001b[0m",
      "\u001b[0;31mNameError\u001b[0m                                 Traceback (most recent call last)",
      "Cell \u001b[0;32mIn [14], line 15\u001b[0m, in \u001b[0;36molay_gerceklesti\u001b[0;34m(event, x, y, flags, param)\u001b[0m\n\u001b[1;32m     13\u001b[0m \u001b[38;5;28;01mdef\u001b[39;00m \u001b[38;5;21molay_gerceklesti\u001b[39m(event, x, y, flags, param):\n\u001b[1;32m     14\u001b[0m     eskiX \u001b[38;5;241m=\u001b[39m x\n\u001b[0;32m---> 15\u001b[0m     eskiY \u001b[38;5;241m=\u001b[39m \u001b[43mY\u001b[49m\n\u001b[1;32m     17\u001b[0m     yukBas \u001b[38;5;241m=\u001b[39m y\n\u001b[1;32m     18\u001b[0m     genBas \u001b[38;5;241m=\u001b[39m x\n",
      "\u001b[0;31mNameError\u001b[0m: name 'Y' is not defined"
     ]
    },
    {
     "ename": "NameError",
     "evalue": "name 'Y' is not defined",
     "output_type": "error",
     "traceback": [
      "\u001b[0;31m---------------------------------------------------------------------------\u001b[0m",
      "\u001b[0;31mNameError\u001b[0m                                 Traceback (most recent call last)",
      "Cell \u001b[0;32mIn [14], line 15\u001b[0m, in \u001b[0;36molay_gerceklesti\u001b[0;34m(event, x, y, flags, param)\u001b[0m\n\u001b[1;32m     13\u001b[0m \u001b[38;5;28;01mdef\u001b[39;00m \u001b[38;5;21molay_gerceklesti\u001b[39m(event, x, y, flags, param):\n\u001b[1;32m     14\u001b[0m     eskiX \u001b[38;5;241m=\u001b[39m x\n\u001b[0;32m---> 15\u001b[0m     eskiY \u001b[38;5;241m=\u001b[39m \u001b[43mY\u001b[49m\n\u001b[1;32m     17\u001b[0m     yukBas \u001b[38;5;241m=\u001b[39m y\n\u001b[1;32m     18\u001b[0m     genBas \u001b[38;5;241m=\u001b[39m x\n",
      "\u001b[0;31mNameError\u001b[0m: name 'Y' is not defined"
     ]
    },
    {
     "ename": "NameError",
     "evalue": "name 'Y' is not defined",
     "output_type": "error",
     "traceback": [
      "\u001b[0;31m---------------------------------------------------------------------------\u001b[0m",
      "\u001b[0;31mNameError\u001b[0m                                 Traceback (most recent call last)",
      "Cell \u001b[0;32mIn [14], line 15\u001b[0m, in \u001b[0;36molay_gerceklesti\u001b[0;34m(event, x, y, flags, param)\u001b[0m\n\u001b[1;32m     13\u001b[0m \u001b[38;5;28;01mdef\u001b[39;00m \u001b[38;5;21molay_gerceklesti\u001b[39m(event, x, y, flags, param):\n\u001b[1;32m     14\u001b[0m     eskiX \u001b[38;5;241m=\u001b[39m x\n\u001b[0;32m---> 15\u001b[0m     eskiY \u001b[38;5;241m=\u001b[39m \u001b[43mY\u001b[49m\n\u001b[1;32m     17\u001b[0m     yukBas \u001b[38;5;241m=\u001b[39m y\n\u001b[1;32m     18\u001b[0m     genBas \u001b[38;5;241m=\u001b[39m x\n",
      "\u001b[0;31mNameError\u001b[0m: name 'Y' is not defined"
     ]
    },
    {
     "ename": "NameError",
     "evalue": "name 'Y' is not defined",
     "output_type": "error",
     "traceback": [
      "\u001b[0;31m---------------------------------------------------------------------------\u001b[0m",
      "\u001b[0;31mNameError\u001b[0m                                 Traceback (most recent call last)",
      "Cell \u001b[0;32mIn [14], line 15\u001b[0m, in \u001b[0;36molay_gerceklesti\u001b[0;34m(event, x, y, flags, param)\u001b[0m\n\u001b[1;32m     13\u001b[0m \u001b[38;5;28;01mdef\u001b[39;00m \u001b[38;5;21molay_gerceklesti\u001b[39m(event, x, y, flags, param):\n\u001b[1;32m     14\u001b[0m     eskiX \u001b[38;5;241m=\u001b[39m x\n\u001b[0;32m---> 15\u001b[0m     eskiY \u001b[38;5;241m=\u001b[39m \u001b[43mY\u001b[49m\n\u001b[1;32m     17\u001b[0m     yukBas \u001b[38;5;241m=\u001b[39m y\n\u001b[1;32m     18\u001b[0m     genBas \u001b[38;5;241m=\u001b[39m x\n",
      "\u001b[0;31mNameError\u001b[0m: name 'Y' is not defined"
     ]
    },
    {
     "ename": "NameError",
     "evalue": "name 'Y' is not defined",
     "output_type": "error",
     "traceback": [
      "\u001b[0;31m---------------------------------------------------------------------------\u001b[0m",
      "\u001b[0;31mNameError\u001b[0m                                 Traceback (most recent call last)",
      "Cell \u001b[0;32mIn [14], line 15\u001b[0m, in \u001b[0;36molay_gerceklesti\u001b[0;34m(event, x, y, flags, param)\u001b[0m\n\u001b[1;32m     13\u001b[0m \u001b[38;5;28;01mdef\u001b[39;00m \u001b[38;5;21molay_gerceklesti\u001b[39m(event, x, y, flags, param):\n\u001b[1;32m     14\u001b[0m     eskiX \u001b[38;5;241m=\u001b[39m x\n\u001b[0;32m---> 15\u001b[0m     eskiY \u001b[38;5;241m=\u001b[39m \u001b[43mY\u001b[49m\n\u001b[1;32m     17\u001b[0m     yukBas \u001b[38;5;241m=\u001b[39m y\n\u001b[1;32m     18\u001b[0m     genBas \u001b[38;5;241m=\u001b[39m x\n",
      "\u001b[0;31mNameError\u001b[0m: name 'Y' is not defined"
     ]
    },
    {
     "ename": "NameError",
     "evalue": "name 'Y' is not defined",
     "output_type": "error",
     "traceback": [
      "\u001b[0;31m---------------------------------------------------------------------------\u001b[0m",
      "\u001b[0;31mNameError\u001b[0m                                 Traceback (most recent call last)",
      "Cell \u001b[0;32mIn [14], line 15\u001b[0m, in \u001b[0;36molay_gerceklesti\u001b[0;34m(event, x, y, flags, param)\u001b[0m\n\u001b[1;32m     13\u001b[0m \u001b[38;5;28;01mdef\u001b[39;00m \u001b[38;5;21molay_gerceklesti\u001b[39m(event, x, y, flags, param):\n\u001b[1;32m     14\u001b[0m     eskiX \u001b[38;5;241m=\u001b[39m x\n\u001b[0;32m---> 15\u001b[0m     eskiY \u001b[38;5;241m=\u001b[39m \u001b[43mY\u001b[49m\n\u001b[1;32m     17\u001b[0m     yukBas \u001b[38;5;241m=\u001b[39m y\n\u001b[1;32m     18\u001b[0m     genBas \u001b[38;5;241m=\u001b[39m x\n",
      "\u001b[0;31mNameError\u001b[0m: name 'Y' is not defined"
     ]
    },
    {
     "ename": "NameError",
     "evalue": "name 'Y' is not defined",
     "output_type": "error",
     "traceback": [
      "\u001b[0;31m---------------------------------------------------------------------------\u001b[0m",
      "\u001b[0;31mNameError\u001b[0m                                 Traceback (most recent call last)",
      "Cell \u001b[0;32mIn [14], line 15\u001b[0m, in \u001b[0;36molay_gerceklesti\u001b[0;34m(event, x, y, flags, param)\u001b[0m\n\u001b[1;32m     13\u001b[0m \u001b[38;5;28;01mdef\u001b[39;00m \u001b[38;5;21molay_gerceklesti\u001b[39m(event, x, y, flags, param):\n\u001b[1;32m     14\u001b[0m     eskiX \u001b[38;5;241m=\u001b[39m x\n\u001b[0;32m---> 15\u001b[0m     eskiY \u001b[38;5;241m=\u001b[39m \u001b[43mY\u001b[49m\n\u001b[1;32m     17\u001b[0m     yukBas \u001b[38;5;241m=\u001b[39m y\n\u001b[1;32m     18\u001b[0m     genBas \u001b[38;5;241m=\u001b[39m x\n",
      "\u001b[0;31mNameError\u001b[0m: name 'Y' is not defined"
     ]
    },
    {
     "ename": "NameError",
     "evalue": "name 'Y' is not defined",
     "output_type": "error",
     "traceback": [
      "\u001b[0;31m---------------------------------------------------------------------------\u001b[0m",
      "\u001b[0;31mNameError\u001b[0m                                 Traceback (most recent call last)",
      "Cell \u001b[0;32mIn [14], line 15\u001b[0m, in \u001b[0;36molay_gerceklesti\u001b[0;34m(event, x, y, flags, param)\u001b[0m\n\u001b[1;32m     13\u001b[0m \u001b[38;5;28;01mdef\u001b[39;00m \u001b[38;5;21molay_gerceklesti\u001b[39m(event, x, y, flags, param):\n\u001b[1;32m     14\u001b[0m     eskiX \u001b[38;5;241m=\u001b[39m x\n\u001b[0;32m---> 15\u001b[0m     eskiY \u001b[38;5;241m=\u001b[39m \u001b[43mY\u001b[49m\n\u001b[1;32m     17\u001b[0m     yukBas \u001b[38;5;241m=\u001b[39m y\n\u001b[1;32m     18\u001b[0m     genBas \u001b[38;5;241m=\u001b[39m x\n",
      "\u001b[0;31mNameError\u001b[0m: name 'Y' is not defined"
     ]
    },
    {
     "ename": "NameError",
     "evalue": "name 'Y' is not defined",
     "output_type": "error",
     "traceback": [
      "\u001b[0;31m---------------------------------------------------------------------------\u001b[0m",
      "\u001b[0;31mNameError\u001b[0m                                 Traceback (most recent call last)",
      "Cell \u001b[0;32mIn [14], line 15\u001b[0m, in \u001b[0;36molay_gerceklesti\u001b[0;34m(event, x, y, flags, param)\u001b[0m\n\u001b[1;32m     13\u001b[0m \u001b[38;5;28;01mdef\u001b[39;00m \u001b[38;5;21molay_gerceklesti\u001b[39m(event, x, y, flags, param):\n\u001b[1;32m     14\u001b[0m     eskiX \u001b[38;5;241m=\u001b[39m x\n\u001b[0;32m---> 15\u001b[0m     eskiY \u001b[38;5;241m=\u001b[39m \u001b[43mY\u001b[49m\n\u001b[1;32m     17\u001b[0m     yukBas \u001b[38;5;241m=\u001b[39m y\n\u001b[1;32m     18\u001b[0m     genBas \u001b[38;5;241m=\u001b[39m x\n",
      "\u001b[0;31mNameError\u001b[0m: name 'Y' is not defined"
     ]
    },
    {
     "ename": "NameError",
     "evalue": "name 'Y' is not defined",
     "output_type": "error",
     "traceback": [
      "\u001b[0;31m---------------------------------------------------------------------------\u001b[0m",
      "\u001b[0;31mNameError\u001b[0m                                 Traceback (most recent call last)",
      "Cell \u001b[0;32mIn [14], line 15\u001b[0m, in \u001b[0;36molay_gerceklesti\u001b[0;34m(event, x, y, flags, param)\u001b[0m\n\u001b[1;32m     13\u001b[0m \u001b[38;5;28;01mdef\u001b[39;00m \u001b[38;5;21molay_gerceklesti\u001b[39m(event, x, y, flags, param):\n\u001b[1;32m     14\u001b[0m     eskiX \u001b[38;5;241m=\u001b[39m x\n\u001b[0;32m---> 15\u001b[0m     eskiY \u001b[38;5;241m=\u001b[39m \u001b[43mY\u001b[49m\n\u001b[1;32m     17\u001b[0m     yukBas \u001b[38;5;241m=\u001b[39m y\n\u001b[1;32m     18\u001b[0m     genBas \u001b[38;5;241m=\u001b[39m x\n",
      "\u001b[0;31mNameError\u001b[0m: name 'Y' is not defined"
     ]
    },
    {
     "ename": "NameError",
     "evalue": "name 'Y' is not defined",
     "output_type": "error",
     "traceback": [
      "\u001b[0;31m---------------------------------------------------------------------------\u001b[0m",
      "\u001b[0;31mNameError\u001b[0m                                 Traceback (most recent call last)",
      "Cell \u001b[0;32mIn [14], line 15\u001b[0m, in \u001b[0;36molay_gerceklesti\u001b[0;34m(event, x, y, flags, param)\u001b[0m\n\u001b[1;32m     13\u001b[0m \u001b[38;5;28;01mdef\u001b[39;00m \u001b[38;5;21molay_gerceklesti\u001b[39m(event, x, y, flags, param):\n\u001b[1;32m     14\u001b[0m     eskiX \u001b[38;5;241m=\u001b[39m x\n\u001b[0;32m---> 15\u001b[0m     eskiY \u001b[38;5;241m=\u001b[39m \u001b[43mY\u001b[49m\n\u001b[1;32m     17\u001b[0m     yukBas \u001b[38;5;241m=\u001b[39m y\n\u001b[1;32m     18\u001b[0m     genBas \u001b[38;5;241m=\u001b[39m x\n",
      "\u001b[0;31mNameError\u001b[0m: name 'Y' is not defined"
     ]
    },
    {
     "ename": "NameError",
     "evalue": "name 'Y' is not defined",
     "output_type": "error",
     "traceback": [
      "\u001b[0;31m---------------------------------------------------------------------------\u001b[0m",
      "\u001b[0;31mNameError\u001b[0m                                 Traceback (most recent call last)",
      "Cell \u001b[0;32mIn [14], line 15\u001b[0m, in \u001b[0;36molay_gerceklesti\u001b[0;34m(event, x, y, flags, param)\u001b[0m\n\u001b[1;32m     13\u001b[0m \u001b[38;5;28;01mdef\u001b[39;00m \u001b[38;5;21molay_gerceklesti\u001b[39m(event, x, y, flags, param):\n\u001b[1;32m     14\u001b[0m     eskiX \u001b[38;5;241m=\u001b[39m x\n\u001b[0;32m---> 15\u001b[0m     eskiY \u001b[38;5;241m=\u001b[39m \u001b[43mY\u001b[49m\n\u001b[1;32m     17\u001b[0m     yukBas \u001b[38;5;241m=\u001b[39m y\n\u001b[1;32m     18\u001b[0m     genBas \u001b[38;5;241m=\u001b[39m x\n",
      "\u001b[0;31mNameError\u001b[0m: name 'Y' is not defined"
     ]
    },
    {
     "ename": "NameError",
     "evalue": "name 'Y' is not defined",
     "output_type": "error",
     "traceback": [
      "\u001b[0;31m---------------------------------------------------------------------------\u001b[0m",
      "\u001b[0;31mNameError\u001b[0m                                 Traceback (most recent call last)",
      "Cell \u001b[0;32mIn [14], line 15\u001b[0m, in \u001b[0;36molay_gerceklesti\u001b[0;34m(event, x, y, flags, param)\u001b[0m\n\u001b[1;32m     13\u001b[0m \u001b[38;5;28;01mdef\u001b[39;00m \u001b[38;5;21molay_gerceklesti\u001b[39m(event, x, y, flags, param):\n\u001b[1;32m     14\u001b[0m     eskiX \u001b[38;5;241m=\u001b[39m x\n\u001b[0;32m---> 15\u001b[0m     eskiY \u001b[38;5;241m=\u001b[39m \u001b[43mY\u001b[49m\n\u001b[1;32m     17\u001b[0m     yukBas \u001b[38;5;241m=\u001b[39m y\n\u001b[1;32m     18\u001b[0m     genBas \u001b[38;5;241m=\u001b[39m x\n",
      "\u001b[0;31mNameError\u001b[0m: name 'Y' is not defined"
     ]
    },
    {
     "ename": "NameError",
     "evalue": "name 'Y' is not defined",
     "output_type": "error",
     "traceback": [
      "\u001b[0;31m---------------------------------------------------------------------------\u001b[0m",
      "\u001b[0;31mNameError\u001b[0m                                 Traceback (most recent call last)",
      "Cell \u001b[0;32mIn [14], line 15\u001b[0m, in \u001b[0;36molay_gerceklesti\u001b[0;34m(event, x, y, flags, param)\u001b[0m\n\u001b[1;32m     13\u001b[0m \u001b[38;5;28;01mdef\u001b[39;00m \u001b[38;5;21molay_gerceklesti\u001b[39m(event, x, y, flags, param):\n\u001b[1;32m     14\u001b[0m     eskiX \u001b[38;5;241m=\u001b[39m x\n\u001b[0;32m---> 15\u001b[0m     eskiY \u001b[38;5;241m=\u001b[39m \u001b[43mY\u001b[49m\n\u001b[1;32m     17\u001b[0m     yukBas \u001b[38;5;241m=\u001b[39m y\n\u001b[1;32m     18\u001b[0m     genBas \u001b[38;5;241m=\u001b[39m x\n",
      "\u001b[0;31mNameError\u001b[0m: name 'Y' is not defined"
     ]
    },
    {
     "ename": "NameError",
     "evalue": "name 'Y' is not defined",
     "output_type": "error",
     "traceback": [
      "\u001b[0;31m---------------------------------------------------------------------------\u001b[0m",
      "\u001b[0;31mNameError\u001b[0m                                 Traceback (most recent call last)",
      "Cell \u001b[0;32mIn [14], line 15\u001b[0m, in \u001b[0;36molay_gerceklesti\u001b[0;34m(event, x, y, flags, param)\u001b[0m\n\u001b[1;32m     13\u001b[0m \u001b[38;5;28;01mdef\u001b[39;00m \u001b[38;5;21molay_gerceklesti\u001b[39m(event, x, y, flags, param):\n\u001b[1;32m     14\u001b[0m     eskiX \u001b[38;5;241m=\u001b[39m x\n\u001b[0;32m---> 15\u001b[0m     eskiY \u001b[38;5;241m=\u001b[39m \u001b[43mY\u001b[49m\n\u001b[1;32m     17\u001b[0m     yukBas \u001b[38;5;241m=\u001b[39m y\n\u001b[1;32m     18\u001b[0m     genBas \u001b[38;5;241m=\u001b[39m x\n",
      "\u001b[0;31mNameError\u001b[0m: name 'Y' is not defined"
     ]
    },
    {
     "ename": "NameError",
     "evalue": "name 'Y' is not defined",
     "output_type": "error",
     "traceback": [
      "\u001b[0;31m---------------------------------------------------------------------------\u001b[0m",
      "\u001b[0;31mNameError\u001b[0m                                 Traceback (most recent call last)",
      "Cell \u001b[0;32mIn [14], line 15\u001b[0m, in \u001b[0;36molay_gerceklesti\u001b[0;34m(event, x, y, flags, param)\u001b[0m\n\u001b[1;32m     13\u001b[0m \u001b[38;5;28;01mdef\u001b[39;00m \u001b[38;5;21molay_gerceklesti\u001b[39m(event, x, y, flags, param):\n\u001b[1;32m     14\u001b[0m     eskiX \u001b[38;5;241m=\u001b[39m x\n\u001b[0;32m---> 15\u001b[0m     eskiY \u001b[38;5;241m=\u001b[39m \u001b[43mY\u001b[49m\n\u001b[1;32m     17\u001b[0m     yukBas \u001b[38;5;241m=\u001b[39m y\n\u001b[1;32m     18\u001b[0m     genBas \u001b[38;5;241m=\u001b[39m x\n",
      "\u001b[0;31mNameError\u001b[0m: name 'Y' is not defined"
     ]
    },
    {
     "ename": "NameError",
     "evalue": "name 'Y' is not defined",
     "output_type": "error",
     "traceback": [
      "\u001b[0;31m---------------------------------------------------------------------------\u001b[0m",
      "\u001b[0;31mNameError\u001b[0m                                 Traceback (most recent call last)",
      "Cell \u001b[0;32mIn [14], line 15\u001b[0m, in \u001b[0;36molay_gerceklesti\u001b[0;34m(event, x, y, flags, param)\u001b[0m\n\u001b[1;32m     13\u001b[0m \u001b[38;5;28;01mdef\u001b[39;00m \u001b[38;5;21molay_gerceklesti\u001b[39m(event, x, y, flags, param):\n\u001b[1;32m     14\u001b[0m     eskiX \u001b[38;5;241m=\u001b[39m x\n\u001b[0;32m---> 15\u001b[0m     eskiY \u001b[38;5;241m=\u001b[39m \u001b[43mY\u001b[49m\n\u001b[1;32m     17\u001b[0m     yukBas \u001b[38;5;241m=\u001b[39m y\n\u001b[1;32m     18\u001b[0m     genBas \u001b[38;5;241m=\u001b[39m x\n",
      "\u001b[0;31mNameError\u001b[0m: name 'Y' is not defined"
     ]
    },
    {
     "ename": "NameError",
     "evalue": "name 'Y' is not defined",
     "output_type": "error",
     "traceback": [
      "\u001b[0;31m---------------------------------------------------------------------------\u001b[0m",
      "\u001b[0;31mNameError\u001b[0m                                 Traceback (most recent call last)",
      "Cell \u001b[0;32mIn [14], line 15\u001b[0m, in \u001b[0;36molay_gerceklesti\u001b[0;34m(event, x, y, flags, param)\u001b[0m\n\u001b[1;32m     13\u001b[0m \u001b[38;5;28;01mdef\u001b[39;00m \u001b[38;5;21molay_gerceklesti\u001b[39m(event, x, y, flags, param):\n\u001b[1;32m     14\u001b[0m     eskiX \u001b[38;5;241m=\u001b[39m x\n\u001b[0;32m---> 15\u001b[0m     eskiY \u001b[38;5;241m=\u001b[39m \u001b[43mY\u001b[49m\n\u001b[1;32m     17\u001b[0m     yukBas \u001b[38;5;241m=\u001b[39m y\n\u001b[1;32m     18\u001b[0m     genBas \u001b[38;5;241m=\u001b[39m x\n",
      "\u001b[0;31mNameError\u001b[0m: name 'Y' is not defined"
     ]
    },
    {
     "ename": "NameError",
     "evalue": "name 'Y' is not defined",
     "output_type": "error",
     "traceback": [
      "\u001b[0;31m---------------------------------------------------------------------------\u001b[0m",
      "\u001b[0;31mNameError\u001b[0m                                 Traceback (most recent call last)",
      "Cell \u001b[0;32mIn [14], line 15\u001b[0m, in \u001b[0;36molay_gerceklesti\u001b[0;34m(event, x, y, flags, param)\u001b[0m\n\u001b[1;32m     13\u001b[0m \u001b[38;5;28;01mdef\u001b[39;00m \u001b[38;5;21molay_gerceklesti\u001b[39m(event, x, y, flags, param):\n\u001b[1;32m     14\u001b[0m     eskiX \u001b[38;5;241m=\u001b[39m x\n\u001b[0;32m---> 15\u001b[0m     eskiY \u001b[38;5;241m=\u001b[39m \u001b[43mY\u001b[49m\n\u001b[1;32m     17\u001b[0m     yukBas \u001b[38;5;241m=\u001b[39m y\n\u001b[1;32m     18\u001b[0m     genBas \u001b[38;5;241m=\u001b[39m x\n",
      "\u001b[0;31mNameError\u001b[0m: name 'Y' is not defined"
     ]
    },
    {
     "ename": "NameError",
     "evalue": "name 'Y' is not defined",
     "output_type": "error",
     "traceback": [
      "\u001b[0;31m---------------------------------------------------------------------------\u001b[0m",
      "\u001b[0;31mNameError\u001b[0m                                 Traceback (most recent call last)",
      "Cell \u001b[0;32mIn [14], line 15\u001b[0m, in \u001b[0;36molay_gerceklesti\u001b[0;34m(event, x, y, flags, param)\u001b[0m\n\u001b[1;32m     13\u001b[0m \u001b[38;5;28;01mdef\u001b[39;00m \u001b[38;5;21molay_gerceklesti\u001b[39m(event, x, y, flags, param):\n\u001b[1;32m     14\u001b[0m     eskiX \u001b[38;5;241m=\u001b[39m x\n\u001b[0;32m---> 15\u001b[0m     eskiY \u001b[38;5;241m=\u001b[39m \u001b[43mY\u001b[49m\n\u001b[1;32m     17\u001b[0m     yukBas \u001b[38;5;241m=\u001b[39m y\n\u001b[1;32m     18\u001b[0m     genBas \u001b[38;5;241m=\u001b[39m x\n",
      "\u001b[0;31mNameError\u001b[0m: name 'Y' is not defined"
     ]
    },
    {
     "ename": "NameError",
     "evalue": "name 'Y' is not defined",
     "output_type": "error",
     "traceback": [
      "\u001b[0;31m---------------------------------------------------------------------------\u001b[0m",
      "\u001b[0;31mNameError\u001b[0m                                 Traceback (most recent call last)",
      "Cell \u001b[0;32mIn [14], line 15\u001b[0m, in \u001b[0;36molay_gerceklesti\u001b[0;34m(event, x, y, flags, param)\u001b[0m\n\u001b[1;32m     13\u001b[0m \u001b[38;5;28;01mdef\u001b[39;00m \u001b[38;5;21molay_gerceklesti\u001b[39m(event, x, y, flags, param):\n\u001b[1;32m     14\u001b[0m     eskiX \u001b[38;5;241m=\u001b[39m x\n\u001b[0;32m---> 15\u001b[0m     eskiY \u001b[38;5;241m=\u001b[39m \u001b[43mY\u001b[49m\n\u001b[1;32m     17\u001b[0m     yukBas \u001b[38;5;241m=\u001b[39m y\n\u001b[1;32m     18\u001b[0m     genBas \u001b[38;5;241m=\u001b[39m x\n",
      "\u001b[0;31mNameError\u001b[0m: name 'Y' is not defined"
     ]
    },
    {
     "ename": "NameError",
     "evalue": "name 'Y' is not defined",
     "output_type": "error",
     "traceback": [
      "\u001b[0;31m---------------------------------------------------------------------------\u001b[0m",
      "\u001b[0;31mNameError\u001b[0m                                 Traceback (most recent call last)",
      "Cell \u001b[0;32mIn [14], line 15\u001b[0m, in \u001b[0;36molay_gerceklesti\u001b[0;34m(event, x, y, flags, param)\u001b[0m\n\u001b[1;32m     13\u001b[0m \u001b[38;5;28;01mdef\u001b[39;00m \u001b[38;5;21molay_gerceklesti\u001b[39m(event, x, y, flags, param):\n\u001b[1;32m     14\u001b[0m     eskiX \u001b[38;5;241m=\u001b[39m x\n\u001b[0;32m---> 15\u001b[0m     eskiY \u001b[38;5;241m=\u001b[39m \u001b[43mY\u001b[49m\n\u001b[1;32m     17\u001b[0m     yukBas \u001b[38;5;241m=\u001b[39m y\n\u001b[1;32m     18\u001b[0m     genBas \u001b[38;5;241m=\u001b[39m x\n",
      "\u001b[0;31mNameError\u001b[0m: name 'Y' is not defined"
     ]
    },
    {
     "ename": "NameError",
     "evalue": "name 'Y' is not defined",
     "output_type": "error",
     "traceback": [
      "\u001b[0;31m---------------------------------------------------------------------------\u001b[0m",
      "\u001b[0;31mNameError\u001b[0m                                 Traceback (most recent call last)",
      "Cell \u001b[0;32mIn [14], line 15\u001b[0m, in \u001b[0;36molay_gerceklesti\u001b[0;34m(event, x, y, flags, param)\u001b[0m\n\u001b[1;32m     13\u001b[0m \u001b[38;5;28;01mdef\u001b[39;00m \u001b[38;5;21molay_gerceklesti\u001b[39m(event, x, y, flags, param):\n\u001b[1;32m     14\u001b[0m     eskiX \u001b[38;5;241m=\u001b[39m x\n\u001b[0;32m---> 15\u001b[0m     eskiY \u001b[38;5;241m=\u001b[39m \u001b[43mY\u001b[49m\n\u001b[1;32m     17\u001b[0m     yukBas \u001b[38;5;241m=\u001b[39m y\n\u001b[1;32m     18\u001b[0m     genBas \u001b[38;5;241m=\u001b[39m x\n",
      "\u001b[0;31mNameError\u001b[0m: name 'Y' is not defined"
     ]
    },
    {
     "ename": "NameError",
     "evalue": "name 'Y' is not defined",
     "output_type": "error",
     "traceback": [
      "\u001b[0;31m---------------------------------------------------------------------------\u001b[0m",
      "\u001b[0;31mNameError\u001b[0m                                 Traceback (most recent call last)",
      "Cell \u001b[0;32mIn [14], line 15\u001b[0m, in \u001b[0;36molay_gerceklesti\u001b[0;34m(event, x, y, flags, param)\u001b[0m\n\u001b[1;32m     13\u001b[0m \u001b[38;5;28;01mdef\u001b[39;00m \u001b[38;5;21molay_gerceklesti\u001b[39m(event, x, y, flags, param):\n\u001b[1;32m     14\u001b[0m     eskiX \u001b[38;5;241m=\u001b[39m x\n\u001b[0;32m---> 15\u001b[0m     eskiY \u001b[38;5;241m=\u001b[39m \u001b[43mY\u001b[49m\n\u001b[1;32m     17\u001b[0m     yukBas \u001b[38;5;241m=\u001b[39m y\n\u001b[1;32m     18\u001b[0m     genBas \u001b[38;5;241m=\u001b[39m x\n",
      "\u001b[0;31mNameError\u001b[0m: name 'Y' is not defined"
     ]
    },
    {
     "ename": "NameError",
     "evalue": "name 'Y' is not defined",
     "output_type": "error",
     "traceback": [
      "\u001b[0;31m---------------------------------------------------------------------------\u001b[0m",
      "\u001b[0;31mNameError\u001b[0m                                 Traceback (most recent call last)",
      "Cell \u001b[0;32mIn [14], line 15\u001b[0m, in \u001b[0;36molay_gerceklesti\u001b[0;34m(event, x, y, flags, param)\u001b[0m\n\u001b[1;32m     13\u001b[0m \u001b[38;5;28;01mdef\u001b[39;00m \u001b[38;5;21molay_gerceklesti\u001b[39m(event, x, y, flags, param):\n\u001b[1;32m     14\u001b[0m     eskiX \u001b[38;5;241m=\u001b[39m x\n\u001b[0;32m---> 15\u001b[0m     eskiY \u001b[38;5;241m=\u001b[39m \u001b[43mY\u001b[49m\n\u001b[1;32m     17\u001b[0m     yukBas \u001b[38;5;241m=\u001b[39m y\n\u001b[1;32m     18\u001b[0m     genBas \u001b[38;5;241m=\u001b[39m x\n",
      "\u001b[0;31mNameError\u001b[0m: name 'Y' is not defined"
     ]
    },
    {
     "ename": "NameError",
     "evalue": "name 'Y' is not defined",
     "output_type": "error",
     "traceback": [
      "\u001b[0;31m---------------------------------------------------------------------------\u001b[0m",
      "\u001b[0;31mNameError\u001b[0m                                 Traceback (most recent call last)",
      "Cell \u001b[0;32mIn [14], line 15\u001b[0m, in \u001b[0;36molay_gerceklesti\u001b[0;34m(event, x, y, flags, param)\u001b[0m\n\u001b[1;32m     13\u001b[0m \u001b[38;5;28;01mdef\u001b[39;00m \u001b[38;5;21molay_gerceklesti\u001b[39m(event, x, y, flags, param):\n\u001b[1;32m     14\u001b[0m     eskiX \u001b[38;5;241m=\u001b[39m x\n\u001b[0;32m---> 15\u001b[0m     eskiY \u001b[38;5;241m=\u001b[39m \u001b[43mY\u001b[49m\n\u001b[1;32m     17\u001b[0m     yukBas \u001b[38;5;241m=\u001b[39m y\n\u001b[1;32m     18\u001b[0m     genBas \u001b[38;5;241m=\u001b[39m x\n",
      "\u001b[0;31mNameError\u001b[0m: name 'Y' is not defined"
     ]
    },
    {
     "ename": "NameError",
     "evalue": "name 'Y' is not defined",
     "output_type": "error",
     "traceback": [
      "\u001b[0;31m---------------------------------------------------------------------------\u001b[0m",
      "\u001b[0;31mNameError\u001b[0m                                 Traceback (most recent call last)",
      "Cell \u001b[0;32mIn [14], line 15\u001b[0m, in \u001b[0;36molay_gerceklesti\u001b[0;34m(event, x, y, flags, param)\u001b[0m\n\u001b[1;32m     13\u001b[0m \u001b[38;5;28;01mdef\u001b[39;00m \u001b[38;5;21molay_gerceklesti\u001b[39m(event, x, y, flags, param):\n\u001b[1;32m     14\u001b[0m     eskiX \u001b[38;5;241m=\u001b[39m x\n\u001b[0;32m---> 15\u001b[0m     eskiY \u001b[38;5;241m=\u001b[39m \u001b[43mY\u001b[49m\n\u001b[1;32m     17\u001b[0m     yukBas \u001b[38;5;241m=\u001b[39m y\n\u001b[1;32m     18\u001b[0m     genBas \u001b[38;5;241m=\u001b[39m x\n",
      "\u001b[0;31mNameError\u001b[0m: name 'Y' is not defined"
     ]
    },
    {
     "ename": "NameError",
     "evalue": "name 'Y' is not defined",
     "output_type": "error",
     "traceback": [
      "\u001b[0;31m---------------------------------------------------------------------------\u001b[0m",
      "\u001b[0;31mNameError\u001b[0m                                 Traceback (most recent call last)",
      "Cell \u001b[0;32mIn [14], line 15\u001b[0m, in \u001b[0;36molay_gerceklesti\u001b[0;34m(event, x, y, flags, param)\u001b[0m\n\u001b[1;32m     13\u001b[0m \u001b[38;5;28;01mdef\u001b[39;00m \u001b[38;5;21molay_gerceklesti\u001b[39m(event, x, y, flags, param):\n\u001b[1;32m     14\u001b[0m     eskiX \u001b[38;5;241m=\u001b[39m x\n\u001b[0;32m---> 15\u001b[0m     eskiY \u001b[38;5;241m=\u001b[39m \u001b[43mY\u001b[49m\n\u001b[1;32m     17\u001b[0m     yukBas \u001b[38;5;241m=\u001b[39m y\n\u001b[1;32m     18\u001b[0m     genBas \u001b[38;5;241m=\u001b[39m x\n",
      "\u001b[0;31mNameError\u001b[0m: name 'Y' is not defined"
     ]
    },
    {
     "ename": "NameError",
     "evalue": "name 'Y' is not defined",
     "output_type": "error",
     "traceback": [
      "\u001b[0;31m---------------------------------------------------------------------------\u001b[0m",
      "\u001b[0;31mNameError\u001b[0m                                 Traceback (most recent call last)",
      "Cell \u001b[0;32mIn [14], line 15\u001b[0m, in \u001b[0;36molay_gerceklesti\u001b[0;34m(event, x, y, flags, param)\u001b[0m\n\u001b[1;32m     13\u001b[0m \u001b[38;5;28;01mdef\u001b[39;00m \u001b[38;5;21molay_gerceklesti\u001b[39m(event, x, y, flags, param):\n\u001b[1;32m     14\u001b[0m     eskiX \u001b[38;5;241m=\u001b[39m x\n\u001b[0;32m---> 15\u001b[0m     eskiY \u001b[38;5;241m=\u001b[39m \u001b[43mY\u001b[49m\n\u001b[1;32m     17\u001b[0m     yukBas \u001b[38;5;241m=\u001b[39m y\n\u001b[1;32m     18\u001b[0m     genBas \u001b[38;5;241m=\u001b[39m x\n",
      "\u001b[0;31mNameError\u001b[0m: name 'Y' is not defined"
     ]
    },
    {
     "ename": "NameError",
     "evalue": "name 'Y' is not defined",
     "output_type": "error",
     "traceback": [
      "\u001b[0;31m---------------------------------------------------------------------------\u001b[0m",
      "\u001b[0;31mNameError\u001b[0m                                 Traceback (most recent call last)",
      "Cell \u001b[0;32mIn [14], line 15\u001b[0m, in \u001b[0;36molay_gerceklesti\u001b[0;34m(event, x, y, flags, param)\u001b[0m\n\u001b[1;32m     13\u001b[0m \u001b[38;5;28;01mdef\u001b[39;00m \u001b[38;5;21molay_gerceklesti\u001b[39m(event, x, y, flags, param):\n\u001b[1;32m     14\u001b[0m     eskiX \u001b[38;5;241m=\u001b[39m x\n\u001b[0;32m---> 15\u001b[0m     eskiY \u001b[38;5;241m=\u001b[39m \u001b[43mY\u001b[49m\n\u001b[1;32m     17\u001b[0m     yukBas \u001b[38;5;241m=\u001b[39m y\n\u001b[1;32m     18\u001b[0m     genBas \u001b[38;5;241m=\u001b[39m x\n",
      "\u001b[0;31mNameError\u001b[0m: name 'Y' is not defined"
     ]
    },
    {
     "ename": "NameError",
     "evalue": "name 'Y' is not defined",
     "output_type": "error",
     "traceback": [
      "\u001b[0;31m---------------------------------------------------------------------------\u001b[0m",
      "\u001b[0;31mNameError\u001b[0m                                 Traceback (most recent call last)",
      "Cell \u001b[0;32mIn [14], line 15\u001b[0m, in \u001b[0;36molay_gerceklesti\u001b[0;34m(event, x, y, flags, param)\u001b[0m\n\u001b[1;32m     13\u001b[0m \u001b[38;5;28;01mdef\u001b[39;00m \u001b[38;5;21molay_gerceklesti\u001b[39m(event, x, y, flags, param):\n\u001b[1;32m     14\u001b[0m     eskiX \u001b[38;5;241m=\u001b[39m x\n\u001b[0;32m---> 15\u001b[0m     eskiY \u001b[38;5;241m=\u001b[39m \u001b[43mY\u001b[49m\n\u001b[1;32m     17\u001b[0m     yukBas \u001b[38;5;241m=\u001b[39m y\n\u001b[1;32m     18\u001b[0m     genBas \u001b[38;5;241m=\u001b[39m x\n",
      "\u001b[0;31mNameError\u001b[0m: name 'Y' is not defined"
     ]
    },
    {
     "ename": "NameError",
     "evalue": "name 'Y' is not defined",
     "output_type": "error",
     "traceback": [
      "\u001b[0;31m---------------------------------------------------------------------------\u001b[0m",
      "\u001b[0;31mNameError\u001b[0m                                 Traceback (most recent call last)",
      "Cell \u001b[0;32mIn [14], line 15\u001b[0m, in \u001b[0;36molay_gerceklesti\u001b[0;34m(event, x, y, flags, param)\u001b[0m\n\u001b[1;32m     13\u001b[0m \u001b[38;5;28;01mdef\u001b[39;00m \u001b[38;5;21molay_gerceklesti\u001b[39m(event, x, y, flags, param):\n\u001b[1;32m     14\u001b[0m     eskiX \u001b[38;5;241m=\u001b[39m x\n\u001b[0;32m---> 15\u001b[0m     eskiY \u001b[38;5;241m=\u001b[39m \u001b[43mY\u001b[49m\n\u001b[1;32m     17\u001b[0m     yukBas \u001b[38;5;241m=\u001b[39m y\n\u001b[1;32m     18\u001b[0m     genBas \u001b[38;5;241m=\u001b[39m x\n",
      "\u001b[0;31mNameError\u001b[0m: name 'Y' is not defined"
     ]
    },
    {
     "ename": "NameError",
     "evalue": "name 'Y' is not defined",
     "output_type": "error",
     "traceback": [
      "\u001b[0;31m---------------------------------------------------------------------------\u001b[0m",
      "\u001b[0;31mNameError\u001b[0m                                 Traceback (most recent call last)",
      "Cell \u001b[0;32mIn [14], line 15\u001b[0m, in \u001b[0;36molay_gerceklesti\u001b[0;34m(event, x, y, flags, param)\u001b[0m\n\u001b[1;32m     13\u001b[0m \u001b[38;5;28;01mdef\u001b[39;00m \u001b[38;5;21molay_gerceklesti\u001b[39m(event, x, y, flags, param):\n\u001b[1;32m     14\u001b[0m     eskiX \u001b[38;5;241m=\u001b[39m x\n\u001b[0;32m---> 15\u001b[0m     eskiY \u001b[38;5;241m=\u001b[39m \u001b[43mY\u001b[49m\n\u001b[1;32m     17\u001b[0m     yukBas \u001b[38;5;241m=\u001b[39m y\n\u001b[1;32m     18\u001b[0m     genBas \u001b[38;5;241m=\u001b[39m x\n",
      "\u001b[0;31mNameError\u001b[0m: name 'Y' is not defined"
     ]
    },
    {
     "ename": "NameError",
     "evalue": "name 'Y' is not defined",
     "output_type": "error",
     "traceback": [
      "\u001b[0;31m---------------------------------------------------------------------------\u001b[0m",
      "\u001b[0;31mNameError\u001b[0m                                 Traceback (most recent call last)",
      "Cell \u001b[0;32mIn [14], line 15\u001b[0m, in \u001b[0;36molay_gerceklesti\u001b[0;34m(event, x, y, flags, param)\u001b[0m\n\u001b[1;32m     13\u001b[0m \u001b[38;5;28;01mdef\u001b[39;00m \u001b[38;5;21molay_gerceklesti\u001b[39m(event, x, y, flags, param):\n\u001b[1;32m     14\u001b[0m     eskiX \u001b[38;5;241m=\u001b[39m x\n\u001b[0;32m---> 15\u001b[0m     eskiY \u001b[38;5;241m=\u001b[39m \u001b[43mY\u001b[49m\n\u001b[1;32m     17\u001b[0m     yukBas \u001b[38;5;241m=\u001b[39m y\n\u001b[1;32m     18\u001b[0m     genBas \u001b[38;5;241m=\u001b[39m x\n",
      "\u001b[0;31mNameError\u001b[0m: name 'Y' is not defined"
     ]
    },
    {
     "ename": "NameError",
     "evalue": "name 'Y' is not defined",
     "output_type": "error",
     "traceback": [
      "\u001b[0;31m---------------------------------------------------------------------------\u001b[0m",
      "\u001b[0;31mNameError\u001b[0m                                 Traceback (most recent call last)",
      "Cell \u001b[0;32mIn [14], line 15\u001b[0m, in \u001b[0;36molay_gerceklesti\u001b[0;34m(event, x, y, flags, param)\u001b[0m\n\u001b[1;32m     13\u001b[0m \u001b[38;5;28;01mdef\u001b[39;00m \u001b[38;5;21molay_gerceklesti\u001b[39m(event, x, y, flags, param):\n\u001b[1;32m     14\u001b[0m     eskiX \u001b[38;5;241m=\u001b[39m x\n\u001b[0;32m---> 15\u001b[0m     eskiY \u001b[38;5;241m=\u001b[39m \u001b[43mY\u001b[49m\n\u001b[1;32m     17\u001b[0m     yukBas \u001b[38;5;241m=\u001b[39m y\n\u001b[1;32m     18\u001b[0m     genBas \u001b[38;5;241m=\u001b[39m x\n",
      "\u001b[0;31mNameError\u001b[0m: name 'Y' is not defined"
     ]
    },
    {
     "ename": "NameError",
     "evalue": "name 'Y' is not defined",
     "output_type": "error",
     "traceback": [
      "\u001b[0;31m---------------------------------------------------------------------------\u001b[0m",
      "\u001b[0;31mNameError\u001b[0m                                 Traceback (most recent call last)",
      "Cell \u001b[0;32mIn [14], line 15\u001b[0m, in \u001b[0;36molay_gerceklesti\u001b[0;34m(event, x, y, flags, param)\u001b[0m\n\u001b[1;32m     13\u001b[0m \u001b[38;5;28;01mdef\u001b[39;00m \u001b[38;5;21molay_gerceklesti\u001b[39m(event, x, y, flags, param):\n\u001b[1;32m     14\u001b[0m     eskiX \u001b[38;5;241m=\u001b[39m x\n\u001b[0;32m---> 15\u001b[0m     eskiY \u001b[38;5;241m=\u001b[39m \u001b[43mY\u001b[49m\n\u001b[1;32m     17\u001b[0m     yukBas \u001b[38;5;241m=\u001b[39m y\n\u001b[1;32m     18\u001b[0m     genBas \u001b[38;5;241m=\u001b[39m x\n",
      "\u001b[0;31mNameError\u001b[0m: name 'Y' is not defined"
     ]
    },
    {
     "ename": "NameError",
     "evalue": "name 'Y' is not defined",
     "output_type": "error",
     "traceback": [
      "\u001b[0;31m---------------------------------------------------------------------------\u001b[0m",
      "\u001b[0;31mNameError\u001b[0m                                 Traceback (most recent call last)",
      "Cell \u001b[0;32mIn [14], line 15\u001b[0m, in \u001b[0;36molay_gerceklesti\u001b[0;34m(event, x, y, flags, param)\u001b[0m\n\u001b[1;32m     13\u001b[0m \u001b[38;5;28;01mdef\u001b[39;00m \u001b[38;5;21molay_gerceklesti\u001b[39m(event, x, y, flags, param):\n\u001b[1;32m     14\u001b[0m     eskiX \u001b[38;5;241m=\u001b[39m x\n\u001b[0;32m---> 15\u001b[0m     eskiY \u001b[38;5;241m=\u001b[39m \u001b[43mY\u001b[49m\n\u001b[1;32m     17\u001b[0m     yukBas \u001b[38;5;241m=\u001b[39m y\n\u001b[1;32m     18\u001b[0m     genBas \u001b[38;5;241m=\u001b[39m x\n",
      "\u001b[0;31mNameError\u001b[0m: name 'Y' is not defined"
     ]
    },
    {
     "ename": "NameError",
     "evalue": "name 'Y' is not defined",
     "output_type": "error",
     "traceback": [
      "\u001b[0;31m---------------------------------------------------------------------------\u001b[0m",
      "\u001b[0;31mNameError\u001b[0m                                 Traceback (most recent call last)",
      "Cell \u001b[0;32mIn [14], line 15\u001b[0m, in \u001b[0;36molay_gerceklesti\u001b[0;34m(event, x, y, flags, param)\u001b[0m\n\u001b[1;32m     13\u001b[0m \u001b[38;5;28;01mdef\u001b[39;00m \u001b[38;5;21molay_gerceklesti\u001b[39m(event, x, y, flags, param):\n\u001b[1;32m     14\u001b[0m     eskiX \u001b[38;5;241m=\u001b[39m x\n\u001b[0;32m---> 15\u001b[0m     eskiY \u001b[38;5;241m=\u001b[39m \u001b[43mY\u001b[49m\n\u001b[1;32m     17\u001b[0m     yukBas \u001b[38;5;241m=\u001b[39m y\n\u001b[1;32m     18\u001b[0m     genBas \u001b[38;5;241m=\u001b[39m x\n",
      "\u001b[0;31mNameError\u001b[0m: name 'Y' is not defined"
     ]
    },
    {
     "ename": "NameError",
     "evalue": "name 'Y' is not defined",
     "output_type": "error",
     "traceback": [
      "\u001b[0;31m---------------------------------------------------------------------------\u001b[0m",
      "\u001b[0;31mNameError\u001b[0m                                 Traceback (most recent call last)",
      "Cell \u001b[0;32mIn [14], line 15\u001b[0m, in \u001b[0;36molay_gerceklesti\u001b[0;34m(event, x, y, flags, param)\u001b[0m\n\u001b[1;32m     13\u001b[0m \u001b[38;5;28;01mdef\u001b[39;00m \u001b[38;5;21molay_gerceklesti\u001b[39m(event, x, y, flags, param):\n\u001b[1;32m     14\u001b[0m     eskiX \u001b[38;5;241m=\u001b[39m x\n\u001b[0;32m---> 15\u001b[0m     eskiY \u001b[38;5;241m=\u001b[39m \u001b[43mY\u001b[49m\n\u001b[1;32m     17\u001b[0m     yukBas \u001b[38;5;241m=\u001b[39m y\n\u001b[1;32m     18\u001b[0m     genBas \u001b[38;5;241m=\u001b[39m x\n",
      "\u001b[0;31mNameError\u001b[0m: name 'Y' is not defined"
     ]
    },
    {
     "ename": "NameError",
     "evalue": "name 'Y' is not defined",
     "output_type": "error",
     "traceback": [
      "\u001b[0;31m---------------------------------------------------------------------------\u001b[0m",
      "\u001b[0;31mNameError\u001b[0m                                 Traceback (most recent call last)",
      "Cell \u001b[0;32mIn [14], line 15\u001b[0m, in \u001b[0;36molay_gerceklesti\u001b[0;34m(event, x, y, flags, param)\u001b[0m\n\u001b[1;32m     13\u001b[0m \u001b[38;5;28;01mdef\u001b[39;00m \u001b[38;5;21molay_gerceklesti\u001b[39m(event, x, y, flags, param):\n\u001b[1;32m     14\u001b[0m     eskiX \u001b[38;5;241m=\u001b[39m x\n\u001b[0;32m---> 15\u001b[0m     eskiY \u001b[38;5;241m=\u001b[39m \u001b[43mY\u001b[49m\n\u001b[1;32m     17\u001b[0m     yukBas \u001b[38;5;241m=\u001b[39m y\n\u001b[1;32m     18\u001b[0m     genBas \u001b[38;5;241m=\u001b[39m x\n",
      "\u001b[0;31mNameError\u001b[0m: name 'Y' is not defined"
     ]
    },
    {
     "ename": "NameError",
     "evalue": "name 'Y' is not defined",
     "output_type": "error",
     "traceback": [
      "\u001b[0;31m---------------------------------------------------------------------------\u001b[0m",
      "\u001b[0;31mNameError\u001b[0m                                 Traceback (most recent call last)",
      "Cell \u001b[0;32mIn [14], line 15\u001b[0m, in \u001b[0;36molay_gerceklesti\u001b[0;34m(event, x, y, flags, param)\u001b[0m\n\u001b[1;32m     13\u001b[0m \u001b[38;5;28;01mdef\u001b[39;00m \u001b[38;5;21molay_gerceklesti\u001b[39m(event, x, y, flags, param):\n\u001b[1;32m     14\u001b[0m     eskiX \u001b[38;5;241m=\u001b[39m x\n\u001b[0;32m---> 15\u001b[0m     eskiY \u001b[38;5;241m=\u001b[39m \u001b[43mY\u001b[49m\n\u001b[1;32m     17\u001b[0m     yukBas \u001b[38;5;241m=\u001b[39m y\n\u001b[1;32m     18\u001b[0m     genBas \u001b[38;5;241m=\u001b[39m x\n",
      "\u001b[0;31mNameError\u001b[0m: name 'Y' is not defined"
     ]
    },
    {
     "ename": "NameError",
     "evalue": "name 'Y' is not defined",
     "output_type": "error",
     "traceback": [
      "\u001b[0;31m---------------------------------------------------------------------------\u001b[0m",
      "\u001b[0;31mNameError\u001b[0m                                 Traceback (most recent call last)",
      "Cell \u001b[0;32mIn [14], line 15\u001b[0m, in \u001b[0;36molay_gerceklesti\u001b[0;34m(event, x, y, flags, param)\u001b[0m\n\u001b[1;32m     13\u001b[0m \u001b[38;5;28;01mdef\u001b[39;00m \u001b[38;5;21molay_gerceklesti\u001b[39m(event, x, y, flags, param):\n\u001b[1;32m     14\u001b[0m     eskiX \u001b[38;5;241m=\u001b[39m x\n\u001b[0;32m---> 15\u001b[0m     eskiY \u001b[38;5;241m=\u001b[39m \u001b[43mY\u001b[49m\n\u001b[1;32m     17\u001b[0m     yukBas \u001b[38;5;241m=\u001b[39m y\n\u001b[1;32m     18\u001b[0m     genBas \u001b[38;5;241m=\u001b[39m x\n",
      "\u001b[0;31mNameError\u001b[0m: name 'Y' is not defined"
     ]
    },
    {
     "ename": "NameError",
     "evalue": "name 'Y' is not defined",
     "output_type": "error",
     "traceback": [
      "\u001b[0;31m---------------------------------------------------------------------------\u001b[0m",
      "\u001b[0;31mNameError\u001b[0m                                 Traceback (most recent call last)",
      "Cell \u001b[0;32mIn [14], line 15\u001b[0m, in \u001b[0;36molay_gerceklesti\u001b[0;34m(event, x, y, flags, param)\u001b[0m\n\u001b[1;32m     13\u001b[0m \u001b[38;5;28;01mdef\u001b[39;00m \u001b[38;5;21molay_gerceklesti\u001b[39m(event, x, y, flags, param):\n\u001b[1;32m     14\u001b[0m     eskiX \u001b[38;5;241m=\u001b[39m x\n\u001b[0;32m---> 15\u001b[0m     eskiY \u001b[38;5;241m=\u001b[39m \u001b[43mY\u001b[49m\n\u001b[1;32m     17\u001b[0m     yukBas \u001b[38;5;241m=\u001b[39m y\n\u001b[1;32m     18\u001b[0m     genBas \u001b[38;5;241m=\u001b[39m x\n",
      "\u001b[0;31mNameError\u001b[0m: name 'Y' is not defined"
     ]
    },
    {
     "ename": "NameError",
     "evalue": "name 'Y' is not defined",
     "output_type": "error",
     "traceback": [
      "\u001b[0;31m---------------------------------------------------------------------------\u001b[0m",
      "\u001b[0;31mNameError\u001b[0m                                 Traceback (most recent call last)",
      "Cell \u001b[0;32mIn [14], line 15\u001b[0m, in \u001b[0;36molay_gerceklesti\u001b[0;34m(event, x, y, flags, param)\u001b[0m\n\u001b[1;32m     13\u001b[0m \u001b[38;5;28;01mdef\u001b[39;00m \u001b[38;5;21molay_gerceklesti\u001b[39m(event, x, y, flags, param):\n\u001b[1;32m     14\u001b[0m     eskiX \u001b[38;5;241m=\u001b[39m x\n\u001b[0;32m---> 15\u001b[0m     eskiY \u001b[38;5;241m=\u001b[39m \u001b[43mY\u001b[49m\n\u001b[1;32m     17\u001b[0m     yukBas \u001b[38;5;241m=\u001b[39m y\n\u001b[1;32m     18\u001b[0m     genBas \u001b[38;5;241m=\u001b[39m x\n",
      "\u001b[0;31mNameError\u001b[0m: name 'Y' is not defined"
     ]
    },
    {
     "ename": "NameError",
     "evalue": "name 'Y' is not defined",
     "output_type": "error",
     "traceback": [
      "\u001b[0;31m---------------------------------------------------------------------------\u001b[0m",
      "\u001b[0;31mNameError\u001b[0m                                 Traceback (most recent call last)",
      "Cell \u001b[0;32mIn [14], line 15\u001b[0m, in \u001b[0;36molay_gerceklesti\u001b[0;34m(event, x, y, flags, param)\u001b[0m\n\u001b[1;32m     13\u001b[0m \u001b[38;5;28;01mdef\u001b[39;00m \u001b[38;5;21molay_gerceklesti\u001b[39m(event, x, y, flags, param):\n\u001b[1;32m     14\u001b[0m     eskiX \u001b[38;5;241m=\u001b[39m x\n\u001b[0;32m---> 15\u001b[0m     eskiY \u001b[38;5;241m=\u001b[39m \u001b[43mY\u001b[49m\n\u001b[1;32m     17\u001b[0m     yukBas \u001b[38;5;241m=\u001b[39m y\n\u001b[1;32m     18\u001b[0m     genBas \u001b[38;5;241m=\u001b[39m x\n",
      "\u001b[0;31mNameError\u001b[0m: name 'Y' is not defined"
     ]
    },
    {
     "ename": "NameError",
     "evalue": "name 'Y' is not defined",
     "output_type": "error",
     "traceback": [
      "\u001b[0;31m---------------------------------------------------------------------------\u001b[0m",
      "\u001b[0;31mNameError\u001b[0m                                 Traceback (most recent call last)",
      "Cell \u001b[0;32mIn [14], line 15\u001b[0m, in \u001b[0;36molay_gerceklesti\u001b[0;34m(event, x, y, flags, param)\u001b[0m\n\u001b[1;32m     13\u001b[0m \u001b[38;5;28;01mdef\u001b[39;00m \u001b[38;5;21molay_gerceklesti\u001b[39m(event, x, y, flags, param):\n\u001b[1;32m     14\u001b[0m     eskiX \u001b[38;5;241m=\u001b[39m x\n\u001b[0;32m---> 15\u001b[0m     eskiY \u001b[38;5;241m=\u001b[39m \u001b[43mY\u001b[49m\n\u001b[1;32m     17\u001b[0m     yukBas \u001b[38;5;241m=\u001b[39m y\n\u001b[1;32m     18\u001b[0m     genBas \u001b[38;5;241m=\u001b[39m x\n",
      "\u001b[0;31mNameError\u001b[0m: name 'Y' is not defined"
     ]
    },
    {
     "ename": "NameError",
     "evalue": "name 'Y' is not defined",
     "output_type": "error",
     "traceback": [
      "\u001b[0;31m---------------------------------------------------------------------------\u001b[0m",
      "\u001b[0;31mNameError\u001b[0m                                 Traceback (most recent call last)",
      "Cell \u001b[0;32mIn [14], line 15\u001b[0m, in \u001b[0;36molay_gerceklesti\u001b[0;34m(event, x, y, flags, param)\u001b[0m\n\u001b[1;32m     13\u001b[0m \u001b[38;5;28;01mdef\u001b[39;00m \u001b[38;5;21molay_gerceklesti\u001b[39m(event, x, y, flags, param):\n\u001b[1;32m     14\u001b[0m     eskiX \u001b[38;5;241m=\u001b[39m x\n\u001b[0;32m---> 15\u001b[0m     eskiY \u001b[38;5;241m=\u001b[39m \u001b[43mY\u001b[49m\n\u001b[1;32m     17\u001b[0m     yukBas \u001b[38;5;241m=\u001b[39m y\n\u001b[1;32m     18\u001b[0m     genBas \u001b[38;5;241m=\u001b[39m x\n",
      "\u001b[0;31mNameError\u001b[0m: name 'Y' is not defined"
     ]
    },
    {
     "ename": "NameError",
     "evalue": "name 'Y' is not defined",
     "output_type": "error",
     "traceback": [
      "\u001b[0;31m---------------------------------------------------------------------------\u001b[0m",
      "\u001b[0;31mNameError\u001b[0m                                 Traceback (most recent call last)",
      "Cell \u001b[0;32mIn [14], line 15\u001b[0m, in \u001b[0;36molay_gerceklesti\u001b[0;34m(event, x, y, flags, param)\u001b[0m\n\u001b[1;32m     13\u001b[0m \u001b[38;5;28;01mdef\u001b[39;00m \u001b[38;5;21molay_gerceklesti\u001b[39m(event, x, y, flags, param):\n\u001b[1;32m     14\u001b[0m     eskiX \u001b[38;5;241m=\u001b[39m x\n\u001b[0;32m---> 15\u001b[0m     eskiY \u001b[38;5;241m=\u001b[39m \u001b[43mY\u001b[49m\n\u001b[1;32m     17\u001b[0m     yukBas \u001b[38;5;241m=\u001b[39m y\n\u001b[1;32m     18\u001b[0m     genBas \u001b[38;5;241m=\u001b[39m x\n",
      "\u001b[0;31mNameError\u001b[0m: name 'Y' is not defined"
     ]
    },
    {
     "ename": "NameError",
     "evalue": "name 'Y' is not defined",
     "output_type": "error",
     "traceback": [
      "\u001b[0;31m---------------------------------------------------------------------------\u001b[0m",
      "\u001b[0;31mNameError\u001b[0m                                 Traceback (most recent call last)",
      "Cell \u001b[0;32mIn [14], line 15\u001b[0m, in \u001b[0;36molay_gerceklesti\u001b[0;34m(event, x, y, flags, param)\u001b[0m\n\u001b[1;32m     13\u001b[0m \u001b[38;5;28;01mdef\u001b[39;00m \u001b[38;5;21molay_gerceklesti\u001b[39m(event, x, y, flags, param):\n\u001b[1;32m     14\u001b[0m     eskiX \u001b[38;5;241m=\u001b[39m x\n\u001b[0;32m---> 15\u001b[0m     eskiY \u001b[38;5;241m=\u001b[39m \u001b[43mY\u001b[49m\n\u001b[1;32m     17\u001b[0m     yukBas \u001b[38;5;241m=\u001b[39m y\n\u001b[1;32m     18\u001b[0m     genBas \u001b[38;5;241m=\u001b[39m x\n",
      "\u001b[0;31mNameError\u001b[0m: name 'Y' is not defined"
     ]
    },
    {
     "ename": "NameError",
     "evalue": "name 'Y' is not defined",
     "output_type": "error",
     "traceback": [
      "\u001b[0;31m---------------------------------------------------------------------------\u001b[0m",
      "\u001b[0;31mNameError\u001b[0m                                 Traceback (most recent call last)",
      "Cell \u001b[0;32mIn [14], line 15\u001b[0m, in \u001b[0;36molay_gerceklesti\u001b[0;34m(event, x, y, flags, param)\u001b[0m\n\u001b[1;32m     13\u001b[0m \u001b[38;5;28;01mdef\u001b[39;00m \u001b[38;5;21molay_gerceklesti\u001b[39m(event, x, y, flags, param):\n\u001b[1;32m     14\u001b[0m     eskiX \u001b[38;5;241m=\u001b[39m x\n\u001b[0;32m---> 15\u001b[0m     eskiY \u001b[38;5;241m=\u001b[39m \u001b[43mY\u001b[49m\n\u001b[1;32m     17\u001b[0m     yukBas \u001b[38;5;241m=\u001b[39m y\n\u001b[1;32m     18\u001b[0m     genBas \u001b[38;5;241m=\u001b[39m x\n",
      "\u001b[0;31mNameError\u001b[0m: name 'Y' is not defined"
     ]
    },
    {
     "ename": "NameError",
     "evalue": "name 'Y' is not defined",
     "output_type": "error",
     "traceback": [
      "\u001b[0;31m---------------------------------------------------------------------------\u001b[0m",
      "\u001b[0;31mNameError\u001b[0m                                 Traceback (most recent call last)",
      "Cell \u001b[0;32mIn [14], line 15\u001b[0m, in \u001b[0;36molay_gerceklesti\u001b[0;34m(event, x, y, flags, param)\u001b[0m\n\u001b[1;32m     13\u001b[0m \u001b[38;5;28;01mdef\u001b[39;00m \u001b[38;5;21molay_gerceklesti\u001b[39m(event, x, y, flags, param):\n\u001b[1;32m     14\u001b[0m     eskiX \u001b[38;5;241m=\u001b[39m x\n\u001b[0;32m---> 15\u001b[0m     eskiY \u001b[38;5;241m=\u001b[39m \u001b[43mY\u001b[49m\n\u001b[1;32m     17\u001b[0m     yukBas \u001b[38;5;241m=\u001b[39m y\n\u001b[1;32m     18\u001b[0m     genBas \u001b[38;5;241m=\u001b[39m x\n",
      "\u001b[0;31mNameError\u001b[0m: name 'Y' is not defined"
     ]
    },
    {
     "ename": "NameError",
     "evalue": "name 'Y' is not defined",
     "output_type": "error",
     "traceback": [
      "\u001b[0;31m---------------------------------------------------------------------------\u001b[0m",
      "\u001b[0;31mNameError\u001b[0m                                 Traceback (most recent call last)",
      "Cell \u001b[0;32mIn [14], line 15\u001b[0m, in \u001b[0;36molay_gerceklesti\u001b[0;34m(event, x, y, flags, param)\u001b[0m\n\u001b[1;32m     13\u001b[0m \u001b[38;5;28;01mdef\u001b[39;00m \u001b[38;5;21molay_gerceklesti\u001b[39m(event, x, y, flags, param):\n\u001b[1;32m     14\u001b[0m     eskiX \u001b[38;5;241m=\u001b[39m x\n\u001b[0;32m---> 15\u001b[0m     eskiY \u001b[38;5;241m=\u001b[39m \u001b[43mY\u001b[49m\n\u001b[1;32m     17\u001b[0m     yukBas \u001b[38;5;241m=\u001b[39m y\n\u001b[1;32m     18\u001b[0m     genBas \u001b[38;5;241m=\u001b[39m x\n",
      "\u001b[0;31mNameError\u001b[0m: name 'Y' is not defined"
     ]
    },
    {
     "ename": "NameError",
     "evalue": "name 'Y' is not defined",
     "output_type": "error",
     "traceback": [
      "\u001b[0;31m---------------------------------------------------------------------------\u001b[0m",
      "\u001b[0;31mNameError\u001b[0m                                 Traceback (most recent call last)",
      "Cell \u001b[0;32mIn [14], line 15\u001b[0m, in \u001b[0;36molay_gerceklesti\u001b[0;34m(event, x, y, flags, param)\u001b[0m\n\u001b[1;32m     13\u001b[0m \u001b[38;5;28;01mdef\u001b[39;00m \u001b[38;5;21molay_gerceklesti\u001b[39m(event, x, y, flags, param):\n\u001b[1;32m     14\u001b[0m     eskiX \u001b[38;5;241m=\u001b[39m x\n\u001b[0;32m---> 15\u001b[0m     eskiY \u001b[38;5;241m=\u001b[39m \u001b[43mY\u001b[49m\n\u001b[1;32m     17\u001b[0m     yukBas \u001b[38;5;241m=\u001b[39m y\n\u001b[1;32m     18\u001b[0m     genBas \u001b[38;5;241m=\u001b[39m x\n",
      "\u001b[0;31mNameError\u001b[0m: name 'Y' is not defined"
     ]
    },
    {
     "ename": "NameError",
     "evalue": "name 'Y' is not defined",
     "output_type": "error",
     "traceback": [
      "\u001b[0;31m---------------------------------------------------------------------------\u001b[0m",
      "\u001b[0;31mNameError\u001b[0m                                 Traceback (most recent call last)",
      "Cell \u001b[0;32mIn [14], line 15\u001b[0m, in \u001b[0;36molay_gerceklesti\u001b[0;34m(event, x, y, flags, param)\u001b[0m\n\u001b[1;32m     13\u001b[0m \u001b[38;5;28;01mdef\u001b[39;00m \u001b[38;5;21molay_gerceklesti\u001b[39m(event, x, y, flags, param):\n\u001b[1;32m     14\u001b[0m     eskiX \u001b[38;5;241m=\u001b[39m x\n\u001b[0;32m---> 15\u001b[0m     eskiY \u001b[38;5;241m=\u001b[39m \u001b[43mY\u001b[49m\n\u001b[1;32m     17\u001b[0m     yukBas \u001b[38;5;241m=\u001b[39m y\n\u001b[1;32m     18\u001b[0m     genBas \u001b[38;5;241m=\u001b[39m x\n",
      "\u001b[0;31mNameError\u001b[0m: name 'Y' is not defined"
     ]
    },
    {
     "ename": "NameError",
     "evalue": "name 'Y' is not defined",
     "output_type": "error",
     "traceback": [
      "\u001b[0;31m---------------------------------------------------------------------------\u001b[0m",
      "\u001b[0;31mNameError\u001b[0m                                 Traceback (most recent call last)",
      "Cell \u001b[0;32mIn [14], line 15\u001b[0m, in \u001b[0;36molay_gerceklesti\u001b[0;34m(event, x, y, flags, param)\u001b[0m\n\u001b[1;32m     13\u001b[0m \u001b[38;5;28;01mdef\u001b[39;00m \u001b[38;5;21molay_gerceklesti\u001b[39m(event, x, y, flags, param):\n\u001b[1;32m     14\u001b[0m     eskiX \u001b[38;5;241m=\u001b[39m x\n\u001b[0;32m---> 15\u001b[0m     eskiY \u001b[38;5;241m=\u001b[39m \u001b[43mY\u001b[49m\n\u001b[1;32m     17\u001b[0m     yukBas \u001b[38;5;241m=\u001b[39m y\n\u001b[1;32m     18\u001b[0m     genBas \u001b[38;5;241m=\u001b[39m x\n",
      "\u001b[0;31mNameError\u001b[0m: name 'Y' is not defined"
     ]
    },
    {
     "ename": "NameError",
     "evalue": "name 'Y' is not defined",
     "output_type": "error",
     "traceback": [
      "\u001b[0;31m---------------------------------------------------------------------------\u001b[0m",
      "\u001b[0;31mNameError\u001b[0m                                 Traceback (most recent call last)",
      "Cell \u001b[0;32mIn [14], line 15\u001b[0m, in \u001b[0;36molay_gerceklesti\u001b[0;34m(event, x, y, flags, param)\u001b[0m\n\u001b[1;32m     13\u001b[0m \u001b[38;5;28;01mdef\u001b[39;00m \u001b[38;5;21molay_gerceklesti\u001b[39m(event, x, y, flags, param):\n\u001b[1;32m     14\u001b[0m     eskiX \u001b[38;5;241m=\u001b[39m x\n\u001b[0;32m---> 15\u001b[0m     eskiY \u001b[38;5;241m=\u001b[39m \u001b[43mY\u001b[49m\n\u001b[1;32m     17\u001b[0m     yukBas \u001b[38;5;241m=\u001b[39m y\n\u001b[1;32m     18\u001b[0m     genBas \u001b[38;5;241m=\u001b[39m x\n",
      "\u001b[0;31mNameError\u001b[0m: name 'Y' is not defined"
     ]
    },
    {
     "ename": "NameError",
     "evalue": "name 'Y' is not defined",
     "output_type": "error",
     "traceback": [
      "\u001b[0;31m---------------------------------------------------------------------------\u001b[0m",
      "\u001b[0;31mNameError\u001b[0m                                 Traceback (most recent call last)",
      "Cell \u001b[0;32mIn [14], line 15\u001b[0m, in \u001b[0;36molay_gerceklesti\u001b[0;34m(event, x, y, flags, param)\u001b[0m\n\u001b[1;32m     13\u001b[0m \u001b[38;5;28;01mdef\u001b[39;00m \u001b[38;5;21molay_gerceklesti\u001b[39m(event, x, y, flags, param):\n\u001b[1;32m     14\u001b[0m     eskiX \u001b[38;5;241m=\u001b[39m x\n\u001b[0;32m---> 15\u001b[0m     eskiY \u001b[38;5;241m=\u001b[39m \u001b[43mY\u001b[49m\n\u001b[1;32m     17\u001b[0m     yukBas \u001b[38;5;241m=\u001b[39m y\n\u001b[1;32m     18\u001b[0m     genBas \u001b[38;5;241m=\u001b[39m x\n",
      "\u001b[0;31mNameError\u001b[0m: name 'Y' is not defined"
     ]
    },
    {
     "ename": "NameError",
     "evalue": "name 'Y' is not defined",
     "output_type": "error",
     "traceback": [
      "\u001b[0;31m---------------------------------------------------------------------------\u001b[0m",
      "\u001b[0;31mNameError\u001b[0m                                 Traceback (most recent call last)",
      "Cell \u001b[0;32mIn [14], line 15\u001b[0m, in \u001b[0;36molay_gerceklesti\u001b[0;34m(event, x, y, flags, param)\u001b[0m\n\u001b[1;32m     13\u001b[0m \u001b[38;5;28;01mdef\u001b[39;00m \u001b[38;5;21molay_gerceklesti\u001b[39m(event, x, y, flags, param):\n\u001b[1;32m     14\u001b[0m     eskiX \u001b[38;5;241m=\u001b[39m x\n\u001b[0;32m---> 15\u001b[0m     eskiY \u001b[38;5;241m=\u001b[39m \u001b[43mY\u001b[49m\n\u001b[1;32m     17\u001b[0m     yukBas \u001b[38;5;241m=\u001b[39m y\n\u001b[1;32m     18\u001b[0m     genBas \u001b[38;5;241m=\u001b[39m x\n",
      "\u001b[0;31mNameError\u001b[0m: name 'Y' is not defined"
     ]
    },
    {
     "ename": "NameError",
     "evalue": "name 'Y' is not defined",
     "output_type": "error",
     "traceback": [
      "\u001b[0;31m---------------------------------------------------------------------------\u001b[0m",
      "\u001b[0;31mNameError\u001b[0m                                 Traceback (most recent call last)",
      "Cell \u001b[0;32mIn [14], line 15\u001b[0m, in \u001b[0;36molay_gerceklesti\u001b[0;34m(event, x, y, flags, param)\u001b[0m\n\u001b[1;32m     13\u001b[0m \u001b[38;5;28;01mdef\u001b[39;00m \u001b[38;5;21molay_gerceklesti\u001b[39m(event, x, y, flags, param):\n\u001b[1;32m     14\u001b[0m     eskiX \u001b[38;5;241m=\u001b[39m x\n\u001b[0;32m---> 15\u001b[0m     eskiY \u001b[38;5;241m=\u001b[39m \u001b[43mY\u001b[49m\n\u001b[1;32m     17\u001b[0m     yukBas \u001b[38;5;241m=\u001b[39m y\n\u001b[1;32m     18\u001b[0m     genBas \u001b[38;5;241m=\u001b[39m x\n",
      "\u001b[0;31mNameError\u001b[0m: name 'Y' is not defined"
     ]
    },
    {
     "ename": "NameError",
     "evalue": "name 'Y' is not defined",
     "output_type": "error",
     "traceback": [
      "\u001b[0;31m---------------------------------------------------------------------------\u001b[0m",
      "\u001b[0;31mNameError\u001b[0m                                 Traceback (most recent call last)",
      "Cell \u001b[0;32mIn [14], line 15\u001b[0m, in \u001b[0;36molay_gerceklesti\u001b[0;34m(event, x, y, flags, param)\u001b[0m\n\u001b[1;32m     13\u001b[0m \u001b[38;5;28;01mdef\u001b[39;00m \u001b[38;5;21molay_gerceklesti\u001b[39m(event, x, y, flags, param):\n\u001b[1;32m     14\u001b[0m     eskiX \u001b[38;5;241m=\u001b[39m x\n\u001b[0;32m---> 15\u001b[0m     eskiY \u001b[38;5;241m=\u001b[39m \u001b[43mY\u001b[49m\n\u001b[1;32m     17\u001b[0m     yukBas \u001b[38;5;241m=\u001b[39m y\n\u001b[1;32m     18\u001b[0m     genBas \u001b[38;5;241m=\u001b[39m x\n",
      "\u001b[0;31mNameError\u001b[0m: name 'Y' is not defined"
     ]
    },
    {
     "ename": "NameError",
     "evalue": "name 'Y' is not defined",
     "output_type": "error",
     "traceback": [
      "\u001b[0;31m---------------------------------------------------------------------------\u001b[0m",
      "\u001b[0;31mNameError\u001b[0m                                 Traceback (most recent call last)",
      "Cell \u001b[0;32mIn [14], line 15\u001b[0m, in \u001b[0;36molay_gerceklesti\u001b[0;34m(event, x, y, flags, param)\u001b[0m\n\u001b[1;32m     13\u001b[0m \u001b[38;5;28;01mdef\u001b[39;00m \u001b[38;5;21molay_gerceklesti\u001b[39m(event, x, y, flags, param):\n\u001b[1;32m     14\u001b[0m     eskiX \u001b[38;5;241m=\u001b[39m x\n\u001b[0;32m---> 15\u001b[0m     eskiY \u001b[38;5;241m=\u001b[39m \u001b[43mY\u001b[49m\n\u001b[1;32m     17\u001b[0m     yukBas \u001b[38;5;241m=\u001b[39m y\n\u001b[1;32m     18\u001b[0m     genBas \u001b[38;5;241m=\u001b[39m x\n",
      "\u001b[0;31mNameError\u001b[0m: name 'Y' is not defined"
     ]
    },
    {
     "ename": "NameError",
     "evalue": "name 'Y' is not defined",
     "output_type": "error",
     "traceback": [
      "\u001b[0;31m---------------------------------------------------------------------------\u001b[0m",
      "\u001b[0;31mNameError\u001b[0m                                 Traceback (most recent call last)",
      "Cell \u001b[0;32mIn [14], line 15\u001b[0m, in \u001b[0;36molay_gerceklesti\u001b[0;34m(event, x, y, flags, param)\u001b[0m\n\u001b[1;32m     13\u001b[0m \u001b[38;5;28;01mdef\u001b[39;00m \u001b[38;5;21molay_gerceklesti\u001b[39m(event, x, y, flags, param):\n\u001b[1;32m     14\u001b[0m     eskiX \u001b[38;5;241m=\u001b[39m x\n\u001b[0;32m---> 15\u001b[0m     eskiY \u001b[38;5;241m=\u001b[39m \u001b[43mY\u001b[49m\n\u001b[1;32m     17\u001b[0m     yukBas \u001b[38;5;241m=\u001b[39m y\n\u001b[1;32m     18\u001b[0m     genBas \u001b[38;5;241m=\u001b[39m x\n",
      "\u001b[0;31mNameError\u001b[0m: name 'Y' is not defined"
     ]
    },
    {
     "ename": "NameError",
     "evalue": "name 'Y' is not defined",
     "output_type": "error",
     "traceback": [
      "\u001b[0;31m---------------------------------------------------------------------------\u001b[0m",
      "\u001b[0;31mNameError\u001b[0m                                 Traceback (most recent call last)",
      "Cell \u001b[0;32mIn [14], line 15\u001b[0m, in \u001b[0;36molay_gerceklesti\u001b[0;34m(event, x, y, flags, param)\u001b[0m\n\u001b[1;32m     13\u001b[0m \u001b[38;5;28;01mdef\u001b[39;00m \u001b[38;5;21molay_gerceklesti\u001b[39m(event, x, y, flags, param):\n\u001b[1;32m     14\u001b[0m     eskiX \u001b[38;5;241m=\u001b[39m x\n\u001b[0;32m---> 15\u001b[0m     eskiY \u001b[38;5;241m=\u001b[39m \u001b[43mY\u001b[49m\n\u001b[1;32m     17\u001b[0m     yukBas \u001b[38;5;241m=\u001b[39m y\n\u001b[1;32m     18\u001b[0m     genBas \u001b[38;5;241m=\u001b[39m x\n",
      "\u001b[0;31mNameError\u001b[0m: name 'Y' is not defined"
     ]
    },
    {
     "ename": "NameError",
     "evalue": "name 'Y' is not defined",
     "output_type": "error",
     "traceback": [
      "\u001b[0;31m---------------------------------------------------------------------------\u001b[0m",
      "\u001b[0;31mNameError\u001b[0m                                 Traceback (most recent call last)",
      "Cell \u001b[0;32mIn [14], line 15\u001b[0m, in \u001b[0;36molay_gerceklesti\u001b[0;34m(event, x, y, flags, param)\u001b[0m\n\u001b[1;32m     13\u001b[0m \u001b[38;5;28;01mdef\u001b[39;00m \u001b[38;5;21molay_gerceklesti\u001b[39m(event, x, y, flags, param):\n\u001b[1;32m     14\u001b[0m     eskiX \u001b[38;5;241m=\u001b[39m x\n\u001b[0;32m---> 15\u001b[0m     eskiY \u001b[38;5;241m=\u001b[39m \u001b[43mY\u001b[49m\n\u001b[1;32m     17\u001b[0m     yukBas \u001b[38;5;241m=\u001b[39m y\n\u001b[1;32m     18\u001b[0m     genBas \u001b[38;5;241m=\u001b[39m x\n",
      "\u001b[0;31mNameError\u001b[0m: name 'Y' is not defined"
     ]
    },
    {
     "ename": "NameError",
     "evalue": "name 'Y' is not defined",
     "output_type": "error",
     "traceback": [
      "\u001b[0;31m---------------------------------------------------------------------------\u001b[0m",
      "\u001b[0;31mNameError\u001b[0m                                 Traceback (most recent call last)",
      "Cell \u001b[0;32mIn [14], line 15\u001b[0m, in \u001b[0;36molay_gerceklesti\u001b[0;34m(event, x, y, flags, param)\u001b[0m\n\u001b[1;32m     13\u001b[0m \u001b[38;5;28;01mdef\u001b[39;00m \u001b[38;5;21molay_gerceklesti\u001b[39m(event, x, y, flags, param):\n\u001b[1;32m     14\u001b[0m     eskiX \u001b[38;5;241m=\u001b[39m x\n\u001b[0;32m---> 15\u001b[0m     eskiY \u001b[38;5;241m=\u001b[39m \u001b[43mY\u001b[49m\n\u001b[1;32m     17\u001b[0m     yukBas \u001b[38;5;241m=\u001b[39m y\n\u001b[1;32m     18\u001b[0m     genBas \u001b[38;5;241m=\u001b[39m x\n",
      "\u001b[0;31mNameError\u001b[0m: name 'Y' is not defined"
     ]
    },
    {
     "ename": "NameError",
     "evalue": "name 'Y' is not defined",
     "output_type": "error",
     "traceback": [
      "\u001b[0;31m---------------------------------------------------------------------------\u001b[0m",
      "\u001b[0;31mNameError\u001b[0m                                 Traceback (most recent call last)",
      "Cell \u001b[0;32mIn [14], line 15\u001b[0m, in \u001b[0;36molay_gerceklesti\u001b[0;34m(event, x, y, flags, param)\u001b[0m\n\u001b[1;32m     13\u001b[0m \u001b[38;5;28;01mdef\u001b[39;00m \u001b[38;5;21molay_gerceklesti\u001b[39m(event, x, y, flags, param):\n\u001b[1;32m     14\u001b[0m     eskiX \u001b[38;5;241m=\u001b[39m x\n\u001b[0;32m---> 15\u001b[0m     eskiY \u001b[38;5;241m=\u001b[39m \u001b[43mY\u001b[49m\n\u001b[1;32m     17\u001b[0m     yukBas \u001b[38;5;241m=\u001b[39m y\n\u001b[1;32m     18\u001b[0m     genBas \u001b[38;5;241m=\u001b[39m x\n",
      "\u001b[0;31mNameError\u001b[0m: name 'Y' is not defined"
     ]
    },
    {
     "ename": "NameError",
     "evalue": "name 'Y' is not defined",
     "output_type": "error",
     "traceback": [
      "\u001b[0;31m---------------------------------------------------------------------------\u001b[0m",
      "\u001b[0;31mNameError\u001b[0m                                 Traceback (most recent call last)",
      "Cell \u001b[0;32mIn [14], line 15\u001b[0m, in \u001b[0;36molay_gerceklesti\u001b[0;34m(event, x, y, flags, param)\u001b[0m\n\u001b[1;32m     13\u001b[0m \u001b[38;5;28;01mdef\u001b[39;00m \u001b[38;5;21molay_gerceklesti\u001b[39m(event, x, y, flags, param):\n\u001b[1;32m     14\u001b[0m     eskiX \u001b[38;5;241m=\u001b[39m x\n\u001b[0;32m---> 15\u001b[0m     eskiY \u001b[38;5;241m=\u001b[39m \u001b[43mY\u001b[49m\n\u001b[1;32m     17\u001b[0m     yukBas \u001b[38;5;241m=\u001b[39m y\n\u001b[1;32m     18\u001b[0m     genBas \u001b[38;5;241m=\u001b[39m x\n",
      "\u001b[0;31mNameError\u001b[0m: name 'Y' is not defined"
     ]
    },
    {
     "ename": "NameError",
     "evalue": "name 'Y' is not defined",
     "output_type": "error",
     "traceback": [
      "\u001b[0;31m---------------------------------------------------------------------------\u001b[0m",
      "\u001b[0;31mNameError\u001b[0m                                 Traceback (most recent call last)",
      "Cell \u001b[0;32mIn [14], line 15\u001b[0m, in \u001b[0;36molay_gerceklesti\u001b[0;34m(event, x, y, flags, param)\u001b[0m\n\u001b[1;32m     13\u001b[0m \u001b[38;5;28;01mdef\u001b[39;00m \u001b[38;5;21molay_gerceklesti\u001b[39m(event, x, y, flags, param):\n\u001b[1;32m     14\u001b[0m     eskiX \u001b[38;5;241m=\u001b[39m x\n\u001b[0;32m---> 15\u001b[0m     eskiY \u001b[38;5;241m=\u001b[39m \u001b[43mY\u001b[49m\n\u001b[1;32m     17\u001b[0m     yukBas \u001b[38;5;241m=\u001b[39m y\n\u001b[1;32m     18\u001b[0m     genBas \u001b[38;5;241m=\u001b[39m x\n",
      "\u001b[0;31mNameError\u001b[0m: name 'Y' is not defined"
     ]
    },
    {
     "ename": "NameError",
     "evalue": "name 'Y' is not defined",
     "output_type": "error",
     "traceback": [
      "\u001b[0;31m---------------------------------------------------------------------------\u001b[0m",
      "\u001b[0;31mNameError\u001b[0m                                 Traceback (most recent call last)",
      "Cell \u001b[0;32mIn [14], line 15\u001b[0m, in \u001b[0;36molay_gerceklesti\u001b[0;34m(event, x, y, flags, param)\u001b[0m\n\u001b[1;32m     13\u001b[0m \u001b[38;5;28;01mdef\u001b[39;00m \u001b[38;5;21molay_gerceklesti\u001b[39m(event, x, y, flags, param):\n\u001b[1;32m     14\u001b[0m     eskiX \u001b[38;5;241m=\u001b[39m x\n\u001b[0;32m---> 15\u001b[0m     eskiY \u001b[38;5;241m=\u001b[39m \u001b[43mY\u001b[49m\n\u001b[1;32m     17\u001b[0m     yukBas \u001b[38;5;241m=\u001b[39m y\n\u001b[1;32m     18\u001b[0m     genBas \u001b[38;5;241m=\u001b[39m x\n",
      "\u001b[0;31mNameError\u001b[0m: name 'Y' is not defined"
     ]
    },
    {
     "ename": "NameError",
     "evalue": "name 'Y' is not defined",
     "output_type": "error",
     "traceback": [
      "\u001b[0;31m---------------------------------------------------------------------------\u001b[0m",
      "\u001b[0;31mNameError\u001b[0m                                 Traceback (most recent call last)",
      "Cell \u001b[0;32mIn [14], line 15\u001b[0m, in \u001b[0;36molay_gerceklesti\u001b[0;34m(event, x, y, flags, param)\u001b[0m\n\u001b[1;32m     13\u001b[0m \u001b[38;5;28;01mdef\u001b[39;00m \u001b[38;5;21molay_gerceklesti\u001b[39m(event, x, y, flags, param):\n\u001b[1;32m     14\u001b[0m     eskiX \u001b[38;5;241m=\u001b[39m x\n\u001b[0;32m---> 15\u001b[0m     eskiY \u001b[38;5;241m=\u001b[39m \u001b[43mY\u001b[49m\n\u001b[1;32m     17\u001b[0m     yukBas \u001b[38;5;241m=\u001b[39m y\n\u001b[1;32m     18\u001b[0m     genBas \u001b[38;5;241m=\u001b[39m x\n",
      "\u001b[0;31mNameError\u001b[0m: name 'Y' is not defined"
     ]
    },
    {
     "ename": "NameError",
     "evalue": "name 'Y' is not defined",
     "output_type": "error",
     "traceback": [
      "\u001b[0;31m---------------------------------------------------------------------------\u001b[0m",
      "\u001b[0;31mNameError\u001b[0m                                 Traceback (most recent call last)",
      "Cell \u001b[0;32mIn [14], line 15\u001b[0m, in \u001b[0;36molay_gerceklesti\u001b[0;34m(event, x, y, flags, param)\u001b[0m\n\u001b[1;32m     13\u001b[0m \u001b[38;5;28;01mdef\u001b[39;00m \u001b[38;5;21molay_gerceklesti\u001b[39m(event, x, y, flags, param):\n\u001b[1;32m     14\u001b[0m     eskiX \u001b[38;5;241m=\u001b[39m x\n\u001b[0;32m---> 15\u001b[0m     eskiY \u001b[38;5;241m=\u001b[39m \u001b[43mY\u001b[49m\n\u001b[1;32m     17\u001b[0m     yukBas \u001b[38;5;241m=\u001b[39m y\n\u001b[1;32m     18\u001b[0m     genBas \u001b[38;5;241m=\u001b[39m x\n",
      "\u001b[0;31mNameError\u001b[0m: name 'Y' is not defined"
     ]
    },
    {
     "ename": "NameError",
     "evalue": "name 'Y' is not defined",
     "output_type": "error",
     "traceback": [
      "\u001b[0;31m---------------------------------------------------------------------------\u001b[0m",
      "\u001b[0;31mNameError\u001b[0m                                 Traceback (most recent call last)",
      "Cell \u001b[0;32mIn [14], line 15\u001b[0m, in \u001b[0;36molay_gerceklesti\u001b[0;34m(event, x, y, flags, param)\u001b[0m\n\u001b[1;32m     13\u001b[0m \u001b[38;5;28;01mdef\u001b[39;00m \u001b[38;5;21molay_gerceklesti\u001b[39m(event, x, y, flags, param):\n\u001b[1;32m     14\u001b[0m     eskiX \u001b[38;5;241m=\u001b[39m x\n\u001b[0;32m---> 15\u001b[0m     eskiY \u001b[38;5;241m=\u001b[39m \u001b[43mY\u001b[49m\n\u001b[1;32m     17\u001b[0m     yukBas \u001b[38;5;241m=\u001b[39m y\n\u001b[1;32m     18\u001b[0m     genBas \u001b[38;5;241m=\u001b[39m x\n",
      "\u001b[0;31mNameError\u001b[0m: name 'Y' is not defined"
     ]
    },
    {
     "ename": "NameError",
     "evalue": "name 'Y' is not defined",
     "output_type": "error",
     "traceback": [
      "\u001b[0;31m---------------------------------------------------------------------------\u001b[0m",
      "\u001b[0;31mNameError\u001b[0m                                 Traceback (most recent call last)",
      "Cell \u001b[0;32mIn [14], line 15\u001b[0m, in \u001b[0;36molay_gerceklesti\u001b[0;34m(event, x, y, flags, param)\u001b[0m\n\u001b[1;32m     13\u001b[0m \u001b[38;5;28;01mdef\u001b[39;00m \u001b[38;5;21molay_gerceklesti\u001b[39m(event, x, y, flags, param):\n\u001b[1;32m     14\u001b[0m     eskiX \u001b[38;5;241m=\u001b[39m x\n\u001b[0;32m---> 15\u001b[0m     eskiY \u001b[38;5;241m=\u001b[39m \u001b[43mY\u001b[49m\n\u001b[1;32m     17\u001b[0m     yukBas \u001b[38;5;241m=\u001b[39m y\n\u001b[1;32m     18\u001b[0m     genBas \u001b[38;5;241m=\u001b[39m x\n",
      "\u001b[0;31mNameError\u001b[0m: name 'Y' is not defined"
     ]
    },
    {
     "ename": "NameError",
     "evalue": "name 'Y' is not defined",
     "output_type": "error",
     "traceback": [
      "\u001b[0;31m---------------------------------------------------------------------------\u001b[0m",
      "\u001b[0;31mNameError\u001b[0m                                 Traceback (most recent call last)",
      "Cell \u001b[0;32mIn [14], line 15\u001b[0m, in \u001b[0;36molay_gerceklesti\u001b[0;34m(event, x, y, flags, param)\u001b[0m\n\u001b[1;32m     13\u001b[0m \u001b[38;5;28;01mdef\u001b[39;00m \u001b[38;5;21molay_gerceklesti\u001b[39m(event, x, y, flags, param):\n\u001b[1;32m     14\u001b[0m     eskiX \u001b[38;5;241m=\u001b[39m x\n\u001b[0;32m---> 15\u001b[0m     eskiY \u001b[38;5;241m=\u001b[39m \u001b[43mY\u001b[49m\n\u001b[1;32m     17\u001b[0m     yukBas \u001b[38;5;241m=\u001b[39m y\n\u001b[1;32m     18\u001b[0m     genBas \u001b[38;5;241m=\u001b[39m x\n",
      "\u001b[0;31mNameError\u001b[0m: name 'Y' is not defined"
     ]
    },
    {
     "ename": "NameError",
     "evalue": "name 'Y' is not defined",
     "output_type": "error",
     "traceback": [
      "\u001b[0;31m---------------------------------------------------------------------------\u001b[0m",
      "\u001b[0;31mNameError\u001b[0m                                 Traceback (most recent call last)",
      "Cell \u001b[0;32mIn [14], line 15\u001b[0m, in \u001b[0;36molay_gerceklesti\u001b[0;34m(event, x, y, flags, param)\u001b[0m\n\u001b[1;32m     13\u001b[0m \u001b[38;5;28;01mdef\u001b[39;00m \u001b[38;5;21molay_gerceklesti\u001b[39m(event, x, y, flags, param):\n\u001b[1;32m     14\u001b[0m     eskiX \u001b[38;5;241m=\u001b[39m x\n\u001b[0;32m---> 15\u001b[0m     eskiY \u001b[38;5;241m=\u001b[39m \u001b[43mY\u001b[49m\n\u001b[1;32m     17\u001b[0m     yukBas \u001b[38;5;241m=\u001b[39m y\n\u001b[1;32m     18\u001b[0m     genBas \u001b[38;5;241m=\u001b[39m x\n",
      "\u001b[0;31mNameError\u001b[0m: name 'Y' is not defined"
     ]
    },
    {
     "ename": "NameError",
     "evalue": "name 'Y' is not defined",
     "output_type": "error",
     "traceback": [
      "\u001b[0;31m---------------------------------------------------------------------------\u001b[0m",
      "\u001b[0;31mNameError\u001b[0m                                 Traceback (most recent call last)",
      "Cell \u001b[0;32mIn [14], line 15\u001b[0m, in \u001b[0;36molay_gerceklesti\u001b[0;34m(event, x, y, flags, param)\u001b[0m\n\u001b[1;32m     13\u001b[0m \u001b[38;5;28;01mdef\u001b[39;00m \u001b[38;5;21molay_gerceklesti\u001b[39m(event, x, y, flags, param):\n\u001b[1;32m     14\u001b[0m     eskiX \u001b[38;5;241m=\u001b[39m x\n\u001b[0;32m---> 15\u001b[0m     eskiY \u001b[38;5;241m=\u001b[39m \u001b[43mY\u001b[49m\n\u001b[1;32m     17\u001b[0m     yukBas \u001b[38;5;241m=\u001b[39m y\n\u001b[1;32m     18\u001b[0m     genBas \u001b[38;5;241m=\u001b[39m x\n",
      "\u001b[0;31mNameError\u001b[0m: name 'Y' is not defined"
     ]
    },
    {
     "ename": "NameError",
     "evalue": "name 'Y' is not defined",
     "output_type": "error",
     "traceback": [
      "\u001b[0;31m---------------------------------------------------------------------------\u001b[0m",
      "\u001b[0;31mNameError\u001b[0m                                 Traceback (most recent call last)",
      "Cell \u001b[0;32mIn [14], line 15\u001b[0m, in \u001b[0;36molay_gerceklesti\u001b[0;34m(event, x, y, flags, param)\u001b[0m\n\u001b[1;32m     13\u001b[0m \u001b[38;5;28;01mdef\u001b[39;00m \u001b[38;5;21molay_gerceklesti\u001b[39m(event, x, y, flags, param):\n\u001b[1;32m     14\u001b[0m     eskiX \u001b[38;5;241m=\u001b[39m x\n\u001b[0;32m---> 15\u001b[0m     eskiY \u001b[38;5;241m=\u001b[39m \u001b[43mY\u001b[49m\n\u001b[1;32m     17\u001b[0m     yukBas \u001b[38;5;241m=\u001b[39m y\n\u001b[1;32m     18\u001b[0m     genBas \u001b[38;5;241m=\u001b[39m x\n",
      "\u001b[0;31mNameError\u001b[0m: name 'Y' is not defined"
     ]
    },
    {
     "ename": "NameError",
     "evalue": "name 'Y' is not defined",
     "output_type": "error",
     "traceback": [
      "\u001b[0;31m---------------------------------------------------------------------------\u001b[0m",
      "\u001b[0;31mNameError\u001b[0m                                 Traceback (most recent call last)",
      "Cell \u001b[0;32mIn [14], line 15\u001b[0m, in \u001b[0;36molay_gerceklesti\u001b[0;34m(event, x, y, flags, param)\u001b[0m\n\u001b[1;32m     13\u001b[0m \u001b[38;5;28;01mdef\u001b[39;00m \u001b[38;5;21molay_gerceklesti\u001b[39m(event, x, y, flags, param):\n\u001b[1;32m     14\u001b[0m     eskiX \u001b[38;5;241m=\u001b[39m x\n\u001b[0;32m---> 15\u001b[0m     eskiY \u001b[38;5;241m=\u001b[39m \u001b[43mY\u001b[49m\n\u001b[1;32m     17\u001b[0m     yukBas \u001b[38;5;241m=\u001b[39m y\n\u001b[1;32m     18\u001b[0m     genBas \u001b[38;5;241m=\u001b[39m x\n",
      "\u001b[0;31mNameError\u001b[0m: name 'Y' is not defined"
     ]
    },
    {
     "ename": "NameError",
     "evalue": "name 'Y' is not defined",
     "output_type": "error",
     "traceback": [
      "\u001b[0;31m---------------------------------------------------------------------------\u001b[0m",
      "\u001b[0;31mNameError\u001b[0m                                 Traceback (most recent call last)",
      "Cell \u001b[0;32mIn [14], line 15\u001b[0m, in \u001b[0;36molay_gerceklesti\u001b[0;34m(event, x, y, flags, param)\u001b[0m\n\u001b[1;32m     13\u001b[0m \u001b[38;5;28;01mdef\u001b[39;00m \u001b[38;5;21molay_gerceklesti\u001b[39m(event, x, y, flags, param):\n\u001b[1;32m     14\u001b[0m     eskiX \u001b[38;5;241m=\u001b[39m x\n\u001b[0;32m---> 15\u001b[0m     eskiY \u001b[38;5;241m=\u001b[39m \u001b[43mY\u001b[49m\n\u001b[1;32m     17\u001b[0m     yukBas \u001b[38;5;241m=\u001b[39m y\n\u001b[1;32m     18\u001b[0m     genBas \u001b[38;5;241m=\u001b[39m x\n",
      "\u001b[0;31mNameError\u001b[0m: name 'Y' is not defined"
     ]
    },
    {
     "ename": "NameError",
     "evalue": "name 'Y' is not defined",
     "output_type": "error",
     "traceback": [
      "\u001b[0;31m---------------------------------------------------------------------------\u001b[0m",
      "\u001b[0;31mNameError\u001b[0m                                 Traceback (most recent call last)",
      "Cell \u001b[0;32mIn [14], line 15\u001b[0m, in \u001b[0;36molay_gerceklesti\u001b[0;34m(event, x, y, flags, param)\u001b[0m\n\u001b[1;32m     13\u001b[0m \u001b[38;5;28;01mdef\u001b[39;00m \u001b[38;5;21molay_gerceklesti\u001b[39m(event, x, y, flags, param):\n\u001b[1;32m     14\u001b[0m     eskiX \u001b[38;5;241m=\u001b[39m x\n\u001b[0;32m---> 15\u001b[0m     eskiY \u001b[38;5;241m=\u001b[39m \u001b[43mY\u001b[49m\n\u001b[1;32m     17\u001b[0m     yukBas \u001b[38;5;241m=\u001b[39m y\n\u001b[1;32m     18\u001b[0m     genBas \u001b[38;5;241m=\u001b[39m x\n",
      "\u001b[0;31mNameError\u001b[0m: name 'Y' is not defined"
     ]
    },
    {
     "ename": "NameError",
     "evalue": "name 'Y' is not defined",
     "output_type": "error",
     "traceback": [
      "\u001b[0;31m---------------------------------------------------------------------------\u001b[0m",
      "\u001b[0;31mNameError\u001b[0m                                 Traceback (most recent call last)",
      "Cell \u001b[0;32mIn [14], line 15\u001b[0m, in \u001b[0;36molay_gerceklesti\u001b[0;34m(event, x, y, flags, param)\u001b[0m\n\u001b[1;32m     13\u001b[0m \u001b[38;5;28;01mdef\u001b[39;00m \u001b[38;5;21molay_gerceklesti\u001b[39m(event, x, y, flags, param):\n\u001b[1;32m     14\u001b[0m     eskiX \u001b[38;5;241m=\u001b[39m x\n\u001b[0;32m---> 15\u001b[0m     eskiY \u001b[38;5;241m=\u001b[39m \u001b[43mY\u001b[49m\n\u001b[1;32m     17\u001b[0m     yukBas \u001b[38;5;241m=\u001b[39m y\n\u001b[1;32m     18\u001b[0m     genBas \u001b[38;5;241m=\u001b[39m x\n",
      "\u001b[0;31mNameError\u001b[0m: name 'Y' is not defined"
     ]
    },
    {
     "ename": "NameError",
     "evalue": "name 'Y' is not defined",
     "output_type": "error",
     "traceback": [
      "\u001b[0;31m---------------------------------------------------------------------------\u001b[0m",
      "\u001b[0;31mNameError\u001b[0m                                 Traceback (most recent call last)",
      "Cell \u001b[0;32mIn [14], line 15\u001b[0m, in \u001b[0;36molay_gerceklesti\u001b[0;34m(event, x, y, flags, param)\u001b[0m\n\u001b[1;32m     13\u001b[0m \u001b[38;5;28;01mdef\u001b[39;00m \u001b[38;5;21molay_gerceklesti\u001b[39m(event, x, y, flags, param):\n\u001b[1;32m     14\u001b[0m     eskiX \u001b[38;5;241m=\u001b[39m x\n\u001b[0;32m---> 15\u001b[0m     eskiY \u001b[38;5;241m=\u001b[39m \u001b[43mY\u001b[49m\n\u001b[1;32m     17\u001b[0m     yukBas \u001b[38;5;241m=\u001b[39m y\n\u001b[1;32m     18\u001b[0m     genBas \u001b[38;5;241m=\u001b[39m x\n",
      "\u001b[0;31mNameError\u001b[0m: name 'Y' is not defined"
     ]
    },
    {
     "ename": "NameError",
     "evalue": "name 'Y' is not defined",
     "output_type": "error",
     "traceback": [
      "\u001b[0;31m---------------------------------------------------------------------------\u001b[0m",
      "\u001b[0;31mNameError\u001b[0m                                 Traceback (most recent call last)",
      "Cell \u001b[0;32mIn [14], line 15\u001b[0m, in \u001b[0;36molay_gerceklesti\u001b[0;34m(event, x, y, flags, param)\u001b[0m\n\u001b[1;32m     13\u001b[0m \u001b[38;5;28;01mdef\u001b[39;00m \u001b[38;5;21molay_gerceklesti\u001b[39m(event, x, y, flags, param):\n\u001b[1;32m     14\u001b[0m     eskiX \u001b[38;5;241m=\u001b[39m x\n\u001b[0;32m---> 15\u001b[0m     eskiY \u001b[38;5;241m=\u001b[39m \u001b[43mY\u001b[49m\n\u001b[1;32m     17\u001b[0m     yukBas \u001b[38;5;241m=\u001b[39m y\n\u001b[1;32m     18\u001b[0m     genBas \u001b[38;5;241m=\u001b[39m x\n",
      "\u001b[0;31mNameError\u001b[0m: name 'Y' is not defined"
     ]
    },
    {
     "ename": "NameError",
     "evalue": "name 'Y' is not defined",
     "output_type": "error",
     "traceback": [
      "\u001b[0;31m---------------------------------------------------------------------------\u001b[0m",
      "\u001b[0;31mNameError\u001b[0m                                 Traceback (most recent call last)",
      "Cell \u001b[0;32mIn [14], line 15\u001b[0m, in \u001b[0;36molay_gerceklesti\u001b[0;34m(event, x, y, flags, param)\u001b[0m\n\u001b[1;32m     13\u001b[0m \u001b[38;5;28;01mdef\u001b[39;00m \u001b[38;5;21molay_gerceklesti\u001b[39m(event, x, y, flags, param):\n\u001b[1;32m     14\u001b[0m     eskiX \u001b[38;5;241m=\u001b[39m x\n\u001b[0;32m---> 15\u001b[0m     eskiY \u001b[38;5;241m=\u001b[39m \u001b[43mY\u001b[49m\n\u001b[1;32m     17\u001b[0m     yukBas \u001b[38;5;241m=\u001b[39m y\n\u001b[1;32m     18\u001b[0m     genBas \u001b[38;5;241m=\u001b[39m x\n",
      "\u001b[0;31mNameError\u001b[0m: name 'Y' is not defined"
     ]
    },
    {
     "ename": "NameError",
     "evalue": "name 'Y' is not defined",
     "output_type": "error",
     "traceback": [
      "\u001b[0;31m---------------------------------------------------------------------------\u001b[0m",
      "\u001b[0;31mNameError\u001b[0m                                 Traceback (most recent call last)",
      "Cell \u001b[0;32mIn [14], line 15\u001b[0m, in \u001b[0;36molay_gerceklesti\u001b[0;34m(event, x, y, flags, param)\u001b[0m\n\u001b[1;32m     13\u001b[0m \u001b[38;5;28;01mdef\u001b[39;00m \u001b[38;5;21molay_gerceklesti\u001b[39m(event, x, y, flags, param):\n\u001b[1;32m     14\u001b[0m     eskiX \u001b[38;5;241m=\u001b[39m x\n\u001b[0;32m---> 15\u001b[0m     eskiY \u001b[38;5;241m=\u001b[39m \u001b[43mY\u001b[49m\n\u001b[1;32m     17\u001b[0m     yukBas \u001b[38;5;241m=\u001b[39m y\n\u001b[1;32m     18\u001b[0m     genBas \u001b[38;5;241m=\u001b[39m x\n",
      "\u001b[0;31mNameError\u001b[0m: name 'Y' is not defined"
     ]
    },
    {
     "ename": "NameError",
     "evalue": "name 'Y' is not defined",
     "output_type": "error",
     "traceback": [
      "\u001b[0;31m---------------------------------------------------------------------------\u001b[0m",
      "\u001b[0;31mNameError\u001b[0m                                 Traceback (most recent call last)",
      "Cell \u001b[0;32mIn [14], line 15\u001b[0m, in \u001b[0;36molay_gerceklesti\u001b[0;34m(event, x, y, flags, param)\u001b[0m\n\u001b[1;32m     13\u001b[0m \u001b[38;5;28;01mdef\u001b[39;00m \u001b[38;5;21molay_gerceklesti\u001b[39m(event, x, y, flags, param):\n\u001b[1;32m     14\u001b[0m     eskiX \u001b[38;5;241m=\u001b[39m x\n\u001b[0;32m---> 15\u001b[0m     eskiY \u001b[38;5;241m=\u001b[39m \u001b[43mY\u001b[49m\n\u001b[1;32m     17\u001b[0m     yukBas \u001b[38;5;241m=\u001b[39m y\n\u001b[1;32m     18\u001b[0m     genBas \u001b[38;5;241m=\u001b[39m x\n",
      "\u001b[0;31mNameError\u001b[0m: name 'Y' is not defined"
     ]
    },
    {
     "ename": "NameError",
     "evalue": "name 'Y' is not defined",
     "output_type": "error",
     "traceback": [
      "\u001b[0;31m---------------------------------------------------------------------------\u001b[0m",
      "\u001b[0;31mNameError\u001b[0m                                 Traceback (most recent call last)",
      "Cell \u001b[0;32mIn [14], line 15\u001b[0m, in \u001b[0;36molay_gerceklesti\u001b[0;34m(event, x, y, flags, param)\u001b[0m\n\u001b[1;32m     13\u001b[0m \u001b[38;5;28;01mdef\u001b[39;00m \u001b[38;5;21molay_gerceklesti\u001b[39m(event, x, y, flags, param):\n\u001b[1;32m     14\u001b[0m     eskiX \u001b[38;5;241m=\u001b[39m x\n\u001b[0;32m---> 15\u001b[0m     eskiY \u001b[38;5;241m=\u001b[39m \u001b[43mY\u001b[49m\n\u001b[1;32m     17\u001b[0m     yukBas \u001b[38;5;241m=\u001b[39m y\n\u001b[1;32m     18\u001b[0m     genBas \u001b[38;5;241m=\u001b[39m x\n",
      "\u001b[0;31mNameError\u001b[0m: name 'Y' is not defined"
     ]
    },
    {
     "ename": "NameError",
     "evalue": "name 'Y' is not defined",
     "output_type": "error",
     "traceback": [
      "\u001b[0;31m---------------------------------------------------------------------------\u001b[0m",
      "\u001b[0;31mNameError\u001b[0m                                 Traceback (most recent call last)",
      "Cell \u001b[0;32mIn [14], line 15\u001b[0m, in \u001b[0;36molay_gerceklesti\u001b[0;34m(event, x, y, flags, param)\u001b[0m\n\u001b[1;32m     13\u001b[0m \u001b[38;5;28;01mdef\u001b[39;00m \u001b[38;5;21molay_gerceklesti\u001b[39m(event, x, y, flags, param):\n\u001b[1;32m     14\u001b[0m     eskiX \u001b[38;5;241m=\u001b[39m x\n\u001b[0;32m---> 15\u001b[0m     eskiY \u001b[38;5;241m=\u001b[39m \u001b[43mY\u001b[49m\n\u001b[1;32m     17\u001b[0m     yukBas \u001b[38;5;241m=\u001b[39m y\n\u001b[1;32m     18\u001b[0m     genBas \u001b[38;5;241m=\u001b[39m x\n",
      "\u001b[0;31mNameError\u001b[0m: name 'Y' is not defined"
     ]
    },
    {
     "ename": "NameError",
     "evalue": "name 'Y' is not defined",
     "output_type": "error",
     "traceback": [
      "\u001b[0;31m---------------------------------------------------------------------------\u001b[0m",
      "\u001b[0;31mNameError\u001b[0m                                 Traceback (most recent call last)",
      "Cell \u001b[0;32mIn [14], line 15\u001b[0m, in \u001b[0;36molay_gerceklesti\u001b[0;34m(event, x, y, flags, param)\u001b[0m\n\u001b[1;32m     13\u001b[0m \u001b[38;5;28;01mdef\u001b[39;00m \u001b[38;5;21molay_gerceklesti\u001b[39m(event, x, y, flags, param):\n\u001b[1;32m     14\u001b[0m     eskiX \u001b[38;5;241m=\u001b[39m x\n\u001b[0;32m---> 15\u001b[0m     eskiY \u001b[38;5;241m=\u001b[39m \u001b[43mY\u001b[49m\n\u001b[1;32m     17\u001b[0m     yukBas \u001b[38;5;241m=\u001b[39m y\n\u001b[1;32m     18\u001b[0m     genBas \u001b[38;5;241m=\u001b[39m x\n",
      "\u001b[0;31mNameError\u001b[0m: name 'Y' is not defined"
     ]
    },
    {
     "ename": "NameError",
     "evalue": "name 'Y' is not defined",
     "output_type": "error",
     "traceback": [
      "\u001b[0;31m---------------------------------------------------------------------------\u001b[0m",
      "\u001b[0;31mNameError\u001b[0m                                 Traceback (most recent call last)",
      "Cell \u001b[0;32mIn [14], line 15\u001b[0m, in \u001b[0;36molay_gerceklesti\u001b[0;34m(event, x, y, flags, param)\u001b[0m\n\u001b[1;32m     13\u001b[0m \u001b[38;5;28;01mdef\u001b[39;00m \u001b[38;5;21molay_gerceklesti\u001b[39m(event, x, y, flags, param):\n\u001b[1;32m     14\u001b[0m     eskiX \u001b[38;5;241m=\u001b[39m x\n\u001b[0;32m---> 15\u001b[0m     eskiY \u001b[38;5;241m=\u001b[39m \u001b[43mY\u001b[49m\n\u001b[1;32m     17\u001b[0m     yukBas \u001b[38;5;241m=\u001b[39m y\n\u001b[1;32m     18\u001b[0m     genBas \u001b[38;5;241m=\u001b[39m x\n",
      "\u001b[0;31mNameError\u001b[0m: name 'Y' is not defined"
     ]
    },
    {
     "ename": "NameError",
     "evalue": "name 'Y' is not defined",
     "output_type": "error",
     "traceback": [
      "\u001b[0;31m---------------------------------------------------------------------------\u001b[0m",
      "\u001b[0;31mNameError\u001b[0m                                 Traceback (most recent call last)",
      "Cell \u001b[0;32mIn [14], line 15\u001b[0m, in \u001b[0;36molay_gerceklesti\u001b[0;34m(event, x, y, flags, param)\u001b[0m\n\u001b[1;32m     13\u001b[0m \u001b[38;5;28;01mdef\u001b[39;00m \u001b[38;5;21molay_gerceklesti\u001b[39m(event, x, y, flags, param):\n\u001b[1;32m     14\u001b[0m     eskiX \u001b[38;5;241m=\u001b[39m x\n\u001b[0;32m---> 15\u001b[0m     eskiY \u001b[38;5;241m=\u001b[39m \u001b[43mY\u001b[49m\n\u001b[1;32m     17\u001b[0m     yukBas \u001b[38;5;241m=\u001b[39m y\n\u001b[1;32m     18\u001b[0m     genBas \u001b[38;5;241m=\u001b[39m x\n",
      "\u001b[0;31mNameError\u001b[0m: name 'Y' is not defined"
     ]
    },
    {
     "ename": "NameError",
     "evalue": "name 'Y' is not defined",
     "output_type": "error",
     "traceback": [
      "\u001b[0;31m---------------------------------------------------------------------------\u001b[0m",
      "\u001b[0;31mNameError\u001b[0m                                 Traceback (most recent call last)",
      "Cell \u001b[0;32mIn [14], line 15\u001b[0m, in \u001b[0;36molay_gerceklesti\u001b[0;34m(event, x, y, flags, param)\u001b[0m\n\u001b[1;32m     13\u001b[0m \u001b[38;5;28;01mdef\u001b[39;00m \u001b[38;5;21molay_gerceklesti\u001b[39m(event, x, y, flags, param):\n\u001b[1;32m     14\u001b[0m     eskiX \u001b[38;5;241m=\u001b[39m x\n\u001b[0;32m---> 15\u001b[0m     eskiY \u001b[38;5;241m=\u001b[39m \u001b[43mY\u001b[49m\n\u001b[1;32m     17\u001b[0m     yukBas \u001b[38;5;241m=\u001b[39m y\n\u001b[1;32m     18\u001b[0m     genBas \u001b[38;5;241m=\u001b[39m x\n",
      "\u001b[0;31mNameError\u001b[0m: name 'Y' is not defined"
     ]
    },
    {
     "ename": "NameError",
     "evalue": "name 'Y' is not defined",
     "output_type": "error",
     "traceback": [
      "\u001b[0;31m---------------------------------------------------------------------------\u001b[0m",
      "\u001b[0;31mNameError\u001b[0m                                 Traceback (most recent call last)",
      "Cell \u001b[0;32mIn [14], line 15\u001b[0m, in \u001b[0;36molay_gerceklesti\u001b[0;34m(event, x, y, flags, param)\u001b[0m\n\u001b[1;32m     13\u001b[0m \u001b[38;5;28;01mdef\u001b[39;00m \u001b[38;5;21molay_gerceklesti\u001b[39m(event, x, y, flags, param):\n\u001b[1;32m     14\u001b[0m     eskiX \u001b[38;5;241m=\u001b[39m x\n\u001b[0;32m---> 15\u001b[0m     eskiY \u001b[38;5;241m=\u001b[39m \u001b[43mY\u001b[49m\n\u001b[1;32m     17\u001b[0m     yukBas \u001b[38;5;241m=\u001b[39m y\n\u001b[1;32m     18\u001b[0m     genBas \u001b[38;5;241m=\u001b[39m x\n",
      "\u001b[0;31mNameError\u001b[0m: name 'Y' is not defined"
     ]
    },
    {
     "ename": "NameError",
     "evalue": "name 'Y' is not defined",
     "output_type": "error",
     "traceback": [
      "\u001b[0;31m---------------------------------------------------------------------------\u001b[0m",
      "\u001b[0;31mNameError\u001b[0m                                 Traceback (most recent call last)",
      "Cell \u001b[0;32mIn [14], line 15\u001b[0m, in \u001b[0;36molay_gerceklesti\u001b[0;34m(event, x, y, flags, param)\u001b[0m\n\u001b[1;32m     13\u001b[0m \u001b[38;5;28;01mdef\u001b[39;00m \u001b[38;5;21molay_gerceklesti\u001b[39m(event, x, y, flags, param):\n\u001b[1;32m     14\u001b[0m     eskiX \u001b[38;5;241m=\u001b[39m x\n\u001b[0;32m---> 15\u001b[0m     eskiY \u001b[38;5;241m=\u001b[39m \u001b[43mY\u001b[49m\n\u001b[1;32m     17\u001b[0m     yukBas \u001b[38;5;241m=\u001b[39m y\n\u001b[1;32m     18\u001b[0m     genBas \u001b[38;5;241m=\u001b[39m x\n",
      "\u001b[0;31mNameError\u001b[0m: name 'Y' is not defined"
     ]
    },
    {
     "ename": "NameError",
     "evalue": "name 'Y' is not defined",
     "output_type": "error",
     "traceback": [
      "\u001b[0;31m---------------------------------------------------------------------------\u001b[0m",
      "\u001b[0;31mNameError\u001b[0m                                 Traceback (most recent call last)",
      "Cell \u001b[0;32mIn [14], line 15\u001b[0m, in \u001b[0;36molay_gerceklesti\u001b[0;34m(event, x, y, flags, param)\u001b[0m\n\u001b[1;32m     13\u001b[0m \u001b[38;5;28;01mdef\u001b[39;00m \u001b[38;5;21molay_gerceklesti\u001b[39m(event, x, y, flags, param):\n\u001b[1;32m     14\u001b[0m     eskiX \u001b[38;5;241m=\u001b[39m x\n\u001b[0;32m---> 15\u001b[0m     eskiY \u001b[38;5;241m=\u001b[39m \u001b[43mY\u001b[49m\n\u001b[1;32m     17\u001b[0m     yukBas \u001b[38;5;241m=\u001b[39m y\n\u001b[1;32m     18\u001b[0m     genBas \u001b[38;5;241m=\u001b[39m x\n",
      "\u001b[0;31mNameError\u001b[0m: name 'Y' is not defined"
     ]
    },
    {
     "ename": "NameError",
     "evalue": "name 'Y' is not defined",
     "output_type": "error",
     "traceback": [
      "\u001b[0;31m---------------------------------------------------------------------------\u001b[0m",
      "\u001b[0;31mNameError\u001b[0m                                 Traceback (most recent call last)",
      "Cell \u001b[0;32mIn [14], line 15\u001b[0m, in \u001b[0;36molay_gerceklesti\u001b[0;34m(event, x, y, flags, param)\u001b[0m\n\u001b[1;32m     13\u001b[0m \u001b[38;5;28;01mdef\u001b[39;00m \u001b[38;5;21molay_gerceklesti\u001b[39m(event, x, y, flags, param):\n\u001b[1;32m     14\u001b[0m     eskiX \u001b[38;5;241m=\u001b[39m x\n\u001b[0;32m---> 15\u001b[0m     eskiY \u001b[38;5;241m=\u001b[39m \u001b[43mY\u001b[49m\n\u001b[1;32m     17\u001b[0m     yukBas \u001b[38;5;241m=\u001b[39m y\n\u001b[1;32m     18\u001b[0m     genBas \u001b[38;5;241m=\u001b[39m x\n",
      "\u001b[0;31mNameError\u001b[0m: name 'Y' is not defined"
     ]
    },
    {
     "ename": "NameError",
     "evalue": "name 'Y' is not defined",
     "output_type": "error",
     "traceback": [
      "\u001b[0;31m---------------------------------------------------------------------------\u001b[0m",
      "\u001b[0;31mNameError\u001b[0m                                 Traceback (most recent call last)",
      "Cell \u001b[0;32mIn [14], line 15\u001b[0m, in \u001b[0;36molay_gerceklesti\u001b[0;34m(event, x, y, flags, param)\u001b[0m\n\u001b[1;32m     13\u001b[0m \u001b[38;5;28;01mdef\u001b[39;00m \u001b[38;5;21molay_gerceklesti\u001b[39m(event, x, y, flags, param):\n\u001b[1;32m     14\u001b[0m     eskiX \u001b[38;5;241m=\u001b[39m x\n\u001b[0;32m---> 15\u001b[0m     eskiY \u001b[38;5;241m=\u001b[39m \u001b[43mY\u001b[49m\n\u001b[1;32m     17\u001b[0m     yukBas \u001b[38;5;241m=\u001b[39m y\n\u001b[1;32m     18\u001b[0m     genBas \u001b[38;5;241m=\u001b[39m x\n",
      "\u001b[0;31mNameError\u001b[0m: name 'Y' is not defined"
     ]
    },
    {
     "ename": "NameError",
     "evalue": "name 'Y' is not defined",
     "output_type": "error",
     "traceback": [
      "\u001b[0;31m---------------------------------------------------------------------------\u001b[0m",
      "\u001b[0;31mNameError\u001b[0m                                 Traceback (most recent call last)",
      "Cell \u001b[0;32mIn [14], line 15\u001b[0m, in \u001b[0;36molay_gerceklesti\u001b[0;34m(event, x, y, flags, param)\u001b[0m\n\u001b[1;32m     13\u001b[0m \u001b[38;5;28;01mdef\u001b[39;00m \u001b[38;5;21molay_gerceklesti\u001b[39m(event, x, y, flags, param):\n\u001b[1;32m     14\u001b[0m     eskiX \u001b[38;5;241m=\u001b[39m x\n\u001b[0;32m---> 15\u001b[0m     eskiY \u001b[38;5;241m=\u001b[39m \u001b[43mY\u001b[49m\n\u001b[1;32m     17\u001b[0m     yukBas \u001b[38;5;241m=\u001b[39m y\n\u001b[1;32m     18\u001b[0m     genBas \u001b[38;5;241m=\u001b[39m x\n",
      "\u001b[0;31mNameError\u001b[0m: name 'Y' is not defined"
     ]
    },
    {
     "ename": "NameError",
     "evalue": "name 'Y' is not defined",
     "output_type": "error",
     "traceback": [
      "\u001b[0;31m---------------------------------------------------------------------------\u001b[0m",
      "\u001b[0;31mNameError\u001b[0m                                 Traceback (most recent call last)",
      "Cell \u001b[0;32mIn [14], line 15\u001b[0m, in \u001b[0;36molay_gerceklesti\u001b[0;34m(event, x, y, flags, param)\u001b[0m\n\u001b[1;32m     13\u001b[0m \u001b[38;5;28;01mdef\u001b[39;00m \u001b[38;5;21molay_gerceklesti\u001b[39m(event, x, y, flags, param):\n\u001b[1;32m     14\u001b[0m     eskiX \u001b[38;5;241m=\u001b[39m x\n\u001b[0;32m---> 15\u001b[0m     eskiY \u001b[38;5;241m=\u001b[39m \u001b[43mY\u001b[49m\n\u001b[1;32m     17\u001b[0m     yukBas \u001b[38;5;241m=\u001b[39m y\n\u001b[1;32m     18\u001b[0m     genBas \u001b[38;5;241m=\u001b[39m x\n",
      "\u001b[0;31mNameError\u001b[0m: name 'Y' is not defined"
     ]
    },
    {
     "ename": "NameError",
     "evalue": "name 'Y' is not defined",
     "output_type": "error",
     "traceback": [
      "\u001b[0;31m---------------------------------------------------------------------------\u001b[0m",
      "\u001b[0;31mNameError\u001b[0m                                 Traceback (most recent call last)",
      "Cell \u001b[0;32mIn [14], line 15\u001b[0m, in \u001b[0;36molay_gerceklesti\u001b[0;34m(event, x, y, flags, param)\u001b[0m\n\u001b[1;32m     13\u001b[0m \u001b[38;5;28;01mdef\u001b[39;00m \u001b[38;5;21molay_gerceklesti\u001b[39m(event, x, y, flags, param):\n\u001b[1;32m     14\u001b[0m     eskiX \u001b[38;5;241m=\u001b[39m x\n\u001b[0;32m---> 15\u001b[0m     eskiY \u001b[38;5;241m=\u001b[39m \u001b[43mY\u001b[49m\n\u001b[1;32m     17\u001b[0m     yukBas \u001b[38;5;241m=\u001b[39m y\n\u001b[1;32m     18\u001b[0m     genBas \u001b[38;5;241m=\u001b[39m x\n",
      "\u001b[0;31mNameError\u001b[0m: name 'Y' is not defined"
     ]
    },
    {
     "ename": "NameError",
     "evalue": "name 'Y' is not defined",
     "output_type": "error",
     "traceback": [
      "\u001b[0;31m---------------------------------------------------------------------------\u001b[0m",
      "\u001b[0;31mNameError\u001b[0m                                 Traceback (most recent call last)",
      "Cell \u001b[0;32mIn [14], line 15\u001b[0m, in \u001b[0;36molay_gerceklesti\u001b[0;34m(event, x, y, flags, param)\u001b[0m\n\u001b[1;32m     13\u001b[0m \u001b[38;5;28;01mdef\u001b[39;00m \u001b[38;5;21molay_gerceklesti\u001b[39m(event, x, y, flags, param):\n\u001b[1;32m     14\u001b[0m     eskiX \u001b[38;5;241m=\u001b[39m x\n\u001b[0;32m---> 15\u001b[0m     eskiY \u001b[38;5;241m=\u001b[39m \u001b[43mY\u001b[49m\n\u001b[1;32m     17\u001b[0m     yukBas \u001b[38;5;241m=\u001b[39m y\n\u001b[1;32m     18\u001b[0m     genBas \u001b[38;5;241m=\u001b[39m x\n",
      "\u001b[0;31mNameError\u001b[0m: name 'Y' is not defined"
     ]
    },
    {
     "ename": "NameError",
     "evalue": "name 'Y' is not defined",
     "output_type": "error",
     "traceback": [
      "\u001b[0;31m---------------------------------------------------------------------------\u001b[0m",
      "\u001b[0;31mNameError\u001b[0m                                 Traceback (most recent call last)",
      "Cell \u001b[0;32mIn [14], line 15\u001b[0m, in \u001b[0;36molay_gerceklesti\u001b[0;34m(event, x, y, flags, param)\u001b[0m\n\u001b[1;32m     13\u001b[0m \u001b[38;5;28;01mdef\u001b[39;00m \u001b[38;5;21molay_gerceklesti\u001b[39m(event, x, y, flags, param):\n\u001b[1;32m     14\u001b[0m     eskiX \u001b[38;5;241m=\u001b[39m x\n\u001b[0;32m---> 15\u001b[0m     eskiY \u001b[38;5;241m=\u001b[39m \u001b[43mY\u001b[49m\n\u001b[1;32m     17\u001b[0m     yukBas \u001b[38;5;241m=\u001b[39m y\n\u001b[1;32m     18\u001b[0m     genBas \u001b[38;5;241m=\u001b[39m x\n",
      "\u001b[0;31mNameError\u001b[0m: name 'Y' is not defined"
     ]
    },
    {
     "ename": "NameError",
     "evalue": "name 'Y' is not defined",
     "output_type": "error",
     "traceback": [
      "\u001b[0;31m---------------------------------------------------------------------------\u001b[0m",
      "\u001b[0;31mNameError\u001b[0m                                 Traceback (most recent call last)",
      "Cell \u001b[0;32mIn [14], line 15\u001b[0m, in \u001b[0;36molay_gerceklesti\u001b[0;34m(event, x, y, flags, param)\u001b[0m\n\u001b[1;32m     13\u001b[0m \u001b[38;5;28;01mdef\u001b[39;00m \u001b[38;5;21molay_gerceklesti\u001b[39m(event, x, y, flags, param):\n\u001b[1;32m     14\u001b[0m     eskiX \u001b[38;5;241m=\u001b[39m x\n\u001b[0;32m---> 15\u001b[0m     eskiY \u001b[38;5;241m=\u001b[39m \u001b[43mY\u001b[49m\n\u001b[1;32m     17\u001b[0m     yukBas \u001b[38;5;241m=\u001b[39m y\n\u001b[1;32m     18\u001b[0m     genBas \u001b[38;5;241m=\u001b[39m x\n",
      "\u001b[0;31mNameError\u001b[0m: name 'Y' is not defined"
     ]
    },
    {
     "ename": "NameError",
     "evalue": "name 'Y' is not defined",
     "output_type": "error",
     "traceback": [
      "\u001b[0;31m---------------------------------------------------------------------------\u001b[0m",
      "\u001b[0;31mNameError\u001b[0m                                 Traceback (most recent call last)",
      "Cell \u001b[0;32mIn [14], line 15\u001b[0m, in \u001b[0;36molay_gerceklesti\u001b[0;34m(event, x, y, flags, param)\u001b[0m\n\u001b[1;32m     13\u001b[0m \u001b[38;5;28;01mdef\u001b[39;00m \u001b[38;5;21molay_gerceklesti\u001b[39m(event, x, y, flags, param):\n\u001b[1;32m     14\u001b[0m     eskiX \u001b[38;5;241m=\u001b[39m x\n\u001b[0;32m---> 15\u001b[0m     eskiY \u001b[38;5;241m=\u001b[39m \u001b[43mY\u001b[49m\n\u001b[1;32m     17\u001b[0m     yukBas \u001b[38;5;241m=\u001b[39m y\n\u001b[1;32m     18\u001b[0m     genBas \u001b[38;5;241m=\u001b[39m x\n",
      "\u001b[0;31mNameError\u001b[0m: name 'Y' is not defined"
     ]
    },
    {
     "ename": "NameError",
     "evalue": "name 'Y' is not defined",
     "output_type": "error",
     "traceback": [
      "\u001b[0;31m---------------------------------------------------------------------------\u001b[0m",
      "\u001b[0;31mNameError\u001b[0m                                 Traceback (most recent call last)",
      "Cell \u001b[0;32mIn [14], line 15\u001b[0m, in \u001b[0;36molay_gerceklesti\u001b[0;34m(event, x, y, flags, param)\u001b[0m\n\u001b[1;32m     13\u001b[0m \u001b[38;5;28;01mdef\u001b[39;00m \u001b[38;5;21molay_gerceklesti\u001b[39m(event, x, y, flags, param):\n\u001b[1;32m     14\u001b[0m     eskiX \u001b[38;5;241m=\u001b[39m x\n\u001b[0;32m---> 15\u001b[0m     eskiY \u001b[38;5;241m=\u001b[39m \u001b[43mY\u001b[49m\n\u001b[1;32m     17\u001b[0m     yukBas \u001b[38;5;241m=\u001b[39m y\n\u001b[1;32m     18\u001b[0m     genBas \u001b[38;5;241m=\u001b[39m x\n",
      "\u001b[0;31mNameError\u001b[0m: name 'Y' is not defined"
     ]
    },
    {
     "ename": "NameError",
     "evalue": "name 'Y' is not defined",
     "output_type": "error",
     "traceback": [
      "\u001b[0;31m---------------------------------------------------------------------------\u001b[0m",
      "\u001b[0;31mNameError\u001b[0m                                 Traceback (most recent call last)",
      "Cell \u001b[0;32mIn [14], line 15\u001b[0m, in \u001b[0;36molay_gerceklesti\u001b[0;34m(event, x, y, flags, param)\u001b[0m\n\u001b[1;32m     13\u001b[0m \u001b[38;5;28;01mdef\u001b[39;00m \u001b[38;5;21molay_gerceklesti\u001b[39m(event, x, y, flags, param):\n\u001b[1;32m     14\u001b[0m     eskiX \u001b[38;5;241m=\u001b[39m x\n\u001b[0;32m---> 15\u001b[0m     eskiY \u001b[38;5;241m=\u001b[39m \u001b[43mY\u001b[49m\n\u001b[1;32m     17\u001b[0m     yukBas \u001b[38;5;241m=\u001b[39m y\n\u001b[1;32m     18\u001b[0m     genBas \u001b[38;5;241m=\u001b[39m x\n",
      "\u001b[0;31mNameError\u001b[0m: name 'Y' is not defined"
     ]
    },
    {
     "ename": "NameError",
     "evalue": "name 'Y' is not defined",
     "output_type": "error",
     "traceback": [
      "\u001b[0;31m---------------------------------------------------------------------------\u001b[0m",
      "\u001b[0;31mNameError\u001b[0m                                 Traceback (most recent call last)",
      "Cell \u001b[0;32mIn [14], line 15\u001b[0m, in \u001b[0;36molay_gerceklesti\u001b[0;34m(event, x, y, flags, param)\u001b[0m\n\u001b[1;32m     13\u001b[0m \u001b[38;5;28;01mdef\u001b[39;00m \u001b[38;5;21molay_gerceklesti\u001b[39m(event, x, y, flags, param):\n\u001b[1;32m     14\u001b[0m     eskiX \u001b[38;5;241m=\u001b[39m x\n\u001b[0;32m---> 15\u001b[0m     eskiY \u001b[38;5;241m=\u001b[39m \u001b[43mY\u001b[49m\n\u001b[1;32m     17\u001b[0m     yukBas \u001b[38;5;241m=\u001b[39m y\n\u001b[1;32m     18\u001b[0m     genBas \u001b[38;5;241m=\u001b[39m x\n",
      "\u001b[0;31mNameError\u001b[0m: name 'Y' is not defined"
     ]
    },
    {
     "ename": "NameError",
     "evalue": "name 'Y' is not defined",
     "output_type": "error",
     "traceback": [
      "\u001b[0;31m---------------------------------------------------------------------------\u001b[0m",
      "\u001b[0;31mNameError\u001b[0m                                 Traceback (most recent call last)",
      "Cell \u001b[0;32mIn [14], line 15\u001b[0m, in \u001b[0;36molay_gerceklesti\u001b[0;34m(event, x, y, flags, param)\u001b[0m\n\u001b[1;32m     13\u001b[0m \u001b[38;5;28;01mdef\u001b[39;00m \u001b[38;5;21molay_gerceklesti\u001b[39m(event, x, y, flags, param):\n\u001b[1;32m     14\u001b[0m     eskiX \u001b[38;5;241m=\u001b[39m x\n\u001b[0;32m---> 15\u001b[0m     eskiY \u001b[38;5;241m=\u001b[39m \u001b[43mY\u001b[49m\n\u001b[1;32m     17\u001b[0m     yukBas \u001b[38;5;241m=\u001b[39m y\n\u001b[1;32m     18\u001b[0m     genBas \u001b[38;5;241m=\u001b[39m x\n",
      "\u001b[0;31mNameError\u001b[0m: name 'Y' is not defined"
     ]
    },
    {
     "ename": "NameError",
     "evalue": "name 'Y' is not defined",
     "output_type": "error",
     "traceback": [
      "\u001b[0;31m---------------------------------------------------------------------------\u001b[0m",
      "\u001b[0;31mNameError\u001b[0m                                 Traceback (most recent call last)",
      "Cell \u001b[0;32mIn [14], line 15\u001b[0m, in \u001b[0;36molay_gerceklesti\u001b[0;34m(event, x, y, flags, param)\u001b[0m\n\u001b[1;32m     13\u001b[0m \u001b[38;5;28;01mdef\u001b[39;00m \u001b[38;5;21molay_gerceklesti\u001b[39m(event, x, y, flags, param):\n\u001b[1;32m     14\u001b[0m     eskiX \u001b[38;5;241m=\u001b[39m x\n\u001b[0;32m---> 15\u001b[0m     eskiY \u001b[38;5;241m=\u001b[39m \u001b[43mY\u001b[49m\n\u001b[1;32m     17\u001b[0m     yukBas \u001b[38;5;241m=\u001b[39m y\n\u001b[1;32m     18\u001b[0m     genBas \u001b[38;5;241m=\u001b[39m x\n",
      "\u001b[0;31mNameError\u001b[0m: name 'Y' is not defined"
     ]
    },
    {
     "ename": "NameError",
     "evalue": "name 'Y' is not defined",
     "output_type": "error",
     "traceback": [
      "\u001b[0;31m---------------------------------------------------------------------------\u001b[0m",
      "\u001b[0;31mNameError\u001b[0m                                 Traceback (most recent call last)",
      "Cell \u001b[0;32mIn [14], line 15\u001b[0m, in \u001b[0;36molay_gerceklesti\u001b[0;34m(event, x, y, flags, param)\u001b[0m\n\u001b[1;32m     13\u001b[0m \u001b[38;5;28;01mdef\u001b[39;00m \u001b[38;5;21molay_gerceklesti\u001b[39m(event, x, y, flags, param):\n\u001b[1;32m     14\u001b[0m     eskiX \u001b[38;5;241m=\u001b[39m x\n\u001b[0;32m---> 15\u001b[0m     eskiY \u001b[38;5;241m=\u001b[39m \u001b[43mY\u001b[49m\n\u001b[1;32m     17\u001b[0m     yukBas \u001b[38;5;241m=\u001b[39m y\n\u001b[1;32m     18\u001b[0m     genBas \u001b[38;5;241m=\u001b[39m x\n",
      "\u001b[0;31mNameError\u001b[0m: name 'Y' is not defined"
     ]
    },
    {
     "ename": "NameError",
     "evalue": "name 'Y' is not defined",
     "output_type": "error",
     "traceback": [
      "\u001b[0;31m---------------------------------------------------------------------------\u001b[0m",
      "\u001b[0;31mNameError\u001b[0m                                 Traceback (most recent call last)",
      "Cell \u001b[0;32mIn [14], line 15\u001b[0m, in \u001b[0;36molay_gerceklesti\u001b[0;34m(event, x, y, flags, param)\u001b[0m\n\u001b[1;32m     13\u001b[0m \u001b[38;5;28;01mdef\u001b[39;00m \u001b[38;5;21molay_gerceklesti\u001b[39m(event, x, y, flags, param):\n\u001b[1;32m     14\u001b[0m     eskiX \u001b[38;5;241m=\u001b[39m x\n\u001b[0;32m---> 15\u001b[0m     eskiY \u001b[38;5;241m=\u001b[39m \u001b[43mY\u001b[49m\n\u001b[1;32m     17\u001b[0m     yukBas \u001b[38;5;241m=\u001b[39m y\n\u001b[1;32m     18\u001b[0m     genBas \u001b[38;5;241m=\u001b[39m x\n",
      "\u001b[0;31mNameError\u001b[0m: name 'Y' is not defined"
     ]
    },
    {
     "ename": "NameError",
     "evalue": "name 'Y' is not defined",
     "output_type": "error",
     "traceback": [
      "\u001b[0;31m---------------------------------------------------------------------------\u001b[0m",
      "\u001b[0;31mNameError\u001b[0m                                 Traceback (most recent call last)",
      "Cell \u001b[0;32mIn [14], line 15\u001b[0m, in \u001b[0;36molay_gerceklesti\u001b[0;34m(event, x, y, flags, param)\u001b[0m\n\u001b[1;32m     13\u001b[0m \u001b[38;5;28;01mdef\u001b[39;00m \u001b[38;5;21molay_gerceklesti\u001b[39m(event, x, y, flags, param):\n\u001b[1;32m     14\u001b[0m     eskiX \u001b[38;5;241m=\u001b[39m x\n\u001b[0;32m---> 15\u001b[0m     eskiY \u001b[38;5;241m=\u001b[39m \u001b[43mY\u001b[49m\n\u001b[1;32m     17\u001b[0m     yukBas \u001b[38;5;241m=\u001b[39m y\n\u001b[1;32m     18\u001b[0m     genBas \u001b[38;5;241m=\u001b[39m x\n",
      "\u001b[0;31mNameError\u001b[0m: name 'Y' is not defined"
     ]
    },
    {
     "ename": "NameError",
     "evalue": "name 'Y' is not defined",
     "output_type": "error",
     "traceback": [
      "\u001b[0;31m---------------------------------------------------------------------------\u001b[0m",
      "\u001b[0;31mNameError\u001b[0m                                 Traceback (most recent call last)",
      "Cell \u001b[0;32mIn [14], line 15\u001b[0m, in \u001b[0;36molay_gerceklesti\u001b[0;34m(event, x, y, flags, param)\u001b[0m\n\u001b[1;32m     13\u001b[0m \u001b[38;5;28;01mdef\u001b[39;00m \u001b[38;5;21molay_gerceklesti\u001b[39m(event, x, y, flags, param):\n\u001b[1;32m     14\u001b[0m     eskiX \u001b[38;5;241m=\u001b[39m x\n\u001b[0;32m---> 15\u001b[0m     eskiY \u001b[38;5;241m=\u001b[39m \u001b[43mY\u001b[49m\n\u001b[1;32m     17\u001b[0m     yukBas \u001b[38;5;241m=\u001b[39m y\n\u001b[1;32m     18\u001b[0m     genBas \u001b[38;5;241m=\u001b[39m x\n",
      "\u001b[0;31mNameError\u001b[0m: name 'Y' is not defined"
     ]
    },
    {
     "ename": "NameError",
     "evalue": "name 'Y' is not defined",
     "output_type": "error",
     "traceback": [
      "\u001b[0;31m---------------------------------------------------------------------------\u001b[0m",
      "\u001b[0;31mNameError\u001b[0m                                 Traceback (most recent call last)",
      "Cell \u001b[0;32mIn [14], line 15\u001b[0m, in \u001b[0;36molay_gerceklesti\u001b[0;34m(event, x, y, flags, param)\u001b[0m\n\u001b[1;32m     13\u001b[0m \u001b[38;5;28;01mdef\u001b[39;00m \u001b[38;5;21molay_gerceklesti\u001b[39m(event, x, y, flags, param):\n\u001b[1;32m     14\u001b[0m     eskiX \u001b[38;5;241m=\u001b[39m x\n\u001b[0;32m---> 15\u001b[0m     eskiY \u001b[38;5;241m=\u001b[39m \u001b[43mY\u001b[49m\n\u001b[1;32m     17\u001b[0m     yukBas \u001b[38;5;241m=\u001b[39m y\n\u001b[1;32m     18\u001b[0m     genBas \u001b[38;5;241m=\u001b[39m x\n",
      "\u001b[0;31mNameError\u001b[0m: name 'Y' is not defined"
     ]
    },
    {
     "ename": "NameError",
     "evalue": "name 'Y' is not defined",
     "output_type": "error",
     "traceback": [
      "\u001b[0;31m---------------------------------------------------------------------------\u001b[0m",
      "\u001b[0;31mNameError\u001b[0m                                 Traceback (most recent call last)",
      "Cell \u001b[0;32mIn [14], line 15\u001b[0m, in \u001b[0;36molay_gerceklesti\u001b[0;34m(event, x, y, flags, param)\u001b[0m\n\u001b[1;32m     13\u001b[0m \u001b[38;5;28;01mdef\u001b[39;00m \u001b[38;5;21molay_gerceklesti\u001b[39m(event, x, y, flags, param):\n\u001b[1;32m     14\u001b[0m     eskiX \u001b[38;5;241m=\u001b[39m x\n\u001b[0;32m---> 15\u001b[0m     eskiY \u001b[38;5;241m=\u001b[39m \u001b[43mY\u001b[49m\n\u001b[1;32m     17\u001b[0m     yukBas \u001b[38;5;241m=\u001b[39m y\n\u001b[1;32m     18\u001b[0m     genBas \u001b[38;5;241m=\u001b[39m x\n",
      "\u001b[0;31mNameError\u001b[0m: name 'Y' is not defined"
     ]
    },
    {
     "ename": "NameError",
     "evalue": "name 'Y' is not defined",
     "output_type": "error",
     "traceback": [
      "\u001b[0;31m---------------------------------------------------------------------------\u001b[0m",
      "\u001b[0;31mNameError\u001b[0m                                 Traceback (most recent call last)",
      "Cell \u001b[0;32mIn [14], line 15\u001b[0m, in \u001b[0;36molay_gerceklesti\u001b[0;34m(event, x, y, flags, param)\u001b[0m\n\u001b[1;32m     13\u001b[0m \u001b[38;5;28;01mdef\u001b[39;00m \u001b[38;5;21molay_gerceklesti\u001b[39m(event, x, y, flags, param):\n\u001b[1;32m     14\u001b[0m     eskiX \u001b[38;5;241m=\u001b[39m x\n\u001b[0;32m---> 15\u001b[0m     eskiY \u001b[38;5;241m=\u001b[39m \u001b[43mY\u001b[49m\n\u001b[1;32m     17\u001b[0m     yukBas \u001b[38;5;241m=\u001b[39m y\n\u001b[1;32m     18\u001b[0m     genBas \u001b[38;5;241m=\u001b[39m x\n",
      "\u001b[0;31mNameError\u001b[0m: name 'Y' is not defined"
     ]
    },
    {
     "ename": "NameError",
     "evalue": "name 'Y' is not defined",
     "output_type": "error",
     "traceback": [
      "\u001b[0;31m---------------------------------------------------------------------------\u001b[0m",
      "\u001b[0;31mNameError\u001b[0m                                 Traceback (most recent call last)",
      "Cell \u001b[0;32mIn [14], line 15\u001b[0m, in \u001b[0;36molay_gerceklesti\u001b[0;34m(event, x, y, flags, param)\u001b[0m\n\u001b[1;32m     13\u001b[0m \u001b[38;5;28;01mdef\u001b[39;00m \u001b[38;5;21molay_gerceklesti\u001b[39m(event, x, y, flags, param):\n\u001b[1;32m     14\u001b[0m     eskiX \u001b[38;5;241m=\u001b[39m x\n\u001b[0;32m---> 15\u001b[0m     eskiY \u001b[38;5;241m=\u001b[39m \u001b[43mY\u001b[49m\n\u001b[1;32m     17\u001b[0m     yukBas \u001b[38;5;241m=\u001b[39m y\n\u001b[1;32m     18\u001b[0m     genBas \u001b[38;5;241m=\u001b[39m x\n",
      "\u001b[0;31mNameError\u001b[0m: name 'Y' is not defined"
     ]
    },
    {
     "ename": "NameError",
     "evalue": "name 'Y' is not defined",
     "output_type": "error",
     "traceback": [
      "\u001b[0;31m---------------------------------------------------------------------------\u001b[0m",
      "\u001b[0;31mNameError\u001b[0m                                 Traceback (most recent call last)",
      "Cell \u001b[0;32mIn [14], line 15\u001b[0m, in \u001b[0;36molay_gerceklesti\u001b[0;34m(event, x, y, flags, param)\u001b[0m\n\u001b[1;32m     13\u001b[0m \u001b[38;5;28;01mdef\u001b[39;00m \u001b[38;5;21molay_gerceklesti\u001b[39m(event, x, y, flags, param):\n\u001b[1;32m     14\u001b[0m     eskiX \u001b[38;5;241m=\u001b[39m x\n\u001b[0;32m---> 15\u001b[0m     eskiY \u001b[38;5;241m=\u001b[39m \u001b[43mY\u001b[49m\n\u001b[1;32m     17\u001b[0m     yukBas \u001b[38;5;241m=\u001b[39m y\n\u001b[1;32m     18\u001b[0m     genBas \u001b[38;5;241m=\u001b[39m x\n",
      "\u001b[0;31mNameError\u001b[0m: name 'Y' is not defined"
     ]
    },
    {
     "ename": "NameError",
     "evalue": "name 'Y' is not defined",
     "output_type": "error",
     "traceback": [
      "\u001b[0;31m---------------------------------------------------------------------------\u001b[0m",
      "\u001b[0;31mNameError\u001b[0m                                 Traceback (most recent call last)",
      "Cell \u001b[0;32mIn [14], line 15\u001b[0m, in \u001b[0;36molay_gerceklesti\u001b[0;34m(event, x, y, flags, param)\u001b[0m\n\u001b[1;32m     13\u001b[0m \u001b[38;5;28;01mdef\u001b[39;00m \u001b[38;5;21molay_gerceklesti\u001b[39m(event, x, y, flags, param):\n\u001b[1;32m     14\u001b[0m     eskiX \u001b[38;5;241m=\u001b[39m x\n\u001b[0;32m---> 15\u001b[0m     eskiY \u001b[38;5;241m=\u001b[39m \u001b[43mY\u001b[49m\n\u001b[1;32m     17\u001b[0m     yukBas \u001b[38;5;241m=\u001b[39m y\n\u001b[1;32m     18\u001b[0m     genBas \u001b[38;5;241m=\u001b[39m x\n",
      "\u001b[0;31mNameError\u001b[0m: name 'Y' is not defined"
     ]
    },
    {
     "ename": "NameError",
     "evalue": "name 'Y' is not defined",
     "output_type": "error",
     "traceback": [
      "\u001b[0;31m---------------------------------------------------------------------------\u001b[0m",
      "\u001b[0;31mNameError\u001b[0m                                 Traceback (most recent call last)",
      "Cell \u001b[0;32mIn [14], line 15\u001b[0m, in \u001b[0;36molay_gerceklesti\u001b[0;34m(event, x, y, flags, param)\u001b[0m\n\u001b[1;32m     13\u001b[0m \u001b[38;5;28;01mdef\u001b[39;00m \u001b[38;5;21molay_gerceklesti\u001b[39m(event, x, y, flags, param):\n\u001b[1;32m     14\u001b[0m     eskiX \u001b[38;5;241m=\u001b[39m x\n\u001b[0;32m---> 15\u001b[0m     eskiY \u001b[38;5;241m=\u001b[39m \u001b[43mY\u001b[49m\n\u001b[1;32m     17\u001b[0m     yukBas \u001b[38;5;241m=\u001b[39m y\n\u001b[1;32m     18\u001b[0m     genBas \u001b[38;5;241m=\u001b[39m x\n",
      "\u001b[0;31mNameError\u001b[0m: name 'Y' is not defined"
     ]
    },
    {
     "ename": "NameError",
     "evalue": "name 'Y' is not defined",
     "output_type": "error",
     "traceback": [
      "\u001b[0;31m---------------------------------------------------------------------------\u001b[0m",
      "\u001b[0;31mNameError\u001b[0m                                 Traceback (most recent call last)",
      "Cell \u001b[0;32mIn [14], line 15\u001b[0m, in \u001b[0;36molay_gerceklesti\u001b[0;34m(event, x, y, flags, param)\u001b[0m\n\u001b[1;32m     13\u001b[0m \u001b[38;5;28;01mdef\u001b[39;00m \u001b[38;5;21molay_gerceklesti\u001b[39m(event, x, y, flags, param):\n\u001b[1;32m     14\u001b[0m     eskiX \u001b[38;5;241m=\u001b[39m x\n\u001b[0;32m---> 15\u001b[0m     eskiY \u001b[38;5;241m=\u001b[39m \u001b[43mY\u001b[49m\n\u001b[1;32m     17\u001b[0m     yukBas \u001b[38;5;241m=\u001b[39m y\n\u001b[1;32m     18\u001b[0m     genBas \u001b[38;5;241m=\u001b[39m x\n",
      "\u001b[0;31mNameError\u001b[0m: name 'Y' is not defined"
     ]
    },
    {
     "ename": "NameError",
     "evalue": "name 'Y' is not defined",
     "output_type": "error",
     "traceback": [
      "\u001b[0;31m---------------------------------------------------------------------------\u001b[0m",
      "\u001b[0;31mNameError\u001b[0m                                 Traceback (most recent call last)",
      "Cell \u001b[0;32mIn [14], line 15\u001b[0m, in \u001b[0;36molay_gerceklesti\u001b[0;34m(event, x, y, flags, param)\u001b[0m\n\u001b[1;32m     13\u001b[0m \u001b[38;5;28;01mdef\u001b[39;00m \u001b[38;5;21molay_gerceklesti\u001b[39m(event, x, y, flags, param):\n\u001b[1;32m     14\u001b[0m     eskiX \u001b[38;5;241m=\u001b[39m x\n\u001b[0;32m---> 15\u001b[0m     eskiY \u001b[38;5;241m=\u001b[39m \u001b[43mY\u001b[49m\n\u001b[1;32m     17\u001b[0m     yukBas \u001b[38;5;241m=\u001b[39m y\n\u001b[1;32m     18\u001b[0m     genBas \u001b[38;5;241m=\u001b[39m x\n",
      "\u001b[0;31mNameError\u001b[0m: name 'Y' is not defined"
     ]
    },
    {
     "ename": "NameError",
     "evalue": "name 'Y' is not defined",
     "output_type": "error",
     "traceback": [
      "\u001b[0;31m---------------------------------------------------------------------------\u001b[0m",
      "\u001b[0;31mNameError\u001b[0m                                 Traceback (most recent call last)",
      "Cell \u001b[0;32mIn [14], line 15\u001b[0m, in \u001b[0;36molay_gerceklesti\u001b[0;34m(event, x, y, flags, param)\u001b[0m\n\u001b[1;32m     13\u001b[0m \u001b[38;5;28;01mdef\u001b[39;00m \u001b[38;5;21molay_gerceklesti\u001b[39m(event, x, y, flags, param):\n\u001b[1;32m     14\u001b[0m     eskiX \u001b[38;5;241m=\u001b[39m x\n\u001b[0;32m---> 15\u001b[0m     eskiY \u001b[38;5;241m=\u001b[39m \u001b[43mY\u001b[49m\n\u001b[1;32m     17\u001b[0m     yukBas \u001b[38;5;241m=\u001b[39m y\n\u001b[1;32m     18\u001b[0m     genBas \u001b[38;5;241m=\u001b[39m x\n",
      "\u001b[0;31mNameError\u001b[0m: name 'Y' is not defined"
     ]
    },
    {
     "ename": "NameError",
     "evalue": "name 'Y' is not defined",
     "output_type": "error",
     "traceback": [
      "\u001b[0;31m---------------------------------------------------------------------------\u001b[0m",
      "\u001b[0;31mNameError\u001b[0m                                 Traceback (most recent call last)",
      "Cell \u001b[0;32mIn [14], line 15\u001b[0m, in \u001b[0;36molay_gerceklesti\u001b[0;34m(event, x, y, flags, param)\u001b[0m\n\u001b[1;32m     13\u001b[0m \u001b[38;5;28;01mdef\u001b[39;00m \u001b[38;5;21molay_gerceklesti\u001b[39m(event, x, y, flags, param):\n\u001b[1;32m     14\u001b[0m     eskiX \u001b[38;5;241m=\u001b[39m x\n\u001b[0;32m---> 15\u001b[0m     eskiY \u001b[38;5;241m=\u001b[39m \u001b[43mY\u001b[49m\n\u001b[1;32m     17\u001b[0m     yukBas \u001b[38;5;241m=\u001b[39m y\n\u001b[1;32m     18\u001b[0m     genBas \u001b[38;5;241m=\u001b[39m x\n",
      "\u001b[0;31mNameError\u001b[0m: name 'Y' is not defined"
     ]
    },
    {
     "ename": "NameError",
     "evalue": "name 'Y' is not defined",
     "output_type": "error",
     "traceback": [
      "\u001b[0;31m---------------------------------------------------------------------------\u001b[0m",
      "\u001b[0;31mNameError\u001b[0m                                 Traceback (most recent call last)",
      "Cell \u001b[0;32mIn [14], line 15\u001b[0m, in \u001b[0;36molay_gerceklesti\u001b[0;34m(event, x, y, flags, param)\u001b[0m\n\u001b[1;32m     13\u001b[0m \u001b[38;5;28;01mdef\u001b[39;00m \u001b[38;5;21molay_gerceklesti\u001b[39m(event, x, y, flags, param):\n\u001b[1;32m     14\u001b[0m     eskiX \u001b[38;5;241m=\u001b[39m x\n\u001b[0;32m---> 15\u001b[0m     eskiY \u001b[38;5;241m=\u001b[39m \u001b[43mY\u001b[49m\n\u001b[1;32m     17\u001b[0m     yukBas \u001b[38;5;241m=\u001b[39m y\n\u001b[1;32m     18\u001b[0m     genBas \u001b[38;5;241m=\u001b[39m x\n",
      "\u001b[0;31mNameError\u001b[0m: name 'Y' is not defined"
     ]
    },
    {
     "ename": "NameError",
     "evalue": "name 'Y' is not defined",
     "output_type": "error",
     "traceback": [
      "\u001b[0;31m---------------------------------------------------------------------------\u001b[0m",
      "\u001b[0;31mNameError\u001b[0m                                 Traceback (most recent call last)",
      "Cell \u001b[0;32mIn [14], line 15\u001b[0m, in \u001b[0;36molay_gerceklesti\u001b[0;34m(event, x, y, flags, param)\u001b[0m\n\u001b[1;32m     13\u001b[0m \u001b[38;5;28;01mdef\u001b[39;00m \u001b[38;5;21molay_gerceklesti\u001b[39m(event, x, y, flags, param):\n\u001b[1;32m     14\u001b[0m     eskiX \u001b[38;5;241m=\u001b[39m x\n\u001b[0;32m---> 15\u001b[0m     eskiY \u001b[38;5;241m=\u001b[39m \u001b[43mY\u001b[49m\n\u001b[1;32m     17\u001b[0m     yukBas \u001b[38;5;241m=\u001b[39m y\n\u001b[1;32m     18\u001b[0m     genBas \u001b[38;5;241m=\u001b[39m x\n",
      "\u001b[0;31mNameError\u001b[0m: name 'Y' is not defined"
     ]
    },
    {
     "ename": "NameError",
     "evalue": "name 'Y' is not defined",
     "output_type": "error",
     "traceback": [
      "\u001b[0;31m---------------------------------------------------------------------------\u001b[0m",
      "\u001b[0;31mNameError\u001b[0m                                 Traceback (most recent call last)",
      "Cell \u001b[0;32mIn [14], line 15\u001b[0m, in \u001b[0;36molay_gerceklesti\u001b[0;34m(event, x, y, flags, param)\u001b[0m\n\u001b[1;32m     13\u001b[0m \u001b[38;5;28;01mdef\u001b[39;00m \u001b[38;5;21molay_gerceklesti\u001b[39m(event, x, y, flags, param):\n\u001b[1;32m     14\u001b[0m     eskiX \u001b[38;5;241m=\u001b[39m x\n\u001b[0;32m---> 15\u001b[0m     eskiY \u001b[38;5;241m=\u001b[39m \u001b[43mY\u001b[49m\n\u001b[1;32m     17\u001b[0m     yukBas \u001b[38;5;241m=\u001b[39m y\n\u001b[1;32m     18\u001b[0m     genBas \u001b[38;5;241m=\u001b[39m x\n",
      "\u001b[0;31mNameError\u001b[0m: name 'Y' is not defined"
     ]
    },
    {
     "ename": "NameError",
     "evalue": "name 'Y' is not defined",
     "output_type": "error",
     "traceback": [
      "\u001b[0;31m---------------------------------------------------------------------------\u001b[0m",
      "\u001b[0;31mNameError\u001b[0m                                 Traceback (most recent call last)",
      "Cell \u001b[0;32mIn [14], line 15\u001b[0m, in \u001b[0;36molay_gerceklesti\u001b[0;34m(event, x, y, flags, param)\u001b[0m\n\u001b[1;32m     13\u001b[0m \u001b[38;5;28;01mdef\u001b[39;00m \u001b[38;5;21molay_gerceklesti\u001b[39m(event, x, y, flags, param):\n\u001b[1;32m     14\u001b[0m     eskiX \u001b[38;5;241m=\u001b[39m x\n\u001b[0;32m---> 15\u001b[0m     eskiY \u001b[38;5;241m=\u001b[39m \u001b[43mY\u001b[49m\n\u001b[1;32m     17\u001b[0m     yukBas \u001b[38;5;241m=\u001b[39m y\n\u001b[1;32m     18\u001b[0m     genBas \u001b[38;5;241m=\u001b[39m x\n",
      "\u001b[0;31mNameError\u001b[0m: name 'Y' is not defined"
     ]
    },
    {
     "ename": "NameError",
     "evalue": "name 'Y' is not defined",
     "output_type": "error",
     "traceback": [
      "\u001b[0;31m---------------------------------------------------------------------------\u001b[0m",
      "\u001b[0;31mNameError\u001b[0m                                 Traceback (most recent call last)",
      "Cell \u001b[0;32mIn [14], line 15\u001b[0m, in \u001b[0;36molay_gerceklesti\u001b[0;34m(event, x, y, flags, param)\u001b[0m\n\u001b[1;32m     13\u001b[0m \u001b[38;5;28;01mdef\u001b[39;00m \u001b[38;5;21molay_gerceklesti\u001b[39m(event, x, y, flags, param):\n\u001b[1;32m     14\u001b[0m     eskiX \u001b[38;5;241m=\u001b[39m x\n\u001b[0;32m---> 15\u001b[0m     eskiY \u001b[38;5;241m=\u001b[39m \u001b[43mY\u001b[49m\n\u001b[1;32m     17\u001b[0m     yukBas \u001b[38;5;241m=\u001b[39m y\n\u001b[1;32m     18\u001b[0m     genBas \u001b[38;5;241m=\u001b[39m x\n",
      "\u001b[0;31mNameError\u001b[0m: name 'Y' is not defined"
     ]
    },
    {
     "ename": "NameError",
     "evalue": "name 'Y' is not defined",
     "output_type": "error",
     "traceback": [
      "\u001b[0;31m---------------------------------------------------------------------------\u001b[0m",
      "\u001b[0;31mNameError\u001b[0m                                 Traceback (most recent call last)",
      "Cell \u001b[0;32mIn [14], line 15\u001b[0m, in \u001b[0;36molay_gerceklesti\u001b[0;34m(event, x, y, flags, param)\u001b[0m\n\u001b[1;32m     13\u001b[0m \u001b[38;5;28;01mdef\u001b[39;00m \u001b[38;5;21molay_gerceklesti\u001b[39m(event, x, y, flags, param):\n\u001b[1;32m     14\u001b[0m     eskiX \u001b[38;5;241m=\u001b[39m x\n\u001b[0;32m---> 15\u001b[0m     eskiY \u001b[38;5;241m=\u001b[39m \u001b[43mY\u001b[49m\n\u001b[1;32m     17\u001b[0m     yukBas \u001b[38;5;241m=\u001b[39m y\n\u001b[1;32m     18\u001b[0m     genBas \u001b[38;5;241m=\u001b[39m x\n",
      "\u001b[0;31mNameError\u001b[0m: name 'Y' is not defined"
     ]
    },
    {
     "ename": "NameError",
     "evalue": "name 'Y' is not defined",
     "output_type": "error",
     "traceback": [
      "\u001b[0;31m---------------------------------------------------------------------------\u001b[0m",
      "\u001b[0;31mNameError\u001b[0m                                 Traceback (most recent call last)",
      "Cell \u001b[0;32mIn [14], line 15\u001b[0m, in \u001b[0;36molay_gerceklesti\u001b[0;34m(event, x, y, flags, param)\u001b[0m\n\u001b[1;32m     13\u001b[0m \u001b[38;5;28;01mdef\u001b[39;00m \u001b[38;5;21molay_gerceklesti\u001b[39m(event, x, y, flags, param):\n\u001b[1;32m     14\u001b[0m     eskiX \u001b[38;5;241m=\u001b[39m x\n\u001b[0;32m---> 15\u001b[0m     eskiY \u001b[38;5;241m=\u001b[39m \u001b[43mY\u001b[49m\n\u001b[1;32m     17\u001b[0m     yukBas \u001b[38;5;241m=\u001b[39m y\n\u001b[1;32m     18\u001b[0m     genBas \u001b[38;5;241m=\u001b[39m x\n",
      "\u001b[0;31mNameError\u001b[0m: name 'Y' is not defined"
     ]
    },
    {
     "ename": "NameError",
     "evalue": "name 'Y' is not defined",
     "output_type": "error",
     "traceback": [
      "\u001b[0;31m---------------------------------------------------------------------------\u001b[0m",
      "\u001b[0;31mNameError\u001b[0m                                 Traceback (most recent call last)",
      "Cell \u001b[0;32mIn [14], line 15\u001b[0m, in \u001b[0;36molay_gerceklesti\u001b[0;34m(event, x, y, flags, param)\u001b[0m\n\u001b[1;32m     13\u001b[0m \u001b[38;5;28;01mdef\u001b[39;00m \u001b[38;5;21molay_gerceklesti\u001b[39m(event, x, y, flags, param):\n\u001b[1;32m     14\u001b[0m     eskiX \u001b[38;5;241m=\u001b[39m x\n\u001b[0;32m---> 15\u001b[0m     eskiY \u001b[38;5;241m=\u001b[39m \u001b[43mY\u001b[49m\n\u001b[1;32m     17\u001b[0m     yukBas \u001b[38;5;241m=\u001b[39m y\n\u001b[1;32m     18\u001b[0m     genBas \u001b[38;5;241m=\u001b[39m x\n",
      "\u001b[0;31mNameError\u001b[0m: name 'Y' is not defined"
     ]
    },
    {
     "ename": "NameError",
     "evalue": "name 'Y' is not defined",
     "output_type": "error",
     "traceback": [
      "\u001b[0;31m---------------------------------------------------------------------------\u001b[0m",
      "\u001b[0;31mNameError\u001b[0m                                 Traceback (most recent call last)",
      "Cell \u001b[0;32mIn [14], line 15\u001b[0m, in \u001b[0;36molay_gerceklesti\u001b[0;34m(event, x, y, flags, param)\u001b[0m\n\u001b[1;32m     13\u001b[0m \u001b[38;5;28;01mdef\u001b[39;00m \u001b[38;5;21molay_gerceklesti\u001b[39m(event, x, y, flags, param):\n\u001b[1;32m     14\u001b[0m     eskiX \u001b[38;5;241m=\u001b[39m x\n\u001b[0;32m---> 15\u001b[0m     eskiY \u001b[38;5;241m=\u001b[39m \u001b[43mY\u001b[49m\n\u001b[1;32m     17\u001b[0m     yukBas \u001b[38;5;241m=\u001b[39m y\n\u001b[1;32m     18\u001b[0m     genBas \u001b[38;5;241m=\u001b[39m x\n",
      "\u001b[0;31mNameError\u001b[0m: name 'Y' is not defined"
     ]
    },
    {
     "ename": "NameError",
     "evalue": "name 'Y' is not defined",
     "output_type": "error",
     "traceback": [
      "\u001b[0;31m---------------------------------------------------------------------------\u001b[0m",
      "\u001b[0;31mNameError\u001b[0m                                 Traceback (most recent call last)",
      "Cell \u001b[0;32mIn [14], line 15\u001b[0m, in \u001b[0;36molay_gerceklesti\u001b[0;34m(event, x, y, flags, param)\u001b[0m\n\u001b[1;32m     13\u001b[0m \u001b[38;5;28;01mdef\u001b[39;00m \u001b[38;5;21molay_gerceklesti\u001b[39m(event, x, y, flags, param):\n\u001b[1;32m     14\u001b[0m     eskiX \u001b[38;5;241m=\u001b[39m x\n\u001b[0;32m---> 15\u001b[0m     eskiY \u001b[38;5;241m=\u001b[39m \u001b[43mY\u001b[49m\n\u001b[1;32m     17\u001b[0m     yukBas \u001b[38;5;241m=\u001b[39m y\n\u001b[1;32m     18\u001b[0m     genBas \u001b[38;5;241m=\u001b[39m x\n",
      "\u001b[0;31mNameError\u001b[0m: name 'Y' is not defined"
     ]
    },
    {
     "ename": "NameError",
     "evalue": "name 'Y' is not defined",
     "output_type": "error",
     "traceback": [
      "\u001b[0;31m---------------------------------------------------------------------------\u001b[0m",
      "\u001b[0;31mNameError\u001b[0m                                 Traceback (most recent call last)",
      "Cell \u001b[0;32mIn [14], line 15\u001b[0m, in \u001b[0;36molay_gerceklesti\u001b[0;34m(event, x, y, flags, param)\u001b[0m\n\u001b[1;32m     13\u001b[0m \u001b[38;5;28;01mdef\u001b[39;00m \u001b[38;5;21molay_gerceklesti\u001b[39m(event, x, y, flags, param):\n\u001b[1;32m     14\u001b[0m     eskiX \u001b[38;5;241m=\u001b[39m x\n\u001b[0;32m---> 15\u001b[0m     eskiY \u001b[38;5;241m=\u001b[39m \u001b[43mY\u001b[49m\n\u001b[1;32m     17\u001b[0m     yukBas \u001b[38;5;241m=\u001b[39m y\n\u001b[1;32m     18\u001b[0m     genBas \u001b[38;5;241m=\u001b[39m x\n",
      "\u001b[0;31mNameError\u001b[0m: name 'Y' is not defined"
     ]
    },
    {
     "ename": "NameError",
     "evalue": "name 'Y' is not defined",
     "output_type": "error",
     "traceback": [
      "\u001b[0;31m---------------------------------------------------------------------------\u001b[0m",
      "\u001b[0;31mNameError\u001b[0m                                 Traceback (most recent call last)",
      "Cell \u001b[0;32mIn [14], line 15\u001b[0m, in \u001b[0;36molay_gerceklesti\u001b[0;34m(event, x, y, flags, param)\u001b[0m\n\u001b[1;32m     13\u001b[0m \u001b[38;5;28;01mdef\u001b[39;00m \u001b[38;5;21molay_gerceklesti\u001b[39m(event, x, y, flags, param):\n\u001b[1;32m     14\u001b[0m     eskiX \u001b[38;5;241m=\u001b[39m x\n\u001b[0;32m---> 15\u001b[0m     eskiY \u001b[38;5;241m=\u001b[39m \u001b[43mY\u001b[49m\n\u001b[1;32m     17\u001b[0m     yukBas \u001b[38;5;241m=\u001b[39m y\n\u001b[1;32m     18\u001b[0m     genBas \u001b[38;5;241m=\u001b[39m x\n",
      "\u001b[0;31mNameError\u001b[0m: name 'Y' is not defined"
     ]
    },
    {
     "ename": "NameError",
     "evalue": "name 'Y' is not defined",
     "output_type": "error",
     "traceback": [
      "\u001b[0;31m---------------------------------------------------------------------------\u001b[0m",
      "\u001b[0;31mNameError\u001b[0m                                 Traceback (most recent call last)",
      "Cell \u001b[0;32mIn [14], line 15\u001b[0m, in \u001b[0;36molay_gerceklesti\u001b[0;34m(event, x, y, flags, param)\u001b[0m\n\u001b[1;32m     13\u001b[0m \u001b[38;5;28;01mdef\u001b[39;00m \u001b[38;5;21molay_gerceklesti\u001b[39m(event, x, y, flags, param):\n\u001b[1;32m     14\u001b[0m     eskiX \u001b[38;5;241m=\u001b[39m x\n\u001b[0;32m---> 15\u001b[0m     eskiY \u001b[38;5;241m=\u001b[39m \u001b[43mY\u001b[49m\n\u001b[1;32m     17\u001b[0m     yukBas \u001b[38;5;241m=\u001b[39m y\n\u001b[1;32m     18\u001b[0m     genBas \u001b[38;5;241m=\u001b[39m x\n",
      "\u001b[0;31mNameError\u001b[0m: name 'Y' is not defined"
     ]
    },
    {
     "ename": "NameError",
     "evalue": "name 'Y' is not defined",
     "output_type": "error",
     "traceback": [
      "\u001b[0;31m---------------------------------------------------------------------------\u001b[0m",
      "\u001b[0;31mNameError\u001b[0m                                 Traceback (most recent call last)",
      "Cell \u001b[0;32mIn [14], line 15\u001b[0m, in \u001b[0;36molay_gerceklesti\u001b[0;34m(event, x, y, flags, param)\u001b[0m\n\u001b[1;32m     13\u001b[0m \u001b[38;5;28;01mdef\u001b[39;00m \u001b[38;5;21molay_gerceklesti\u001b[39m(event, x, y, flags, param):\n\u001b[1;32m     14\u001b[0m     eskiX \u001b[38;5;241m=\u001b[39m x\n\u001b[0;32m---> 15\u001b[0m     eskiY \u001b[38;5;241m=\u001b[39m \u001b[43mY\u001b[49m\n\u001b[1;32m     17\u001b[0m     yukBas \u001b[38;5;241m=\u001b[39m y\n\u001b[1;32m     18\u001b[0m     genBas \u001b[38;5;241m=\u001b[39m x\n",
      "\u001b[0;31mNameError\u001b[0m: name 'Y' is not defined"
     ]
    },
    {
     "ename": "NameError",
     "evalue": "name 'Y' is not defined",
     "output_type": "error",
     "traceback": [
      "\u001b[0;31m---------------------------------------------------------------------------\u001b[0m",
      "\u001b[0;31mNameError\u001b[0m                                 Traceback (most recent call last)",
      "Cell \u001b[0;32mIn [14], line 15\u001b[0m, in \u001b[0;36molay_gerceklesti\u001b[0;34m(event, x, y, flags, param)\u001b[0m\n\u001b[1;32m     13\u001b[0m \u001b[38;5;28;01mdef\u001b[39;00m \u001b[38;5;21molay_gerceklesti\u001b[39m(event, x, y, flags, param):\n\u001b[1;32m     14\u001b[0m     eskiX \u001b[38;5;241m=\u001b[39m x\n\u001b[0;32m---> 15\u001b[0m     eskiY \u001b[38;5;241m=\u001b[39m \u001b[43mY\u001b[49m\n\u001b[1;32m     17\u001b[0m     yukBas \u001b[38;5;241m=\u001b[39m y\n\u001b[1;32m     18\u001b[0m     genBas \u001b[38;5;241m=\u001b[39m x\n",
      "\u001b[0;31mNameError\u001b[0m: name 'Y' is not defined"
     ]
    },
    {
     "ename": "NameError",
     "evalue": "name 'Y' is not defined",
     "output_type": "error",
     "traceback": [
      "\u001b[0;31m---------------------------------------------------------------------------\u001b[0m",
      "\u001b[0;31mNameError\u001b[0m                                 Traceback (most recent call last)",
      "Cell \u001b[0;32mIn [14], line 15\u001b[0m, in \u001b[0;36molay_gerceklesti\u001b[0;34m(event, x, y, flags, param)\u001b[0m\n\u001b[1;32m     13\u001b[0m \u001b[38;5;28;01mdef\u001b[39;00m \u001b[38;5;21molay_gerceklesti\u001b[39m(event, x, y, flags, param):\n\u001b[1;32m     14\u001b[0m     eskiX \u001b[38;5;241m=\u001b[39m x\n\u001b[0;32m---> 15\u001b[0m     eskiY \u001b[38;5;241m=\u001b[39m \u001b[43mY\u001b[49m\n\u001b[1;32m     17\u001b[0m     yukBas \u001b[38;5;241m=\u001b[39m y\n\u001b[1;32m     18\u001b[0m     genBas \u001b[38;5;241m=\u001b[39m x\n",
      "\u001b[0;31mNameError\u001b[0m: name 'Y' is not defined"
     ]
    },
    {
     "ename": "NameError",
     "evalue": "name 'Y' is not defined",
     "output_type": "error",
     "traceback": [
      "\u001b[0;31m---------------------------------------------------------------------------\u001b[0m",
      "\u001b[0;31mNameError\u001b[0m                                 Traceback (most recent call last)",
      "Cell \u001b[0;32mIn [14], line 15\u001b[0m, in \u001b[0;36molay_gerceklesti\u001b[0;34m(event, x, y, flags, param)\u001b[0m\n\u001b[1;32m     13\u001b[0m \u001b[38;5;28;01mdef\u001b[39;00m \u001b[38;5;21molay_gerceklesti\u001b[39m(event, x, y, flags, param):\n\u001b[1;32m     14\u001b[0m     eskiX \u001b[38;5;241m=\u001b[39m x\n\u001b[0;32m---> 15\u001b[0m     eskiY \u001b[38;5;241m=\u001b[39m \u001b[43mY\u001b[49m\n\u001b[1;32m     17\u001b[0m     yukBas \u001b[38;5;241m=\u001b[39m y\n\u001b[1;32m     18\u001b[0m     genBas \u001b[38;5;241m=\u001b[39m x\n",
      "\u001b[0;31mNameError\u001b[0m: name 'Y' is not defined"
     ]
    },
    {
     "ename": "NameError",
     "evalue": "name 'Y' is not defined",
     "output_type": "error",
     "traceback": [
      "\u001b[0;31m---------------------------------------------------------------------------\u001b[0m",
      "\u001b[0;31mNameError\u001b[0m                                 Traceback (most recent call last)",
      "Cell \u001b[0;32mIn [14], line 15\u001b[0m, in \u001b[0;36molay_gerceklesti\u001b[0;34m(event, x, y, flags, param)\u001b[0m\n\u001b[1;32m     13\u001b[0m \u001b[38;5;28;01mdef\u001b[39;00m \u001b[38;5;21molay_gerceklesti\u001b[39m(event, x, y, flags, param):\n\u001b[1;32m     14\u001b[0m     eskiX \u001b[38;5;241m=\u001b[39m x\n\u001b[0;32m---> 15\u001b[0m     eskiY \u001b[38;5;241m=\u001b[39m \u001b[43mY\u001b[49m\n\u001b[1;32m     17\u001b[0m     yukBas \u001b[38;5;241m=\u001b[39m y\n\u001b[1;32m     18\u001b[0m     genBas \u001b[38;5;241m=\u001b[39m x\n",
      "\u001b[0;31mNameError\u001b[0m: name 'Y' is not defined"
     ]
    },
    {
     "ename": "NameError",
     "evalue": "name 'Y' is not defined",
     "output_type": "error",
     "traceback": [
      "\u001b[0;31m---------------------------------------------------------------------------\u001b[0m",
      "\u001b[0;31mNameError\u001b[0m                                 Traceback (most recent call last)",
      "Cell \u001b[0;32mIn [14], line 15\u001b[0m, in \u001b[0;36molay_gerceklesti\u001b[0;34m(event, x, y, flags, param)\u001b[0m\n\u001b[1;32m     13\u001b[0m \u001b[38;5;28;01mdef\u001b[39;00m \u001b[38;5;21molay_gerceklesti\u001b[39m(event, x, y, flags, param):\n\u001b[1;32m     14\u001b[0m     eskiX \u001b[38;5;241m=\u001b[39m x\n\u001b[0;32m---> 15\u001b[0m     eskiY \u001b[38;5;241m=\u001b[39m \u001b[43mY\u001b[49m\n\u001b[1;32m     17\u001b[0m     yukBas \u001b[38;5;241m=\u001b[39m y\n\u001b[1;32m     18\u001b[0m     genBas \u001b[38;5;241m=\u001b[39m x\n",
      "\u001b[0;31mNameError\u001b[0m: name 'Y' is not defined"
     ]
    },
    {
     "ename": "NameError",
     "evalue": "name 'Y' is not defined",
     "output_type": "error",
     "traceback": [
      "\u001b[0;31m---------------------------------------------------------------------------\u001b[0m",
      "\u001b[0;31mNameError\u001b[0m                                 Traceback (most recent call last)",
      "Cell \u001b[0;32mIn [14], line 15\u001b[0m, in \u001b[0;36molay_gerceklesti\u001b[0;34m(event, x, y, flags, param)\u001b[0m\n\u001b[1;32m     13\u001b[0m \u001b[38;5;28;01mdef\u001b[39;00m \u001b[38;5;21molay_gerceklesti\u001b[39m(event, x, y, flags, param):\n\u001b[1;32m     14\u001b[0m     eskiX \u001b[38;5;241m=\u001b[39m x\n\u001b[0;32m---> 15\u001b[0m     eskiY \u001b[38;5;241m=\u001b[39m \u001b[43mY\u001b[49m\n\u001b[1;32m     17\u001b[0m     yukBas \u001b[38;5;241m=\u001b[39m y\n\u001b[1;32m     18\u001b[0m     genBas \u001b[38;5;241m=\u001b[39m x\n",
      "\u001b[0;31mNameError\u001b[0m: name 'Y' is not defined"
     ]
    },
    {
     "ename": "NameError",
     "evalue": "name 'Y' is not defined",
     "output_type": "error",
     "traceback": [
      "\u001b[0;31m---------------------------------------------------------------------------\u001b[0m",
      "\u001b[0;31mNameError\u001b[0m                                 Traceback (most recent call last)",
      "Cell \u001b[0;32mIn [14], line 15\u001b[0m, in \u001b[0;36molay_gerceklesti\u001b[0;34m(event, x, y, flags, param)\u001b[0m\n\u001b[1;32m     13\u001b[0m \u001b[38;5;28;01mdef\u001b[39;00m \u001b[38;5;21molay_gerceklesti\u001b[39m(event, x, y, flags, param):\n\u001b[1;32m     14\u001b[0m     eskiX \u001b[38;5;241m=\u001b[39m x\n\u001b[0;32m---> 15\u001b[0m     eskiY \u001b[38;5;241m=\u001b[39m \u001b[43mY\u001b[49m\n\u001b[1;32m     17\u001b[0m     yukBas \u001b[38;5;241m=\u001b[39m y\n\u001b[1;32m     18\u001b[0m     genBas \u001b[38;5;241m=\u001b[39m x\n",
      "\u001b[0;31mNameError\u001b[0m: name 'Y' is not defined"
     ]
    },
    {
     "ename": "NameError",
     "evalue": "name 'Y' is not defined",
     "output_type": "error",
     "traceback": [
      "\u001b[0;31m---------------------------------------------------------------------------\u001b[0m",
      "\u001b[0;31mNameError\u001b[0m                                 Traceback (most recent call last)",
      "Cell \u001b[0;32mIn [14], line 15\u001b[0m, in \u001b[0;36molay_gerceklesti\u001b[0;34m(event, x, y, flags, param)\u001b[0m\n\u001b[1;32m     13\u001b[0m \u001b[38;5;28;01mdef\u001b[39;00m \u001b[38;5;21molay_gerceklesti\u001b[39m(event, x, y, flags, param):\n\u001b[1;32m     14\u001b[0m     eskiX \u001b[38;5;241m=\u001b[39m x\n\u001b[0;32m---> 15\u001b[0m     eskiY \u001b[38;5;241m=\u001b[39m \u001b[43mY\u001b[49m\n\u001b[1;32m     17\u001b[0m     yukBas \u001b[38;5;241m=\u001b[39m y\n\u001b[1;32m     18\u001b[0m     genBas \u001b[38;5;241m=\u001b[39m x\n",
      "\u001b[0;31mNameError\u001b[0m: name 'Y' is not defined"
     ]
    },
    {
     "ename": "NameError",
     "evalue": "name 'Y' is not defined",
     "output_type": "error",
     "traceback": [
      "\u001b[0;31m---------------------------------------------------------------------------\u001b[0m",
      "\u001b[0;31mNameError\u001b[0m                                 Traceback (most recent call last)",
      "Cell \u001b[0;32mIn [14], line 15\u001b[0m, in \u001b[0;36molay_gerceklesti\u001b[0;34m(event, x, y, flags, param)\u001b[0m\n\u001b[1;32m     13\u001b[0m \u001b[38;5;28;01mdef\u001b[39;00m \u001b[38;5;21molay_gerceklesti\u001b[39m(event, x, y, flags, param):\n\u001b[1;32m     14\u001b[0m     eskiX \u001b[38;5;241m=\u001b[39m x\n\u001b[0;32m---> 15\u001b[0m     eskiY \u001b[38;5;241m=\u001b[39m \u001b[43mY\u001b[49m\n\u001b[1;32m     17\u001b[0m     yukBas \u001b[38;5;241m=\u001b[39m y\n\u001b[1;32m     18\u001b[0m     genBas \u001b[38;5;241m=\u001b[39m x\n",
      "\u001b[0;31mNameError\u001b[0m: name 'Y' is not defined"
     ]
    },
    {
     "ename": "NameError",
     "evalue": "name 'Y' is not defined",
     "output_type": "error",
     "traceback": [
      "\u001b[0;31m---------------------------------------------------------------------------\u001b[0m",
      "\u001b[0;31mNameError\u001b[0m                                 Traceback (most recent call last)",
      "Cell \u001b[0;32mIn [14], line 15\u001b[0m, in \u001b[0;36molay_gerceklesti\u001b[0;34m(event, x, y, flags, param)\u001b[0m\n\u001b[1;32m     13\u001b[0m \u001b[38;5;28;01mdef\u001b[39;00m \u001b[38;5;21molay_gerceklesti\u001b[39m(event, x, y, flags, param):\n\u001b[1;32m     14\u001b[0m     eskiX \u001b[38;5;241m=\u001b[39m x\n\u001b[0;32m---> 15\u001b[0m     eskiY \u001b[38;5;241m=\u001b[39m \u001b[43mY\u001b[49m\n\u001b[1;32m     17\u001b[0m     yukBas \u001b[38;5;241m=\u001b[39m y\n\u001b[1;32m     18\u001b[0m     genBas \u001b[38;5;241m=\u001b[39m x\n",
      "\u001b[0;31mNameError\u001b[0m: name 'Y' is not defined"
     ]
    },
    {
     "ename": "NameError",
     "evalue": "name 'Y' is not defined",
     "output_type": "error",
     "traceback": [
      "\u001b[0;31m---------------------------------------------------------------------------\u001b[0m",
      "\u001b[0;31mNameError\u001b[0m                                 Traceback (most recent call last)",
      "Cell \u001b[0;32mIn [14], line 15\u001b[0m, in \u001b[0;36molay_gerceklesti\u001b[0;34m(event, x, y, flags, param)\u001b[0m\n\u001b[1;32m     13\u001b[0m \u001b[38;5;28;01mdef\u001b[39;00m \u001b[38;5;21molay_gerceklesti\u001b[39m(event, x, y, flags, param):\n\u001b[1;32m     14\u001b[0m     eskiX \u001b[38;5;241m=\u001b[39m x\n\u001b[0;32m---> 15\u001b[0m     eskiY \u001b[38;5;241m=\u001b[39m \u001b[43mY\u001b[49m\n\u001b[1;32m     17\u001b[0m     yukBas \u001b[38;5;241m=\u001b[39m y\n\u001b[1;32m     18\u001b[0m     genBas \u001b[38;5;241m=\u001b[39m x\n",
      "\u001b[0;31mNameError\u001b[0m: name 'Y' is not defined"
     ]
    },
    {
     "ename": "NameError",
     "evalue": "name 'Y' is not defined",
     "output_type": "error",
     "traceback": [
      "\u001b[0;31m---------------------------------------------------------------------------\u001b[0m",
      "\u001b[0;31mNameError\u001b[0m                                 Traceback (most recent call last)",
      "Cell \u001b[0;32mIn [14], line 15\u001b[0m, in \u001b[0;36molay_gerceklesti\u001b[0;34m(event, x, y, flags, param)\u001b[0m\n\u001b[1;32m     13\u001b[0m \u001b[38;5;28;01mdef\u001b[39;00m \u001b[38;5;21molay_gerceklesti\u001b[39m(event, x, y, flags, param):\n\u001b[1;32m     14\u001b[0m     eskiX \u001b[38;5;241m=\u001b[39m x\n\u001b[0;32m---> 15\u001b[0m     eskiY \u001b[38;5;241m=\u001b[39m \u001b[43mY\u001b[49m\n\u001b[1;32m     17\u001b[0m     yukBas \u001b[38;5;241m=\u001b[39m y\n\u001b[1;32m     18\u001b[0m     genBas \u001b[38;5;241m=\u001b[39m x\n",
      "\u001b[0;31mNameError\u001b[0m: name 'Y' is not defined"
     ]
    },
    {
     "ename": "NameError",
     "evalue": "name 'Y' is not defined",
     "output_type": "error",
     "traceback": [
      "\u001b[0;31m---------------------------------------------------------------------------\u001b[0m",
      "\u001b[0;31mNameError\u001b[0m                                 Traceback (most recent call last)",
      "Cell \u001b[0;32mIn [14], line 15\u001b[0m, in \u001b[0;36molay_gerceklesti\u001b[0;34m(event, x, y, flags, param)\u001b[0m\n\u001b[1;32m     13\u001b[0m \u001b[38;5;28;01mdef\u001b[39;00m \u001b[38;5;21molay_gerceklesti\u001b[39m(event, x, y, flags, param):\n\u001b[1;32m     14\u001b[0m     eskiX \u001b[38;5;241m=\u001b[39m x\n\u001b[0;32m---> 15\u001b[0m     eskiY \u001b[38;5;241m=\u001b[39m \u001b[43mY\u001b[49m\n\u001b[1;32m     17\u001b[0m     yukBas \u001b[38;5;241m=\u001b[39m y\n\u001b[1;32m     18\u001b[0m     genBas \u001b[38;5;241m=\u001b[39m x\n",
      "\u001b[0;31mNameError\u001b[0m: name 'Y' is not defined"
     ]
    },
    {
     "ename": "NameError",
     "evalue": "name 'Y' is not defined",
     "output_type": "error",
     "traceback": [
      "\u001b[0;31m---------------------------------------------------------------------------\u001b[0m",
      "\u001b[0;31mNameError\u001b[0m                                 Traceback (most recent call last)",
      "Cell \u001b[0;32mIn [14], line 15\u001b[0m, in \u001b[0;36molay_gerceklesti\u001b[0;34m(event, x, y, flags, param)\u001b[0m\n\u001b[1;32m     13\u001b[0m \u001b[38;5;28;01mdef\u001b[39;00m \u001b[38;5;21molay_gerceklesti\u001b[39m(event, x, y, flags, param):\n\u001b[1;32m     14\u001b[0m     eskiX \u001b[38;5;241m=\u001b[39m x\n\u001b[0;32m---> 15\u001b[0m     eskiY \u001b[38;5;241m=\u001b[39m \u001b[43mY\u001b[49m\n\u001b[1;32m     17\u001b[0m     yukBas \u001b[38;5;241m=\u001b[39m y\n\u001b[1;32m     18\u001b[0m     genBas \u001b[38;5;241m=\u001b[39m x\n",
      "\u001b[0;31mNameError\u001b[0m: name 'Y' is not defined"
     ]
    },
    {
     "ename": "NameError",
     "evalue": "name 'Y' is not defined",
     "output_type": "error",
     "traceback": [
      "\u001b[0;31m---------------------------------------------------------------------------\u001b[0m",
      "\u001b[0;31mNameError\u001b[0m                                 Traceback (most recent call last)",
      "Cell \u001b[0;32mIn [14], line 15\u001b[0m, in \u001b[0;36molay_gerceklesti\u001b[0;34m(event, x, y, flags, param)\u001b[0m\n\u001b[1;32m     13\u001b[0m \u001b[38;5;28;01mdef\u001b[39;00m \u001b[38;5;21molay_gerceklesti\u001b[39m(event, x, y, flags, param):\n\u001b[1;32m     14\u001b[0m     eskiX \u001b[38;5;241m=\u001b[39m x\n\u001b[0;32m---> 15\u001b[0m     eskiY \u001b[38;5;241m=\u001b[39m \u001b[43mY\u001b[49m\n\u001b[1;32m     17\u001b[0m     yukBas \u001b[38;5;241m=\u001b[39m y\n\u001b[1;32m     18\u001b[0m     genBas \u001b[38;5;241m=\u001b[39m x\n",
      "\u001b[0;31mNameError\u001b[0m: name 'Y' is not defined"
     ]
    },
    {
     "ename": "NameError",
     "evalue": "name 'Y' is not defined",
     "output_type": "error",
     "traceback": [
      "\u001b[0;31m---------------------------------------------------------------------------\u001b[0m",
      "\u001b[0;31mNameError\u001b[0m                                 Traceback (most recent call last)",
      "Cell \u001b[0;32mIn [14], line 15\u001b[0m, in \u001b[0;36molay_gerceklesti\u001b[0;34m(event, x, y, flags, param)\u001b[0m\n\u001b[1;32m     13\u001b[0m \u001b[38;5;28;01mdef\u001b[39;00m \u001b[38;5;21molay_gerceklesti\u001b[39m(event, x, y, flags, param):\n\u001b[1;32m     14\u001b[0m     eskiX \u001b[38;5;241m=\u001b[39m x\n\u001b[0;32m---> 15\u001b[0m     eskiY \u001b[38;5;241m=\u001b[39m \u001b[43mY\u001b[49m\n\u001b[1;32m     17\u001b[0m     yukBas \u001b[38;5;241m=\u001b[39m y\n\u001b[1;32m     18\u001b[0m     genBas \u001b[38;5;241m=\u001b[39m x\n",
      "\u001b[0;31mNameError\u001b[0m: name 'Y' is not defined"
     ]
    },
    {
     "ename": "NameError",
     "evalue": "name 'Y' is not defined",
     "output_type": "error",
     "traceback": [
      "\u001b[0;31m---------------------------------------------------------------------------\u001b[0m",
      "\u001b[0;31mNameError\u001b[0m                                 Traceback (most recent call last)",
      "Cell \u001b[0;32mIn [14], line 15\u001b[0m, in \u001b[0;36molay_gerceklesti\u001b[0;34m(event, x, y, flags, param)\u001b[0m\n\u001b[1;32m     13\u001b[0m \u001b[38;5;28;01mdef\u001b[39;00m \u001b[38;5;21molay_gerceklesti\u001b[39m(event, x, y, flags, param):\n\u001b[1;32m     14\u001b[0m     eskiX \u001b[38;5;241m=\u001b[39m x\n\u001b[0;32m---> 15\u001b[0m     eskiY \u001b[38;5;241m=\u001b[39m \u001b[43mY\u001b[49m\n\u001b[1;32m     17\u001b[0m     yukBas \u001b[38;5;241m=\u001b[39m y\n\u001b[1;32m     18\u001b[0m     genBas \u001b[38;5;241m=\u001b[39m x\n",
      "\u001b[0;31mNameError\u001b[0m: name 'Y' is not defined"
     ]
    },
    {
     "ename": "NameError",
     "evalue": "name 'Y' is not defined",
     "output_type": "error",
     "traceback": [
      "\u001b[0;31m---------------------------------------------------------------------------\u001b[0m",
      "\u001b[0;31mNameError\u001b[0m                                 Traceback (most recent call last)",
      "Cell \u001b[0;32mIn [14], line 15\u001b[0m, in \u001b[0;36molay_gerceklesti\u001b[0;34m(event, x, y, flags, param)\u001b[0m\n\u001b[1;32m     13\u001b[0m \u001b[38;5;28;01mdef\u001b[39;00m \u001b[38;5;21molay_gerceklesti\u001b[39m(event, x, y, flags, param):\n\u001b[1;32m     14\u001b[0m     eskiX \u001b[38;5;241m=\u001b[39m x\n\u001b[0;32m---> 15\u001b[0m     eskiY \u001b[38;5;241m=\u001b[39m \u001b[43mY\u001b[49m\n\u001b[1;32m     17\u001b[0m     yukBas \u001b[38;5;241m=\u001b[39m y\n\u001b[1;32m     18\u001b[0m     genBas \u001b[38;5;241m=\u001b[39m x\n",
      "\u001b[0;31mNameError\u001b[0m: name 'Y' is not defined"
     ]
    },
    {
     "ename": "NameError",
     "evalue": "name 'Y' is not defined",
     "output_type": "error",
     "traceback": [
      "\u001b[0;31m---------------------------------------------------------------------------\u001b[0m",
      "\u001b[0;31mNameError\u001b[0m                                 Traceback (most recent call last)",
      "Cell \u001b[0;32mIn [14], line 15\u001b[0m, in \u001b[0;36molay_gerceklesti\u001b[0;34m(event, x, y, flags, param)\u001b[0m\n\u001b[1;32m     13\u001b[0m \u001b[38;5;28;01mdef\u001b[39;00m \u001b[38;5;21molay_gerceklesti\u001b[39m(event, x, y, flags, param):\n\u001b[1;32m     14\u001b[0m     eskiX \u001b[38;5;241m=\u001b[39m x\n\u001b[0;32m---> 15\u001b[0m     eskiY \u001b[38;5;241m=\u001b[39m \u001b[43mY\u001b[49m\n\u001b[1;32m     17\u001b[0m     yukBas \u001b[38;5;241m=\u001b[39m y\n\u001b[1;32m     18\u001b[0m     genBas \u001b[38;5;241m=\u001b[39m x\n",
      "\u001b[0;31mNameError\u001b[0m: name 'Y' is not defined"
     ]
    },
    {
     "ename": "NameError",
     "evalue": "name 'Y' is not defined",
     "output_type": "error",
     "traceback": [
      "\u001b[0;31m---------------------------------------------------------------------------\u001b[0m",
      "\u001b[0;31mNameError\u001b[0m                                 Traceback (most recent call last)",
      "Cell \u001b[0;32mIn [14], line 15\u001b[0m, in \u001b[0;36molay_gerceklesti\u001b[0;34m(event, x, y, flags, param)\u001b[0m\n\u001b[1;32m     13\u001b[0m \u001b[38;5;28;01mdef\u001b[39;00m \u001b[38;5;21molay_gerceklesti\u001b[39m(event, x, y, flags, param):\n\u001b[1;32m     14\u001b[0m     eskiX \u001b[38;5;241m=\u001b[39m x\n\u001b[0;32m---> 15\u001b[0m     eskiY \u001b[38;5;241m=\u001b[39m \u001b[43mY\u001b[49m\n\u001b[1;32m     17\u001b[0m     yukBas \u001b[38;5;241m=\u001b[39m y\n\u001b[1;32m     18\u001b[0m     genBas \u001b[38;5;241m=\u001b[39m x\n",
      "\u001b[0;31mNameError\u001b[0m: name 'Y' is not defined"
     ]
    },
    {
     "ename": "NameError",
     "evalue": "name 'Y' is not defined",
     "output_type": "error",
     "traceback": [
      "\u001b[0;31m---------------------------------------------------------------------------\u001b[0m",
      "\u001b[0;31mNameError\u001b[0m                                 Traceback (most recent call last)",
      "Cell \u001b[0;32mIn [14], line 15\u001b[0m, in \u001b[0;36molay_gerceklesti\u001b[0;34m(event, x, y, flags, param)\u001b[0m\n\u001b[1;32m     13\u001b[0m \u001b[38;5;28;01mdef\u001b[39;00m \u001b[38;5;21molay_gerceklesti\u001b[39m(event, x, y, flags, param):\n\u001b[1;32m     14\u001b[0m     eskiX \u001b[38;5;241m=\u001b[39m x\n\u001b[0;32m---> 15\u001b[0m     eskiY \u001b[38;5;241m=\u001b[39m \u001b[43mY\u001b[49m\n\u001b[1;32m     17\u001b[0m     yukBas \u001b[38;5;241m=\u001b[39m y\n\u001b[1;32m     18\u001b[0m     genBas \u001b[38;5;241m=\u001b[39m x\n",
      "\u001b[0;31mNameError\u001b[0m: name 'Y' is not defined"
     ]
    },
    {
     "ename": "NameError",
     "evalue": "name 'Y' is not defined",
     "output_type": "error",
     "traceback": [
      "\u001b[0;31m---------------------------------------------------------------------------\u001b[0m",
      "\u001b[0;31mNameError\u001b[0m                                 Traceback (most recent call last)",
      "Cell \u001b[0;32mIn [14], line 15\u001b[0m, in \u001b[0;36molay_gerceklesti\u001b[0;34m(event, x, y, flags, param)\u001b[0m\n\u001b[1;32m     13\u001b[0m \u001b[38;5;28;01mdef\u001b[39;00m \u001b[38;5;21molay_gerceklesti\u001b[39m(event, x, y, flags, param):\n\u001b[1;32m     14\u001b[0m     eskiX \u001b[38;5;241m=\u001b[39m x\n\u001b[0;32m---> 15\u001b[0m     eskiY \u001b[38;5;241m=\u001b[39m \u001b[43mY\u001b[49m\n\u001b[1;32m     17\u001b[0m     yukBas \u001b[38;5;241m=\u001b[39m y\n\u001b[1;32m     18\u001b[0m     genBas \u001b[38;5;241m=\u001b[39m x\n",
      "\u001b[0;31mNameError\u001b[0m: name 'Y' is not defined"
     ]
    },
    {
     "ename": "NameError",
     "evalue": "name 'Y' is not defined",
     "output_type": "error",
     "traceback": [
      "\u001b[0;31m---------------------------------------------------------------------------\u001b[0m",
      "\u001b[0;31mNameError\u001b[0m                                 Traceback (most recent call last)",
      "Cell \u001b[0;32mIn [14], line 15\u001b[0m, in \u001b[0;36molay_gerceklesti\u001b[0;34m(event, x, y, flags, param)\u001b[0m\n\u001b[1;32m     13\u001b[0m \u001b[38;5;28;01mdef\u001b[39;00m \u001b[38;5;21molay_gerceklesti\u001b[39m(event, x, y, flags, param):\n\u001b[1;32m     14\u001b[0m     eskiX \u001b[38;5;241m=\u001b[39m x\n\u001b[0;32m---> 15\u001b[0m     eskiY \u001b[38;5;241m=\u001b[39m \u001b[43mY\u001b[49m\n\u001b[1;32m     17\u001b[0m     yukBas \u001b[38;5;241m=\u001b[39m y\n\u001b[1;32m     18\u001b[0m     genBas \u001b[38;5;241m=\u001b[39m x\n",
      "\u001b[0;31mNameError\u001b[0m: name 'Y' is not defined"
     ]
    },
    {
     "ename": "NameError",
     "evalue": "name 'Y' is not defined",
     "output_type": "error",
     "traceback": [
      "\u001b[0;31m---------------------------------------------------------------------------\u001b[0m",
      "\u001b[0;31mNameError\u001b[0m                                 Traceback (most recent call last)",
      "Cell \u001b[0;32mIn [14], line 15\u001b[0m, in \u001b[0;36molay_gerceklesti\u001b[0;34m(event, x, y, flags, param)\u001b[0m\n\u001b[1;32m     13\u001b[0m \u001b[38;5;28;01mdef\u001b[39;00m \u001b[38;5;21molay_gerceklesti\u001b[39m(event, x, y, flags, param):\n\u001b[1;32m     14\u001b[0m     eskiX \u001b[38;5;241m=\u001b[39m x\n\u001b[0;32m---> 15\u001b[0m     eskiY \u001b[38;5;241m=\u001b[39m \u001b[43mY\u001b[49m\n\u001b[1;32m     17\u001b[0m     yukBas \u001b[38;5;241m=\u001b[39m y\n\u001b[1;32m     18\u001b[0m     genBas \u001b[38;5;241m=\u001b[39m x\n",
      "\u001b[0;31mNameError\u001b[0m: name 'Y' is not defined"
     ]
    },
    {
     "ename": "NameError",
     "evalue": "name 'Y' is not defined",
     "output_type": "error",
     "traceback": [
      "\u001b[0;31m---------------------------------------------------------------------------\u001b[0m",
      "\u001b[0;31mNameError\u001b[0m                                 Traceback (most recent call last)",
      "Cell \u001b[0;32mIn [14], line 15\u001b[0m, in \u001b[0;36molay_gerceklesti\u001b[0;34m(event, x, y, flags, param)\u001b[0m\n\u001b[1;32m     13\u001b[0m \u001b[38;5;28;01mdef\u001b[39;00m \u001b[38;5;21molay_gerceklesti\u001b[39m(event, x, y, flags, param):\n\u001b[1;32m     14\u001b[0m     eskiX \u001b[38;5;241m=\u001b[39m x\n\u001b[0;32m---> 15\u001b[0m     eskiY \u001b[38;5;241m=\u001b[39m \u001b[43mY\u001b[49m\n\u001b[1;32m     17\u001b[0m     yukBas \u001b[38;5;241m=\u001b[39m y\n\u001b[1;32m     18\u001b[0m     genBas \u001b[38;5;241m=\u001b[39m x\n",
      "\u001b[0;31mNameError\u001b[0m: name 'Y' is not defined"
     ]
    },
    {
     "ename": "NameError",
     "evalue": "name 'Y' is not defined",
     "output_type": "error",
     "traceback": [
      "\u001b[0;31m---------------------------------------------------------------------------\u001b[0m",
      "\u001b[0;31mNameError\u001b[0m                                 Traceback (most recent call last)",
      "Cell \u001b[0;32mIn [14], line 15\u001b[0m, in \u001b[0;36molay_gerceklesti\u001b[0;34m(event, x, y, flags, param)\u001b[0m\n\u001b[1;32m     13\u001b[0m \u001b[38;5;28;01mdef\u001b[39;00m \u001b[38;5;21molay_gerceklesti\u001b[39m(event, x, y, flags, param):\n\u001b[1;32m     14\u001b[0m     eskiX \u001b[38;5;241m=\u001b[39m x\n\u001b[0;32m---> 15\u001b[0m     eskiY \u001b[38;5;241m=\u001b[39m \u001b[43mY\u001b[49m\n\u001b[1;32m     17\u001b[0m     yukBas \u001b[38;5;241m=\u001b[39m y\n\u001b[1;32m     18\u001b[0m     genBas \u001b[38;5;241m=\u001b[39m x\n",
      "\u001b[0;31mNameError\u001b[0m: name 'Y' is not defined"
     ]
    },
    {
     "ename": "NameError",
     "evalue": "name 'Y' is not defined",
     "output_type": "error",
     "traceback": [
      "\u001b[0;31m---------------------------------------------------------------------------\u001b[0m",
      "\u001b[0;31mNameError\u001b[0m                                 Traceback (most recent call last)",
      "Cell \u001b[0;32mIn [14], line 15\u001b[0m, in \u001b[0;36molay_gerceklesti\u001b[0;34m(event, x, y, flags, param)\u001b[0m\n\u001b[1;32m     13\u001b[0m \u001b[38;5;28;01mdef\u001b[39;00m \u001b[38;5;21molay_gerceklesti\u001b[39m(event, x, y, flags, param):\n\u001b[1;32m     14\u001b[0m     eskiX \u001b[38;5;241m=\u001b[39m x\n\u001b[0;32m---> 15\u001b[0m     eskiY \u001b[38;5;241m=\u001b[39m \u001b[43mY\u001b[49m\n\u001b[1;32m     17\u001b[0m     yukBas \u001b[38;5;241m=\u001b[39m y\n\u001b[1;32m     18\u001b[0m     genBas \u001b[38;5;241m=\u001b[39m x\n",
      "\u001b[0;31mNameError\u001b[0m: name 'Y' is not defined"
     ]
    },
    {
     "ename": "NameError",
     "evalue": "name 'Y' is not defined",
     "output_type": "error",
     "traceback": [
      "\u001b[0;31m---------------------------------------------------------------------------\u001b[0m",
      "\u001b[0;31mNameError\u001b[0m                                 Traceback (most recent call last)",
      "Cell \u001b[0;32mIn [14], line 15\u001b[0m, in \u001b[0;36molay_gerceklesti\u001b[0;34m(event, x, y, flags, param)\u001b[0m\n\u001b[1;32m     13\u001b[0m \u001b[38;5;28;01mdef\u001b[39;00m \u001b[38;5;21molay_gerceklesti\u001b[39m(event, x, y, flags, param):\n\u001b[1;32m     14\u001b[0m     eskiX \u001b[38;5;241m=\u001b[39m x\n\u001b[0;32m---> 15\u001b[0m     eskiY \u001b[38;5;241m=\u001b[39m \u001b[43mY\u001b[49m\n\u001b[1;32m     17\u001b[0m     yukBas \u001b[38;5;241m=\u001b[39m y\n\u001b[1;32m     18\u001b[0m     genBas \u001b[38;5;241m=\u001b[39m x\n",
      "\u001b[0;31mNameError\u001b[0m: name 'Y' is not defined"
     ]
    },
    {
     "ename": "NameError",
     "evalue": "name 'Y' is not defined",
     "output_type": "error",
     "traceback": [
      "\u001b[0;31m---------------------------------------------------------------------------\u001b[0m",
      "\u001b[0;31mNameError\u001b[0m                                 Traceback (most recent call last)",
      "Cell \u001b[0;32mIn [14], line 15\u001b[0m, in \u001b[0;36molay_gerceklesti\u001b[0;34m(event, x, y, flags, param)\u001b[0m\n\u001b[1;32m     13\u001b[0m \u001b[38;5;28;01mdef\u001b[39;00m \u001b[38;5;21molay_gerceklesti\u001b[39m(event, x, y, flags, param):\n\u001b[1;32m     14\u001b[0m     eskiX \u001b[38;5;241m=\u001b[39m x\n\u001b[0;32m---> 15\u001b[0m     eskiY \u001b[38;5;241m=\u001b[39m \u001b[43mY\u001b[49m\n\u001b[1;32m     17\u001b[0m     yukBas \u001b[38;5;241m=\u001b[39m y\n\u001b[1;32m     18\u001b[0m     genBas \u001b[38;5;241m=\u001b[39m x\n",
      "\u001b[0;31mNameError\u001b[0m: name 'Y' is not defined"
     ]
    },
    {
     "ename": "NameError",
     "evalue": "name 'Y' is not defined",
     "output_type": "error",
     "traceback": [
      "\u001b[0;31m---------------------------------------------------------------------------\u001b[0m",
      "\u001b[0;31mNameError\u001b[0m                                 Traceback (most recent call last)",
      "Cell \u001b[0;32mIn [14], line 15\u001b[0m, in \u001b[0;36molay_gerceklesti\u001b[0;34m(event, x, y, flags, param)\u001b[0m\n\u001b[1;32m     13\u001b[0m \u001b[38;5;28;01mdef\u001b[39;00m \u001b[38;5;21molay_gerceklesti\u001b[39m(event, x, y, flags, param):\n\u001b[1;32m     14\u001b[0m     eskiX \u001b[38;5;241m=\u001b[39m x\n\u001b[0;32m---> 15\u001b[0m     eskiY \u001b[38;5;241m=\u001b[39m \u001b[43mY\u001b[49m\n\u001b[1;32m     17\u001b[0m     yukBas \u001b[38;5;241m=\u001b[39m y\n\u001b[1;32m     18\u001b[0m     genBas \u001b[38;5;241m=\u001b[39m x\n",
      "\u001b[0;31mNameError\u001b[0m: name 'Y' is not defined"
     ]
    },
    {
     "ename": "NameError",
     "evalue": "name 'Y' is not defined",
     "output_type": "error",
     "traceback": [
      "\u001b[0;31m---------------------------------------------------------------------------\u001b[0m",
      "\u001b[0;31mNameError\u001b[0m                                 Traceback (most recent call last)",
      "Cell \u001b[0;32mIn [14], line 15\u001b[0m, in \u001b[0;36molay_gerceklesti\u001b[0;34m(event, x, y, flags, param)\u001b[0m\n\u001b[1;32m     13\u001b[0m \u001b[38;5;28;01mdef\u001b[39;00m \u001b[38;5;21molay_gerceklesti\u001b[39m(event, x, y, flags, param):\n\u001b[1;32m     14\u001b[0m     eskiX \u001b[38;5;241m=\u001b[39m x\n\u001b[0;32m---> 15\u001b[0m     eskiY \u001b[38;5;241m=\u001b[39m \u001b[43mY\u001b[49m\n\u001b[1;32m     17\u001b[0m     yukBas \u001b[38;5;241m=\u001b[39m y\n\u001b[1;32m     18\u001b[0m     genBas \u001b[38;5;241m=\u001b[39m x\n",
      "\u001b[0;31mNameError\u001b[0m: name 'Y' is not defined"
     ]
    },
    {
     "ename": "NameError",
     "evalue": "name 'Y' is not defined",
     "output_type": "error",
     "traceback": [
      "\u001b[0;31m---------------------------------------------------------------------------\u001b[0m",
      "\u001b[0;31mNameError\u001b[0m                                 Traceback (most recent call last)",
      "Cell \u001b[0;32mIn [14], line 15\u001b[0m, in \u001b[0;36molay_gerceklesti\u001b[0;34m(event, x, y, flags, param)\u001b[0m\n\u001b[1;32m     13\u001b[0m \u001b[38;5;28;01mdef\u001b[39;00m \u001b[38;5;21molay_gerceklesti\u001b[39m(event, x, y, flags, param):\n\u001b[1;32m     14\u001b[0m     eskiX \u001b[38;5;241m=\u001b[39m x\n\u001b[0;32m---> 15\u001b[0m     eskiY \u001b[38;5;241m=\u001b[39m \u001b[43mY\u001b[49m\n\u001b[1;32m     17\u001b[0m     yukBas \u001b[38;5;241m=\u001b[39m y\n\u001b[1;32m     18\u001b[0m     genBas \u001b[38;5;241m=\u001b[39m x\n",
      "\u001b[0;31mNameError\u001b[0m: name 'Y' is not defined"
     ]
    },
    {
     "ename": "NameError",
     "evalue": "name 'Y' is not defined",
     "output_type": "error",
     "traceback": [
      "\u001b[0;31m---------------------------------------------------------------------------\u001b[0m",
      "\u001b[0;31mNameError\u001b[0m                                 Traceback (most recent call last)",
      "Cell \u001b[0;32mIn [14], line 15\u001b[0m, in \u001b[0;36molay_gerceklesti\u001b[0;34m(event, x, y, flags, param)\u001b[0m\n\u001b[1;32m     13\u001b[0m \u001b[38;5;28;01mdef\u001b[39;00m \u001b[38;5;21molay_gerceklesti\u001b[39m(event, x, y, flags, param):\n\u001b[1;32m     14\u001b[0m     eskiX \u001b[38;5;241m=\u001b[39m x\n\u001b[0;32m---> 15\u001b[0m     eskiY \u001b[38;5;241m=\u001b[39m \u001b[43mY\u001b[49m\n\u001b[1;32m     17\u001b[0m     yukBas \u001b[38;5;241m=\u001b[39m y\n\u001b[1;32m     18\u001b[0m     genBas \u001b[38;5;241m=\u001b[39m x\n",
      "\u001b[0;31mNameError\u001b[0m: name 'Y' is not defined"
     ]
    },
    {
     "ename": "NameError",
     "evalue": "name 'Y' is not defined",
     "output_type": "error",
     "traceback": [
      "\u001b[0;31m---------------------------------------------------------------------------\u001b[0m",
      "\u001b[0;31mNameError\u001b[0m                                 Traceback (most recent call last)",
      "Cell \u001b[0;32mIn [14], line 15\u001b[0m, in \u001b[0;36molay_gerceklesti\u001b[0;34m(event, x, y, flags, param)\u001b[0m\n\u001b[1;32m     13\u001b[0m \u001b[38;5;28;01mdef\u001b[39;00m \u001b[38;5;21molay_gerceklesti\u001b[39m(event, x, y, flags, param):\n\u001b[1;32m     14\u001b[0m     eskiX \u001b[38;5;241m=\u001b[39m x\n\u001b[0;32m---> 15\u001b[0m     eskiY \u001b[38;5;241m=\u001b[39m \u001b[43mY\u001b[49m\n\u001b[1;32m     17\u001b[0m     yukBas \u001b[38;5;241m=\u001b[39m y\n\u001b[1;32m     18\u001b[0m     genBas \u001b[38;5;241m=\u001b[39m x\n",
      "\u001b[0;31mNameError\u001b[0m: name 'Y' is not defined"
     ]
    },
    {
     "ename": "NameError",
     "evalue": "name 'Y' is not defined",
     "output_type": "error",
     "traceback": [
      "\u001b[0;31m---------------------------------------------------------------------------\u001b[0m",
      "\u001b[0;31mNameError\u001b[0m                                 Traceback (most recent call last)",
      "Cell \u001b[0;32mIn [14], line 15\u001b[0m, in \u001b[0;36molay_gerceklesti\u001b[0;34m(event, x, y, flags, param)\u001b[0m\n\u001b[1;32m     13\u001b[0m \u001b[38;5;28;01mdef\u001b[39;00m \u001b[38;5;21molay_gerceklesti\u001b[39m(event, x, y, flags, param):\n\u001b[1;32m     14\u001b[0m     eskiX \u001b[38;5;241m=\u001b[39m x\n\u001b[0;32m---> 15\u001b[0m     eskiY \u001b[38;5;241m=\u001b[39m \u001b[43mY\u001b[49m\n\u001b[1;32m     17\u001b[0m     yukBas \u001b[38;5;241m=\u001b[39m y\n\u001b[1;32m     18\u001b[0m     genBas \u001b[38;5;241m=\u001b[39m x\n",
      "\u001b[0;31mNameError\u001b[0m: name 'Y' is not defined"
     ]
    },
    {
     "ename": "NameError",
     "evalue": "name 'Y' is not defined",
     "output_type": "error",
     "traceback": [
      "\u001b[0;31m---------------------------------------------------------------------------\u001b[0m",
      "\u001b[0;31mNameError\u001b[0m                                 Traceback (most recent call last)",
      "Cell \u001b[0;32mIn [14], line 15\u001b[0m, in \u001b[0;36molay_gerceklesti\u001b[0;34m(event, x, y, flags, param)\u001b[0m\n\u001b[1;32m     13\u001b[0m \u001b[38;5;28;01mdef\u001b[39;00m \u001b[38;5;21molay_gerceklesti\u001b[39m(event, x, y, flags, param):\n\u001b[1;32m     14\u001b[0m     eskiX \u001b[38;5;241m=\u001b[39m x\n\u001b[0;32m---> 15\u001b[0m     eskiY \u001b[38;5;241m=\u001b[39m \u001b[43mY\u001b[49m\n\u001b[1;32m     17\u001b[0m     yukBas \u001b[38;5;241m=\u001b[39m y\n\u001b[1;32m     18\u001b[0m     genBas \u001b[38;5;241m=\u001b[39m x\n",
      "\u001b[0;31mNameError\u001b[0m: name 'Y' is not defined"
     ]
    },
    {
     "ename": "NameError",
     "evalue": "name 'Y' is not defined",
     "output_type": "error",
     "traceback": [
      "\u001b[0;31m---------------------------------------------------------------------------\u001b[0m",
      "\u001b[0;31mNameError\u001b[0m                                 Traceback (most recent call last)",
      "Cell \u001b[0;32mIn [14], line 15\u001b[0m, in \u001b[0;36molay_gerceklesti\u001b[0;34m(event, x, y, flags, param)\u001b[0m\n\u001b[1;32m     13\u001b[0m \u001b[38;5;28;01mdef\u001b[39;00m \u001b[38;5;21molay_gerceklesti\u001b[39m(event, x, y, flags, param):\n\u001b[1;32m     14\u001b[0m     eskiX \u001b[38;5;241m=\u001b[39m x\n\u001b[0;32m---> 15\u001b[0m     eskiY \u001b[38;5;241m=\u001b[39m \u001b[43mY\u001b[49m\n\u001b[1;32m     17\u001b[0m     yukBas \u001b[38;5;241m=\u001b[39m y\n\u001b[1;32m     18\u001b[0m     genBas \u001b[38;5;241m=\u001b[39m x\n",
      "\u001b[0;31mNameError\u001b[0m: name 'Y' is not defined"
     ]
    },
    {
     "ename": "NameError",
     "evalue": "name 'Y' is not defined",
     "output_type": "error",
     "traceback": [
      "\u001b[0;31m---------------------------------------------------------------------------\u001b[0m",
      "\u001b[0;31mNameError\u001b[0m                                 Traceback (most recent call last)",
      "Cell \u001b[0;32mIn [14], line 15\u001b[0m, in \u001b[0;36molay_gerceklesti\u001b[0;34m(event, x, y, flags, param)\u001b[0m\n\u001b[1;32m     13\u001b[0m \u001b[38;5;28;01mdef\u001b[39;00m \u001b[38;5;21molay_gerceklesti\u001b[39m(event, x, y, flags, param):\n\u001b[1;32m     14\u001b[0m     eskiX \u001b[38;5;241m=\u001b[39m x\n\u001b[0;32m---> 15\u001b[0m     eskiY \u001b[38;5;241m=\u001b[39m \u001b[43mY\u001b[49m\n\u001b[1;32m     17\u001b[0m     yukBas \u001b[38;5;241m=\u001b[39m y\n\u001b[1;32m     18\u001b[0m     genBas \u001b[38;5;241m=\u001b[39m x\n",
      "\u001b[0;31mNameError\u001b[0m: name 'Y' is not defined"
     ]
    },
    {
     "ename": "NameError",
     "evalue": "name 'Y' is not defined",
     "output_type": "error",
     "traceback": [
      "\u001b[0;31m---------------------------------------------------------------------------\u001b[0m",
      "\u001b[0;31mNameError\u001b[0m                                 Traceback (most recent call last)",
      "Cell \u001b[0;32mIn [14], line 15\u001b[0m, in \u001b[0;36molay_gerceklesti\u001b[0;34m(event, x, y, flags, param)\u001b[0m\n\u001b[1;32m     13\u001b[0m \u001b[38;5;28;01mdef\u001b[39;00m \u001b[38;5;21molay_gerceklesti\u001b[39m(event, x, y, flags, param):\n\u001b[1;32m     14\u001b[0m     eskiX \u001b[38;5;241m=\u001b[39m x\n\u001b[0;32m---> 15\u001b[0m     eskiY \u001b[38;5;241m=\u001b[39m \u001b[43mY\u001b[49m\n\u001b[1;32m     17\u001b[0m     yukBas \u001b[38;5;241m=\u001b[39m y\n\u001b[1;32m     18\u001b[0m     genBas \u001b[38;5;241m=\u001b[39m x\n",
      "\u001b[0;31mNameError\u001b[0m: name 'Y' is not defined"
     ]
    },
    {
     "ename": "NameError",
     "evalue": "name 'Y' is not defined",
     "output_type": "error",
     "traceback": [
      "\u001b[0;31m---------------------------------------------------------------------------\u001b[0m",
      "\u001b[0;31mNameError\u001b[0m                                 Traceback (most recent call last)",
      "Cell \u001b[0;32mIn [14], line 15\u001b[0m, in \u001b[0;36molay_gerceklesti\u001b[0;34m(event, x, y, flags, param)\u001b[0m\n\u001b[1;32m     13\u001b[0m \u001b[38;5;28;01mdef\u001b[39;00m \u001b[38;5;21molay_gerceklesti\u001b[39m(event, x, y, flags, param):\n\u001b[1;32m     14\u001b[0m     eskiX \u001b[38;5;241m=\u001b[39m x\n\u001b[0;32m---> 15\u001b[0m     eskiY \u001b[38;5;241m=\u001b[39m \u001b[43mY\u001b[49m\n\u001b[1;32m     17\u001b[0m     yukBas \u001b[38;5;241m=\u001b[39m y\n\u001b[1;32m     18\u001b[0m     genBas \u001b[38;5;241m=\u001b[39m x\n",
      "\u001b[0;31mNameError\u001b[0m: name 'Y' is not defined"
     ]
    },
    {
     "ename": "NameError",
     "evalue": "name 'Y' is not defined",
     "output_type": "error",
     "traceback": [
      "\u001b[0;31m---------------------------------------------------------------------------\u001b[0m",
      "\u001b[0;31mNameError\u001b[0m                                 Traceback (most recent call last)",
      "Cell \u001b[0;32mIn [14], line 15\u001b[0m, in \u001b[0;36molay_gerceklesti\u001b[0;34m(event, x, y, flags, param)\u001b[0m\n\u001b[1;32m     13\u001b[0m \u001b[38;5;28;01mdef\u001b[39;00m \u001b[38;5;21molay_gerceklesti\u001b[39m(event, x, y, flags, param):\n\u001b[1;32m     14\u001b[0m     eskiX \u001b[38;5;241m=\u001b[39m x\n\u001b[0;32m---> 15\u001b[0m     eskiY \u001b[38;5;241m=\u001b[39m \u001b[43mY\u001b[49m\n\u001b[1;32m     17\u001b[0m     yukBas \u001b[38;5;241m=\u001b[39m y\n\u001b[1;32m     18\u001b[0m     genBas \u001b[38;5;241m=\u001b[39m x\n",
      "\u001b[0;31mNameError\u001b[0m: name 'Y' is not defined"
     ]
    },
    {
     "ename": "NameError",
     "evalue": "name 'Y' is not defined",
     "output_type": "error",
     "traceback": [
      "\u001b[0;31m---------------------------------------------------------------------------\u001b[0m",
      "\u001b[0;31mNameError\u001b[0m                                 Traceback (most recent call last)",
      "Cell \u001b[0;32mIn [14], line 15\u001b[0m, in \u001b[0;36molay_gerceklesti\u001b[0;34m(event, x, y, flags, param)\u001b[0m\n\u001b[1;32m     13\u001b[0m \u001b[38;5;28;01mdef\u001b[39;00m \u001b[38;5;21molay_gerceklesti\u001b[39m(event, x, y, flags, param):\n\u001b[1;32m     14\u001b[0m     eskiX \u001b[38;5;241m=\u001b[39m x\n\u001b[0;32m---> 15\u001b[0m     eskiY \u001b[38;5;241m=\u001b[39m \u001b[43mY\u001b[49m\n\u001b[1;32m     17\u001b[0m     yukBas \u001b[38;5;241m=\u001b[39m y\n\u001b[1;32m     18\u001b[0m     genBas \u001b[38;5;241m=\u001b[39m x\n",
      "\u001b[0;31mNameError\u001b[0m: name 'Y' is not defined"
     ]
    },
    {
     "ename": "NameError",
     "evalue": "name 'Y' is not defined",
     "output_type": "error",
     "traceback": [
      "\u001b[0;31m---------------------------------------------------------------------------\u001b[0m",
      "\u001b[0;31mNameError\u001b[0m                                 Traceback (most recent call last)",
      "Cell \u001b[0;32mIn [14], line 15\u001b[0m, in \u001b[0;36molay_gerceklesti\u001b[0;34m(event, x, y, flags, param)\u001b[0m\n\u001b[1;32m     13\u001b[0m \u001b[38;5;28;01mdef\u001b[39;00m \u001b[38;5;21molay_gerceklesti\u001b[39m(event, x, y, flags, param):\n\u001b[1;32m     14\u001b[0m     eskiX \u001b[38;5;241m=\u001b[39m x\n\u001b[0;32m---> 15\u001b[0m     eskiY \u001b[38;5;241m=\u001b[39m \u001b[43mY\u001b[49m\n\u001b[1;32m     17\u001b[0m     yukBas \u001b[38;5;241m=\u001b[39m y\n\u001b[1;32m     18\u001b[0m     genBas \u001b[38;5;241m=\u001b[39m x\n",
      "\u001b[0;31mNameError\u001b[0m: name 'Y' is not defined"
     ]
    },
    {
     "ename": "NameError",
     "evalue": "name 'Y' is not defined",
     "output_type": "error",
     "traceback": [
      "\u001b[0;31m---------------------------------------------------------------------------\u001b[0m",
      "\u001b[0;31mNameError\u001b[0m                                 Traceback (most recent call last)",
      "Cell \u001b[0;32mIn [14], line 15\u001b[0m, in \u001b[0;36molay_gerceklesti\u001b[0;34m(event, x, y, flags, param)\u001b[0m\n\u001b[1;32m     13\u001b[0m \u001b[38;5;28;01mdef\u001b[39;00m \u001b[38;5;21molay_gerceklesti\u001b[39m(event, x, y, flags, param):\n\u001b[1;32m     14\u001b[0m     eskiX \u001b[38;5;241m=\u001b[39m x\n\u001b[0;32m---> 15\u001b[0m     eskiY \u001b[38;5;241m=\u001b[39m \u001b[43mY\u001b[49m\n\u001b[1;32m     17\u001b[0m     yukBas \u001b[38;5;241m=\u001b[39m y\n\u001b[1;32m     18\u001b[0m     genBas \u001b[38;5;241m=\u001b[39m x\n",
      "\u001b[0;31mNameError\u001b[0m: name 'Y' is not defined"
     ]
    },
    {
     "ename": "NameError",
     "evalue": "name 'Y' is not defined",
     "output_type": "error",
     "traceback": [
      "\u001b[0;31m---------------------------------------------------------------------------\u001b[0m",
      "\u001b[0;31mNameError\u001b[0m                                 Traceback (most recent call last)",
      "Cell \u001b[0;32mIn [14], line 15\u001b[0m, in \u001b[0;36molay_gerceklesti\u001b[0;34m(event, x, y, flags, param)\u001b[0m\n\u001b[1;32m     13\u001b[0m \u001b[38;5;28;01mdef\u001b[39;00m \u001b[38;5;21molay_gerceklesti\u001b[39m(event, x, y, flags, param):\n\u001b[1;32m     14\u001b[0m     eskiX \u001b[38;5;241m=\u001b[39m x\n\u001b[0;32m---> 15\u001b[0m     eskiY \u001b[38;5;241m=\u001b[39m \u001b[43mY\u001b[49m\n\u001b[1;32m     17\u001b[0m     yukBas \u001b[38;5;241m=\u001b[39m y\n\u001b[1;32m     18\u001b[0m     genBas \u001b[38;5;241m=\u001b[39m x\n",
      "\u001b[0;31mNameError\u001b[0m: name 'Y' is not defined"
     ]
    },
    {
     "ename": "NameError",
     "evalue": "name 'Y' is not defined",
     "output_type": "error",
     "traceback": [
      "\u001b[0;31m---------------------------------------------------------------------------\u001b[0m",
      "\u001b[0;31mNameError\u001b[0m                                 Traceback (most recent call last)",
      "Cell \u001b[0;32mIn [14], line 15\u001b[0m, in \u001b[0;36molay_gerceklesti\u001b[0;34m(event, x, y, flags, param)\u001b[0m\n\u001b[1;32m     13\u001b[0m \u001b[38;5;28;01mdef\u001b[39;00m \u001b[38;5;21molay_gerceklesti\u001b[39m(event, x, y, flags, param):\n\u001b[1;32m     14\u001b[0m     eskiX \u001b[38;5;241m=\u001b[39m x\n\u001b[0;32m---> 15\u001b[0m     eskiY \u001b[38;5;241m=\u001b[39m \u001b[43mY\u001b[49m\n\u001b[1;32m     17\u001b[0m     yukBas \u001b[38;5;241m=\u001b[39m y\n\u001b[1;32m     18\u001b[0m     genBas \u001b[38;5;241m=\u001b[39m x\n",
      "\u001b[0;31mNameError\u001b[0m: name 'Y' is not defined"
     ]
    },
    {
     "ename": "NameError",
     "evalue": "name 'Y' is not defined",
     "output_type": "error",
     "traceback": [
      "\u001b[0;31m---------------------------------------------------------------------------\u001b[0m",
      "\u001b[0;31mNameError\u001b[0m                                 Traceback (most recent call last)",
      "Cell \u001b[0;32mIn [14], line 15\u001b[0m, in \u001b[0;36molay_gerceklesti\u001b[0;34m(event, x, y, flags, param)\u001b[0m\n\u001b[1;32m     13\u001b[0m \u001b[38;5;28;01mdef\u001b[39;00m \u001b[38;5;21molay_gerceklesti\u001b[39m(event, x, y, flags, param):\n\u001b[1;32m     14\u001b[0m     eskiX \u001b[38;5;241m=\u001b[39m x\n\u001b[0;32m---> 15\u001b[0m     eskiY \u001b[38;5;241m=\u001b[39m \u001b[43mY\u001b[49m\n\u001b[1;32m     17\u001b[0m     yukBas \u001b[38;5;241m=\u001b[39m y\n\u001b[1;32m     18\u001b[0m     genBas \u001b[38;5;241m=\u001b[39m x\n",
      "\u001b[0;31mNameError\u001b[0m: name 'Y' is not defined"
     ]
    },
    {
     "ename": "NameError",
     "evalue": "name 'Y' is not defined",
     "output_type": "error",
     "traceback": [
      "\u001b[0;31m---------------------------------------------------------------------------\u001b[0m",
      "\u001b[0;31mNameError\u001b[0m                                 Traceback (most recent call last)",
      "Cell \u001b[0;32mIn [14], line 15\u001b[0m, in \u001b[0;36molay_gerceklesti\u001b[0;34m(event, x, y, flags, param)\u001b[0m\n\u001b[1;32m     13\u001b[0m \u001b[38;5;28;01mdef\u001b[39;00m \u001b[38;5;21molay_gerceklesti\u001b[39m(event, x, y, flags, param):\n\u001b[1;32m     14\u001b[0m     eskiX \u001b[38;5;241m=\u001b[39m x\n\u001b[0;32m---> 15\u001b[0m     eskiY \u001b[38;5;241m=\u001b[39m \u001b[43mY\u001b[49m\n\u001b[1;32m     17\u001b[0m     yukBas \u001b[38;5;241m=\u001b[39m y\n\u001b[1;32m     18\u001b[0m     genBas \u001b[38;5;241m=\u001b[39m x\n",
      "\u001b[0;31mNameError\u001b[0m: name 'Y' is not defined"
     ]
    },
    {
     "ename": "NameError",
     "evalue": "name 'Y' is not defined",
     "output_type": "error",
     "traceback": [
      "\u001b[0;31m---------------------------------------------------------------------------\u001b[0m",
      "\u001b[0;31mNameError\u001b[0m                                 Traceback (most recent call last)",
      "Cell \u001b[0;32mIn [14], line 15\u001b[0m, in \u001b[0;36molay_gerceklesti\u001b[0;34m(event, x, y, flags, param)\u001b[0m\n\u001b[1;32m     13\u001b[0m \u001b[38;5;28;01mdef\u001b[39;00m \u001b[38;5;21molay_gerceklesti\u001b[39m(event, x, y, flags, param):\n\u001b[1;32m     14\u001b[0m     eskiX \u001b[38;5;241m=\u001b[39m x\n\u001b[0;32m---> 15\u001b[0m     eskiY \u001b[38;5;241m=\u001b[39m \u001b[43mY\u001b[49m\n\u001b[1;32m     17\u001b[0m     yukBas \u001b[38;5;241m=\u001b[39m y\n\u001b[1;32m     18\u001b[0m     genBas \u001b[38;5;241m=\u001b[39m x\n",
      "\u001b[0;31mNameError\u001b[0m: name 'Y' is not defined"
     ]
    },
    {
     "ename": "NameError",
     "evalue": "name 'Y' is not defined",
     "output_type": "error",
     "traceback": [
      "\u001b[0;31m---------------------------------------------------------------------------\u001b[0m",
      "\u001b[0;31mNameError\u001b[0m                                 Traceback (most recent call last)",
      "Cell \u001b[0;32mIn [14], line 15\u001b[0m, in \u001b[0;36molay_gerceklesti\u001b[0;34m(event, x, y, flags, param)\u001b[0m\n\u001b[1;32m     13\u001b[0m \u001b[38;5;28;01mdef\u001b[39;00m \u001b[38;5;21molay_gerceklesti\u001b[39m(event, x, y, flags, param):\n\u001b[1;32m     14\u001b[0m     eskiX \u001b[38;5;241m=\u001b[39m x\n\u001b[0;32m---> 15\u001b[0m     eskiY \u001b[38;5;241m=\u001b[39m \u001b[43mY\u001b[49m\n\u001b[1;32m     17\u001b[0m     yukBas \u001b[38;5;241m=\u001b[39m y\n\u001b[1;32m     18\u001b[0m     genBas \u001b[38;5;241m=\u001b[39m x\n",
      "\u001b[0;31mNameError\u001b[0m: name 'Y' is not defined"
     ]
    },
    {
     "ename": "NameError",
     "evalue": "name 'Y' is not defined",
     "output_type": "error",
     "traceback": [
      "\u001b[0;31m---------------------------------------------------------------------------\u001b[0m",
      "\u001b[0;31mNameError\u001b[0m                                 Traceback (most recent call last)",
      "Cell \u001b[0;32mIn [14], line 15\u001b[0m, in \u001b[0;36molay_gerceklesti\u001b[0;34m(event, x, y, flags, param)\u001b[0m\n\u001b[1;32m     13\u001b[0m \u001b[38;5;28;01mdef\u001b[39;00m \u001b[38;5;21molay_gerceklesti\u001b[39m(event, x, y, flags, param):\n\u001b[1;32m     14\u001b[0m     eskiX \u001b[38;5;241m=\u001b[39m x\n\u001b[0;32m---> 15\u001b[0m     eskiY \u001b[38;5;241m=\u001b[39m \u001b[43mY\u001b[49m\n\u001b[1;32m     17\u001b[0m     yukBas \u001b[38;5;241m=\u001b[39m y\n\u001b[1;32m     18\u001b[0m     genBas \u001b[38;5;241m=\u001b[39m x\n",
      "\u001b[0;31mNameError\u001b[0m: name 'Y' is not defined"
     ]
    },
    {
     "ename": "NameError",
     "evalue": "name 'Y' is not defined",
     "output_type": "error",
     "traceback": [
      "\u001b[0;31m---------------------------------------------------------------------------\u001b[0m",
      "\u001b[0;31mNameError\u001b[0m                                 Traceback (most recent call last)",
      "Cell \u001b[0;32mIn [14], line 15\u001b[0m, in \u001b[0;36molay_gerceklesti\u001b[0;34m(event, x, y, flags, param)\u001b[0m\n\u001b[1;32m     13\u001b[0m \u001b[38;5;28;01mdef\u001b[39;00m \u001b[38;5;21molay_gerceklesti\u001b[39m(event, x, y, flags, param):\n\u001b[1;32m     14\u001b[0m     eskiX \u001b[38;5;241m=\u001b[39m x\n\u001b[0;32m---> 15\u001b[0m     eskiY \u001b[38;5;241m=\u001b[39m \u001b[43mY\u001b[49m\n\u001b[1;32m     17\u001b[0m     yukBas \u001b[38;5;241m=\u001b[39m y\n\u001b[1;32m     18\u001b[0m     genBas \u001b[38;5;241m=\u001b[39m x\n",
      "\u001b[0;31mNameError\u001b[0m: name 'Y' is not defined"
     ]
    },
    {
     "ename": "NameError",
     "evalue": "name 'Y' is not defined",
     "output_type": "error",
     "traceback": [
      "\u001b[0;31m---------------------------------------------------------------------------\u001b[0m",
      "\u001b[0;31mNameError\u001b[0m                                 Traceback (most recent call last)",
      "Cell \u001b[0;32mIn [14], line 15\u001b[0m, in \u001b[0;36molay_gerceklesti\u001b[0;34m(event, x, y, flags, param)\u001b[0m\n\u001b[1;32m     13\u001b[0m \u001b[38;5;28;01mdef\u001b[39;00m \u001b[38;5;21molay_gerceklesti\u001b[39m(event, x, y, flags, param):\n\u001b[1;32m     14\u001b[0m     eskiX \u001b[38;5;241m=\u001b[39m x\n\u001b[0;32m---> 15\u001b[0m     eskiY \u001b[38;5;241m=\u001b[39m \u001b[43mY\u001b[49m\n\u001b[1;32m     17\u001b[0m     yukBas \u001b[38;5;241m=\u001b[39m y\n\u001b[1;32m     18\u001b[0m     genBas \u001b[38;5;241m=\u001b[39m x\n",
      "\u001b[0;31mNameError\u001b[0m: name 'Y' is not defined"
     ]
    },
    {
     "ename": "NameError",
     "evalue": "name 'Y' is not defined",
     "output_type": "error",
     "traceback": [
      "\u001b[0;31m---------------------------------------------------------------------------\u001b[0m",
      "\u001b[0;31mNameError\u001b[0m                                 Traceback (most recent call last)",
      "Cell \u001b[0;32mIn [14], line 15\u001b[0m, in \u001b[0;36molay_gerceklesti\u001b[0;34m(event, x, y, flags, param)\u001b[0m\n\u001b[1;32m     13\u001b[0m \u001b[38;5;28;01mdef\u001b[39;00m \u001b[38;5;21molay_gerceklesti\u001b[39m(event, x, y, flags, param):\n\u001b[1;32m     14\u001b[0m     eskiX \u001b[38;5;241m=\u001b[39m x\n\u001b[0;32m---> 15\u001b[0m     eskiY \u001b[38;5;241m=\u001b[39m \u001b[43mY\u001b[49m\n\u001b[1;32m     17\u001b[0m     yukBas \u001b[38;5;241m=\u001b[39m y\n\u001b[1;32m     18\u001b[0m     genBas \u001b[38;5;241m=\u001b[39m x\n",
      "\u001b[0;31mNameError\u001b[0m: name 'Y' is not defined"
     ]
    },
    {
     "ename": "NameError",
     "evalue": "name 'Y' is not defined",
     "output_type": "error",
     "traceback": [
      "\u001b[0;31m---------------------------------------------------------------------------\u001b[0m",
      "\u001b[0;31mNameError\u001b[0m                                 Traceback (most recent call last)",
      "Cell \u001b[0;32mIn [14], line 15\u001b[0m, in \u001b[0;36molay_gerceklesti\u001b[0;34m(event, x, y, flags, param)\u001b[0m\n\u001b[1;32m     13\u001b[0m \u001b[38;5;28;01mdef\u001b[39;00m \u001b[38;5;21molay_gerceklesti\u001b[39m(event, x, y, flags, param):\n\u001b[1;32m     14\u001b[0m     eskiX \u001b[38;5;241m=\u001b[39m x\n\u001b[0;32m---> 15\u001b[0m     eskiY \u001b[38;5;241m=\u001b[39m \u001b[43mY\u001b[49m\n\u001b[1;32m     17\u001b[0m     yukBas \u001b[38;5;241m=\u001b[39m y\n\u001b[1;32m     18\u001b[0m     genBas \u001b[38;5;241m=\u001b[39m x\n",
      "\u001b[0;31mNameError\u001b[0m: name 'Y' is not defined"
     ]
    },
    {
     "ename": "NameError",
     "evalue": "name 'Y' is not defined",
     "output_type": "error",
     "traceback": [
      "\u001b[0;31m---------------------------------------------------------------------------\u001b[0m",
      "\u001b[0;31mNameError\u001b[0m                                 Traceback (most recent call last)",
      "Cell \u001b[0;32mIn [14], line 15\u001b[0m, in \u001b[0;36molay_gerceklesti\u001b[0;34m(event, x, y, flags, param)\u001b[0m\n\u001b[1;32m     13\u001b[0m \u001b[38;5;28;01mdef\u001b[39;00m \u001b[38;5;21molay_gerceklesti\u001b[39m(event, x, y, flags, param):\n\u001b[1;32m     14\u001b[0m     eskiX \u001b[38;5;241m=\u001b[39m x\n\u001b[0;32m---> 15\u001b[0m     eskiY \u001b[38;5;241m=\u001b[39m \u001b[43mY\u001b[49m\n\u001b[1;32m     17\u001b[0m     yukBas \u001b[38;5;241m=\u001b[39m y\n\u001b[1;32m     18\u001b[0m     genBas \u001b[38;5;241m=\u001b[39m x\n",
      "\u001b[0;31mNameError\u001b[0m: name 'Y' is not defined"
     ]
    }
   ],
   "source": [
    "#Örnek 3.4 - Mouse ile şekil çizme\n",
    "# Örnek 3.15 - maskeleme\n",
    "kucukResim = cv2.imread('DATA/11_opencv-logo-2.png')\n",
    "buyukResim = cv2.imread(\"DATA/1_ayasofya.jpg\")\n",
    "kYukseklik,kGenislik,kKanal = kucukResim.shape\n",
    "bYukseklik,bGenislik,bKanal = buyukResim.shape\n",
    "\n",
    "#kucukResim = cv2.cvtColor(kucukResim,cv2.COLOR_BGR2RGB)\n",
    "#buyukResim = cv2.cvtColor(buyukResim,cv2.COLOR_BGR2RGB)       \n",
    "eskiX = 0\n",
    "eskiY = 0\n",
    "## Çağrılacak fonksiyon (Parça-2) ##\n",
    "def olay_gerceklesti(event, x, y, flags, param):\n",
    "    eskiX = x\n",
    "    eskiY = Y\n",
    "    \n",
    "    yukBas = y\n",
    "    genBas = x\n",
    "    yukBit = y + kYukseklik\n",
    "    genBit = x + kGenislik\n",
    "    \n",
    "    kucukResimGray = cv2.cvtColor(kucukResim,cv2.COLOR_RGB2GRAY)\n",
    "    ret, maske = cv2.threshold(kucukResimGray, 10, 255, cv2.THRESH_BINARY)\n",
    "    maske_tersi = cv2.bitwise_not(maske)\n",
    "    \n",
    "    if event==cv2.EVENT_LBUTTONDOWN:        \n",
    "        roi_alan = buyukResim[yukBas:yukBit, genBas:genBit].copy()       \n",
    "        roi_alan_bg = cv2.bitwise_and(roi_alan, roi_alan, mask = maske_tersi)\n",
    "        roi_alan_fg = cv2.bitwise_and(kucukResim, kucukResim, mask = maske)\n",
    "        birlesmisParca = cv2.add(roi_alan_bg, roi_alan_fg)        \n",
    "        buyukResim[yukBas:yukBit, genBas:genBit] = birlesmisParca\n",
    "\n",
    "    elif event==cv2.EVENT_MOUSEMOVE:\n",
    "        roi_alan = buyukResim[yukBas:yukBit, genBas:genBit].copy()       \n",
    "        roi_alan_bg = cv2.bitwise_and(roi_alan, roi_alan, mask = maske_tersi)\n",
    "        roi_alan_fg = cv2.bitwise_and(kucukResim, kucukResim, mask = maske)\n",
    "        birlesmisParca = cv2.add(roi_alan_bg, roi_alan_fg)\n",
    "        buyukResim[yukBas:yukBit, genBas:genBit] = birlesmisParca\n",
    "        if eskiX != x or eskiY != y:\n",
    "            buyukResim[yukBas:yukBit, genBas:genBit] = roi_alan\n",
    "        \n",
    "    \n",
    " \n",
    "\n",
    "\n",
    "## Fonksiyon ile resmi birbirine bağlama ve pencere oluşturma (Parça-1) ##\n",
    "cv2.namedWindow('ResimPenceresi')\n",
    "cv2.setMouseCallback('ResimPenceresi',olay_gerceklesti)\n",
    "\n",
    "## RESİM OLUŞTURMA (Parça-3) ##\n",
    "#bos_resim = np.zeros(shape=(640,640,3),dtype=np.uint8)\n",
    "\n",
    "## RESMİ AYRI PENCEREDE GÖSTERME (Parça-4) ##\n",
    "while True:\n",
    "    cv2.imshow('ResimPenceresi',buyukResim)\n",
    "    \n",
    "    if cv2.waitKey(10) & 0xFF == 27:\n",
    "        break\n",
    "\n",
    "#cv2.imwrite(\"deneme.jpg\",bos_resim)\n",
    "cv2.destroyAllWindows()"
   ]
  }
 ],
 "metadata": {
  "kernelspec": {
   "display_name": "Python 3 (ipykernel)",
   "language": "python",
   "name": "python3"
  },
  "language_info": {
   "codemirror_mode": {
    "name": "ipython",
    "version": 3
   },
   "file_extension": ".py",
   "mimetype": "text/x-python",
   "name": "python",
   "nbconvert_exporter": "python",
   "pygments_lexer": "ipython3",
   "version": "3.10.8"
  }
 },
 "nbformat": 4,
 "nbformat_minor": 5
}
