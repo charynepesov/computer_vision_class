{
 "cells": [
  {
   "cell_type": "markdown",
   "id": "fa2c86c4-571c-41ad-a177-5f269a725477",
   "metadata": {
    "tags": []
   },
   "source": [
    "# aydep ornek video daki insanlarin yuzleri siyah olsun"
   ]
  },
  {
   "cell_type": "code",
   "execution_count": 2,
   "id": "c0c3fb85-7a69-4cf4-8cce-60ee441ff878",
   "metadata": {},
   "outputs": [],
   "source": [
    "import cv2\n",
    "import time"
   ]
  },
  {
   "cell_type": "code",
   "execution_count": 6,
   "id": "9ff61aa5-9b09-4e68-ba54-69929c87d5e4",
   "metadata": {},
   "outputs": [],
   "source": [
    "faceCascade = cv2.CascadeClassifier('DATA/haarcascades/haarcascade_frontalface_default.xml')\n",
    "\n",
    "video = cv2.VideoCapture(0)\n",
    "\n",
    "width = int(video.get(cv2.CAP_PROP_FRAME_WIDTH))\n",
    "height = int(video.get(cv2.CAP_PROP_FRAME_HEIGHT))\n",
    "fps = video.get(cv2.CAP_PROP_FPS)\n",
    "\n",
    "if video.isOpened() == False:\n",
    "    print(\"Doğru gitmeyen bir şeyler var.\")\n",
    "\n",
    "while video.isOpened:\n",
    "    ret, frame = video.read() #ilk resmi aldik\n",
    "\n",
    "    if ret == True: #resmi basarili bir sekilde aldiysak\n",
    "        time.sleep(1 / fps) #video nun gercek fps si ile oynat\n",
    "        faces_1 = faceCascade.detectMultiScale(frame,scaleFactor=1.3,minNeighbors=16)\n",
    "        # faces_1 degiskeni icinde bulunan yuz konumlarina dikdortgen cizdir\n",
    "        for (x,y,w,h) in faces_1:\n",
    "            cv2.rectangle(frame,(x,y),(x+w,y+h),(0,0,0),-1)\n",
    "            #cv2.circle(frame, (x,y), w, (0,0,0), -1)\n",
    "\n",
    "        cv2.imshow('Video Dosya Okuma', frame)\n",
    "        if cv2.waitKey(10) & 0xFF == ord('q'):\n",
    "            break\n",
    "\n",
    "    else:\n",
    "        break\n",
    "\n",
    "video.release()\n",
    "cv2.destroyAllWindows()"
   ]
  }
 ],
 "metadata": {
  "kernelspec": {
   "display_name": "Python 3 (ipykernel)",
   "language": "python",
   "name": "python3"
  },
  "language_info": {
   "codemirror_mode": {
    "name": "ipython",
    "version": 3
   },
   "file_extension": ".py",
   "mimetype": "text/x-python",
   "name": "python",
   "nbconvert_exporter": "python",
   "pygments_lexer": "ipython3",
   "version": "3.10.6"
  }
 },
 "nbformat": 4,
 "nbformat_minor": 5
}
