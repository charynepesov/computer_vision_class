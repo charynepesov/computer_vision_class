{
 "cells": [
  {
   "cell_type": "code",
   "execution_count": 2,
   "id": "70726f33-1a5d-451d-adb3-333a565285ec",
   "metadata": {},
   "outputs": [
    {
     "name": "stdout",
     "output_type": "stream",
     "text": [
      "R = 123, G = 164, B = 216\n",
      "B = 216\n"
     ]
    }
   ],
   "source": [
    "# Importing the OpenCV library\n",
    "import cv2\n",
    "# Reading the image using imread() function\n",
    "image = cv2.imread('1_ayasofya.jpg')\n",
    "\n",
    "# Extracting RGB values.\n",
    "# Here we have randomly chosen a pixel\n",
    "# by passing in 100, 100 for height and width.\n",
    "(B, G, R) = image[100, 100]\n",
    "\n",
    "# Displaying the pixel values\n",
    "print(\"R = {}, G = {}, B = {}\".format(R, G, B))\n",
    "\n",
    "# We can also pass the channel to extract\n",
    "# the value for a specific channel\n",
    "B = image[100, 100, 0]\n",
    "print(\"B = {}\".format(B))\n"
   ]
  },
  {
   "cell_type": "code",
   "execution_count": null,
   "id": "a0c3c41b-c85d-4e5a-9778-d75b6a7655f1",
   "metadata": {},
   "outputs": [],
   "source": []
  }
 ],
 "metadata": {
  "kernelspec": {
   "display_name": "Python 3",
   "language": "python",
   "name": "python3"
  },
  "language_info": {
   "codemirror_mode": {
    "name": "ipython",
    "version": 3
   },
   "file_extension": ".py",
   "mimetype": "text/x-python",
   "name": "python",
   "nbconvert_exporter": "python",
   "pygments_lexer": "ipython3",
   "version": "3.6.13"
  }
 },
 "nbformat": 4,
 "nbformat_minor": 5
}
