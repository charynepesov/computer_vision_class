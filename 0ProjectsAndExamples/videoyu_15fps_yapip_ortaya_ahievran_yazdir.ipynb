{
 "cells": [
  {
   "cell_type": "code",
   "execution_count": 1,
   "id": "1c722d21-2b34-451d-be24-e529615fffc4",
   "metadata": {},
   "outputs": [],
   "source": [
    "import cv2\n",
    "import numpy as np\n",
    "import time"
   ]
  },
  {
   "cell_type": "code",
   "execution_count": null,
   "id": "ee1d3b86-1439-4f8b-b749-78f9398364b8",
   "metadata": {},
   "outputs": [],
   "source": []
  },
  {
   "cell_type": "code",
   "execution_count": 10,
   "id": "45c884a5-bc3f-41d8-b47e-063b3da88852",
   "metadata": {},
   "outputs": [
    {
     "data": {
      "text/plain": [
       "25.0"
      ]
     },
     "execution_count": 10,
     "metadata": {},
     "output_type": "execute_result"
    }
   ],
   "source": [
    "video = cv2.VideoCapture(\"DATA/videoplayback.mp4\")\n",
    "\n",
    "width = int(video.get(cv2.CAP_PROP_FRAME_WIDTH))\n",
    "height = int(video.get(cv2.CAP_PROP_FRAME_HEIGHT))\n",
    "fps = video.get(cv2.CAP_PROP_FPS)\n",
    "fps"
   ]
  },
  {
   "cell_type": "code",
   "execution_count": 11,
   "id": "2da1fce6-4f64-44c8-8e6c-b8ebf4e70df8",
   "metadata": {},
   "outputs": [],
   "source": [
    "if video.isOpened() == False:\n",
    "    print(\"Doğru gitmeyen bir şeyler var.\")\n",
    "sayac = 0\n",
    "while video.isOpened:\n",
    "    ret, frame = video.read() #ilk resmi aldik\n",
    "    if ret == True: #resmi basarili bir sekilde aldiysak\n",
    "        filename = \"frame\" + str(sayac) + \".png\"\n",
    "        time.sleep(0.1) #video 15 fps si ile oynat\n",
    "        #time.sleep(1/fps) # video fps i ile oynat\n",
    "        if sayac%fps == 0 and sayac != 0:\n",
    "            cv2.putText(frame, \"Hello World!\", (100, 100), 4, 0.9, (0, 0, 0))\n",
    "        cv2.imshow('Video Dosya Okuma', frame)\n",
    "        #cv2.imwrite(filename, frame)\n",
    "        sayac += 1\n",
    "        if cv2.waitKey(10) & 0xFF == ord('q'):\n",
    "            break\n",
    "\n",
    "    else:\n",
    "        break\n",
    "\n",
    "video.release()\n",
    "cv2.destroyAllWindows()"
   ]
  }
 ],
 "metadata": {
  "kernelspec": {
   "display_name": "Python 3 (ipykernel)",
   "language": "python",
   "name": "python3"
  },
  "language_info": {
   "codemirror_mode": {
    "name": "ipython",
    "version": 3
   },
   "file_extension": ".py",
   "mimetype": "text/x-python",
   "name": "python",
   "nbconvert_exporter": "python",
   "pygments_lexer": "ipython3",
   "version": "3.10.6"
  }
 },
 "nbformat": 4,
 "nbformat_minor": 5
}
