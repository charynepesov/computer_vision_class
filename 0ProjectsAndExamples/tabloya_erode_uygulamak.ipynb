{
 "cells": [
  {
   "cell_type": "code",
   "execution_count": 2,
   "id": "6d7fd319-7be9-42e0-ba74-0997fa6f9cd5",
   "metadata": {},
   "outputs": [],
   "source": [
    "import cv2\n",
    "import matplotlib.pyplot as plt\n",
    "\n",
    "# getStructuringElement - hazir kernel olustarma fonksiyonu\n",
    "\n",
    "# tablo kenar cizgilerini silmek icin yatyda ve dikeyde kernel uygula\n",
    "\n",
    "orijinalResim = cv2.imread('12_normal_gray.jpg')\n",
    "kernel = cv2.getStructuringElement(cv2.MORPH_RECT, (7, 7))"
   ]
  },
  {
   "cell_type": "code",
   "execution_count": null,
   "id": "1b26a45a-5ec5-4bc6-8fc1-215648775cd4",
   "metadata": {},
   "outputs": [],
   "source": []
  }
 ],
 "metadata": {
  "kernelspec": {
   "display_name": "Python 3",
   "language": "python",
   "name": "python3"
  },
  "language_info": {
   "codemirror_mode": {
    "name": "ipython",
    "version": 3
   },
   "file_extension": ".py",
   "mimetype": "text/x-python",
   "name": "python",
   "nbconvert_exporter": "python",
   "pygments_lexer": "ipython3",
   "version": "3.6.13"
  }
 },
 "nbformat": 4,
 "nbformat_minor": 5
}
