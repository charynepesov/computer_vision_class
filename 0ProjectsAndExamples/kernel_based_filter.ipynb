{
 "cells": [
  {
   "cell_type": "code",
   "execution_count": 1,
   "id": "6bd97853-8935-45ff-8754-61d7ddaf2419",
   "metadata": {},
   "outputs": [],
   "source": [
    "import numpy as np\n",
    "import cv2\n",
    "import matplotlib.pyplot as plt"
   ]
  },
  {
   "cell_type": "code",
   "execution_count": 6,
   "id": "804eff71-f620-42d9-b477-2fda98dce9ee",
   "metadata": {},
   "outputs": [
    {
     "data": {
      "text/plain": [
       "(10, 10, 3)"
      ]
     },
     "execution_count": 6,
     "metadata": {},
     "output_type": "execute_result"
    }
   ],
   "source": [
    "img  = plt.imread(\"DATA/1_ayasofya.jpg\")\n",
    "img2 = img[400:410, 400:410]\n",
    "img2.shape"
   ]
  },
  {
   "cell_type": "code",
   "execution_count": 7,
   "id": "4d145493-864c-48ee-9ffe-2585dc08937c",
   "metadata": {},
   "outputs": [
    {
     "data": {
      "text/plain": [
       "<matplotlib.image.AxesImage at 0x174c4659840>"
      ]
     },
     "execution_count": 7,
     "metadata": {},
     "output_type": "execute_result"
    },
    {
     "data": {
      "image/png": "[encoded data removed]",
      "text/plain": [
       "<Figure size 640x480 with 1 Axes>"
      ]
     },
     "metadata": {},
     "output_type": "display_data"
    }
   ],
   "source": [
    "plt.imshow(img2)"
   ]
  },
  {
   "cell_type": "code",
   "execution_count": 20,
   "id": "771a5ae1-0ed3-4e30-9f9f-b39d864253f9",
   "metadata": {},
   "outputs": [
    {
     "data": {
      "text/plain": [
       "array([[ 85,  79,  65,  64,  37,  30, 146, 163, 131, 108],\n",
       "       [129, 131, 113,  89,  37,  25, 158, 192, 171, 129],\n",
       "       [ 49,  46,  48,  63,  34,  21, 173, 235, 190, 150],\n",
       "       [127,  95,  90, 131, 102,  49, 161, 212, 203, 177],\n",
       "       [133, 120, 123, 153, 123,  74, 169, 191, 239, 234],\n",
       "       [120, 158, 170, 155, 115, 111, 230, 237, 220, 236],\n",
       "       [168, 204, 193, 141,  73,  67, 197, 210, 197, 210],\n",
       "       [ 83,  97,  91,  81,  47,  58, 211, 255, 255, 244],\n",
       "       [  3,   0,   3,  16,   6, 111, 236, 245, 251, 230],\n",
       "       [ 20,  14,  14,   8,   0,  65, 223, 255, 245, 221]], dtype=uint8)"
      ]
     },
     "execution_count": 20,
     "metadata": {},
     "output_type": "execute_result"
    }
   ],
   "source": [
    "img2[:,:,0]"
   ]
  },
  {
   "cell_type": "code",
   "execution_count": 10,
   "id": "77536f7d-b901-456d-95df-dc257465b892",
   "metadata": {},
   "outputs": [],
   "source": [
    "kernel = np.array([[0,-1,0], [-1,5,-1], [0,-1,0]])"
   ]
  },
  {
   "cell_type": "code",
   "execution_count": 16,
   "id": "09cab176-8da6-4387-8a7b-d414609d071e",
   "metadata": {},
   "outputs": [],
   "source": [
    "imgKernel = cv2.filter2D(img2, cv2.CV_8U, kernel)"
   ]
  },
  {
   "cell_type": "code",
   "execution_count": 17,
   "id": "3cdf8415-b990-4b9f-9a87-2b0825a399db",
   "metadata": {},
   "outputs": [
    {
     "data": {
      "text/plain": [
       "<matplotlib.image.AxesImage at 0x174c4ddca60>"
      ]
     },
     "execution_count": 17,
     "metadata": {},
     "output_type": "execute_result"
    },
    {
     "data": {
      "image/png": "[encoded data removed]",
      "text/plain": [
       "<Figure size 640x480 with 1 Axes>"
      ]
     },
     "metadata": {},
     "output_type": "display_data"
    }
   ],
   "source": [
    "plt.imshow(imgKernel)"
   ]
  },
  {
   "cell_type": "code",
   "execution_count": 19,
   "id": "b231a266-ae33-41c0-b174-59bd4fa31080",
   "metadata": {},
   "outputs": [
    {
     "data": {
      "text/plain": [
       "array([[  9,   0,   0,  40,  17,   0, 221, 154,  42,  20],\n",
       "       [249, 255, 232, 168,   0,   0, 254, 233, 213,  45],\n",
       "       [  0,   0,   0,  13,   0,   0, 255, 255, 191,  64],\n",
       "       [255,  92,  53, 247, 173,   0, 202, 255, 197,  95],\n",
       "       [178,  91,  82, 233, 171,   0, 189,  98, 255, 255],\n",
       "       [  0, 176, 221, 196, 113,  69, 255, 255, 191, 255],\n",
       "       [229, 255, 255, 203,   0,   0, 255, 164,  90, 176],\n",
       "       [ 50, 107,  81, 110,  17,   0, 255, 255, 255, 255],\n",
       "       [  0,   0,   0,   0,   0, 190, 255, 228, 255, 183],\n",
       "       [ 66,  36,  42,   0,   0,   0, 255, 255, 247, 155]], dtype=uint8)"
      ]
     },
     "execution_count": 19,
     "metadata": {},
     "output_type": "execute_result"
    }
   ],
   "source": [
    "imgKernel[:,:,0]"
   ]
  }
 ],
 "metadata": {
  "kernelspec": {
   "display_name": "Python 3 (ipykernel)",
   "language": "python",
   "name": "python3"
  },
  "language_info": {
   "codemirror_mode": {
    "name": "ipython",
    "version": 3
   },
   "file_extension": ".py",
   "mimetype": "text/x-python",
   "name": "python",
   "nbconvert_exporter": "python",
   "pygments_lexer": "ipython3",
   "version": "3.10.6"
  }
 },
 "nbformat": 4,
 "nbformat_minor": 5
}
