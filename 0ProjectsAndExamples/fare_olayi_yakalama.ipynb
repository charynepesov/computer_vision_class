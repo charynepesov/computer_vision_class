{
 "cells": [
  {
   "cell_type": "code",
   "execution_count": 2,
   "id": "841cee5e-d1d0-41ef-b126-ae14ac39ccbc",
   "metadata": {},
   "outputs": [],
   "source": [
    "# Python program to explain cv2.namedWindow() method\n",
    "  \n",
    "# Importing OpenCV\n",
    "import cv2\n",
    "  \n",
    "# Path to image in local directory\n",
    "path = '27_animals.jpg'\n",
    "  \n",
    "# Using cv2.imread() to read an image in default mode\n",
    "image = cv2.imread(path)\n",
    "  \n",
    "# Using namedWindow()\n",
    "# A window with 'Display' name is created\n",
    "# with WINDOW_AUTOSIZE, window size is set automatically\n",
    "cv2.namedWindow(\"Display\")\n",
    "  \n",
    "# using cv2.imshow() to display the image\n",
    "cv2.imshow('Display', image)\n",
    "  \n",
    "# Waiting 0ms for user to press any key\n",
    "cv2.waitKey(0)\n",
    "  \n",
    "# Using cv2.destroyAllWindows() to destroy\n",
    "# all created windows open on screen\n",
    "cv2.destroyAllWindows()\n"
   ]
  },
  {
   "cell_type": "code",
   "execution_count": null,
   "id": "035104ff-e8ae-430f-aa01-3507d7a473f4",
   "metadata": {},
   "outputs": [],
   "source": []
  }
 ],
 "metadata": {
  "kernelspec": {
   "display_name": "Python 3",
   "language": "python",
   "name": "python3"
  },
  "language_info": {
   "codemirror_mode": {
    "name": "ipython",
    "version": 3
   },
   "file_extension": ".py",
   "mimetype": "text/x-python",
   "name": "python",
   "nbconvert_exporter": "python",
   "pygments_lexer": "ipython3",
   "version": "3.6.13"
  }
 },
 "nbformat": 4,
 "nbformat_minor": 5
}
